{
 "cells": [
  {
   "cell_type": "code",
   "execution_count": 1,
   "id": "c1edf55c",
   "metadata": {
    "execution": {
     "iopub.execute_input": "2022-04-10T13:46:25.414183Z",
     "iopub.status.busy": "2022-04-10T13:46:25.413074Z",
     "iopub.status.idle": "2022-04-10T13:46:27.225099Z",
     "shell.execute_reply": "2022-04-10T13:46:27.225574Z",
     "shell.execute_reply.started": "2022-04-10T13:18:21.766753Z"
    },
    "papermill": {
     "duration": 1.868683,
     "end_time": "2022-04-10T13:46:27.225873",
     "exception": false,
     "start_time": "2022-04-10T13:46:25.357190",
     "status": "completed"
    },
    "tags": []
   },
   "outputs": [],
   "source": [
    "import numpy as np\n",
    "import pandas as pd\n",
    "import seaborn as sns\n",
    "import matplotlib.pyplot as plt\n",
    "\n",
    "from sklearn.impute import SimpleImputer\n",
    "from sklearn.preprocessing import StandardScaler, MinMaxScaler, OrdinalEncoder, OneHotEncoder\n",
    "from sklearn.decomposition import PCA\n",
    "\n",
    "from sklearn.feature_selection import VarianceThreshold, SelectFromModel, RFECV, SequentialFeatureSelector\n",
    "\n",
    "from sklearn.ensemble import RandomForestClassifier, RandomForestRegressor\n",
    "from sklearn.linear_model import LogisticRegression\n",
    "\n",
    "from sklearn.model_selection import KFold, cross_val_score, train_test_split\n",
    "from sklearn.pipeline import Pipeline, make_pipeline\n",
    "from sklearn.metrics import accuracy_score\n",
    "\n",
    "from sklearn.datasets import make_classification, load_wine, load_breast_cancer, load_diabetes, load_digits\n",
    "\n",
    "from sklearn.cluster import KMeans"
   ]
  },
  {
   "cell_type": "code",
   "execution_count": 2,
   "id": "2a56f258",
   "metadata": {
    "execution": {
     "iopub.execute_input": "2022-04-10T13:46:27.330821Z",
     "iopub.status.busy": "2022-04-10T13:46:27.329859Z",
     "iopub.status.idle": "2022-04-10T13:46:27.334077Z",
     "shell.execute_reply": "2022-04-10T13:46:27.334618Z",
     "shell.execute_reply.started": "2022-04-10T13:18:21.941893Z"
    },
    "papermill": {
     "duration": 0.057708,
     "end_time": "2022-04-10T13:46:27.334787",
     "exception": false,
     "start_time": "2022-04-10T13:46:27.277079",
     "status": "completed"
    },
    "tags": []
   },
   "outputs": [],
   "source": [
    "plt.style.use('seaborn-darkgrid')"
   ]
  },
  {
   "cell_type": "code",
   "execution_count": 3,
   "id": "bd5c5f7e",
   "metadata": {
    "execution": {
     "iopub.execute_input": "2022-04-10T13:46:27.441406Z",
     "iopub.status.busy": "2022-04-10T13:46:27.440493Z",
     "iopub.status.idle": "2022-04-10T13:46:27.447038Z",
     "shell.execute_reply": "2022-04-10T13:46:27.447511Z",
     "shell.execute_reply.started": "2022-04-10T13:18:22.104188Z"
    },
    "papermill": {
     "duration": 0.063196,
     "end_time": "2022-04-10T13:46:27.447704",
     "exception": false,
     "start_time": "2022-04-10T13:46:27.384508",
     "status": "completed"
    },
    "tags": []
   },
   "outputs": [],
   "source": [
    "def plot_scatter(x, y, auto_scaled=True, title=None, clusters=None):\n",
    "    plt.figure(figsize=(4, 4))\n",
    "    plt.scatter(x, y, c=clusters, cmap='bwr')\n",
    "    \n",
    "    if not auto_scaled:\n",
    "        plt.axis('square')\n",
    "    \n",
    "    plt.grid(True)\n",
    "    plt.title(title)\n",
    "    \n",
    "    plt.show()\n",
    "    \n",
    "def return_X_y(data, target_column):\n",
    "    return data.drop(target_column, axis=1), data[target_column]"
   ]
  },
  {
   "cell_type": "code",
   "execution_count": 4,
   "id": "e398a40a",
   "metadata": {
    "execution": {
     "iopub.execute_input": "2022-04-10T13:46:27.548820Z",
     "iopub.status.busy": "2022-04-10T13:46:27.548089Z",
     "iopub.status.idle": "2022-04-10T13:46:27.570020Z",
     "shell.execute_reply": "2022-04-10T13:46:27.570543Z",
     "shell.execute_reply.started": "2022-04-10T13:18:22.269892Z"
    },
    "papermill": {
     "duration": 0.075036,
     "end_time": "2022-04-10T13:46:27.570724",
     "exception": false,
     "start_time": "2022-04-10T13:46:27.495688",
     "status": "completed"
    },
    "tags": []
   },
   "outputs": [],
   "source": [
    "wine_sklearn = load_wine(as_frame=True)\n",
    "wine_data, wine_labels = wine_sklearn['data'], wine_sklearn['target']"
   ]
  },
  {
   "cell_type": "markdown",
   "id": "d5a688b2",
   "metadata": {
    "papermill": {
     "duration": 0.050923,
     "end_time": "2022-04-10T13:46:27.670443",
     "exception": false,
     "start_time": "2022-04-10T13:46:27.619520",
     "status": "completed"
    },
    "tags": []
   },
   "source": [
    "# Homework"
   ]
  },
  {
   "cell_type": "markdown",
   "id": "5d2ba27f",
   "metadata": {
    "papermill": {
     "duration": 0.049786,
     "end_time": "2022-04-10T13:46:27.768261",
     "exception": false,
     "start_time": "2022-04-10T13:46:27.718475",
     "status": "completed"
    },
    "tags": []
   },
   "source": [
    "## Exercise  1 - Scaling (2 points)"
   ]
  },
  {
   "cell_type": "markdown",
   "id": "4f046852",
   "metadata": {
    "papermill": {
     "duration": 0.047397,
     "end_time": "2022-04-10T13:46:27.863515",
     "exception": false,
     "start_time": "2022-04-10T13:46:27.816118",
     "status": "completed"
    },
    "tags": []
   },
   "source": [
    "Perform standardization for wine dataset (`wine_data`) using only basic python, numpy and pandas (without using `StandardScaler` and sklearn at all). Implementation of function (or class) that can get dataset as input and return standardized dataset as output is preferrable, but not necessary.\n",
    "\n",
    "Compare you results (output) with `StandardScaler`.\n",
    "\n",
    "**NOTE:**\n",
    "\n",
    "- 1 point for functional version, 2 points for implementing scaling as sklearn pipeline compartible class. \n",
    "- Maximum for the exercise is 2 points.\n"
   ]
  },
  {
   "cell_type": "markdown",
   "id": "84ffa7cc",
   "metadata": {
    "papermill": {
     "duration": 0.047754,
     "end_time": "2022-04-10T13:46:27.960021",
     "exception": false,
     "start_time": "2022-04-10T13:46:27.912267",
     "status": "completed"
    },
    "tags": []
   },
   "source": [
    "### Simple version (1 point)"
   ]
  },
  {
   "cell_type": "code",
   "execution_count": 5,
   "id": "78e0b600",
   "metadata": {
    "execution": {
     "iopub.execute_input": "2022-04-10T13:46:28.065493Z",
     "iopub.status.busy": "2022-04-10T13:46:28.064625Z",
     "iopub.status.idle": "2022-04-10T13:46:28.067952Z",
     "shell.execute_reply": "2022-04-10T13:46:28.067288Z",
     "shell.execute_reply.started": "2022-04-10T13:18:22.539735Z"
    },
    "papermill": {
     "duration": 0.060303,
     "end_time": "2022-04-10T13:46:28.068119",
     "exception": false,
     "start_time": "2022-04-10T13:46:28.007816",
     "status": "completed"
    },
    "tags": []
   },
   "outputs": [],
   "source": [
    "# 1 point\n",
    "def scale(X):\n",
    "    X_arr = np.array(X)\n",
    "    return np.divide((X_arr - X_arr.mean(axis = 0)), X_arr.std(axis = 0))"
   ]
  },
  {
   "cell_type": "code",
   "execution_count": 6,
   "id": "2b507242",
   "metadata": {
    "execution": {
     "iopub.execute_input": "2022-04-10T13:46:28.175470Z",
     "iopub.status.busy": "2022-04-10T13:46:28.174839Z",
     "iopub.status.idle": "2022-04-10T13:46:28.183186Z",
     "shell.execute_reply": "2022-04-10T13:46:28.183691Z",
     "shell.execute_reply.started": "2022-04-10T13:18:22.794351Z"
    },
    "papermill": {
     "duration": 0.064394,
     "end_time": "2022-04-10T13:46:28.183873",
     "exception": false,
     "start_time": "2022-04-10T13:46:28.119479",
     "status": "completed"
    },
    "tags": []
   },
   "outputs": [],
   "source": [
    "assert np.allclose(np.array(scale(wine_data)), StandardScaler().fit_transform(wine_data))"
   ]
  },
  {
   "cell_type": "markdown",
   "id": "28eca79d",
   "metadata": {
    "papermill": {
     "duration": 0.051313,
     "end_time": "2022-04-10T13:46:28.283365",
     "exception": false,
     "start_time": "2022-04-10T13:46:28.232052",
     "status": "completed"
    },
    "tags": []
   },
   "source": [
    "### Pipeline Version (2 points)"
   ]
  },
  {
   "cell_type": "code",
   "execution_count": 7,
   "id": "3278acdb",
   "metadata": {
    "execution": {
     "iopub.execute_input": "2022-04-10T13:46:28.388499Z",
     "iopub.status.busy": "2022-04-10T13:46:28.387859Z",
     "iopub.status.idle": "2022-04-10T13:46:28.394394Z",
     "shell.execute_reply": "2022-04-10T13:46:28.394907Z",
     "shell.execute_reply.started": "2022-04-10T13:18:22.969337Z"
    },
    "papermill": {
     "duration": 0.060495,
     "end_time": "2022-04-10T13:46:28.395081",
     "exception": false,
     "start_time": "2022-04-10T13:46:28.334586",
     "status": "completed"
    },
    "tags": []
   },
   "outputs": [],
   "source": [
    "# 2 points\n",
    "from sklearn.base import BaseEstimator, TransformerMixin\n",
    "class CustomScaler(BaseEstimator, TransformerMixin):\n",
    "    def __init__(self, copy=True, with_mean=True, with_std=True):\n",
    "        self._copy = copy\n",
    "        self._with_mean = with_mean \n",
    "        self._with_std = with_std\n",
    "        return\n",
    "\n",
    "    def fit(self, X, y=None):\n",
    "        _X_arr = np.array(X)\n",
    "        self._mean = np.array(_X_arr).mean(axis = 0)\n",
    "        self._std = np.array(_X_arr).std(axis = 0)\n",
    "        return self\n",
    "\n",
    "    def transform(self, X, y=None, copy=None):\n",
    "        _X_arr = np.array(X)\n",
    "        return np.divide((_X_arr - _X_arr.mean(axis = 0)), _X_arr.std(axis = 0))"
   ]
  },
  {
   "cell_type": "code",
   "execution_count": 8,
   "id": "8a7acab8",
   "metadata": {
    "execution": {
     "iopub.execute_input": "2022-04-10T13:46:28.509393Z",
     "iopub.status.busy": "2022-04-10T13:46:28.504748Z",
     "iopub.status.idle": "2022-04-10T13:46:28.511439Z",
     "shell.execute_reply": "2022-04-10T13:46:28.511975Z",
     "shell.execute_reply.started": "2022-04-10T13:18:23.141162Z"
    },
    "papermill": {
     "duration": 0.062993,
     "end_time": "2022-04-10T13:46:28.512138",
     "exception": false,
     "start_time": "2022-04-10T13:46:28.449145",
     "status": "completed"
    },
    "tags": []
   },
   "outputs": [],
   "source": [
    "assert np.allclose(CustomScaler().fit_transform(wine_data), StandardScaler().fit_transform(wine_data))"
   ]
  },
  {
   "cell_type": "markdown",
   "id": "8fd42da4",
   "metadata": {
    "papermill": {
     "duration": 0.049626,
     "end_time": "2022-04-10T13:46:28.609607",
     "exception": false,
     "start_time": "2022-04-10T13:46:28.559981",
     "status": "completed"
    },
    "tags": []
   },
   "source": [
    "## Exercise  2 - Visualization (3 points)"
   ]
  },
  {
   "cell_type": "markdown",
   "id": "ab7d4236",
   "metadata": {
    "papermill": {
     "duration": 0.049965,
     "end_time": "2022-04-10T13:46:28.707146",
     "exception": false,
     "start_time": "2022-04-10T13:46:28.657181",
     "status": "completed"
    },
    "tags": []
   },
   "source": [
    "As noted earlier, standardization/normalization of data can be crucial for some distance-based ML methods.\n",
    "\n",
    "Let’s generate some toy example of unnormalized data and visualize the importance of this process once more:"
   ]
  },
  {
   "cell_type": "code",
   "execution_count": 9,
   "id": "e0332705",
   "metadata": {
    "execution": {
     "iopub.execute_input": "2022-04-10T13:46:28.810997Z",
     "iopub.status.busy": "2022-04-10T13:46:28.807178Z",
     "iopub.status.idle": "2022-04-10T13:46:28.814046Z",
     "shell.execute_reply": "2022-04-10T13:46:28.814512Z",
     "shell.execute_reply.started": "2022-04-10T13:18:23.323704Z"
    },
    "papermill": {
     "duration": 0.06007,
     "end_time": "2022-04-10T13:46:28.814678",
     "exception": false,
     "start_time": "2022-04-10T13:46:28.754608",
     "status": "completed"
    },
    "tags": []
   },
   "outputs": [
    {
     "data": {
      "text/plain": [
       "array([[-18.18207671,  -0.48043551],\n",
       "       [ -9.76407981,  -0.71662233],\n",
       "       [  3.2003924 ,   0.7734348 ],\n",
       "       ...,\n",
       "       [-13.63980557,   2.5446099 ],\n",
       "       [ -7.47235441,   5.63486182],\n",
       "       [  7.59331476,   4.84460685]])"
      ]
     },
     "execution_count": 9,
     "metadata": {},
     "output_type": "execute_result"
    }
   ],
   "source": [
    "feature_0 = np.random.randn(1000) * 10   \n",
    "feature_1 = np.concatenate([np.random.randn(500), np.random.randn(500) + 5])\n",
    "data = np.column_stack([feature_0, feature_1])\n",
    "data "
   ]
  },
  {
   "cell_type": "code",
   "execution_count": 10,
   "id": "d52f83ff",
   "metadata": {
    "execution": {
     "iopub.execute_input": "2022-04-10T13:46:28.915950Z",
     "iopub.status.busy": "2022-04-10T13:46:28.914913Z",
     "iopub.status.idle": "2022-04-10T13:46:29.104603Z",
     "shell.execute_reply": "2022-04-10T13:46:29.105068Z",
     "shell.execute_reply.started": "2022-04-10T13:18:23.516185Z"
    },
    "papermill": {
     "duration": 0.242134,
     "end_time": "2022-04-10T13:46:29.105234",
     "exception": false,
     "start_time": "2022-04-10T13:46:28.863100",
     "status": "completed"
    },
    "tags": []
   },
   "outputs": [
    {
     "data": {
      "image/png": "[encoded data removed]",
      "text/plain": [
       "<Figure size 288x288 with 1 Axes>"
      ]
     },
     "metadata": {},
     "output_type": "display_data"
    }
   ],
   "source": [
    "plot_scatter(data[:, 0], data[:, 1], auto_scaled=True, title='Data (different axes units!)')"
   ]
  },
  {
   "cell_type": "markdown",
   "id": "cf3ac9b0",
   "metadata": {
    "papermill": {
     "duration": 0.04957,
     "end_time": "2022-04-10T13:46:29.204021",
     "exception": false,
     "start_time": "2022-04-10T13:46:29.154451",
     "status": "completed"
    },
    "tags": []
   },
   "source": [
    "**NOTE:** on the plot above axes are scaled differently and we can clearly see two potential *classes/clusters*. In fact `matplotlib` performed `autoscaling` (which is basically can be considered as `MinMaxScaling` of original data) just for better visualization purposes.\n",
    "\n",
    "Let's turn this feature off and visualize the original data on the plot with equally scaled axes:"
   ]
  },
  {
   "cell_type": "code",
   "execution_count": 11,
   "id": "23f9af8a",
   "metadata": {
    "execution": {
     "iopub.execute_input": "2022-04-10T13:46:29.330037Z",
     "iopub.status.busy": "2022-04-10T13:46:29.325403Z",
     "iopub.status.idle": "2022-04-10T13:46:29.506039Z",
     "shell.execute_reply": "2022-04-10T13:46:29.505141Z",
     "shell.execute_reply.started": "2022-04-10T13:18:23.693818Z"
    },
    "papermill": {
     "duration": 0.250379,
     "end_time": "2022-04-10T13:46:29.506199",
     "exception": false,
     "start_time": "2022-04-10T13:46:29.255820",
     "status": "completed"
    },
    "tags": []
   },
   "outputs": [
    {
     "data": {
      "image/png": "[encoded data removed]",
      "text/plain": [
       "<Figure size 288x288 with 1 Axes>"
      ]
     },
     "metadata": {},
     "output_type": "display_data"
    }
   ],
   "source": [
    "plot_scatter(data[:, 0], data[:, 1], auto_scaled=False , title='Data (equal axes units!)')"
   ]
  },
  {
   "cell_type": "markdown",
   "id": "539767cd",
   "metadata": {
    "papermill": {
     "duration": 0.050604,
     "end_time": "2022-04-10T13:46:29.608461",
     "exception": false,
     "start_time": "2022-04-10T13:46:29.557857",
     "status": "completed"
    },
    "tags": []
   },
   "source": [
    "This picture is clearly less interpretable, but much closer to \"how distance-based algorithm see the original data\": separability of data is hardly noticable only because the variation (std) of x-feature is much bigger in absolute numbers."
   ]
  },
  {
   "cell_type": "markdown",
   "id": "aa76a189",
   "metadata": {
    "papermill": {
     "duration": 0.051511,
     "end_time": "2022-04-10T13:46:29.711453",
     "exception": false,
     "start_time": "2022-04-10T13:46:29.659942",
     "status": "completed"
    },
    "tags": []
   },
   "source": [
    "Perform `StandardScaling` and `MinMaxScaling` of original data; visualize results for each case (**use `plot_scatter` with `auto_scaled=False`**):"
   ]
  },
  {
   "cell_type": "markdown",
   "id": "33b5e1ad",
   "metadata": {
    "papermill": {
     "duration": 0.049595,
     "end_time": "2022-04-10T13:46:29.812325",
     "exception": false,
     "start_time": "2022-04-10T13:46:29.762730",
     "status": "completed"
    },
    "tags": []
   },
   "source": [
    "### MinMaxScaling (0.5 point)"
   ]
  },
  {
   "cell_type": "code",
   "execution_count": 12,
   "id": "719a40c2",
   "metadata": {
    "execution": {
     "iopub.execute_input": "2022-04-10T13:46:29.917870Z",
     "iopub.status.busy": "2022-04-10T13:46:29.917204Z",
     "iopub.status.idle": "2022-04-10T13:46:30.100440Z",
     "shell.execute_reply": "2022-04-10T13:46:30.100875Z",
     "shell.execute_reply.started": "2022-04-10T13:18:24.051094Z"
    },
    "papermill": {
     "duration": 0.23721,
     "end_time": "2022-04-10T13:46:30.101045",
     "exception": false,
     "start_time": "2022-04-10T13:46:29.863835",
     "status": "completed"
    },
    "tags": []
   },
   "outputs": [
    {
     "data": {
      "image/png": "[encoded data removed]",
      "text/plain": [
       "<Figure size 288x288 with 1 Axes>"
      ]
     },
     "metadata": {},
     "output_type": "display_data"
    }
   ],
   "source": [
    "data_minmax_scaled = MinMaxScaler().fit_transform(data)\n",
    "plot_scatter(data_minmax_scaled[:, 0], data_minmax_scaled[:, 1], auto_scaled = False, title = 'MinMaxScaling')"
   ]
  },
  {
   "cell_type": "markdown",
   "id": "9aa83858",
   "metadata": {
    "papermill": {
     "duration": 0.050473,
     "end_time": "2022-04-10T13:46:30.202726",
     "exception": false,
     "start_time": "2022-04-10T13:46:30.152253",
     "status": "completed"
    },
    "tags": []
   },
   "source": [
    "### StandardScaler (0.5 point)"
   ]
  },
  {
   "cell_type": "code",
   "execution_count": 13,
   "id": "d8500fd2",
   "metadata": {
    "execution": {
     "iopub.execute_input": "2022-04-10T13:46:30.313365Z",
     "iopub.status.busy": "2022-04-10T13:46:30.312681Z",
     "iopub.status.idle": "2022-04-10T13:46:30.502354Z",
     "shell.execute_reply": "2022-04-10T13:46:30.501821Z",
     "shell.execute_reply.started": "2022-04-10T13:18:24.237189Z"
    },
    "papermill": {
     "duration": 0.247292,
     "end_time": "2022-04-10T13:46:30.502496",
     "exception": false,
     "start_time": "2022-04-10T13:46:30.255204",
     "status": "completed"
    },
    "tags": []
   },
   "outputs": [
    {
     "data": {
      "image/png": "[encoded data removed]",
      "text/plain": [
       "<Figure size 288x288 with 1 Axes>"
      ]
     },
     "metadata": {},
     "output_type": "display_data"
    }
   ],
   "source": [
    "data_std_scaled = StandardScaler().fit_transform(data)\n",
    "plot_scatter(data_std_scaled[:, 0], data_std_scaled[:, 1], auto_scaled = False, title = 'StandardScaler')"
   ]
  },
  {
   "cell_type": "markdown",
   "id": "7962d355",
   "metadata": {
    "papermill": {
     "duration": 0.056044,
     "end_time": "2022-04-10T13:46:30.613822",
     "exception": false,
     "start_time": "2022-04-10T13:46:30.557778",
     "status": "completed"
    },
    "tags": []
   },
   "source": []
  },
  {
   "cell_type": "markdown",
   "id": "53a467aa",
   "metadata": {
    "papermill": {
     "duration": 0.055984,
     "end_time": "2022-04-10T13:46:30.723870",
     "exception": false,
     "start_time": "2022-04-10T13:46:30.667886",
     "status": "completed"
    },
    "tags": []
   },
   "source": [
    "### (Bonus) K-means (2 points)"
   ]
  },
  {
   "cell_type": "markdown",
   "id": "4c804448",
   "metadata": {
    "papermill": {
     "duration": 0.058439,
     "end_time": "2022-04-10T13:46:30.836985",
     "exception": false,
     "start_time": "2022-04-10T13:46:30.778546",
     "status": "completed"
    },
    "tags": []
   },
   "source": [
    "Illustrate the impact of scaling on basic distance-based clustering algorithm [K-means](https://towardsdatascience.com/understanding-k-means-clustering-in-machine-learning-6a6e67336aa1) using `data` generated above.\n",
    "\n",
    "**NOTE:** basically, you don't need understanding K-means algorithm here, you just need to:\n",
    "\n",
    "1) run algorithm (with k=2, k - number of clusters/classes) on unscaled data    \n",
    "2) run algorithm (with k=2) on scaled data    \n",
    "3) plot results: highlight different clusters using different colors.\n",
    "\n",
    "You can use this [question](https://stats.stackexchange.com/questions/89809/is-it-important-to-scale-data-before-clustering/89813) as a hint, but I recommend you to plot results using `plot_scatter` with `equal_scaled=True`: it might help you to intuitively understand the reasons of such scaling impact.\n"
   ]
  },
  {
   "cell_type": "code",
   "execution_count": 14,
   "id": "2df01211",
   "metadata": {
    "execution": {
     "iopub.execute_input": "2022-04-10T13:46:30.946949Z",
     "iopub.status.busy": "2022-04-10T13:46:30.946322Z",
     "iopub.status.idle": "2022-04-10T13:46:31.648374Z",
     "shell.execute_reply": "2022-04-10T13:46:31.647792Z",
     "shell.execute_reply.started": "2022-04-10T13:18:24.418439Z"
    },
    "papermill": {
     "duration": 0.756754,
     "end_time": "2022-04-10T13:46:31.648523",
     "exception": false,
     "start_time": "2022-04-10T13:46:30.891769",
     "status": "completed"
    },
    "tags": []
   },
   "outputs": [
    {
     "data": {
      "image/png": "[encoded data removed]",
      "text/plain": [
       "<Figure size 288x288 with 1 Axes>"
      ]
     },
     "metadata": {},
     "output_type": "display_data"
    },
    {
     "data": {
      "image/png": "[encoded data removed]",
      "text/plain": [
       "<Figure size 288x288 with 1 Axes>"
      ]
     },
     "metadata": {},
     "output_type": "display_data"
    },
    {
     "data": {
      "image/png": "[encoded data removed]",
      "text/plain": [
       "<Figure size 288x288 with 1 Axes>"
      ]
     },
     "metadata": {},
     "output_type": "display_data"
    }
   ],
   "source": [
    "# Unscaled data\n",
    "cluster_unscaled = KMeans(2).fit_predict(data)\n",
    "plot_scatter(data[:, 0], data[:, 1], auto_scaled=False, title = 'Unscaled data', clusters = cluster_unscaled)\n",
    "# Scaled with MinMaxScaler\n",
    "cluster_minmax_scaled = KMeans(2).fit_predict(data_minmax_scaled)\n",
    "plot_scatter(data_minmax_scaled[:, 0], data_minmax_scaled[:, 1], auto_scaled = False, title = 'Scaled with MinMaxScaler', clusters = cluster_minmax_scaled)\n",
    "# Scaled with StandardScaler\n",
    "cluster_std_scaled = KMeans(2).fit_predict(data_std_scaled)\n",
    "plot_scatter(data_std_scaled[:, 0], data_std_scaled[:, 1], auto_scaled = False, title = 'Scaled with StandardScaler', clusters = cluster_std_scaled)"
   ]
  },
  {
   "cell_type": "markdown",
   "id": "3e8a2014",
   "metadata": {
    "papermill": {
     "duration": 0.054805,
     "end_time": "2022-04-10T13:46:31.760007",
     "exception": false,
     "start_time": "2022-04-10T13:46:31.705202",
     "status": "completed"
    },
    "tags": []
   },
   "source": [
    "## Exercise  3 - Preprocessing Pipeline (2 points)"
   ]
  },
  {
   "cell_type": "code",
   "execution_count": 15,
   "id": "76364165",
   "metadata": {
    "execution": {
     "iopub.execute_input": "2022-04-10T13:46:31.874159Z",
     "iopub.status.busy": "2022-04-10T13:46:31.873222Z",
     "iopub.status.idle": "2022-04-10T13:46:31.879828Z",
     "shell.execute_reply": "2022-04-10T13:46:31.879336Z",
     "shell.execute_reply.started": "2022-04-10T13:18:25.115559Z"
    },
    "papermill": {
     "duration": 0.065353,
     "end_time": "2022-04-10T13:46:31.879966",
     "exception": false,
     "start_time": "2022-04-10T13:46:31.814613",
     "status": "completed"
    },
    "tags": []
   },
   "outputs": [],
   "source": [
    "wine_train, wine_val, wine_labels_train, wine_labels_val = train_test_split(wine_data, wine_labels, \n",
    "                                                                            test_size=0.3, random_state=42)"
   ]
  },
  {
   "cell_type": "markdown",
   "id": "9169bc6e",
   "metadata": {
    "papermill": {
     "duration": 0.061844,
     "end_time": "2022-04-10T13:46:31.998362",
     "exception": false,
     "start_time": "2022-04-10T13:46:31.936518",
     "status": "completed"
    },
    "tags": []
   },
   "source": [
    "Train model (for example, `LogisticRegression(solver='liblinear', penalty='l1')` on raw `wine_train` data; then train same model after data scaling; then add feature selection (and train model again on scaled data). For each experiment all required preprocessing steps (if any) should be wrapped into sklearn pipeline.\n",
    "\n",
    "Measure `accuracy` of all 3 approaches on `wine_val` dataset. Describe and explain results."
   ]
  },
  {
   "cell_type": "code",
   "execution_count": 16,
   "id": "0d0ffa57",
   "metadata": {
    "execution": {
     "iopub.execute_input": "2022-04-10T13:46:32.130963Z",
     "iopub.status.busy": "2022-04-10T13:46:32.129757Z",
     "iopub.status.idle": "2022-04-10T13:46:32.168667Z",
     "shell.execute_reply": "2022-04-10T13:46:32.169094Z",
     "shell.execute_reply.started": "2022-04-10T13:18:25.122982Z"
    },
    "papermill": {
     "duration": 0.112787,
     "end_time": "2022-04-10T13:46:32.169291",
     "exception": false,
     "start_time": "2022-04-10T13:46:32.056504",
     "status": "completed"
    },
    "tags": []
   },
   "outputs": [
    {
     "data": {
      "text/html": [
       "<div>\n",
       "<style scoped>\n",
       "    .dataframe tbody tr th:only-of-type {\n",
       "        vertical-align: middle;\n",
       "    }\n",
       "\n",
       "    .dataframe tbody tr th {\n",
       "        vertical-align: top;\n",
       "    }\n",
       "\n",
       "    .dataframe thead th {\n",
       "        text-align: right;\n",
       "    }\n",
       "</style>\n",
       "<table border=\"1\" class=\"dataframe\">\n",
       "  <thead>\n",
       "    <tr style=\"text-align: right;\">\n",
       "      <th></th>\n",
       "      <th>alcohol</th>\n",
       "      <th>malic_acid</th>\n",
       "      <th>ash</th>\n",
       "      <th>alcalinity_of_ash</th>\n",
       "      <th>magnesium</th>\n",
       "      <th>total_phenols</th>\n",
       "      <th>flavanoids</th>\n",
       "      <th>nonflavanoid_phenols</th>\n",
       "      <th>proanthocyanins</th>\n",
       "      <th>color_intensity</th>\n",
       "      <th>hue</th>\n",
       "      <th>od280/od315_of_diluted_wines</th>\n",
       "      <th>proline</th>\n",
       "    </tr>\n",
       "  </thead>\n",
       "  <tbody>\n",
       "    <tr>\n",
       "      <th>count</th>\n",
       "      <td>124.000000</td>\n",
       "      <td>124.000000</td>\n",
       "      <td>124.000000</td>\n",
       "      <td>124.000000</td>\n",
       "      <td>124.000000</td>\n",
       "      <td>124.000000</td>\n",
       "      <td>124.000000</td>\n",
       "      <td>124.000000</td>\n",
       "      <td>124.000000</td>\n",
       "      <td>124.000000</td>\n",
       "      <td>124.000000</td>\n",
       "      <td>124.000000</td>\n",
       "      <td>124.000000</td>\n",
       "    </tr>\n",
       "    <tr>\n",
       "      <th>mean</th>\n",
       "      <td>12.963306</td>\n",
       "      <td>2.402984</td>\n",
       "      <td>2.366613</td>\n",
       "      <td>19.500000</td>\n",
       "      <td>100.879032</td>\n",
       "      <td>2.273306</td>\n",
       "      <td>2.007339</td>\n",
       "      <td>0.364194</td>\n",
       "      <td>1.592984</td>\n",
       "      <td>4.974032</td>\n",
       "      <td>0.959323</td>\n",
       "      <td>2.600323</td>\n",
       "      <td>737.266129</td>\n",
       "    </tr>\n",
       "    <tr>\n",
       "      <th>std</th>\n",
       "      <td>0.841487</td>\n",
       "      <td>1.102317</td>\n",
       "      <td>0.271924</td>\n",
       "      <td>3.484134</td>\n",
       "      <td>15.367367</td>\n",
       "      <td>0.653762</td>\n",
       "      <td>1.010858</td>\n",
       "      <td>0.126607</td>\n",
       "      <td>0.581649</td>\n",
       "      <td>2.187782</td>\n",
       "      <td>0.233760</td>\n",
       "      <td>0.731616</td>\n",
       "      <td>304.705298</td>\n",
       "    </tr>\n",
       "    <tr>\n",
       "      <th>min</th>\n",
       "      <td>11.030000</td>\n",
       "      <td>0.890000</td>\n",
       "      <td>1.360000</td>\n",
       "      <td>10.600000</td>\n",
       "      <td>70.000000</td>\n",
       "      <td>0.980000</td>\n",
       "      <td>0.340000</td>\n",
       "      <td>0.130000</td>\n",
       "      <td>0.420000</td>\n",
       "      <td>1.740000</td>\n",
       "      <td>0.480000</td>\n",
       "      <td>1.270000</td>\n",
       "      <td>278.000000</td>\n",
       "    </tr>\n",
       "    <tr>\n",
       "      <th>25%</th>\n",
       "      <td>12.290000</td>\n",
       "      <td>1.640000</td>\n",
       "      <td>2.217500</td>\n",
       "      <td>17.350000</td>\n",
       "      <td>88.000000</td>\n",
       "      <td>1.695000</td>\n",
       "      <td>1.172500</td>\n",
       "      <td>0.270000</td>\n",
       "      <td>1.247500</td>\n",
       "      <td>3.170000</td>\n",
       "      <td>0.780000</td>\n",
       "      <td>1.827500</td>\n",
       "      <td>498.750000</td>\n",
       "    </tr>\n",
       "    <tr>\n",
       "      <th>50%</th>\n",
       "      <td>12.945000</td>\n",
       "      <td>1.900000</td>\n",
       "      <td>2.360000</td>\n",
       "      <td>19.500000</td>\n",
       "      <td>98.000000</td>\n",
       "      <td>2.250000</td>\n",
       "      <td>2.125000</td>\n",
       "      <td>0.340000</td>\n",
       "      <td>1.555000</td>\n",
       "      <td>4.550000</td>\n",
       "      <td>0.975000</td>\n",
       "      <td>2.780000</td>\n",
       "      <td>666.000000</td>\n",
       "    </tr>\n",
       "    <tr>\n",
       "      <th>75%</th>\n",
       "      <td>13.695000</td>\n",
       "      <td>3.170000</td>\n",
       "      <td>2.522500</td>\n",
       "      <td>21.500000</td>\n",
       "      <td>108.500000</td>\n",
       "      <td>2.800000</td>\n",
       "      <td>2.807500</td>\n",
       "      <td>0.450000</td>\n",
       "      <td>1.952500</td>\n",
       "      <td>6.107500</td>\n",
       "      <td>1.120000</td>\n",
       "      <td>3.177500</td>\n",
       "      <td>924.250000</td>\n",
       "    </tr>\n",
       "    <tr>\n",
       "      <th>max</th>\n",
       "      <td>14.830000</td>\n",
       "      <td>5.800000</td>\n",
       "      <td>3.230000</td>\n",
       "      <td>30.000000</td>\n",
       "      <td>162.000000</td>\n",
       "      <td>3.880000</td>\n",
       "      <td>5.080000</td>\n",
       "      <td>0.660000</td>\n",
       "      <td>3.580000</td>\n",
       "      <td>10.800000</td>\n",
       "      <td>1.710000</td>\n",
       "      <td>4.000000</td>\n",
       "      <td>1547.000000</td>\n",
       "    </tr>\n",
       "  </tbody>\n",
       "</table>\n",
       "</div>"
      ],
      "text/plain": [
       "          alcohol  malic_acid         ash  alcalinity_of_ash   magnesium  \\\n",
       "count  124.000000  124.000000  124.000000         124.000000  124.000000   \n",
       "mean    12.963306    2.402984    2.366613          19.500000  100.879032   \n",
       "std      0.841487    1.102317    0.271924           3.484134   15.367367   \n",
       "min     11.030000    0.890000    1.360000          10.600000   70.000000   \n",
       "25%     12.290000    1.640000    2.217500          17.350000   88.000000   \n",
       "50%     12.945000    1.900000    2.360000          19.500000   98.000000   \n",
       "75%     13.695000    3.170000    2.522500          21.500000  108.500000   \n",
       "max     14.830000    5.800000    3.230000          30.000000  162.000000   \n",
       "\n",
       "       total_phenols  flavanoids  nonflavanoid_phenols  proanthocyanins  \\\n",
       "count     124.000000  124.000000            124.000000       124.000000   \n",
       "mean        2.273306    2.007339              0.364194         1.592984   \n",
       "std         0.653762    1.010858              0.126607         0.581649   \n",
       "min         0.980000    0.340000              0.130000         0.420000   \n",
       "25%         1.695000    1.172500              0.270000         1.247500   \n",
       "50%         2.250000    2.125000              0.340000         1.555000   \n",
       "75%         2.800000    2.807500              0.450000         1.952500   \n",
       "max         3.880000    5.080000              0.660000         3.580000   \n",
       "\n",
       "       color_intensity         hue  od280/od315_of_diluted_wines      proline  \n",
       "count       124.000000  124.000000                    124.000000   124.000000  \n",
       "mean          4.974032    0.959323                      2.600323   737.266129  \n",
       "std           2.187782    0.233760                      0.731616   304.705298  \n",
       "min           1.740000    0.480000                      1.270000   278.000000  \n",
       "25%           3.170000    0.780000                      1.827500   498.750000  \n",
       "50%           4.550000    0.975000                      2.780000   666.000000  \n",
       "75%           6.107500    1.120000                      3.177500   924.250000  \n",
       "max          10.800000    1.710000                      4.000000  1547.000000  "
      ]
     },
     "execution_count": 16,
     "metadata": {},
     "output_type": "execute_result"
    }
   ],
   "source": [
    "wine_train.describe()"
   ]
  },
  {
   "cell_type": "code",
   "execution_count": 17,
   "id": "3e1c7f16",
   "metadata": {
    "execution": {
     "iopub.execute_input": "2022-04-10T13:46:32.287428Z",
     "iopub.status.busy": "2022-04-10T13:46:32.286717Z",
     "iopub.status.idle": "2022-04-10T13:46:32.290195Z",
     "shell.execute_reply": "2022-04-10T13:46:32.289551Z",
     "shell.execute_reply.started": "2022-04-10T13:18:25.174579Z"
    },
    "papermill": {
     "duration": 0.065371,
     "end_time": "2022-04-10T13:46:32.290389",
     "exception": false,
     "start_time": "2022-04-10T13:46:32.225018",
     "status": "completed"
    },
    "tags": []
   },
   "outputs": [],
   "source": [
    "model = LogisticRegression(solver = 'liblinear', penalty = 'l1')"
   ]
  },
  {
   "cell_type": "markdown",
   "id": "575cb84d",
   "metadata": {
    "papermill": {
     "duration": 0.057934,
     "end_time": "2022-04-10T13:46:32.407821",
     "exception": false,
     "start_time": "2022-04-10T13:46:32.349887",
     "status": "completed"
    },
    "tags": []
   },
   "source": [
    "#### Model on raw data"
   ]
  },
  {
   "cell_type": "code",
   "execution_count": 18,
   "id": "8851c623",
   "metadata": {
    "execution": {
     "iopub.execute_input": "2022-04-10T13:46:32.532483Z",
     "iopub.status.busy": "2022-04-10T13:46:32.531830Z",
     "iopub.status.idle": "2022-04-10T13:46:32.542145Z",
     "shell.execute_reply": "2022-04-10T13:46:32.542672Z",
     "shell.execute_reply.started": "2022-04-10T13:18:25.181972Z"
    },
    "papermill": {
     "duration": 0.077412,
     "end_time": "2022-04-10T13:46:32.542859",
     "exception": false,
     "start_time": "2022-04-10T13:46:32.465447",
     "status": "completed"
    },
    "tags": []
   },
   "outputs": [
    {
     "name": "stdout",
     "output_type": "stream",
     "text": [
      "Accuracy = 0.9814814814814815\n"
     ]
    }
   ],
   "source": [
    "model.fit(wine_train, wine_labels_train)\n",
    "pred_train = model.predict(wine_val)\n",
    "acc = accuracy_score(wine_labels_val, pred_train)\n",
    "print(\"Accuracy = \" + str(acc))"
   ]
  },
  {
   "cell_type": "markdown",
   "id": "bc96e3d3",
   "metadata": {
    "papermill": {
     "duration": 0.056423,
     "end_time": "2022-04-10T13:46:32.660272",
     "exception": false,
     "start_time": "2022-04-10T13:46:32.603849",
     "status": "completed"
    },
    "tags": []
   },
   "source": [
    "#### Model with MinMaxScaler without feature selection"
   ]
  },
  {
   "cell_type": "code",
   "execution_count": 19,
   "id": "e91cb382",
   "metadata": {
    "execution": {
     "iopub.execute_input": "2022-04-10T13:46:32.787458Z",
     "iopub.status.busy": "2022-04-10T13:46:32.786691Z",
     "iopub.status.idle": "2022-04-10T13:46:32.794730Z",
     "shell.execute_reply": "2022-04-10T13:46:32.795173Z",
     "shell.execute_reply.started": "2022-04-10T13:18:25.274837Z"
    },
    "papermill": {
     "duration": 0.076094,
     "end_time": "2022-04-10T13:46:32.795371",
     "exception": false,
     "start_time": "2022-04-10T13:46:32.719277",
     "status": "completed"
    },
    "tags": []
   },
   "outputs": [
    {
     "name": "stdout",
     "output_type": "stream",
     "text": [
      "Accuracy = 1.0\n"
     ]
    }
   ],
   "source": [
    "minmax_pipeline = make_pipeline(MinMaxScaler(), model)\n",
    "minmax_pipeline.fit(wine_train, wine_labels_train)\n",
    "pred_minmax = minmax_pipeline.predict(wine_val)\n",
    "acc = accuracy_score(wine_labels_val, pred_minmax)\n",
    "print(\"Accuracy = \" + str(acc))"
   ]
  },
  {
   "cell_type": "markdown",
   "id": "cc337804",
   "metadata": {
    "papermill": {
     "duration": 0.061065,
     "end_time": "2022-04-10T13:46:32.914949",
     "exception": false,
     "start_time": "2022-04-10T13:46:32.853884",
     "status": "completed"
    },
    "tags": []
   },
   "source": [
    "#### Model with StandardScaler without feature selection"
   ]
  },
  {
   "cell_type": "code",
   "execution_count": 20,
   "id": "44d147ce",
   "metadata": {
    "execution": {
     "iopub.execute_input": "2022-04-10T13:46:33.044186Z",
     "iopub.status.busy": "2022-04-10T13:46:33.043153Z",
     "iopub.status.idle": "2022-04-10T13:46:33.052255Z",
     "shell.execute_reply": "2022-04-10T13:46:33.051718Z",
     "shell.execute_reply.started": "2022-04-10T13:18:25.345879Z"
    },
    "papermill": {
     "duration": 0.078662,
     "end_time": "2022-04-10T13:46:33.052417",
     "exception": false,
     "start_time": "2022-04-10T13:46:32.973755",
     "status": "completed"
    },
    "tags": []
   },
   "outputs": [
    {
     "name": "stdout",
     "output_type": "stream",
     "text": [
      "Accuracy = 0.9814814814814815\n"
     ]
    }
   ],
   "source": [
    "std_pipeline = make_pipeline(StandardScaler(), model)\n",
    "std_pipeline.fit(wine_train, wine_labels_train)\n",
    "pred_std = std_pipeline.predict(wine_val)\n",
    "acc = accuracy_score(wine_labels_val, pred_std)\n",
    "print(\"Accuracy = \" + str(acc))"
   ]
  },
  {
   "cell_type": "markdown",
   "id": "c1bea15a",
   "metadata": {
    "papermill": {
     "duration": 0.060211,
     "end_time": "2022-04-10T13:46:33.173624",
     "exception": false,
     "start_time": "2022-04-10T13:46:33.113413",
     "status": "completed"
    },
    "tags": []
   },
   "source": [
    "#### Model with MinMaxScaler with sequential feature selector"
   ]
  },
  {
   "cell_type": "code",
   "execution_count": 21,
   "id": "91ab9e38",
   "metadata": {
    "execution": {
     "iopub.execute_input": "2022-04-10T13:46:33.303556Z",
     "iopub.status.busy": "2022-04-10T13:46:33.302885Z",
     "iopub.status.idle": "2022-04-10T13:46:34.091216Z",
     "shell.execute_reply": "2022-04-10T13:46:34.090442Z",
     "shell.execute_reply.started": "2022-04-10T13:18:25.401702Z"
    },
    "papermill": {
     "duration": 0.860206,
     "end_time": "2022-04-10T13:46:34.091414",
     "exception": false,
     "start_time": "2022-04-10T13:46:33.231208",
     "status": "completed"
    },
    "tags": []
   },
   "outputs": [
    {
     "name": "stdout",
     "output_type": "stream",
     "text": [
      "Accuracy = 0.9074074074074074\n"
     ]
    }
   ],
   "source": [
    "minmax_seq_pipeline = make_pipeline(MinMaxScaler(), SequentialFeatureSelector(model), model)\n",
    "minmax_seq_pipeline.fit(wine_train, wine_labels_train)\n",
    "minmax_seq_pred = minmax_seq_pipeline.predict(wine_val)\n",
    "acc = accuracy_score(wine_labels_val, minmax_seq_pred)\n",
    "print(\"Accuracy = \" + str(acc))"
   ]
  },
  {
   "cell_type": "markdown",
   "id": "88d82850",
   "metadata": {
    "papermill": {
     "duration": 0.060729,
     "end_time": "2022-04-10T13:46:34.216567",
     "exception": false,
     "start_time": "2022-04-10T13:46:34.155838",
     "status": "completed"
    },
    "tags": []
   },
   "source": [
    "#### Model with StandardScaler with sequential feature selector"
   ]
  },
  {
   "cell_type": "code",
   "execution_count": 22,
   "id": "ae725d63",
   "metadata": {
    "execution": {
     "iopub.execute_input": "2022-04-10T13:46:34.356997Z",
     "iopub.status.busy": "2022-04-10T13:46:34.345619Z",
     "iopub.status.idle": "2022-04-10T13:46:34.949253Z",
     "shell.execute_reply": "2022-04-10T13:46:34.949720Z",
     "shell.execute_reply.started": "2022-04-10T13:18:26.176293Z"
    },
    "papermill": {
     "duration": 0.675294,
     "end_time": "2022-04-10T13:46:34.949901",
     "exception": false,
     "start_time": "2022-04-10T13:46:34.274607",
     "status": "completed"
    },
    "tags": []
   },
   "outputs": [
    {
     "name": "stdout",
     "output_type": "stream",
     "text": [
      "Accuracy = 0.9629629629629629\n"
     ]
    }
   ],
   "source": [
    "std_seq_pipeline = make_pipeline(StandardScaler(), SequentialFeatureSelector(model), model)\n",
    "std_seq_pipeline.fit(wine_train, wine_labels_train)\n",
    "std_seq_pred = std_seq_pipeline.predict(wine_val)\n",
    "acc = accuracy_score(wine_labels_val, std_seq_pred)\n",
    "print(\"Accuracy = \" + str(acc))"
   ]
  },
  {
   "cell_type": "markdown",
   "id": "454c3905",
   "metadata": {
    "papermill": {
     "duration": 0.058963,
     "end_time": "2022-04-10T13:46:35.067975",
     "exception": false,
     "start_time": "2022-04-10T13:46:35.009012",
     "status": "completed"
    },
    "tags": []
   },
   "source": [
    "> ### Conclusions\n",
    "> * Generally speaking, accuracy score is high (> 90%) for all models, even the one trained on raw data.\n",
    "> * The equal accuracy score on raw data and after applying standard scaling, indicates that the features are already standardised in the dataset.\n",
    "> * MinMax scaler performs better than StandardScaler, because features are normalised based on known min and max value for them, which is the case for our dataset. We also achieve the highest accuracy for this model (100%).\n",
    "> * Applying sequencial feature selector allows us to remove (or add) features based on the results of cross-validation according to estimator. In hour case it leads to model's accuracy score shrinking, because we delete some essential features that are indeed important for our prediction (based on the score for Raw Data model). In case of MinMax scaler, the effect is more significant, because removing scaled features leads to lower score. For StandardScaler case, the impact of feature selection is lesser. Overall, it leads to a conclusion that sequential feature selection should be applied with some reasoning whenever it is needed. In case of our dataset and model, it was not helpful, however for some other data, it might be important."
   ]
  },
  {
   "cell_type": "markdown",
   "id": "d1ba2832",
   "metadata": {
    "papermill": {
     "duration": 0.05862,
     "end_time": "2022-04-10T13:46:35.188374",
     "exception": false,
     "start_time": "2022-04-10T13:46:35.129754",
     "status": "completed"
    },
    "tags": []
   },
   "source": [
    "## Exercise 4 - manual PCA (5 points)\n",
    "The task is to solve PCA as an optimization problem, without explicitly doing eigen value decomposition.\n",
    "In the most general setting PCA is minimization of reconstruction error of a projection of given rank $q$\n",
    "\n",
    "$$\\min_{\\mu, \\lambda_1,\\ldots, \\lambda_n, \\mathbf{V}_q} \\sum_{i=1}^n ||x_i - \\mu - \\mathbf{V}_q \\lambda_i||^2$$\n",
    "\n",
    "With a number of steps that can be found here https://stats.stackexchange.com/a/10260 this task transforms to\n",
    " $$\\max_{u_i} \\sum_{i=1}^q u_i^T \\mathbf{S} u_i$$\n",
    " where $\\mathbf{S}$ is the sample covariance matrix (after standartization) and $u_1, \\ldots, u_q$ are the $q$ are orthonormal columns in $\\mathbf{V}_q$.\n",
    " Let us solve this optimization problem with `scipy.optimize` library.\n",
    " \n",
    " Additional 2 point are given for visualization of the results."
   ]
  },
  {
   "cell_type": "markdown",
   "id": "9516e2e1",
   "metadata": {
    "papermill": {
     "duration": 0.061711,
     "end_time": "2022-04-10T13:46:35.311453",
     "exception": false,
     "start_time": "2022-04-10T13:46:35.249742",
     "status": "completed"
    },
    "tags": []
   },
   "source": [
    "### PCA (3 points)"
   ]
  },
  {
   "cell_type": "code",
   "execution_count": 23,
   "id": "18bf84e8",
   "metadata": {
    "execution": {
     "iopub.execute_input": "2022-04-10T13:46:35.435704Z",
     "iopub.status.busy": "2022-04-10T13:46:35.434671Z",
     "iopub.status.idle": "2022-04-10T13:46:35.437733Z",
     "shell.execute_reply": "2022-04-10T13:46:35.438282Z",
     "shell.execute_reply.started": "2022-04-10T13:18:26.751419Z"
    },
    "papermill": {
     "duration": 0.066577,
     "end_time": "2022-04-10T13:46:35.438486",
     "exception": false,
     "start_time": "2022-04-10T13:46:35.371909",
     "status": "completed"
    },
    "tags": []
   },
   "outputs": [],
   "source": [
    "wine_data, wine_labels = wine_sklearn['data'], wine_sklearn['target']"
   ]
  },
  {
   "cell_type": "markdown",
   "id": "5d0635a0",
   "metadata": {
    "papermill": {
     "duration": 0.062133,
     "end_time": "2022-04-10T13:46:35.561925",
     "exception": false,
     "start_time": "2022-04-10T13:46:35.499792",
     "status": "completed"
    },
    "tags": []
   },
   "source": [
    "Find a covariance matrix of standartized data and assing it to S."
   ]
  },
  {
   "cell_type": "code",
   "execution_count": 24,
   "id": "fc7d3804",
   "metadata": {
    "execution": {
     "iopub.execute_input": "2022-04-10T13:46:35.683371Z",
     "iopub.status.busy": "2022-04-10T13:46:35.682735Z",
     "iopub.status.idle": "2022-04-10T13:46:35.691721Z",
     "shell.execute_reply": "2022-04-10T13:46:35.692311Z",
     "shell.execute_reply.started": "2022-04-10T13:18:26.757776Z"
    },
    "papermill": {
     "duration": 0.073285,
     "end_time": "2022-04-10T13:46:35.692499",
     "exception": false,
     "start_time": "2022-04-10T13:46:35.619214",
     "status": "completed"
    },
    "tags": []
   },
   "outputs": [],
   "source": [
    "S = np.cov(StandardScaler().fit_transform(wine_data).T)"
   ]
  },
  {
   "cell_type": "markdown",
   "id": "6f6d11dd",
   "metadata": {
    "papermill": {
     "duration": 0.057926,
     "end_time": "2022-04-10T13:46:35.811619",
     "exception": false,
     "start_time": "2022-04-10T13:46:35.753693",
     "status": "completed"
    },
    "tags": []
   },
   "source": [
    "If your code is correct, the following assert should be Ok."
   ]
  },
  {
   "cell_type": "code",
   "execution_count": 25,
   "id": "b208cea0",
   "metadata": {
    "execution": {
     "iopub.execute_input": "2022-04-10T13:46:35.934016Z",
     "iopub.status.busy": "2022-04-10T13:46:35.933401Z",
     "iopub.status.idle": "2022-04-10T13:46:35.937091Z",
     "shell.execute_reply": "2022-04-10T13:46:35.937578Z",
     "shell.execute_reply.started": "2022-04-10T13:18:26.775674Z"
    },
    "papermill": {
     "duration": 0.066088,
     "end_time": "2022-04-10T13:46:35.937747",
     "exception": false,
     "start_time": "2022-04-10T13:46:35.871659",
     "status": "completed"
    },
    "tags": []
   },
   "outputs": [],
   "source": [
    "assert np.allclose(np.linalg.norm(S), 5.787241159764733)"
   ]
  },
  {
   "cell_type": "code",
   "execution_count": 26,
   "id": "29b3fdcf",
   "metadata": {
    "execution": {
     "iopub.execute_input": "2022-04-10T13:46:36.060926Z",
     "iopub.status.busy": "2022-04-10T13:46:36.060178Z",
     "iopub.status.idle": "2022-04-10T13:46:36.084874Z",
     "shell.execute_reply": "2022-04-10T13:46:36.085375Z",
     "shell.execute_reply.started": "2022-04-10T13:18:26.786504Z"
    },
    "papermill": {
     "duration": 0.087898,
     "end_time": "2022-04-10T13:46:36.085549",
     "exception": false,
     "start_time": "2022-04-10T13:46:35.997651",
     "status": "completed"
    },
    "tags": []
   },
   "outputs": [],
   "source": [
    "from scipy.optimize import minimize\n",
    "\n",
    "def objective(x):\n",
    "    return 1 - np.dot(np.dot(x.T, S), x)\n",
    "\n",
    "def norm_constraint(x):\n",
    "    if np.linalg.norm(x) == 1:\n",
    "        return 0\n",
    "    return 1 - np.dot(x.T, x)\n",
    "\n",
    "con1 = {'type': 'eq', 'fun': norm_constraint}\n",
    "\n",
    "x0 = np.ones(wine_data.shape[1])\n",
    "\n",
    "sol = minimize(objective, \n",
    "               x0, \n",
    "               constraints = [con1]\n",
    "              )\n",
    "x0 = sol.x"
   ]
  },
  {
   "cell_type": "markdown",
   "id": "4e6af8d0",
   "metadata": {
    "papermill": {
     "duration": 0.059958,
     "end_time": "2022-04-10T13:46:36.204815",
     "exception": false,
     "start_time": "2022-04-10T13:46:36.144857",
     "status": "completed"
    },
    "tags": []
   },
   "source": [
    "Hurray! We have first vector! Let's do another one."
   ]
  },
  {
   "cell_type": "code",
   "execution_count": 27,
   "id": "6dba1084",
   "metadata": {
    "execution": {
     "iopub.execute_input": "2022-04-10T13:46:36.369535Z",
     "iopub.status.busy": "2022-04-10T13:46:36.363164Z",
     "iopub.status.idle": "2022-04-10T13:46:36.399926Z",
     "shell.execute_reply": "2022-04-10T13:46:36.400467Z",
     "shell.execute_reply.started": "2022-04-10T13:18:26.830685Z"
    },
    "papermill": {
     "duration": 0.132706,
     "end_time": "2022-04-10T13:46:36.400653",
     "exception": false,
     "start_time": "2022-04-10T13:46:36.267947",
     "status": "completed"
    },
    "tags": []
   },
   "outputs": [],
   "source": [
    "def orthogonality_constraint(x):\n",
    "    if (np.dot(x.T, x0) == 0):\n",
    "        return 0\n",
    "    return - np.dot(x.T, x0)\n",
    "\n",
    "con2 = {'type': 'eq', 'fun': orthogonality_constraint}\n",
    "\n",
    "x1 = np.ones(wine_data.shape[1])\n",
    "\n",
    "\n",
    "sol = minimize(objective, \n",
    "               x1, \n",
    "               constraints = [con1, con2]\n",
    "              )\n",
    "\n",
    "x1 = sol.x"
   ]
  },
  {
   "cell_type": "markdown",
   "id": "38e96459",
   "metadata": {
    "papermill": {
     "duration": 0.060107,
     "end_time": "2022-04-10T13:46:36.523267",
     "exception": false,
     "start_time": "2022-04-10T13:46:36.463160",
     "status": "completed"
    },
    "tags": []
   },
   "source": [
    "If your solution is correct, the following asserts should be Ok."
   ]
  },
  {
   "cell_type": "code",
   "execution_count": 28,
   "id": "04d9cfcb",
   "metadata": {
    "execution": {
     "iopub.execute_input": "2022-04-10T13:46:36.659082Z",
     "iopub.status.busy": "2022-04-10T13:46:36.658023Z",
     "iopub.status.idle": "2022-04-10T13:46:36.661898Z",
     "shell.execute_reply": "2022-04-10T13:46:36.662466Z",
     "shell.execute_reply.started": "2022-04-10T13:18:26.862786Z"
    },
    "papermill": {
     "duration": 0.074581,
     "end_time": "2022-04-10T13:46:36.662700",
     "exception": false,
     "start_time": "2022-04-10T13:46:36.588119",
     "status": "completed"
    },
    "tags": []
   },
   "outputs": [],
   "source": [
    "assert np.allclose(x0@S@x0, 4.732436977583595)\n",
    "assert np.allclose(x1@S@x1, 2.5110809296451233)"
   ]
  },
  {
   "cell_type": "markdown",
   "id": "a9471db4",
   "metadata": {
    "papermill": {
     "duration": 0.068622,
     "end_time": "2022-04-10T13:46:36.799510",
     "exception": false,
     "start_time": "2022-04-10T13:46:36.730888",
     "status": "completed"
    },
    "tags": []
   },
   "source": [
    "### Visualization (2 points)"
   ]
  },
  {
   "cell_type": "markdown",
   "id": "e0fad001",
   "metadata": {
    "papermill": {
     "duration": 0.061579,
     "end_time": "2022-04-10T13:46:36.919366",
     "exception": false,
     "start_time": "2022-04-10T13:46:36.857787",
     "status": "completed"
    },
    "tags": []
   },
   "source": [
    "Visualize the points after applying custom dimension reduction with 2 components."
   ]
  },
  {
   "cell_type": "code",
   "execution_count": 29,
   "id": "463cb6dd",
   "metadata": {
    "execution": {
     "iopub.execute_input": "2022-04-10T13:46:37.067595Z",
     "iopub.status.busy": "2022-04-10T13:46:37.063944Z",
     "iopub.status.idle": "2022-04-10T13:46:37.549388Z",
     "shell.execute_reply": "2022-04-10T13:46:37.549827Z",
     "shell.execute_reply.started": "2022-04-10T13:18:26.869653Z"
    },
    "papermill": {
     "duration": 0.563519,
     "end_time": "2022-04-10T13:46:37.550005",
     "exception": false,
     "start_time": "2022-04-10T13:46:36.986486",
     "status": "completed"
    },
    "tags": []
   },
   "outputs": [
    {
     "data": {
      "image/png": "[encoded data removed]",
      "text/plain": [
       "<Figure size 288x288 with 1 Axes>"
      ]
     },
     "metadata": {},
     "output_type": "display_data"
    },
    {
     "data": {
      "image/png": "[encoded data removed]",
      "text/plain": [
       "<Figure size 288x288 with 1 Axes>"
      ]
     },
     "metadata": {},
     "output_type": "display_data"
    }
   ],
   "source": [
    "stand_wine = StandardScaler().fit_transform(wine_data)\n",
    "wine_pca_1 = np.dot(stand_wine,(x0))\n",
    "wine_pca_2 = np.dot(stand_wine,(x1))\n",
    "plot_scatter(stand_wine[:, 0], stand_wine[:, 1], auto_scaled=False, clusters=wine_labels, title='without pca')\n",
    "plot_scatter(wine_pca_1, wine_pca_2, auto_scaled=False, clusters=wine_labels, title='with pca')"
   ]
  },
  {
   "cell_type": "markdown",
   "id": "61f2adc9",
   "metadata": {
    "papermill": {
     "duration": 0.080565,
     "end_time": "2022-04-10T13:46:37.705851",
     "exception": false,
     "start_time": "2022-04-10T13:46:37.625286",
     "status": "completed"
    },
    "tags": []
   },
   "source": [
    "## Exercise 5 - Boruta (3 points)\n",
    "\n",
    "Let us classify handwritten digits 0, 1 and 2. \n",
    "To make task not so easy the images are binarized (no shadows of gray present) as it happens with xerocopied documents.\n",
    "\n",
    "Let us also find out to which parts of an image there's no need to look in order to clasify three digits of interest."
   ]
  },
  {
   "cell_type": "code",
   "execution_count": 30,
   "id": "af5077ba",
   "metadata": {
    "execution": {
     "iopub.execute_input": "2022-04-10T13:46:37.845316Z",
     "iopub.status.busy": "2022-04-10T13:46:37.843027Z",
     "iopub.status.idle": "2022-04-10T13:46:37.929137Z",
     "shell.execute_reply": "2022-04-10T13:46:37.928451Z",
     "shell.execute_reply.started": "2022-04-10T13:18:27.219490Z"
    },
    "papermill": {
     "duration": 0.155373,
     "end_time": "2022-04-10T13:46:37.929338",
     "exception": false,
     "start_time": "2022-04-10T13:46:37.773965",
     "status": "completed"
    },
    "tags": []
   },
   "outputs": [],
   "source": [
    "X, y = load_digits(n_class=3, return_X_y=True, as_frame=True)\n",
    "X = (X>10).astype(int)"
   ]
  },
  {
   "cell_type": "code",
   "execution_count": 31,
   "id": "f9467d08",
   "metadata": {
    "execution": {
     "iopub.execute_input": "2022-04-10T13:46:38.080334Z",
     "iopub.status.busy": "2022-04-10T13:46:38.079329Z",
     "iopub.status.idle": "2022-04-10T13:46:38.464168Z",
     "shell.execute_reply": "2022-04-10T13:46:38.464749Z",
     "shell.execute_reply.started": "2022-04-10T13:18:27.296426Z"
    },
    "papermill": {
     "duration": 0.462898,
     "end_time": "2022-04-10T13:46:38.464925",
     "exception": false,
     "start_time": "2022-04-10T13:46:38.002027",
     "status": "completed"
    },
    "tags": []
   },
   "outputs": [
    {
     "data": {
      "image/png": "[encoded data removed]",
      "text/plain": [
       "<Figure size 720x288 with 3 Axes>"
      ]
     },
     "metadata": {},
     "output_type": "display_data"
    }
   ],
   "source": [
    "f, ax = plt.subplots(1,3,figsize=(10,4))\n",
    "for i in range(3):\n",
    "    ax[i].imshow(X.iloc[i].values.reshape(8,8))\n",
    "    ax[i].set_title(f\"This is digit {y[i]}.\")\n",
    "plt.suptitle(\"First three images.\")\n",
    "plt.show()"
   ]
  },
  {
   "cell_type": "markdown",
   "id": "f1ba7054",
   "metadata": {
    "papermill": {
     "duration": 0.062975,
     "end_time": "2022-04-10T13:46:38.588824",
     "exception": false,
     "start_time": "2022-04-10T13:46:38.525849",
     "status": "completed"
    },
    "tags": []
   },
   "source": [
    "Split data into train and test, let test size be 30% of the dataset and fix random state to 42:"
   ]
  },
  {
   "cell_type": "code",
   "execution_count": 32,
   "id": "820d5812",
   "metadata": {
    "execution": {
     "iopub.execute_input": "2022-04-10T13:46:38.725213Z",
     "iopub.status.busy": "2022-04-10T13:46:38.724000Z",
     "iopub.status.idle": "2022-04-10T13:46:38.729605Z",
     "shell.execute_reply": "2022-04-10T13:46:38.730435Z",
     "shell.execute_reply.started": "2022-04-10T13:18:27.666002Z"
    },
    "papermill": {
     "duration": 0.080038,
     "end_time": "2022-04-10T13:46:38.730695",
     "exception": false,
     "start_time": "2022-04-10T13:46:38.650657",
     "status": "completed"
    },
    "tags": []
   },
   "outputs": [],
   "source": [
    "X_train, X_val, y_train, y_val = train_test_split(X, y, test_size = 0.3, random_state = 42)"
   ]
  },
  {
   "cell_type": "code",
   "execution_count": 33,
   "id": "8bc8d643",
   "metadata": {
    "execution": {
     "iopub.execute_input": "2022-04-10T13:46:38.878852Z",
     "iopub.status.busy": "2022-04-10T13:46:38.877937Z",
     "iopub.status.idle": "2022-04-10T13:46:38.880975Z",
     "shell.execute_reply": "2022-04-10T13:46:38.880494Z",
     "shell.execute_reply.started": "2022-04-10T13:18:27.674242Z"
    },
    "papermill": {
     "duration": 0.076318,
     "end_time": "2022-04-10T13:46:38.881113",
     "exception": false,
     "start_time": "2022-04-10T13:46:38.804795",
     "status": "completed"
    },
    "tags": []
   },
   "outputs": [],
   "source": [
    "assert y_val.shape[0] == 162\n",
    "assert y_val.sum() == 169"
   ]
  },
  {
   "cell_type": "markdown",
   "id": "e50fdd41",
   "metadata": {
    "papermill": {
     "duration": 0.065317,
     "end_time": "2022-04-10T13:46:39.011862",
     "exception": false,
     "start_time": "2022-04-10T13:46:38.946545",
     "status": "completed"
    },
    "tags": []
   },
   "source": [
    "Fit a RandomForestClassifier with max_depth=13 and evaluate it's performance:"
   ]
  },
  {
   "cell_type": "code",
   "execution_count": 34,
   "id": "4fa42323",
   "metadata": {
    "execution": {
     "iopub.execute_input": "2022-04-10T13:46:39.151908Z",
     "iopub.status.busy": "2022-04-10T13:46:39.150929Z",
     "iopub.status.idle": "2022-04-10T13:46:39.310283Z",
     "shell.execute_reply": "2022-04-10T13:46:39.310765Z",
     "shell.execute_reply.started": "2022-04-10T13:18:27.690087Z"
    },
    "papermill": {
     "duration": 0.229335,
     "end_time": "2022-04-10T13:46:39.311048",
     "exception": false,
     "start_time": "2022-04-10T13:46:39.081713",
     "status": "completed"
    },
    "tags": []
   },
   "outputs": [
    {
     "name": "stdout",
     "output_type": "stream",
     "text": [
      "0.9938271604938271\n"
     ]
    }
   ],
   "source": [
    "clf = RandomForestClassifier(max_depth=13)\n",
    "clf.fit(X_train,y_train)\n",
    "pred = clf.predict(X_val)\n",
    "acc = accuracy_score(y_val, pred)\n",
    "print(acc)"
   ]
  },
  {
   "cell_type": "code",
   "execution_count": 35,
   "id": "599b0ff0",
   "metadata": {
    "execution": {
     "iopub.execute_input": "2022-04-10T13:46:39.447203Z",
     "iopub.status.busy": "2022-04-10T13:46:39.446279Z",
     "iopub.status.idle": "2022-04-10T13:46:39.450775Z",
     "shell.execute_reply": "2022-04-10T13:46:39.451290Z",
     "shell.execute_reply.started": "2022-04-10T13:18:27.860945Z"
    },
    "papermill": {
     "duration": 0.077463,
     "end_time": "2022-04-10T13:46:39.451482",
     "exception": false,
     "start_time": "2022-04-10T13:46:39.374019",
     "status": "completed"
    },
    "tags": []
   },
   "outputs": [],
   "source": [
    "assert acc > 0.98"
   ]
  },
  {
   "cell_type": "markdown",
   "id": "241c55ef",
   "metadata": {
    "papermill": {
     "duration": 0.069274,
     "end_time": "2022-04-10T13:46:39.588073",
     "exception": false,
     "start_time": "2022-04-10T13:46:39.518799",
     "status": "completed"
    },
    "tags": []
   },
   "source": [
    "Now we will use Boruta to find redundand pixels. If the package is not installed in your system, uncomment and run the following cell."
   ]
  },
  {
   "cell_type": "code",
   "execution_count": 36,
   "id": "e321395c",
   "metadata": {
    "execution": {
     "iopub.execute_input": "2022-04-10T13:46:39.721488Z",
     "iopub.status.busy": "2022-04-10T13:46:39.720567Z",
     "iopub.status.idle": "2022-04-10T13:46:39.723604Z",
     "shell.execute_reply": "2022-04-10T13:46:39.724007Z",
     "shell.execute_reply.started": "2022-04-10T13:18:27.956551Z"
    },
    "papermill": {
     "duration": 0.071351,
     "end_time": "2022-04-10T13:46:39.724189",
     "exception": false,
     "start_time": "2022-04-10T13:46:39.652838",
     "status": "completed"
    },
    "tags": []
   },
   "outputs": [],
   "source": [
    "# ! pip install boruta"
   ]
  },
  {
   "cell_type": "code",
   "execution_count": 37,
   "id": "6ca7e197",
   "metadata": {
    "execution": {
     "iopub.execute_input": "2022-04-10T13:46:39.853679Z",
     "iopub.status.busy": "2022-04-10T13:46:39.852957Z",
     "iopub.status.idle": "2022-04-10T13:46:49.677257Z",
     "shell.execute_reply": "2022-04-10T13:46:49.677851Z",
     "shell.execute_reply.started": "2022-04-10T13:18:28.140310Z"
    },
    "papermill": {
     "duration": 9.892493,
     "end_time": "2022-04-10T13:46:49.678017",
     "exception": false,
     "start_time": "2022-04-10T13:46:39.785524",
     "status": "completed"
    },
    "tags": []
   },
   "outputs": [
    {
     "data": {
      "text/plain": [
       "BorutaPy(estimator=RandomForestClassifier(max_depth=13, n_estimators=62,\n",
       "                                          random_state=RandomState(MT19937) at 0x7F4D5AA76050),\n",
       "         n_estimators='auto',\n",
       "         random_state=RandomState(MT19937) at 0x7F4D5AA76050)"
      ]
     },
     "execution_count": 37,
     "metadata": {},
     "output_type": "execute_result"
    }
   ],
   "source": [
    "from boruta import BorutaPy\n",
    "\n",
    "feat_selector = BorutaPy(RandomForestClassifier(max_depth=13), \n",
    "                         n_estimators='auto', \n",
    "                         verbose=0, \n",
    "                         max_iter=100,\n",
    "                         random_state=42)\n",
    "\n",
    "feat_selector.fit(np.array(X_train), np.array(y_train))"
   ]
  },
  {
   "cell_type": "code",
   "execution_count": 38,
   "id": "df124a86",
   "metadata": {
    "execution": {
     "iopub.execute_input": "2022-04-10T13:46:49.811876Z",
     "iopub.status.busy": "2022-04-10T13:46:49.808953Z",
     "iopub.status.idle": "2022-04-10T13:46:49.814747Z",
     "shell.execute_reply": "2022-04-10T13:46:49.815157Z",
     "shell.execute_reply.started": "2022-04-10T13:18:37.679854Z"
    },
    "papermill": {
     "duration": 0.07341,
     "end_time": "2022-04-10T13:46:49.815354",
     "exception": false,
     "start_time": "2022-04-10T13:46:49.741944",
     "status": "completed"
    },
    "tags": []
   },
   "outputs": [
    {
     "data": {
      "text/plain": [
       "array([False, False,  True,  True,  True,  True, False, False, False,\n",
       "       False,  True, False, False,  True, False, False, False, False,\n",
       "        True,  True,  True,  True, False, False, False, False,  True,\n",
       "        True,  True,  True, False, False, False, False,  True,  True,\n",
       "        True,  True, False, False, False, False,  True,  True,  True,\n",
       "        True, False, False, False, False,  True,  True,  True,  True,\n",
       "        True, False, False, False,  True,  True, False,  True,  True,\n",
       "       False])"
      ]
     },
     "execution_count": 38,
     "metadata": {},
     "output_type": "execute_result"
    }
   ],
   "source": [
    "feat_selector.support_"
   ]
  },
  {
   "cell_type": "code",
   "execution_count": 39,
   "id": "1647f319",
   "metadata": {
    "execution": {
     "iopub.execute_input": "2022-04-10T13:46:49.947065Z",
     "iopub.status.busy": "2022-04-10T13:46:49.944681Z",
     "iopub.status.idle": "2022-04-10T13:46:49.951268Z",
     "shell.execute_reply": "2022-04-10T13:46:49.950780Z",
     "shell.execute_reply.started": "2022-04-10T13:18:37.687192Z"
    },
    "papermill": {
     "duration": 0.073515,
     "end_time": "2022-04-10T13:46:49.951434",
     "exception": false,
     "start_time": "2022-04-10T13:46:49.877919",
     "status": "completed"
    },
    "tags": []
   },
   "outputs": [
    {
     "data": {
      "text/plain": [
       "array([25, 25,  1,  1,  1,  1, 25, 25, 25,  8,  1,  4,  2,  1, 13, 25, 25,\n",
       "        7,  1,  1,  1,  1, 11, 25, 25,  9,  1,  1,  1,  1, 15, 25, 25, 25,\n",
       "        1,  1,  1,  1, 11, 25, 25, 25,  1,  1,  1,  1,  6, 25, 25, 10,  1,\n",
       "        1,  1,  1,  1, 14, 25, 25,  1,  1,  3,  1,  1,  5])"
      ]
     },
     "execution_count": 39,
     "metadata": {},
     "output_type": "execute_result"
    }
   ],
   "source": [
    "feat_selector.ranking_"
   ]
  },
  {
   "cell_type": "code",
   "execution_count": 40,
   "id": "621dd3e4",
   "metadata": {
    "execution": {
     "iopub.execute_input": "2022-04-10T13:46:50.083573Z",
     "iopub.status.busy": "2022-04-10T13:46:50.082833Z",
     "iopub.status.idle": "2022-04-10T13:46:50.085222Z",
     "shell.execute_reply": "2022-04-10T13:46:50.085712Z",
     "shell.execute_reply.started": "2022-04-10T13:18:37.702131Z"
    },
    "papermill": {
     "duration": 0.071241,
     "end_time": "2022-04-10T13:46:50.085889",
     "exception": false,
     "start_time": "2022-04-10T13:46:50.014648",
     "status": "completed"
    },
    "tags": []
   },
   "outputs": [],
   "source": [
    "X_train_filtered = feat_selector.transform(np.array(X_train))\n",
    "X_val_filtered = feat_selector.transform(np.array(X_val))"
   ]
  },
  {
   "cell_type": "markdown",
   "id": "8840baed",
   "metadata": {
    "papermill": {
     "duration": 0.064207,
     "end_time": "2022-04-10T13:46:50.214234",
     "exception": false,
     "start_time": "2022-04-10T13:46:50.150027",
     "status": "completed"
    },
    "tags": []
   },
   "source": [
    "Let us print redundant pixels as a mask. Does the result looks similar to mine (or to Among us chracters)? "
   ]
  },
  {
   "cell_type": "code",
   "execution_count": 41,
   "id": "ad31614b",
   "metadata": {
    "execution": {
     "iopub.execute_input": "2022-04-10T13:46:50.346895Z",
     "iopub.status.busy": "2022-04-10T13:46:50.345991Z",
     "iopub.status.idle": "2022-04-10T13:46:50.540617Z",
     "shell.execute_reply": "2022-04-10T13:46:50.541179Z",
     "shell.execute_reply.started": "2022-04-10T13:18:37.711253Z"
    },
    "papermill": {
     "duration": 0.26418,
     "end_time": "2022-04-10T13:46:50.541384",
     "exception": false,
     "start_time": "2022-04-10T13:46:50.277204",
     "status": "completed"
    },
    "tags": []
   },
   "outputs": [
    {
     "data": {
      "image/png": "[encoded data removed]",
      "text/plain": [
       "<Figure size 432x288 with 1 Axes>"
      ]
     },
     "metadata": {},
     "output_type": "display_data"
    }
   ],
   "source": [
    "mask = np.array(feat_selector.support_).reshape(8,8)\n",
    "plt.imshow(mask);"
   ]
  },
  {
   "cell_type": "markdown",
   "id": "43de85f5",
   "metadata": {
    "papermill": {
     "duration": 0.065898,
     "end_time": "2022-04-10T13:46:50.670098",
     "exception": false,
     "start_time": "2022-04-10T13:46:50.604200",
     "status": "completed"
    },
    "tags": []
   },
   "source": [
    "At the end let us redo  classification but only with selected features"
   ]
  },
  {
   "cell_type": "code",
   "execution_count": 42,
   "id": "7dceabf8",
   "metadata": {
    "execution": {
     "iopub.execute_input": "2022-04-10T13:46:50.803988Z",
     "iopub.status.busy": "2022-04-10T13:46:50.803319Z",
     "iopub.status.idle": "2022-04-10T13:46:50.956220Z",
     "shell.execute_reply": "2022-04-10T13:46:50.956903Z",
     "shell.execute_reply.started": "2022-04-10T13:21:56.380207Z"
    },
    "papermill": {
     "duration": 0.221637,
     "end_time": "2022-04-10T13:46:50.957116",
     "exception": false,
     "start_time": "2022-04-10T13:46:50.735479",
     "status": "completed"
    },
    "tags": []
   },
   "outputs": [
    {
     "name": "stdout",
     "output_type": "stream",
     "text": [
      "0.9938271604938271\n"
     ]
    }
   ],
   "source": [
    "clf = RandomForestClassifier(max_depth=13)\n",
    "clf.fit(X_train_filtered, y_train)\n",
    "pred = clf.predict(X_val_filtered)\n",
    "acc = accuracy_score(y_val, pred)\n",
    "print(acc)"
   ]
  },
  {
   "cell_type": "code",
   "execution_count": 43,
   "id": "fbc1df63",
   "metadata": {
    "execution": {
     "iopub.execute_input": "2022-04-10T13:46:51.086784Z",
     "iopub.status.busy": "2022-04-10T13:46:51.086069Z",
     "iopub.status.idle": "2022-04-10T13:46:51.089344Z",
     "shell.execute_reply": "2022-04-10T13:46:51.089804Z",
     "shell.execute_reply.started": "2022-04-10T13:18:38.067394Z"
    },
    "papermill": {
     "duration": 0.069641,
     "end_time": "2022-04-10T13:46:51.089969",
     "exception": false,
     "start_time": "2022-04-10T13:46:51.020328",
     "status": "completed"
    },
    "tags": []
   },
   "outputs": [],
   "source": [
    "assert acc > 0.99"
   ]
  },
  {
   "cell_type": "markdown",
   "id": "c6780a5b",
   "metadata": {
    "papermill": {
     "duration": 0.066203,
     "end_time": "2022-04-10T13:46:51.220419",
     "exception": false,
     "start_time": "2022-04-10T13:46:51.154216",
     "status": "completed"
    },
    "tags": []
   },
   "source": [
    "# Materials & References"
   ]
  },
  {
   "cell_type": "markdown",
   "id": "f9708330",
   "metadata": {
    "papermill": {
     "duration": 0.063,
     "end_time": "2022-04-10T13:46:51.347608",
     "exception": false,
     "start_time": "2022-04-10T13:46:51.284608",
     "status": "completed"
    },
    "tags": []
   },
   "source": [
    "1. General article about feature engineering and selection (main reference):\n",
    "https://github.com/Yorko/mlcourse.ai/blob/master/jupyter_english/topic06_features_regression/topic6_feature_engineering_feature_selection.ipynb\n",
    "\n",
    "2. Feature engineering/preprocessing, using scikit-learn API (great code examples, but really brief explanation):    \n",
    "https://scikit-learn.org/stable/modules/preprocessing\n",
    "\n",
    "3. Feature scaling/normalization:     \n",
    "https://towardsdatascience.com/all-about-feature-scaling-bcc0ad75cb35\n",
    "\n",
    "4. Log Transform/power transform:    \n",
    "https://medium.com/@kyawsawhtoon/log-transformation-purpose-and-interpretation-9444b4b049c9\n",
    "\n",
    "6. Missing values preprocessing using scikit-learn API (great code examples, great explanation):    \n",
    "https://scikit-learn.org/stable/modules/impute.html\n",
    "\n",
    "7. Feature selection scikit-learn API (great code examples, great explanation):   \n",
    "https://scikit-learn.org/stable/modules/feature_selection.html\n",
    "\n",
    "8. Melbourne housing dataset source:    \n",
    "https://www.kaggle.com/anthonypino/melbourne-housing-market"
   ]
  }
 ],
 "metadata": {
  "kernelspec": {
   "display_name": "Python 3",
   "language": "python",
   "name": "python3"
  },
  "language_info": {
   "codemirror_mode": {
    "name": "ipython",
    "version": 3
   },
   "file_extension": ".py",
   "mimetype": "text/x-python",
   "name": "python",
   "nbconvert_exporter": "python",
   "pygments_lexer": "ipython3",
   "version": "3.7.12"
  },
  "papermill": {
   "default_parameters": {},
   "duration": 36.197548,
   "end_time": "2022-04-10T13:46:52.222974",
   "environment_variables": {},
   "exception": null,
   "input_path": "__notebook__.ipynb",
   "output_path": "__notebook__.ipynb",
   "parameters": {},
   "start_time": "2022-04-10T13:46:16.025426",
   "version": "2.3.3"
  }
 },
 "nbformat": 4,
 "nbformat_minor": 5
}
