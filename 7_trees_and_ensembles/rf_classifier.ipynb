{
 "cells": [
  {
   "cell_type": "markdown",
   "id": "63602d5d",
   "metadata": {
    "papermill": {
     "duration": 0.058598,
     "end_time": "2022-04-18T09:10:38.324005",
     "exception": false,
     "start_time": "2022-04-18T09:10:38.265407",
     "status": "completed"
    },
    "tags": []
   },
   "source": [
    "# Introduction"
   ]
  },
  {
   "cell_type": "markdown",
   "id": "ece1321a",
   "metadata": {
    "papermill": {
     "duration": 0.076911,
     "end_time": "2022-04-18T09:10:38.458576",
     "exception": false,
     "start_time": "2022-04-18T09:10:38.381665",
     "status": "completed"
    },
    "tags": []
   },
   "source": [
    "Fortunately, with libraries such as Scikit-Learn, it’s now easy to build and use almost any machine learning algorithm. But it’s helpful to have an idea of how a machine learning model works under the hood. This lets us diagnose the model when it’s underperforming or explain how it makes decisions, which is crucial if we want to convince others to trust our models.\n",
    "In this assignment, we’ll look at how to build and use the Decision Tree and the Random Forest in Python. We’ll start by understanding how a single decision tree makes classifications on a simple problem. Then, we’ll work our way to using a random forest on a real-world data science problem."
   ]
  },
  {
   "cell_type": "markdown",
   "id": "53d4bcb8",
   "metadata": {
    "papermill": {
     "duration": 0.055643,
     "end_time": "2022-04-18T09:10:38.577370",
     "exception": false,
     "start_time": "2022-04-18T09:10:38.521727",
     "status": "completed"
    },
    "tags": []
   },
   "source": [
    "# Dataset"
   ]
  },
  {
   "cell_type": "markdown",
   "id": "70a26552",
   "metadata": {
    "papermill": {
     "duration": 0.055153,
     "end_time": "2022-04-18T09:10:38.688490",
     "exception": false,
     "start_time": "2022-04-18T09:10:38.633337",
     "status": "completed"
    },
    "tags": []
   },
   "source": [
    "The dataset we will use in this assignment is the Sonar dataset.\n",
    "\n",
    "This is a dataset that describes sonar chirp returns bouncing off different surfaces. The 60 predictors are the strength of the returns at different angles. It is a binary classification problem that requires a model to differentiate rocks from metal cylinders. There are 208 observations.\n",
    "\n",
    "It is a well-understood dataset. All of the variables are continuous and generally in the range of 0 to 1. The output variable is a string “M” for mine and “R” for rock, which will need to be converted to integers 1 and 0.\n",
    "\n",
    "By predicting the class with the most observations in the dataset (M or mines) the Zero Rule Algorithm can achieve an accuracy of 53%.\n",
    "\n",
    "You can learn more about this dataset at the UCI Machine Learning repository.\n",
    "https://archive.ics.uci.edu/ml/datasets/Connectionist+Bench+(Sonar,+Mines+vs.+Rocks)\n",
    "\n",
    "Download the dataset for free and place it in the \"data\" folder in your working directory with the filename sonar.all-data.csv."
   ]
  },
  {
   "cell_type": "markdown",
   "id": "42c104e9",
   "metadata": {
    "papermill": {
     "duration": 0.055055,
     "end_time": "2022-04-18T09:10:38.799100",
     "exception": false,
     "start_time": "2022-04-18T09:10:38.744045",
     "status": "completed"
    },
    "tags": []
   },
   "source": [
    "# Import section"
   ]
  },
  {
   "cell_type": "code",
   "execution_count": 1,
   "id": "d3ca5e5a",
   "metadata": {
    "ExecuteTime": {
     "end_time": "2022-01-17T20:27:52.137523Z",
     "start_time": "2022-01-17T20:27:51.210945Z"
    },
    "execution": {
     "iopub.execute_input": "2022-04-18T09:10:38.913401Z",
     "iopub.status.busy": "2022-04-18T09:10:38.912827Z",
     "iopub.status.idle": "2022-04-18T09:10:40.172821Z",
     "shell.execute_reply": "2022-04-18T09:10:40.171965Z"
    },
    "papermill": {
     "duration": 1.320661,
     "end_time": "2022-04-18T09:10:40.175451",
     "exception": false,
     "start_time": "2022-04-18T09:10:38.854790",
     "status": "completed"
    },
    "tags": []
   },
   "outputs": [],
   "source": [
    "import numpy as np\n",
    "import pandas as pd\n",
    "import matplotlib.pyplot as plt\n",
    "import seaborn as sns\n",
    "import warnings\n",
    "from sklearn.model_selection import train_test_split\n",
    "from sklearn.metrics import accuracy_score\n",
    "warnings.filterwarnings('ignore')"
   ]
  },
  {
   "cell_type": "code",
   "execution_count": 2,
   "id": "a2c25d9e",
   "metadata": {
    "ExecuteTime": {
     "end_time": "2022-01-17T20:27:52.153537Z",
     "start_time": "2022-01-17T20:27:52.139489Z"
    },
    "execution": {
     "iopub.execute_input": "2022-04-18T09:10:40.291834Z",
     "iopub.status.busy": "2022-04-18T09:10:40.291281Z",
     "iopub.status.idle": "2022-04-18T09:10:40.338169Z",
     "shell.execute_reply": "2022-04-18T09:10:40.337506Z"
    },
    "papermill": {
     "duration": 0.108232,
     "end_time": "2022-04-18T09:10:40.340311",
     "exception": false,
     "start_time": "2022-04-18T09:10:40.232079",
     "status": "completed"
    },
    "tags": []
   },
   "outputs": [],
   "source": [
    "## I solved the task on Kaggle so I imported tests.py directly in this cell.\n",
    "\n",
    "import numpy as np\n",
    "from sklearn.model_selection import train_test_split\n",
    "from sklearn.metrics import accuracy_score\n",
    "\n",
    "RANDOM_STATE = 2020\n",
    "\n",
    "\n",
    "def create_datasets():\n",
    "    \"\"\"Create train and test datasets from the same distribution\n",
    "\n",
    "    Returns:\n",
    "        (np.array, np.array, np.array, np.array):\n",
    "            A tuple (X_train, X_test, y_train, y_test)\n",
    "    \"\"\"\n",
    "    rng = np.random.default_rng(RANDOM_STATE)\n",
    "    X = rng.normal(size=(160, 10))\n",
    "    y = (X[:, ::2].sum(axis=1) < 0.0).astype(int)\n",
    "    return train_test_split(X, y, test_size=0.2, random_state=RANDOM_STATE)\n",
    "\n",
    "\n",
    "def sum_up_tree_values(tree, field):\n",
    "    \"\"\"Perform depth first search across the tree and sum up values of requested fields\n",
    "\n",
    "    Args:\n",
    "        tree: Tree\n",
    "            Tree to traverse\n",
    "        field: str\n",
    "            The name of the class field which values should be summed up\n",
    "    Returns:\n",
    "        float:\n",
    "            The sum of all values found across the tree. None is replaces with 0.0\n",
    "    \"\"\"\n",
    "    value = getattr(tree, field)\n",
    "    if value is None:\n",
    "        value = 0.0\n",
    "    if tree.left_child is not None:\n",
    "        value += sum_up_tree_values(tree.left_child, field)\n",
    "    if tree.right_child is not None:\n",
    "        value += sum_up_tree_values(tree.right_child, field)\n",
    "    return value\n",
    "\n",
    "\n",
    "def sum_up_forest_values(forest, field):\n",
    "    \"\"\"Sums up values of requested field in all the trees of a firest\n",
    "\n",
    "    Args:\n",
    "        forest: RandomForestClassifier\n",
    "            Random Forest to go through\n",
    "        field: str\n",
    "            The name of the class field which values should be summed up\n",
    "    Returns:\n",
    "        float:\n",
    "            The sum of all values found across all the trees of the forest.\n",
    "    \"\"\"\n",
    "    value = 0\n",
    "    for tree in forest.trees:\n",
    "        value += sum_up_tree_values(tree, field)\n",
    "    return value\n",
    "\n",
    "\n",
    "def test_gini_index(func):\n",
    "    def test(x, value):\n",
    "        assert np.isclose(func(x), value), f'Should be {value} for {x}'\n",
    "    test(np.array([]), 0.0)\n",
    "    test(np.array([1]), 0.0)\n",
    "    test(np.array([1, 0]), 0.5)\n",
    "    test(np.array([1, 1, 0]), 4/9)\n",
    "    trgt = np.random.default_rng(RANDOM_STATE).choice([0, 1], 20)\n",
    "    test(trgt, 0.455)\n",
    "    print('\\033[92m All good!')\n",
    "\n",
    "\n",
    "def test_gini_gain(func):\n",
    "    def test(x, xs, value):\n",
    "        assert np.isclose(func(x, xs), value), f'Should be {value} for {x} and {xs}'\n",
    "    test(np.array([1, 1, 0]), [np.array([1, 1]), np.array([0])], 4/9)\n",
    "    test(np.array([1, 1, 0]), [np.array([1]), np.array([1, 0])], 1/9)\n",
    "    trgt = np.random.default_rng(RANDOM_STATE).choice([0, 1], 20)\n",
    "    test(trgt, [trgt[:10], trgt[10:]], 0.045)\n",
    "    print('\\033[92m All good!')\n",
    "\n",
    "\n",
    "def test_entropy(func):\n",
    "    assert func(np.array([0])) == 0.0, 'Should be 0.0 if all elements are equal'\n",
    "    assert func(np.array([1])) == 0.0, 'Should be 0.0 if all elements are equal'\n",
    "\n",
    "    def test(x, value):\n",
    "        assert np.isclose(func(x), value), f'Should be {value} for {x}'\n",
    "    test(np.array([]), 0.0)\n",
    "    test(np.array([1, 0]), 0.69314718)\n",
    "    test(np.array([1, 1, 0]), 0.63651416)\n",
    "    trgt = np.random.default_rng(RANDOM_STATE).choice([0, 1], 20)\n",
    "    test(trgt, 0.64744663)\n",
    "    print('\\033[92m All good!')\n",
    "\n",
    "\n",
    "def test_information_gain(func):\n",
    "    def test(x, xs, value):\n",
    "        assert np.isclose(func(x, xs), value), f'Should be {value} for {x} and {xs}'\n",
    "    test(np.array([1, 1, 0]), [np.array([1, 1]), np.array([0])], 0.63651416)\n",
    "    test(np.array([1, 1, 0]), [np.array([1]), np.array([1, 0])], 0.17441604)\n",
    "    trgt = np.random.default_rng(RANDOM_STATE).choice([0, 1], 20)\n",
    "    test(trgt, [trgt[:10], trgt[10:]], 0.05067183)\n",
    "    print('\\033[92m All good!')\n",
    "\n",
    "\n",
    "def test_split_dataset(func):\n",
    "    df = np.random.default_rng(RANDOM_STATE).normal(size=(5, 2))\n",
    "    trgt = np.random.default_rng(RANDOM_STATE).integers(2, size=5)\n",
    "    l_X, r_X, l_y, r_y = func(df, trgt, 0, 0)\n",
    "    assert l_X is not None and l_y is not None, \"Should not return None values\"\n",
    "    assert np.allclose(l_X, [[-0.27279702,  0.06677798], [-1.76050488,  1.08797011]])\n",
    "    assert np.array_equal(l_y, [1, 1])\n",
    "    l_X, r_X, l_y, r_y = func(df, trgt, 1, 0.1)\n",
    "    assert l_X is not None and l_y is not None, \"Should not return None values\"\n",
    "    assert np.allclose(l_X, [[1.33254869, -1.41820464], [-0.27279702,  0.06677798]])\n",
    "    assert np.array_equal(l_y, [0, 1])\n",
    "    print('\\033[92m All good!')\n",
    "\n",
    "\n",
    "def test_tree(Tree):\n",
    "    rng = np.random.default_rng(RANDOM_STATE)\n",
    "    df = rng.normal(size=(5, 3))\n",
    "    y = rng.integers(2, size=5)\n",
    "    df_test = rng.normal(size=(5, 3))\n",
    "\n",
    "    tree = Tree(criterion='entropy', random_gen=np.random.default_rng(RANDOM_STATE))\n",
    "    assert np.allclose(np.sort(tree._find_splits(df[:, 0])),\n",
    "                       [-0.58359374, 0.31790047, 0.73637695, 1.17408836]), \\\n",
    "        \"Your _find_splits function doesn't work right\"\n",
    "    assert np.allclose(tree._find_best_split(df, y, df.shape[1]),\n",
    "                       [0, 0.73637695, 0.29110316]), \\\n",
    "        \"Your _find_best_splits function doesn't work right\"\n",
    "    tree.fit(df, y, max_depth=0)\n",
    "    assert tree.left_child is None and tree.right_child is None, \\\n",
    "        \"Your tree grows more then allowed by max_depth.\"\n",
    "    tree.fit(df, np.array([1, 1, 1, 1, 1]))\n",
    "    assert tree.left_child is None and tree.right_child is None, \\\n",
    "        \"Your tree grows even when it is pure\"\n",
    "\n",
    "    tree = Tree(criterion='entropy', random_gen=np.random.default_rng(RANDOM_STATE))\n",
    "    tree.fit(df, y, max_depth=1)\n",
    "    assert np.isclose(tree.threshold, 0.73637695) and tree.column_index == 0, \\\n",
    "        \"The split values are not stored in the right way.\"\n",
    "    assert tree.left_child is not None and tree.right_child is not None, \\\n",
    "        \"Your tree doesn't grow children when it should.\"\n",
    "    assert np.array_equal([tree.predict_row(np.array([x, 0, 0])) for x in [0.73, 0.74]],\n",
    "                [0., 1.]), \"Your predict_row method may be erroneous\"\n",
    "\n",
    "    tree = Tree(criterion='entropy', random_gen=np.random.default_rng(RANDOM_STATE))\n",
    "    tree.fit(df, y)\n",
    "    np.allclose([sum_up_tree_values(tree, field) for field in\n",
    "                 ['threshold', 'outcome_probs', 'column_index']],\n",
    "                [-0.11048649, 2.0, 2.0]), \"Your fit method seem to have an error\"\n",
    "    assert np.allclose(tree.predict(df_test), [0., 0., 1., 0., 0.]),\\\n",
    "        \"Your predict method may be erroneous\"\n",
    "\n",
    "    X_train, X_test, y_train, y_test = create_datasets()\n",
    "    tree = Tree(criterion='gini', random_gen=np.random.default_rng(RANDOM_STATE))\n",
    "    tree.fit(X_train, y_train, max_depth=3, feature_frac=0.7)\n",
    "\n",
    "    assert np.allclose([sum_up_tree_values(tree, field) for field in\n",
    "                                    ['threshold', 'outcome_probs', 'column_index']],\n",
    "                       [0.28624208, 4.0, 28.0]), \"Your fit method seems to have an error\"\n",
    "\n",
    "    y_pred = tree.predict(X_test)\n",
    "    assert np.isclose(accuracy_score(y_test, y_pred), 0.78125), \\\n",
    "        \"Your tree is not accurate enough enough\"\n",
    "\n",
    "    print('\\033[92m All good!')\n",
    "\n",
    "\n",
    "def test_random_forest(clf):\n",
    "    X_train, X_test, y_train, y_test = create_datasets()\n",
    "    rng = np.random.default_rng(RANDOM_STATE)\n",
    "    model = clf(n_estimators=10, max_depth=4, feature_frac=None,\n",
    "                                   criterion=\"entropy\", random_gen=rng)\n",
    "    model.fit(X_train, y_train)\n",
    "\n",
    "    assert np.allclose([sum_up_forest_values(model, field) for field in\n",
    "                                    ['threshold', 'outcome_probs', 'column_index']],\n",
    "                       [-9.41975128, 45.0, 346.0]), \"Your fit method seems to have an error\"\n",
    "\n",
    "    y_pred = model.predict(X_test)\n",
    "    assert np.isclose(accuracy_score(y_test, y_pred), 0.71875), \\\n",
    "        \"Your classifier is not accurate enough\"\n",
    "    print('\\033[92m All good!')\n"
   ]
  },
  {
   "cell_type": "code",
   "execution_count": 3,
   "id": "6766e0e2",
   "metadata": {
    "ExecuteTime": {
     "end_time": "2022-01-17T20:27:52.169411Z",
     "start_time": "2022-01-17T20:27:52.156443Z"
    },
    "execution": {
     "iopub.execute_input": "2022-04-18T09:10:40.454715Z",
     "iopub.status.busy": "2022-04-18T09:10:40.454223Z",
     "iopub.status.idle": "2022-04-18T09:10:40.457729Z",
     "shell.execute_reply": "2022-04-18T09:10:40.457166Z"
    },
    "papermill": {
     "duration": 0.063069,
     "end_time": "2022-04-18T09:10:40.459565",
     "exception": false,
     "start_time": "2022-04-18T09:10:40.396496",
     "status": "completed"
    },
    "tags": []
   },
   "outputs": [],
   "source": [
    "RANDOM_STATE = 2020"
   ]
  },
  {
   "cell_type": "markdown",
   "id": "80ea349a",
   "metadata": {
    "papermill": {
     "duration": 0.055299,
     "end_time": "2022-04-18T09:10:40.570704",
     "exception": false,
     "start_time": "2022-04-18T09:10:40.515405",
     "status": "completed"
    },
    "tags": []
   },
   "source": [
    "# Preprocess data"
   ]
  },
  {
   "cell_type": "markdown",
   "id": "042938f2",
   "metadata": {
    "papermill": {
     "duration": 0.056288,
     "end_time": "2022-04-18T09:10:40.682871",
     "exception": false,
     "start_time": "2022-04-18T09:10:40.626583",
     "status": "completed"
    },
    "tags": []
   },
   "source": [
    "Read data and convert targets to integers 1 and 0."
   ]
  },
  {
   "cell_type": "code",
   "execution_count": 4,
   "id": "038d962c",
   "metadata": {
    "ExecuteTime": {
     "end_time": "2022-01-17T20:27:52.216149Z",
     "start_time": "2022-01-17T20:27:52.171403Z"
    },
    "execution": {
     "iopub.execute_input": "2022-04-18T09:10:40.799444Z",
     "iopub.status.busy": "2022-04-18T09:10:40.798936Z",
     "iopub.status.idle": "2022-04-18T09:10:40.861061Z",
     "shell.execute_reply": "2022-04-18T09:10:40.860221Z"
    },
    "papermill": {
     "duration": 0.121974,
     "end_time": "2022-04-18T09:10:40.863094",
     "exception": false,
     "start_time": "2022-04-18T09:10:40.741120",
     "status": "completed"
    },
    "tags": []
   },
   "outputs": [
    {
     "data": {
      "text/html": [
       "<div>\n",
       "<style scoped>\n",
       "    .dataframe tbody tr th:only-of-type {\n",
       "        vertical-align: middle;\n",
       "    }\n",
       "\n",
       "    .dataframe tbody tr th {\n",
       "        vertical-align: top;\n",
       "    }\n",
       "\n",
       "    .dataframe thead th {\n",
       "        text-align: right;\n",
       "    }\n",
       "</style>\n",
       "<table border=\"1\" class=\"dataframe\">\n",
       "  <thead>\n",
       "    <tr style=\"text-align: right;\">\n",
       "      <th></th>\n",
       "      <th>feat_0</th>\n",
       "      <th>feat_1</th>\n",
       "      <th>feat_2</th>\n",
       "      <th>feat_3</th>\n",
       "      <th>feat_4</th>\n",
       "      <th>feat_5</th>\n",
       "      <th>feat_6</th>\n",
       "      <th>feat_7</th>\n",
       "      <th>feat_8</th>\n",
       "      <th>feat_9</th>\n",
       "      <th>...</th>\n",
       "      <th>feat_51</th>\n",
       "      <th>feat_52</th>\n",
       "      <th>feat_53</th>\n",
       "      <th>feat_54</th>\n",
       "      <th>feat_55</th>\n",
       "      <th>feat_56</th>\n",
       "      <th>feat_57</th>\n",
       "      <th>feat_58</th>\n",
       "      <th>feat_59</th>\n",
       "      <th>target</th>\n",
       "    </tr>\n",
       "  </thead>\n",
       "  <tbody>\n",
       "    <tr>\n",
       "      <th>0</th>\n",
       "      <td>0.0200</td>\n",
       "      <td>0.0371</td>\n",
       "      <td>0.0428</td>\n",
       "      <td>0.0207</td>\n",
       "      <td>0.0954</td>\n",
       "      <td>0.0986</td>\n",
       "      <td>0.1539</td>\n",
       "      <td>0.1601</td>\n",
       "      <td>0.3109</td>\n",
       "      <td>0.2111</td>\n",
       "      <td>...</td>\n",
       "      <td>0.0027</td>\n",
       "      <td>0.0065</td>\n",
       "      <td>0.0159</td>\n",
       "      <td>0.0072</td>\n",
       "      <td>0.0167</td>\n",
       "      <td>0.0180</td>\n",
       "      <td>0.0084</td>\n",
       "      <td>0.0090</td>\n",
       "      <td>0.0032</td>\n",
       "      <td>0</td>\n",
       "    </tr>\n",
       "    <tr>\n",
       "      <th>1</th>\n",
       "      <td>0.0453</td>\n",
       "      <td>0.0523</td>\n",
       "      <td>0.0843</td>\n",
       "      <td>0.0689</td>\n",
       "      <td>0.1183</td>\n",
       "      <td>0.2583</td>\n",
       "      <td>0.2156</td>\n",
       "      <td>0.3481</td>\n",
       "      <td>0.3337</td>\n",
       "      <td>0.2872</td>\n",
       "      <td>...</td>\n",
       "      <td>0.0084</td>\n",
       "      <td>0.0089</td>\n",
       "      <td>0.0048</td>\n",
       "      <td>0.0094</td>\n",
       "      <td>0.0191</td>\n",
       "      <td>0.0140</td>\n",
       "      <td>0.0049</td>\n",
       "      <td>0.0052</td>\n",
       "      <td>0.0044</td>\n",
       "      <td>0</td>\n",
       "    </tr>\n",
       "    <tr>\n",
       "      <th>2</th>\n",
       "      <td>0.0262</td>\n",
       "      <td>0.0582</td>\n",
       "      <td>0.1099</td>\n",
       "      <td>0.1083</td>\n",
       "      <td>0.0974</td>\n",
       "      <td>0.2280</td>\n",
       "      <td>0.2431</td>\n",
       "      <td>0.3771</td>\n",
       "      <td>0.5598</td>\n",
       "      <td>0.6194</td>\n",
       "      <td>...</td>\n",
       "      <td>0.0232</td>\n",
       "      <td>0.0166</td>\n",
       "      <td>0.0095</td>\n",
       "      <td>0.0180</td>\n",
       "      <td>0.0244</td>\n",
       "      <td>0.0316</td>\n",
       "      <td>0.0164</td>\n",
       "      <td>0.0095</td>\n",
       "      <td>0.0078</td>\n",
       "      <td>0</td>\n",
       "    </tr>\n",
       "    <tr>\n",
       "      <th>3</th>\n",
       "      <td>0.0100</td>\n",
       "      <td>0.0171</td>\n",
       "      <td>0.0623</td>\n",
       "      <td>0.0205</td>\n",
       "      <td>0.0205</td>\n",
       "      <td>0.0368</td>\n",
       "      <td>0.1098</td>\n",
       "      <td>0.1276</td>\n",
       "      <td>0.0598</td>\n",
       "      <td>0.1264</td>\n",
       "      <td>...</td>\n",
       "      <td>0.0121</td>\n",
       "      <td>0.0036</td>\n",
       "      <td>0.0150</td>\n",
       "      <td>0.0085</td>\n",
       "      <td>0.0073</td>\n",
       "      <td>0.0050</td>\n",
       "      <td>0.0044</td>\n",
       "      <td>0.0040</td>\n",
       "      <td>0.0117</td>\n",
       "      <td>0</td>\n",
       "    </tr>\n",
       "    <tr>\n",
       "      <th>4</th>\n",
       "      <td>0.0762</td>\n",
       "      <td>0.0666</td>\n",
       "      <td>0.0481</td>\n",
       "      <td>0.0394</td>\n",
       "      <td>0.0590</td>\n",
       "      <td>0.0649</td>\n",
       "      <td>0.1209</td>\n",
       "      <td>0.2467</td>\n",
       "      <td>0.3564</td>\n",
       "      <td>0.4459</td>\n",
       "      <td>...</td>\n",
       "      <td>0.0031</td>\n",
       "      <td>0.0054</td>\n",
       "      <td>0.0105</td>\n",
       "      <td>0.0110</td>\n",
       "      <td>0.0015</td>\n",
       "      <td>0.0072</td>\n",
       "      <td>0.0048</td>\n",
       "      <td>0.0107</td>\n",
       "      <td>0.0094</td>\n",
       "      <td>0</td>\n",
       "    </tr>\n",
       "  </tbody>\n",
       "</table>\n",
       "<p>5 rows × 61 columns</p>\n",
       "</div>"
      ],
      "text/plain": [
       "   feat_0  feat_1  feat_2  feat_3  feat_4  feat_5  feat_6  feat_7  feat_8  \\\n",
       "0  0.0200  0.0371  0.0428  0.0207  0.0954  0.0986  0.1539  0.1601  0.3109   \n",
       "1  0.0453  0.0523  0.0843  0.0689  0.1183  0.2583  0.2156  0.3481  0.3337   \n",
       "2  0.0262  0.0582  0.1099  0.1083  0.0974  0.2280  0.2431  0.3771  0.5598   \n",
       "3  0.0100  0.0171  0.0623  0.0205  0.0205  0.0368  0.1098  0.1276  0.0598   \n",
       "4  0.0762  0.0666  0.0481  0.0394  0.0590  0.0649  0.1209  0.2467  0.3564   \n",
       "\n",
       "   feat_9  ...  feat_51  feat_52  feat_53  feat_54  feat_55  feat_56  feat_57  \\\n",
       "0  0.2111  ...   0.0027   0.0065   0.0159   0.0072   0.0167   0.0180   0.0084   \n",
       "1  0.2872  ...   0.0084   0.0089   0.0048   0.0094   0.0191   0.0140   0.0049   \n",
       "2  0.6194  ...   0.0232   0.0166   0.0095   0.0180   0.0244   0.0316   0.0164   \n",
       "3  0.1264  ...   0.0121   0.0036   0.0150   0.0085   0.0073   0.0050   0.0044   \n",
       "4  0.4459  ...   0.0031   0.0054   0.0105   0.0110   0.0015   0.0072   0.0048   \n",
       "\n",
       "   feat_58  feat_59  target  \n",
       "0   0.0090   0.0032       0  \n",
       "1   0.0052   0.0044       0  \n",
       "2   0.0095   0.0078       0  \n",
       "3   0.0040   0.0117       0  \n",
       "4   0.0107   0.0094       0  \n",
       "\n",
       "[5 rows x 61 columns]"
      ]
     },
     "execution_count": 4,
     "metadata": {},
     "output_type": "execute_result"
    }
   ],
   "source": [
    "PATH = 'data/'\n",
    "df = pd.read_csv('../input/sonardata/data.csv', header=None)\n",
    "df.columns = [f'feat_{col}' if col!=60 else 'target' for col in df.columns]\n",
    "df['target'] = df['target'].map({'M': 1, 'R': 0})\n",
    "df.head()"
   ]
  },
  {
   "cell_type": "markdown",
   "id": "080c3423",
   "metadata": {
    "papermill": {
     "duration": 0.057314,
     "end_time": "2022-04-18T09:10:40.978890",
     "exception": false,
     "start_time": "2022-04-18T09:10:40.921576",
     "status": "completed"
    },
    "tags": []
   },
   "source": [
    "# Split data (train and test)"
   ]
  },
  {
   "cell_type": "code",
   "execution_count": 5,
   "id": "d459ee7f",
   "metadata": {
    "ExecuteTime": {
     "end_time": "2022-01-17T20:27:52.230836Z",
     "start_time": "2022-01-17T20:27:52.217831Z"
    },
    "execution": {
     "iopub.execute_input": "2022-04-18T09:10:41.094515Z",
     "iopub.status.busy": "2022-04-18T09:10:41.093992Z",
     "iopub.status.idle": "2022-04-18T09:10:41.100377Z",
     "shell.execute_reply": "2022-04-18T09:10:41.099826Z"
    },
    "papermill": {
     "duration": 0.065765,
     "end_time": "2022-04-18T09:10:41.102136",
     "exception": false,
     "start_time": "2022-04-18T09:10:41.036371",
     "status": "completed"
    },
    "tags": []
   },
   "outputs": [],
   "source": [
    "X_train, X_test, y_train, y_test = train_test_split(df.drop(columns='target'), df['target'], test_size=0.2, random_state=RANDOM_STATE)"
   ]
  },
  {
   "cell_type": "markdown",
   "id": "70720ef8",
   "metadata": {
    "papermill": {
     "duration": 0.05597,
     "end_time": "2022-04-18T09:10:41.214574",
     "exception": false,
     "start_time": "2022-04-18T09:10:41.158604",
     "status": "completed"
    },
    "tags": []
   },
   "source": [
    "# Homework part 1. Implementation of Random Forest Classifier."
   ]
  },
  {
   "cell_type": "markdown",
   "id": "4a5bda09",
   "metadata": {
    "papermill": {
     "duration": 0.055939,
     "end_time": "2022-04-18T09:10:41.326787",
     "exception": false,
     "start_time": "2022-04-18T09:10:41.270848",
     "status": "completed"
    },
    "tags": []
   },
   "source": [
    "## Splitting criteria"
   ]
  },
  {
   "cell_type": "markdown",
   "id": "3bbc45f6",
   "metadata": {
    "papermill": {
     "duration": 0.055986,
     "end_time": "2022-04-18T09:10:41.439618",
     "exception": false,
     "start_time": "2022-04-18T09:10:41.383632",
     "status": "completed"
    },
    "tags": []
   },
   "source": [
    "**Task 1 - 2 points.** In this section you should implement two criteria for splitting of the feature space. Any of these can be used in the model."
   ]
  },
  {
   "cell_type": "markdown",
   "id": "bd315dc8",
   "metadata": {
    "papermill": {
     "duration": 0.055975,
     "end_time": "2022-04-18T09:10:41.551946",
     "exception": false,
     "start_time": "2022-04-18T09:10:41.495971",
     "status": "completed"
    },
    "tags": []
   },
   "source": [
    "### Gini index"
   ]
  },
  {
   "cell_type": "markdown",
   "id": "75001884",
   "metadata": {
    "papermill": {
     "duration": 0.056353,
     "end_time": "2022-04-18T09:10:41.664550",
     "exception": false,
     "start_time": "2022-04-18T09:10:41.608197",
     "status": "completed"
    },
    "tags": []
   },
   "source": [
    "0.5 points for *gini_index* function"
   ]
  },
  {
   "cell_type": "code",
   "execution_count": 6,
   "id": "0c4cc985",
   "metadata": {
    "ExecuteTime": {
     "end_time": "2022-01-17T20:27:52.246755Z",
     "start_time": "2022-01-17T20:27:52.231795Z"
    },
    "execution": {
     "iopub.execute_input": "2022-04-18T09:10:41.779944Z",
     "iopub.status.busy": "2022-04-18T09:10:41.779370Z",
     "iopub.status.idle": "2022-04-18T09:10:41.783863Z",
     "shell.execute_reply": "2022-04-18T09:10:41.783274Z"
    },
    "papermill": {
     "duration": 0.064744,
     "end_time": "2022-04-18T09:10:41.785691",
     "exception": false,
     "start_time": "2022-04-18T09:10:41.720947",
     "status": "completed"
    },
    "tags": []
   },
   "outputs": [],
   "source": [
    "def gini_index(x):\n",
    "    \"\"\" Calculate Gini Index for a node\n",
    "    Args:\n",
    "        x: Numpy-array of targets in a node\n",
    "    Returns:\n",
    "        float: Gini index\n",
    "    \"\"\"    \n",
    "    if len(x) == 0:\n",
    "        return 0\n",
    "    p = np.bincount(x) / len(x)\n",
    "    return 1 - np.sum(p * p)"
   ]
  },
  {
   "cell_type": "code",
   "execution_count": 7,
   "id": "2a706287",
   "metadata": {
    "ExecuteTime": {
     "end_time": "2022-01-17T20:27:52.372197Z",
     "start_time": "2022-01-17T20:27:52.248750Z"
    },
    "execution": {
     "iopub.execute_input": "2022-04-18T09:10:41.901627Z",
     "iopub.status.busy": "2022-04-18T09:10:41.901205Z",
     "iopub.status.idle": "2022-04-18T09:10:41.908573Z",
     "shell.execute_reply": "2022-04-18T09:10:41.907418Z"
    },
    "papermill": {
     "duration": 0.068303,
     "end_time": "2022-04-18T09:10:41.911422",
     "exception": false,
     "start_time": "2022-04-18T09:10:41.843119",
     "status": "completed"
    },
    "tags": []
   },
   "outputs": [
    {
     "name": "stdout",
     "output_type": "stream",
     "text": [
      "\u001b[92m All good!\n"
     ]
    }
   ],
   "source": [
    "test_gini_index(gini_index)"
   ]
  },
  {
   "cell_type": "markdown",
   "id": "2f28e183",
   "metadata": {
    "papermill": {
     "duration": 0.057926,
     "end_time": "2022-04-18T09:10:42.027050",
     "exception": false,
     "start_time": "2022-04-18T09:10:41.969124",
     "status": "completed"
    },
    "tags": []
   },
   "source": [
    "0.5 points for *gini_gain* function"
   ]
  },
  {
   "cell_type": "code",
   "execution_count": 8,
   "id": "7e8876ee",
   "metadata": {
    "ExecuteTime": {
     "end_time": "2022-01-17T20:27:52.374411Z",
     "start_time": "2022-01-17T20:27:51.226Z"
    },
    "execution": {
     "iopub.execute_input": "2022-04-18T09:10:42.145420Z",
     "iopub.status.busy": "2022-04-18T09:10:42.144836Z",
     "iopub.status.idle": "2022-04-18T09:10:42.150428Z",
     "shell.execute_reply": "2022-04-18T09:10:42.149778Z"
    },
    "papermill": {
     "duration": 0.065816,
     "end_time": "2022-04-18T09:10:42.152348",
     "exception": false,
     "start_time": "2022-04-18T09:10:42.086532",
     "status": "completed"
    },
    "tags": []
   },
   "outputs": [],
   "source": [
    "def gini_gain(parent_node, splits):\n",
    "    \"\"\" Calculate Gini Gain for a particular split\n",
    "    Args:\n",
    "        parent_node: Numpy-array of targets in a parent node\n",
    "        splits: List of two numpy-arrays. Each numpy-array is targets in a child node\n",
    "    Returns:\n",
    "        float: Gini gain\n",
    "    \"\"\"\n",
    "    s = 0\n",
    "    for i in splits:\n",
    "        s += np.sum(gini_index(i) * np.divide(len(i), len(parent_node)))\n",
    "    return gini_index(parent_node) - s"
   ]
  },
  {
   "cell_type": "code",
   "execution_count": 9,
   "id": "dcb0bfd2",
   "metadata": {
    "ExecuteTime": {
     "end_time": "2022-01-17T20:27:52.375408Z",
     "start_time": "2022-01-17T20:27:51.228Z"
    },
    "execution": {
     "iopub.execute_input": "2022-04-18T09:10:42.267834Z",
     "iopub.status.busy": "2022-04-18T09:10:42.267556Z",
     "iopub.status.idle": "2022-04-18T09:10:42.273113Z",
     "shell.execute_reply": "2022-04-18T09:10:42.272273Z"
    },
    "papermill": {
     "duration": 0.066032,
     "end_time": "2022-04-18T09:10:42.275666",
     "exception": false,
     "start_time": "2022-04-18T09:10:42.209634",
     "status": "completed"
    },
    "tags": []
   },
   "outputs": [
    {
     "name": "stdout",
     "output_type": "stream",
     "text": [
      "\u001b[92m All good!\n"
     ]
    }
   ],
   "source": [
    "test_gini_gain(gini_gain)"
   ]
  },
  {
   "cell_type": "markdown",
   "id": "23e3790f",
   "metadata": {
    "papermill": {
     "duration": 0.057043,
     "end_time": "2022-04-18T09:10:42.389482",
     "exception": false,
     "start_time": "2022-04-18T09:10:42.332439",
     "status": "completed"
    },
    "tags": []
   },
   "source": [
    "### Entropy"
   ]
  },
  {
   "cell_type": "markdown",
   "id": "06dd56c5",
   "metadata": {
    "papermill": {
     "duration": 0.057572,
     "end_time": "2022-04-18T09:10:42.503716",
     "exception": false,
     "start_time": "2022-04-18T09:10:42.446144",
     "status": "completed"
    },
    "tags": []
   },
   "source": [
    "0.5 points for *entropy* function. WARNING! Use only natural logarithm np.log() for calculation."
   ]
  },
  {
   "cell_type": "code",
   "execution_count": 10,
   "id": "6ef09083",
   "metadata": {
    "ExecuteTime": {
     "end_time": "2022-01-17T20:27:52.376406Z",
     "start_time": "2022-01-17T20:27:51.230Z"
    },
    "execution": {
     "iopub.execute_input": "2022-04-18T09:10:42.619062Z",
     "iopub.status.busy": "2022-04-18T09:10:42.618518Z",
     "iopub.status.idle": "2022-04-18T09:10:42.624593Z",
     "shell.execute_reply": "2022-04-18T09:10:42.623984Z"
    },
    "papermill": {
     "duration": 0.06616,
     "end_time": "2022-04-18T09:10:42.626627",
     "exception": false,
     "start_time": "2022-04-18T09:10:42.560467",
     "status": "completed"
    },
    "tags": []
   },
   "outputs": [],
   "source": [
    "def entropy(x):\n",
    "    \"\"\" Calculate Entropy for a node\n",
    "    Args:\n",
    "        x: Numpy-array of targets in a node\n",
    "    Returns:\n",
    "        float: Entropy\n",
    "    \"\"\"\n",
    "    # If you use vectorized operations on a vector of frequencies p\n",
    "    # where some of the relative frequencies may be 0, and you need to evaluate\n",
    "    # the expression p * np.log(p), you can use the \"where\" argument of the np.log() function.\n",
    "    # This will leave those elements of the array untouched by the function, \n",
    "    # thus evaluating x*log(x) as zero, exactly as we want it to be.\n",
    "    if len(x) == 0:\n",
    "        return 0\n",
    "    p = np.bincount(x) / len(x)\n",
    "    if np.all(np.log(p)) == 0:\n",
    "        return 0\n",
    "    else:\n",
    "        return -np.sum(p * np.log(p))"
   ]
  },
  {
   "cell_type": "code",
   "execution_count": 11,
   "id": "9e30274a",
   "metadata": {
    "ExecuteTime": {
     "end_time": "2022-01-17T20:27:52.376406Z",
     "start_time": "2022-01-17T20:27:51.233Z"
    },
    "execution": {
     "iopub.execute_input": "2022-04-18T09:10:42.743919Z",
     "iopub.status.busy": "2022-04-18T09:10:42.743594Z",
     "iopub.status.idle": "2022-04-18T09:10:42.750452Z",
     "shell.execute_reply": "2022-04-18T09:10:42.749321Z"
    },
    "papermill": {
     "duration": 0.067676,
     "end_time": "2022-04-18T09:10:42.752234",
     "exception": false,
     "start_time": "2022-04-18T09:10:42.684558",
     "status": "completed"
    },
    "tags": []
   },
   "outputs": [
    {
     "name": "stdout",
     "output_type": "stream",
     "text": [
      "\u001b[92m All good!\n"
     ]
    }
   ],
   "source": [
    "test_entropy(entropy)"
   ]
  },
  {
   "cell_type": "markdown",
   "id": "dfe5d06d",
   "metadata": {
    "papermill": {
     "duration": 0.05761,
     "end_time": "2022-04-18T09:10:42.868311",
     "exception": false,
     "start_time": "2022-04-18T09:10:42.810701",
     "status": "completed"
    },
    "tags": []
   },
   "source": [
    "0.5 points for *information_gain* function"
   ]
  },
  {
   "cell_type": "code",
   "execution_count": 12,
   "id": "c008ef01",
   "metadata": {
    "ExecuteTime": {
     "end_time": "2022-01-17T20:27:52.377403Z",
     "start_time": "2022-01-17T20:27:51.234Z"
    },
    "execution": {
     "iopub.execute_input": "2022-04-18T09:10:42.987112Z",
     "iopub.status.busy": "2022-04-18T09:10:42.986290Z",
     "iopub.status.idle": "2022-04-18T09:10:42.991318Z",
     "shell.execute_reply": "2022-04-18T09:10:42.990752Z"
    },
    "papermill": {
     "duration": 0.067,
     "end_time": "2022-04-18T09:10:42.993197",
     "exception": false,
     "start_time": "2022-04-18T09:10:42.926197",
     "status": "completed"
    },
    "tags": []
   },
   "outputs": [],
   "source": [
    "def information_gain(parent_node, splits):\n",
    "    \"\"\" Calculate Information Gain for a particular split\n",
    "    Args:\n",
    "        parent_node: Numpy-array of targets in a parent node\n",
    "        splits: List of two numpy-arrays. Each numpy-array is targets in a child node\n",
    "    Returns:\n",
    "        float: Information Gain\n",
    "    \"\"\"\n",
    "    \n",
    "    s = 0\n",
    "    for i in splits:\n",
    "        s += np.sum(entropy(i) * np.divide(len(i), len(parent_node)))\n",
    "    return entropy(parent_node) - s"
   ]
  },
  {
   "cell_type": "code",
   "execution_count": 13,
   "id": "635ce5de",
   "metadata": {
    "ExecuteTime": {
     "end_time": "2022-01-17T20:27:52.378400Z",
     "start_time": "2022-01-17T20:27:51.236Z"
    },
    "execution": {
     "iopub.execute_input": "2022-04-18T09:10:43.111063Z",
     "iopub.status.busy": "2022-04-18T09:10:43.110249Z",
     "iopub.status.idle": "2022-04-18T09:10:43.116104Z",
     "shell.execute_reply": "2022-04-18T09:10:43.114974Z"
    },
    "papermill": {
     "duration": 0.068585,
     "end_time": "2022-04-18T09:10:43.119718",
     "exception": false,
     "start_time": "2022-04-18T09:10:43.051133",
     "status": "completed"
    },
    "tags": []
   },
   "outputs": [
    {
     "name": "stdout",
     "output_type": "stream",
     "text": [
      "\u001b[92m All good!\n"
     ]
    }
   ],
   "source": [
    "test_information_gain(information_gain)"
   ]
  },
  {
   "cell_type": "markdown",
   "id": "0fe24470",
   "metadata": {
    "papermill": {
     "duration": 0.059179,
     "end_time": "2022-04-18T09:10:43.239709",
     "exception": false,
     "start_time": "2022-04-18T09:10:43.180530",
     "status": "completed"
    },
    "tags": []
   },
   "source": [
    "## Split function"
   ]
  },
  {
   "cell_type": "markdown",
   "id": "c3c9f490",
   "metadata": {
    "papermill": {
     "duration": 0.057578,
     "end_time": "2022-04-18T09:10:43.354994",
     "exception": false,
     "start_time": "2022-04-18T09:10:43.297416",
     "status": "completed"
    },
    "tags": []
   },
   "source": [
    "**Task 2 - 1 point** Implement *split_dataset* function. <br>\n",
    "The rows of the dataframe received by a tree node are split into two dataframes depending on their values in a selected column. Rows with values smaller than the chosen threshold are stored in the resulting left dataframe, and we save rows with values larger than the threshold in the right dataframe. The array with target values should be split in accordance with the feature dataframe."
   ]
  },
  {
   "cell_type": "code",
   "execution_count": 14,
   "id": "5bf83a44",
   "metadata": {
    "execution": {
     "iopub.execute_input": "2022-04-18T09:10:43.474133Z",
     "iopub.status.busy": "2022-04-18T09:10:43.473849Z",
     "iopub.status.idle": "2022-04-18T09:10:43.481094Z",
     "shell.execute_reply": "2022-04-18T09:10:43.480370Z"
    },
    "papermill": {
     "duration": 0.067749,
     "end_time": "2022-04-18T09:10:43.482873",
     "exception": false,
     "start_time": "2022-04-18T09:10:43.415124",
     "status": "completed"
    },
    "tags": []
   },
   "outputs": [],
   "source": [
    "def split(X, y, value):\n",
    "    \"\"\" Split y-values in order to calculate gain later\n",
    "    Args:\n",
    "        X: 1-dimensional numpy-array of data predictor with shape (N,)\n",
    "        y: 1-dimensional numpy-array of targets with shape (N,)\n",
    "        value (float): the value by which the X should be splitted\n",
    "    Returns:\n",
    "        Two 1-dimensional numpy-arrays with targets related to splits\n",
    "    \"\"\"      \n",
    "    left_mask = X < value\n",
    "    right_mask = X >= value\n",
    "    return y[left_mask], y[right_mask]\n",
    "\n",
    "\n",
    "def split_dataset(X, y, column, value):\n",
    "    \"\"\" Split dataset by a particular column and value\n",
    "    Args:\n",
    "        X: 2-dimensional numpy-array (N, num_feats). N-number of samples\n",
    "        y: 1-dimensional numpy-array of targets with shape (N,)  \n",
    "        column (int): the column by which the X should be splitted\n",
    "        value (float): the value by which the column should be splitted\n",
    "    Returns:\n",
    "        Two 2-dimensional numpy-arrays with data and two 1-dimensional numpy-arrays with targets related to splits\n",
    "        left_X, right_X, left_y, right_y\n",
    "    \"\"\"       \n",
    "    left_mask = X[:, column] < value\n",
    "    right_mask = X[:, column] >= value\n",
    "    left_y, right_y = y[left_mask], y[right_mask]\n",
    "    left_X, right_X = X[left_mask], X[right_mask]\n",
    "    return left_X, right_X, left_y, right_y"
   ]
  },
  {
   "cell_type": "code",
   "execution_count": 15,
   "id": "c09ad331",
   "metadata": {
    "ExecuteTime": {
     "end_time": "2022-01-17T20:27:52.380396Z",
     "start_time": "2022-01-17T20:27:51.240Z"
    },
    "execution": {
     "iopub.execute_input": "2022-04-18T09:10:43.600011Z",
     "iopub.status.busy": "2022-04-18T09:10:43.599498Z",
     "iopub.status.idle": "2022-04-18T09:10:43.603988Z",
     "shell.execute_reply": "2022-04-18T09:10:43.603379Z"
    },
    "papermill": {
     "duration": 0.066404,
     "end_time": "2022-04-18T09:10:43.606794",
     "exception": false,
     "start_time": "2022-04-18T09:10:43.540390",
     "status": "completed"
    },
    "tags": []
   },
   "outputs": [
    {
     "name": "stdout",
     "output_type": "stream",
     "text": [
      "\u001b[92m All good!\n"
     ]
    }
   ],
   "source": [
    "test_split_dataset(split_dataset)"
   ]
  },
  {
   "cell_type": "markdown",
   "id": "e2584b64",
   "metadata": {
    "papermill": {
     "duration": 0.057825,
     "end_time": "2022-04-18T09:10:43.723946",
     "exception": false,
     "start_time": "2022-04-18T09:10:43.666121",
     "status": "completed"
    },
    "tags": []
   },
   "source": [
    "## Decision tree"
   ]
  },
  {
   "cell_type": "markdown",
   "id": "459860f0",
   "metadata": {
    "papermill": {
     "duration": 0.058429,
     "end_time": "2022-04-18T09:10:43.840035",
     "exception": false,
     "start_time": "2022-04-18T09:10:43.781606",
     "status": "completed"
    },
    "tags": []
   },
   "source": [
    "**Task 3 - 4.5 points** In the Tree class below you need to complete the *fit(), predict_row()* and *predict()* functions.<br>\n",
    "Each tree is basically a tree node that may have a left and a right child that are also trees. If a tree doesn't have any child nodes, we call it a leaf.<br>\n",
    "Since features for splitting a dataframe are chosen randomly, we need a mechanism to control this randomness to aquire reproducibility for testing purposes. In our case we use the [Random Generator](https://numpy.org/doc/stable/reference/random/generator.html)<br>\n",
    "By creation of a tree only the **criterion** and the **rng** fields are not filled with Nones, so each tree knows what criterion for dataframe splitting it should use. Each fitted tree knows as well by which column and value the split should be performed. If a tree is a leaf it doesn't have information about the split, but stores the predicted value."
   ]
  },
  {
   "cell_type": "code",
   "execution_count": 16,
   "id": "3d6de231",
   "metadata": {
    "ExecuteTime": {
     "end_time": "2022-01-17T22:03:37.866634Z",
     "start_time": "2022-01-17T22:03:37.816038Z"
    },
    "execution": {
     "iopub.execute_input": "2022-04-18T09:10:43.959932Z",
     "iopub.status.busy": "2022-04-18T09:10:43.959405Z",
     "iopub.status.idle": "2022-04-18T09:10:43.985206Z",
     "shell.execute_reply": "2022-04-18T09:10:43.984460Z"
    },
    "papermill": {
     "duration": 0.088384,
     "end_time": "2022-04-18T09:10:43.987446",
     "exception": false,
     "start_time": "2022-04-18T09:10:43.899062",
     "status": "completed"
    },
    "tags": []
   },
   "outputs": [],
   "source": [
    "class Tree(object):\n",
    "    \"\"\"A decision tree classifier.\n",
    "\n",
    "    Args:\n",
    "        criterion : {\"gini\", \"entropy\"}, default=\"gini\"\n",
    "            The function to measure the quality of a split. Supported criteria are\n",
    "            \"gini\" for the Gini impurity and \"entropy\" for the information gain.\n",
    "        random_gen: numpy Random Generator object, default=None\n",
    "            Generator should be passed over for reproducible results. If None, \n",
    "            a new np.random.default_rng() will be created.\n",
    "    \"\"\"\n",
    "    def __init__(self, criterion='gini', random_gen=None):\n",
    "        if criterion not in [\"gini\", \"entropy\"]:\n",
    "            raise ValueError(f'Unknown criteria for splits {criterion}')\n",
    "        self.criterion = criterion\n",
    "        self.threshold = None           # value of the next split\n",
    "        self.column_index = None        # column to use for the next split\n",
    "        self.outcome_probs = None       # the predicted value if the tree is a leaf\n",
    "        self.left_child = None\n",
    "        self.right_child = None\n",
    "        self.rng = random_gen if random_gen is not None else np.random.default_rng()\n",
    "\n",
    "    @property\n",
    "    def is_terminal(self):\n",
    "        \"\"\"Define is it terminal node.\"\"\"          \n",
    "        return not bool(self.left_child and self.right_child)\n",
    "    \n",
    "    def _compute_gain(self, y, splits):\n",
    "        \"\"\"Compute split gain according to chosen criteria.\"\"\"\n",
    "        func = gini_gain if self.criterion == 'gini' else information_gain\n",
    "        return func(y, splits)\n",
    "\n",
    "    def _find_splits(self, X):\n",
    "        \"\"\"Find all possible split values.\"\"\"\n",
    "        split_values = set()\n",
    "\n",
    "        # Get unique values in a sorted order\n",
    "        x_unique = list(np.unique(X))\n",
    "        for i in range(1, len(x_unique)):\n",
    "            # Find a point between two values\n",
    "            average = (x_unique[i - 1] + x_unique[i]) / 2.0\n",
    "            split_values.add(average)\n",
    "\n",
    "        return list(split_values)\n",
    "\n",
    "    def _find_best_split(self, X, y, n_features):\n",
    "        \"\"\"Find best feature and value for a split. Greedy algorithm.\"\"\"\n",
    "        # Sample random subset of features\n",
    "        subset = self.rng.choice(list(range(0, X.shape[1])), n_features, replace=False)\n",
    "\n",
    "        max_gain, max_col, max_val = None, None, None\n",
    "\n",
    "        for column in subset:\n",
    "            split_values = self._find_splits(X[:, column])\n",
    "            for value in split_values:\n",
    "                splits = split(X[:, column], y, value)\n",
    "                gain = self._compute_gain(y, splits)\n",
    "\n",
    "                if (max_gain is None) or (gain > max_gain):\n",
    "                    max_col, max_val, max_gain = column, value, gain\n",
    "        return max_col, max_val, max_gain\n",
    "    \n",
    "    def _compute_outcome(self, y):\n",
    "        \"\"\"Save outcome probabilities for the leaf.\"\"\"\n",
    "        self.outcome_probs = np.around(np.sum(y) / y.shape[0])\n",
    "\n",
    "    def fit(self, X, y, feature_frac=1.0, max_depth=None):\n",
    "        \"\"\"Fit model.\n",
    "\n",
    "        Args:\n",
    "            X (numpy-array):      The training input samples. 2-dimensional numpy array.\n",
    "            y (numpy-array):      The target values. 1-dimensional numpy array.\n",
    "            feature_frac (float): The fraction of features to use when fit is performed. Must be \n",
    "                                  between 0.0 and 1.0 (default: 1.0, i.e. all features).\n",
    "            max_depth (int):      The maximum depth of the tree. If None, then nodes are expanded\n",
    "                                  until all leaves are pure.\n",
    "        \"\"\"\n",
    "        # 3 points\n",
    "        \n",
    "        # Make this tree a leaf and return if max_depth doesn't allow it to grow further\n",
    "        if max_depth is not None and max_depth == 0:\n",
    "            self.left_child = None\n",
    "            self.right_child = None\n",
    "            self.outcome_probs = np.argmax(np.bincount(y))\n",
    "            return\n",
    "        \n",
    "        if not 0.0 <= feature_frac <= 1.0:\n",
    "            raise ValueError('feature_frac must lie between 0.0 and 1.0')\n",
    "        # Compute the number of features to use. Should be integer number\n",
    "        n_features = int(X.shape[1]*feature_frac)\n",
    "        \n",
    "        # Find the next split    \n",
    "        column, value, gain = self._find_best_split(X, y, n_features)\n",
    "        \n",
    "        # Make this tree a leaf and return if the split doesn't bring any gain\n",
    "        if gain is None or gain == 0:\n",
    "            self.left_child = None\n",
    "            self.right_child = None\n",
    "            self.outcome_probs = np.argmax(np.bincount(y))\n",
    "            return\n",
    "        \n",
    "        # Save the necessary information about the next split\n",
    "        self.threshold = value\n",
    "        self.column_index = column\n",
    "        \n",
    "        # Reduce the max_depth parameter for the next tree\n",
    "        if max_depth is not None:\n",
    "            max_depth -= 1\n",
    "\n",
    "        # Split dataset\n",
    "        left_X, right_X, left_target, right_target = split_dataset(X, y, column, value)\n",
    "\n",
    "        # Grow left and right child. Pass over the parent's random generator\n",
    "        # for reproducible results \n",
    "        self.left_child = Tree(criterion = self.criterion, random_gen = self.rng)\n",
    "        self.left_child.fit(left_X, left_target, max_depth=max_depth, feature_frac=feature_frac)\n",
    "        self.right_child = Tree(criterion = self.criterion, random_gen = self.rng)\n",
    "        self.right_child.fit(right_X, right_target, max_depth=max_depth, feature_frac=feature_frac)\n",
    "\n",
    "    def predict_row(self, row):\n",
    "        \"\"\"Predict single row.\"\"\"\n",
    "        # 0.5 points\n",
    "        \n",
    "        if not self.is_terminal:\n",
    "            # Use the stored information about the split to define \n",
    "            # if the right or the left child to use\n",
    "            if row[self.column_index] < self.threshold:\n",
    "                return self.left_child.predict_row(row)\n",
    "            else:\n",
    "                return self.right_child.predict_row(row)\n",
    "        return self.outcome_probs\n",
    "\n",
    "    def predict(self, X):\n",
    "        \"\"\"Make predictions.\n",
    "\n",
    "        Args:\n",
    "            X (numpy-array): The test input samples. 2-dimensional numpy array.\n",
    "        Returns:\n",
    "            1-dimensional numpy-array with predictions     \n",
    "        \"\"\" \n",
    "        # 1 point\n",
    "        result = np.zeros(X.shape[0])\n",
    "        for i in range(len(X)):\n",
    "            result[i] = self.predict_row(X[i])\n",
    "        return result"
   ]
  },
  {
   "cell_type": "code",
   "execution_count": 17,
   "id": "0ec81161",
   "metadata": {
    "ExecuteTime": {
     "end_time": "2022-01-17T20:27:52.381392Z",
     "start_time": "2022-01-17T20:27:51.244Z"
    },
    "execution": {
     "iopub.execute_input": "2022-04-18T09:10:44.108639Z",
     "iopub.status.busy": "2022-04-18T09:10:44.108226Z",
     "iopub.status.idle": "2022-04-18T09:10:44.311718Z",
     "shell.execute_reply": "2022-04-18T09:10:44.311097Z"
    },
    "papermill": {
     "duration": 0.265281,
     "end_time": "2022-04-18T09:10:44.313755",
     "exception": false,
     "start_time": "2022-04-18T09:10:44.048474",
     "status": "completed"
    },
    "tags": []
   },
   "outputs": [
    {
     "name": "stdout",
     "output_type": "stream",
     "text": [
      "\u001b[92m All good!\n"
     ]
    }
   ],
   "source": [
    "test_tree(Tree)"
   ]
  },
  {
   "cell_type": "markdown",
   "id": "753a1fb6",
   "metadata": {
    "papermill": {
     "duration": 0.059879,
     "end_time": "2022-04-18T09:10:44.432737",
     "exception": false,
     "start_time": "2022-04-18T09:10:44.372858",
     "status": "completed"
    },
    "tags": []
   },
   "source": [
    "**Task 4 - 1 point** Fit two models with \"max_depth=3\" and \"max_depth=None\" hyperparameters. **Explain** the results."
   ]
  },
  {
   "cell_type": "code",
   "execution_count": 18,
   "id": "81a1e10b",
   "metadata": {
    "ExecuteTime": {
     "end_time": "2022-01-17T20:27:52.382390Z",
     "start_time": "2022-01-17T20:27:51.246Z"
    },
    "execution": {
     "iopub.execute_input": "2022-04-18T09:10:44.554547Z",
     "iopub.status.busy": "2022-04-18T09:10:44.554025Z",
     "iopub.status.idle": "2022-04-18T09:10:50.366221Z",
     "shell.execute_reply": "2022-04-18T09:10:50.365545Z"
    },
    "papermill": {
     "duration": 5.875718,
     "end_time": "2022-04-18T09:10:50.368195",
     "exception": false,
     "start_time": "2022-04-18T09:10:44.492477",
     "status": "completed"
    },
    "tags": []
   },
   "outputs": [
    {
     "name": "stdout",
     "output_type": "stream",
     "text": [
      "Accuracy score (train) for model with max_depth 3 = 0.927710843373494\n",
      "Accuracy score (test) for model with max_depth 3 = 0.6666666666666666\n",
      "Accuracy score (train) for model with max_depth None = 1.0\n",
      "Accuracy score (test) for model with max_depth None = 0.6666666666666666\n"
     ]
    }
   ],
   "source": [
    "model_with_depth_3 = Tree(criterion = 'gini')\n",
    "model_with_depth_3.fit(X_train.values, y_train.values, max_depth = 3)\n",
    "model_with_depth_3_acc_score_train = accuracy_score(y_train, model_with_depth_3.predict(X_train.values))\n",
    "y_pred = model_with_depth_3.predict(X_test.values)\n",
    "model_with_depth_3_acc_score_test = accuracy_score(y_test, y_pred)\n",
    "\n",
    "model_with_depth_none = Tree(criterion = 'gini')\n",
    "model_with_depth_none.fit(X_train.values, y_train.values)\n",
    "model_with_depth_none_acc_score_train = accuracy_score(y_train, model_with_depth_none.predict(X_train.values))\n",
    "y_pred = model_with_depth_none.predict(X_test.values)\n",
    "model_with_depth_none_acc_score_test = accuracy_score(y_test, y_pred)\n",
    "\n",
    "print('Accuracy score (train) for model with max_depth 3 = ' + str(model_with_depth_3_acc_score_train))\n",
    "print('Accuracy score (test) for model with max_depth 3 = ' + str(model_with_depth_3_acc_score_test))\n",
    "print('Accuracy score (train) for model with max_depth None = ' + str(model_with_depth_none_acc_score_train))\n",
    "print('Accuracy score (test) for model with max_depth None = ' + str(model_with_depth_none_acc_score_test))"
   ]
  },
  {
   "cell_type": "markdown",
   "id": "8a29bc4f",
   "metadata": {
    "papermill": {
     "duration": 0.059936,
     "end_time": "2022-04-18T09:10:50.487547",
     "exception": false,
     "start_time": "2022-04-18T09:10:50.427611",
     "status": "completed"
    },
    "tags": []
   },
   "source": [
    "> #### Conclusion\n",
    "> As you can see in the output above, the model with none depth is overfitting on the train data, however the accuracy score on the test data is better when the constraint for depth (e.g., 3) is set.\n"
   ]
  },
  {
   "cell_type": "code",
   "execution_count": 19,
   "id": "560aa189",
   "metadata": {
    "ExecuteTime": {
     "end_time": "2022-01-17T20:27:52.384384Z",
     "start_time": "2022-01-17T20:27:51.249Z"
    },
    "execution": {
     "iopub.execute_input": "2022-04-18T09:10:50.607141Z",
     "iopub.status.busy": "2022-04-18T09:10:50.606834Z",
     "iopub.status.idle": "2022-04-18T09:10:50.615839Z",
     "shell.execute_reply": "2022-04-18T09:10:50.615073Z"
    },
    "papermill": {
     "duration": 0.071476,
     "end_time": "2022-04-18T09:10:50.617706",
     "exception": false,
     "start_time": "2022-04-18T09:10:50.546230",
     "status": "completed"
    },
    "tags": []
   },
   "outputs": [],
   "source": [
    "def plot_metrics_on_depths(criterion='gini'):\n",
    "    max_depths, train_scores, test_scores = [], [], []\n",
    "    for max_depth in range(0, 8):\n",
    "        max_depths.append(max_depth)\n",
    "        model = Tree(criterion=criterion)\n",
    "        model.fit(X_train.values, y_train.values, max_depth=max_depth)\n",
    "        train_scores.append(accuracy_score(y_train, model.predict(X_train.values)))\n",
    "        y_pred = model.predict(X_test.values)\n",
    "        test_scores.append(accuracy_score(y_test, y_pred))\n",
    "    res_metrics = pd.DataFrame(data={'train': train_scores, 'test': test_scores}, index=max_depths)\n",
    "    sns.set(rc={'figure.figsize':(16, 6)})\n",
    "    plt.plot(res_metrics['train'], label='train score')\n",
    "    plt.plot(res_metrics['test'], label='test score')\n",
    "    plt.title(\"Accuracy as a function of max_depth\")\n",
    "    plt.xlabel('max_depth')\n",
    "    plt.ylabel('accuracy')\n",
    "    plt.legend()\n",
    "    plt.show();"
   ]
  },
  {
   "cell_type": "code",
   "execution_count": 20,
   "id": "c52ca069",
   "metadata": {
    "ExecuteTime": {
     "end_time": "2022-01-17T20:27:52.384384Z",
     "start_time": "2022-01-17T20:27:51.250Z"
    },
    "execution": {
     "iopub.execute_input": "2022-04-18T09:10:50.737334Z",
     "iopub.status.busy": "2022-04-18T09:10:50.737058Z",
     "iopub.status.idle": "2022-04-18T09:11:08.389782Z",
     "shell.execute_reply": "2022-04-18T09:11:08.388044Z"
    },
    "papermill": {
     "duration": 17.715922,
     "end_time": "2022-04-18T09:11:08.392804",
     "exception": false,
     "start_time": "2022-04-18T09:10:50.676882",
     "status": "completed"
    },
    "tags": []
   },
   "outputs": [
    {
     "data": {
      "image/png": "[encoded data removed]",
      "text/plain": [
       "<Figure size 1152x432 with 1 Axes>"
      ]
     },
     "metadata": {},
     "output_type": "display_data"
    }
   ],
   "source": [
    "plot_metrics_on_depths('gini')"
   ]
  },
  {
   "cell_type": "code",
   "execution_count": 21,
   "id": "968b9798",
   "metadata": {
    "ExecuteTime": {
     "end_time": "2022-01-17T20:27:52.385383Z",
     "start_time": "2022-01-17T20:27:51.252Z"
    },
    "execution": {
     "iopub.execute_input": "2022-04-18T09:11:08.517075Z",
     "iopub.status.busy": "2022-04-18T09:11:08.516498Z",
     "iopub.status.idle": "2022-04-18T09:11:30.337503Z",
     "shell.execute_reply": "2022-04-18T09:11:30.336867Z"
    },
    "papermill": {
     "duration": 21.886109,
     "end_time": "2022-04-18T09:11:30.339513",
     "exception": false,
     "start_time": "2022-04-18T09:11:08.453404",
     "status": "completed"
    },
    "tags": []
   },
   "outputs": [
    {
     "data": {
      "image/png": "[encoded data removed]",
      "text/plain": [
       "<Figure size 1152x432 with 1 Axes>"
      ]
     },
     "metadata": {},
     "output_type": "display_data"
    }
   ],
   "source": [
    "plot_metrics_on_depths('entropy')"
   ]
  },
  {
   "cell_type": "markdown",
   "id": "36e6e5e5",
   "metadata": {
    "papermill": {
     "duration": 0.062728,
     "end_time": "2022-04-18T09:11:30.464027",
     "exception": false,
     "start_time": "2022-04-18T09:11:30.401299",
     "status": "completed"
    },
    "tags": []
   },
   "source": [
    "## Random forest"
   ]
  },
  {
   "cell_type": "markdown",
   "id": "2946be99",
   "metadata": {
    "papermill": {
     "duration": 0.06317,
     "end_time": "2022-04-18T09:11:30.589575",
     "exception": false,
     "start_time": "2022-04-18T09:11:30.526405",
     "status": "completed"
    },
    "tags": []
   },
   "source": [
    "**Task 5 - 1.5 Points** In the RandomForestClassifier class below you need to complete the *fit* and *predict()* functions"
   ]
  },
  {
   "cell_type": "code",
   "execution_count": 22,
   "id": "9a055e37",
   "metadata": {
    "ExecuteTime": {
     "end_time": "2022-01-17T22:16:11.657659Z",
     "start_time": "2022-01-17T22:16:11.627802Z"
    },
    "execution": {
     "iopub.execute_input": "2022-04-18T09:11:30.717682Z",
     "iopub.status.busy": "2022-04-18T09:11:30.716798Z",
     "iopub.status.idle": "2022-04-18T09:11:30.735886Z",
     "shell.execute_reply": "2022-04-18T09:11:30.735265Z"
    },
    "papermill": {
     "duration": 0.085393,
     "end_time": "2022-04-18T09:11:30.738159",
     "exception": false,
     "start_time": "2022-04-18T09:11:30.652766",
     "status": "completed"
    },
    "tags": []
   },
   "outputs": [],
   "source": [
    "class RandomForestClassifier(object):\n",
    "    \"\"\"\n",
    "    A random forest classifier.\n",
    "    A random forest is a meta estimator that fits a number of decision tree\n",
    "    classifiers on various sub-samples of the dataset and uses averaging to\n",
    "    improve the predictive accuracy and control overfitting.\n",
    "    \n",
    "    Args:\n",
    "        n_estimators : int, default=10\n",
    "            The number of trees in the forest.\n",
    "\n",
    "        max_depth : int, default=None\n",
    "            The maximum depth of the tree. If None, then nodes are expanded until\n",
    "            all leaves are pure.        \n",
    "\n",
    "        feature_frac : float, default=None\n",
    "            The fraction of features to use when looking for the best split. Must be \n",
    "            between 0.0 and 1.0. If None, then `feature_frac = 1 / sqrt(n_features)`.\n",
    "\n",
    "        criterion : {\"gini\", \"entropy\"}, default=\"gini\"\n",
    "            The function to measure the quality of a split. Supported criteria are\n",
    "            \"gini\" for the Gini impurity and \"entropy\" for the information gain.\n",
    "            \n",
    "        random_gen: numpy Random Generator object, default=None\n",
    "            Generator should be passed over for reproducible results. If None, \n",
    "            a new np.random.default_rng() will be created.\n",
    "    \"\"\"\n",
    "\n",
    "    def __init__(self, n_estimators=10, max_depth=None, feature_frac=None, \n",
    "                 criterion=\"entropy\", bootstrap=True, random_gen=None):\n",
    "        self.n_estimators = n_estimators\n",
    "        self.max_depth = max_depth\n",
    "        self.bootstrap = bootstrap\n",
    "        self.feature_frac = feature_frac\n",
    "        \n",
    "        if criterion not in [\"gini\", \"entropy\"]:\n",
    "            raise ValueError(f'Unknown criteria for splits {criterion}')\n",
    "        self.criterion = criterion\n",
    "        \n",
    "        self.rng = random_gen if random_gen is not None else np.random.default_rng()\n",
    "        self.trees = [Tree(criterion=self.criterion, random_gen=self.rng) \n",
    "                            for _ in range(n_estimators)]\n",
    "        \n",
    "    def _init_data(self, X, y):\n",
    "        \"\"\"Ensure data are in the expected format.\n",
    "        Ensures X and y are stored as numpy ndarrays by converting from an\n",
    "        array-like object if necessary. \n",
    "        Parameters\n",
    "        Args:\n",
    "            X : array-like\n",
    "                Feature dataset.\n",
    "            y : array-like, default=None\n",
    "                Target values. By default is required, but if y_required = false\n",
    "                then may be omitted.\n",
    "        \"\"\"\n",
    "        self.size = len(X)\n",
    "        \n",
    "        if not isinstance(X, np.ndarray):\n",
    "            self.X = np.array(X)\n",
    "        else:\n",
    "            self.X = X\n",
    "\n",
    "        if not isinstance(y, np.ndarray):\n",
    "            self.y = np.array(y)\n",
    "        else:\n",
    "            self.y = y\n",
    "            \n",
    "    def bootstrap_data(self, size):\n",
    "        return self.rng.integers(size, size=size)\n",
    "    \n",
    "    def fit(self, X, y):\n",
    "        \"\"\"Fit model.\n",
    "\n",
    "        Args:\n",
    "            X (numpy-array): The training input samples. 2-dimensional numpy array.\n",
    "            y (numpy-array): The target values. 1-dimensional numpy array.\n",
    "        \"\"\"\n",
    "        # 0.5 points\n",
    "        \n",
    "        if self.feature_frac is None:\n",
    "            self.feature_frac = 1 / np.sqrt(X.shape[1])\n",
    "        elif not 0.0 <= self.feature_frac <= 1.0:\n",
    "            raise ValueError('feature_frac must lie between 0.0 and 1.0')\n",
    "            \n",
    "        self._init_data(X, y)\n",
    "        \n",
    "        # Iterate over all trees in the forest\n",
    "        for tree in None:\n",
    "            if self.bootstrap:\n",
    "                idxs = self.bootstrap_data(self.size)\n",
    "                X = self.X[idxs]\n",
    "                y = self.y[idxs]\n",
    "            else:\n",
    "                X = self.X\n",
    "                y = self.y\n",
    "                \n",
    "            # Fit the tree    \n",
    "            pass\n",
    "            \n",
    "    def predict(self, X):\n",
    "        \"\"\"Make predictions.\n",
    "\n",
    "        Args:\n",
    "            X (numpy-array): The test data input samples. 2-dimensional numpy array.\n",
    "        \"\"\"\n",
    "        # 1 point\n",
    "        \n",
    "        if not isinstance(X, np.ndarray):\n",
    "            X = np.array(X)\n",
    "\n",
    "        if self.X is not None:\n",
    "            # Create a numpy array of zeros of necessary length\n",
    "            predictions = None\n",
    "            # Go through all rows of the dataset\n",
    "            for i in None:\n",
    "                # Initialize a counter for voting\n",
    "                row_pred = None\n",
    "                # Sum up predictions from all the voters\n",
    "                for tree in None:\n",
    "                    pass\n",
    "                # Compute the mean of the votes    \n",
    "                row_pred = None\n",
    "                # Save the rounded value as the prediction for the current row\n",
    "                pass\n",
    "            return predictions  \n",
    "        else:\n",
    "            raise ValueError(\"You should fit a model before `predict`\")"
   ]
  },
  {
   "cell_type": "code",
   "execution_count": 23,
   "id": "f64de01a",
   "metadata": {
    "ExecuteTime": {
     "end_time": "2022-01-17T20:27:52.387491Z",
     "start_time": "2022-01-17T20:27:51.255Z"
    },
    "execution": {
     "iopub.execute_input": "2022-04-18T09:11:30.864237Z",
     "iopub.status.busy": "2022-04-18T09:11:30.863671Z",
     "iopub.status.idle": "2022-04-18T09:11:30.867028Z",
     "shell.execute_reply": "2022-04-18T09:11:30.866341Z"
    },
    "papermill": {
     "duration": 0.068678,
     "end_time": "2022-04-18T09:11:30.868808",
     "exception": false,
     "start_time": "2022-04-18T09:11:30.800130",
     "status": "completed"
    },
    "tags": []
   },
   "outputs": [],
   "source": [
    "# tests.test_random_forest(RandomForestClassifier)"
   ]
  },
  {
   "cell_type": "markdown",
   "id": "43c48e03",
   "metadata": {
    "papermill": {
     "duration": 0.062944,
     "end_time": "2022-04-18T09:11:30.994245",
     "exception": false,
     "start_time": "2022-04-18T09:11:30.931301",
     "status": "completed"
    },
    "tags": []
   },
   "source": [
    "**Task 6 - 1 Point** Fit two models with \"n_estimators=10\" and \"n_estimators=100\" hyperparameters. **Explain** the results."
   ]
  },
  {
   "cell_type": "code",
   "execution_count": 24,
   "id": "03f1728a",
   "metadata": {
    "ExecuteTime": {
     "end_time": "2022-01-17T20:27:52.388380Z",
     "start_time": "2022-01-17T20:27:51.257Z"
    },
    "execution": {
     "iopub.execute_input": "2022-04-18T09:11:31.121485Z",
     "iopub.status.busy": "2022-04-18T09:11:31.121036Z",
     "iopub.status.idle": "2022-04-18T09:11:31.124630Z",
     "shell.execute_reply": "2022-04-18T09:11:31.124078Z"
    },
    "papermill": {
     "duration": 0.068884,
     "end_time": "2022-04-18T09:11:31.126668",
     "exception": false,
     "start_time": "2022-04-18T09:11:31.057784",
     "status": "completed"
    },
    "tags": []
   },
   "outputs": [],
   "source": [
    "# Your code here"
   ]
  },
  {
   "cell_type": "code",
   "execution_count": 25,
   "id": "d818518b",
   "metadata": {
    "ExecuteTime": {
     "end_time": "2022-01-17T20:27:52.389380Z",
     "start_time": "2022-01-17T20:27:51.259Z"
    },
    "execution": {
     "iopub.execute_input": "2022-04-18T09:11:31.252241Z",
     "iopub.status.busy": "2022-04-18T09:11:31.251716Z",
     "iopub.status.idle": "2022-04-18T09:11:31.254739Z",
     "shell.execute_reply": "2022-04-18T09:11:31.254181Z"
    },
    "papermill": {
     "duration": 0.068335,
     "end_time": "2022-04-18T09:11:31.256592",
     "exception": false,
     "start_time": "2022-04-18T09:11:31.188257",
     "status": "completed"
    },
    "tags": []
   },
   "outputs": [],
   "source": [
    "# Your code here"
   ]
  },
  {
   "cell_type": "markdown",
   "id": "a37465ee",
   "metadata": {
    "papermill": {
     "duration": 0.061263,
     "end_time": "2022-04-18T09:11:31.379515",
     "exception": false,
     "start_time": "2022-04-18T09:11:31.318252",
     "status": "completed"
    },
    "tags": []
   },
   "source": [
    "Now it's your turn to explore the various parameters of RandomForestClassifier and their influence on model quality."
   ]
  },
  {
   "cell_type": "markdown",
   "id": "14d1aeca",
   "metadata": {
    "papermill": {
     "duration": 0.061468,
     "end_time": "2022-04-18T09:11:31.503095",
     "exception": false,
     "start_time": "2022-04-18T09:11:31.441627",
     "status": "completed"
    },
    "tags": []
   },
   "source": [
    "# Homework part 2. Random Forest in action"
   ]
  },
  {
   "cell_type": "markdown",
   "id": "e6716139",
   "metadata": {
    "papermill": {
     "duration": 0.061192,
     "end_time": "2022-04-18T09:11:31.626309",
     "exception": false,
     "start_time": "2022-04-18T09:11:31.565117",
     "status": "completed"
    },
    "tags": []
   },
   "source": [
    "_Note_: Consider **accuracy** as main metric of model performance on this dataset."
   ]
  },
  {
   "cell_type": "markdown",
   "id": "028bee23",
   "metadata": {
    "papermill": {
     "duration": 0.06241,
     "end_time": "2022-04-18T09:11:31.750459",
     "exception": false,
     "start_time": "2022-04-18T09:11:31.688049",
     "status": "completed"
    },
    "tags": []
   },
   "source": [
    "_Note_: For tasks 1 to 5 please use your custom RandomForestClassifier if it is completed."
   ]
  },
  {
   "cell_type": "markdown",
   "id": "edf02127",
   "metadata": {
    "papermill": {
     "duration": 0.062076,
     "end_time": "2022-04-18T09:11:31.874593",
     "exception": false,
     "start_time": "2022-04-18T09:11:31.812517",
     "status": "completed"
    },
    "tags": []
   },
   "source": [
    "**Task 1 (0.5 points)** Split the dataset into train, test and validation parts (0.6 / 0.2 / 0.2). First two will be used for model hyperparameter tuning whereas the best model quality should be evaluated on validation part."
   ]
  },
  {
   "cell_type": "code",
   "execution_count": 26,
   "id": "4705544c",
   "metadata": {
    "ExecuteTime": {
     "end_time": "2022-01-17T20:27:52.390375Z",
     "start_time": "2022-01-17T20:27:51.261Z"
    },
    "execution": {
     "iopub.execute_input": "2022-04-18T09:11:32.000872Z",
     "iopub.status.busy": "2022-04-18T09:11:32.000361Z",
     "iopub.status.idle": "2022-04-18T09:11:32.003329Z",
     "shell.execute_reply": "2022-04-18T09:11:32.002795Z"
    },
    "papermill": {
     "duration": 0.068603,
     "end_time": "2022-04-18T09:11:32.005139",
     "exception": false,
     "start_time": "2022-04-18T09:11:31.936536",
     "status": "completed"
    },
    "tags": []
   },
   "outputs": [],
   "source": [
    "# Your code here"
   ]
  },
  {
   "cell_type": "markdown",
   "id": "7e1bf7b0",
   "metadata": {
    "papermill": {
     "duration": 0.061508,
     "end_time": "2022-04-18T09:11:32.129933",
     "exception": false,
     "start_time": "2022-04-18T09:11:32.068425",
     "status": "completed"
    },
    "tags": []
   },
   "source": [
    "### Grid Search and Random Search"
   ]
  },
  {
   "cell_type": "markdown",
   "id": "db8333dd",
   "metadata": {
    "papermill": {
     "duration": 0.061082,
     "end_time": "2022-04-18T09:11:32.252389",
     "exception": false,
     "start_time": "2022-04-18T09:11:32.191307",
     "status": "completed"
    },
    "tags": []
   },
   "source": [
    "If you have enough computational power for model training in a reasonable amount of time more sophisticated approach of hyperparameter tuning would be either Grid Search or Random Search.<br>\n",
    "\n",
    "In a nutshell Grid Search allows you to pass through all different combinations of given model parameters and their values and choose the best combination. Whereas Random Search would randomly choose values for given model parameters and evaluate them on test data untill it reaches the specified number of iterations.<br>\n",
    "\n",
    "More information here [Gentle introduction to Grid and Random search](https://medium.com/@senapati.dipak97/grid-search-vs-random-search-d34c92946318) and here [Detailed Explanation with code examples](https://machinelearningmastery.com/hyperparameter-optimization-with-random-search-and-grid-search/)."
   ]
  },
  {
   "attachments": {
    "grid_random_search.png": {
     "image/png": "[encoded data removed]"
    }
   },
   "cell_type": "markdown",
   "id": "ba7469a9",
   "metadata": {
    "papermill": {
     "duration": 0.061284,
     "end_time": "2022-04-18T09:11:32.375078",
     "exception": false,
     "start_time": "2022-04-18T09:11:32.313794",
     "status": "completed"
    },
    "tags": []
   },
   "source": [
    "![grid_random_search.png](attachment:grid_random_search.png)"
   ]
  },
  {
   "cell_type": "markdown",
   "id": "732b02e8",
   "metadata": {
    "ExecuteTime": {
     "end_time": "2022-01-17T10:10:45.984304Z",
     "start_time": "2022-01-17T10:10:45.969369Z"
    },
    "papermill": {
     "duration": 0.061399,
     "end_time": "2022-04-18T09:11:32.499487",
     "exception": false,
     "start_time": "2022-04-18T09:11:32.438088",
     "status": "completed"
    },
    "tags": []
   },
   "source": [
    "**Task 3 (1 point)**. Compare your previous results with [GridSearch](https://scikit-learn.org/stable/modules/generated/sklearn.model_selection.GridSearchCV.html) hyperparameter tuning. You may tune best hyperparameters for forest with several trees and then increase it while measure the quality on validation dataset."
   ]
  },
  {
   "cell_type": "code",
   "execution_count": 27,
   "id": "290c7677",
   "metadata": {
    "ExecuteTime": {
     "end_time": "2022-01-17T20:27:52.391365Z",
     "start_time": "2022-01-17T20:27:51.265Z"
    },
    "execution": {
     "iopub.execute_input": "2022-04-18T09:11:32.624392Z",
     "iopub.status.busy": "2022-04-18T09:11:32.623846Z",
     "iopub.status.idle": "2022-04-18T09:11:32.626811Z",
     "shell.execute_reply": "2022-04-18T09:11:32.626276Z"
    },
    "papermill": {
     "duration": 0.067659,
     "end_time": "2022-04-18T09:11:32.628784",
     "exception": false,
     "start_time": "2022-04-18T09:11:32.561125",
     "status": "completed"
    },
    "tags": []
   },
   "outputs": [],
   "source": [
    "# Your code here"
   ]
  },
  {
   "cell_type": "markdown",
   "id": "38ef81d4",
   "metadata": {
    "papermill": {
     "duration": 0.061251,
     "end_time": "2022-04-18T09:11:32.752291",
     "exception": false,
     "start_time": "2022-04-18T09:11:32.691040",
     "status": "completed"
    },
    "tags": []
   },
   "source": [
    "**Task 4 (1 point)**. And finally tune forest hyperparameters with [RandomSearch](https://scikit-learn.org/stable/modules/generated/sklearn.model_selection.RandomizedSearchCV.html). Compare results to previous attempts."
   ]
  },
  {
   "cell_type": "code",
   "execution_count": 28,
   "id": "e5d56a88",
   "metadata": {
    "ExecuteTime": {
     "end_time": "2022-01-17T20:27:52.392364Z",
     "start_time": "2022-01-17T20:27:51.266Z"
    },
    "execution": {
     "iopub.execute_input": "2022-04-18T09:11:32.877744Z",
     "iopub.status.busy": "2022-04-18T09:11:32.877224Z",
     "iopub.status.idle": "2022-04-18T09:11:32.880299Z",
     "shell.execute_reply": "2022-04-18T09:11:32.879644Z"
    },
    "papermill": {
     "duration": 0.068129,
     "end_time": "2022-04-18T09:11:32.882100",
     "exception": false,
     "start_time": "2022-04-18T09:11:32.813971",
     "status": "completed"
    },
    "tags": []
   },
   "outputs": [],
   "source": [
    "# Your code here"
   ]
  },
  {
   "cell_type": "markdown",
   "id": "4abf8e98",
   "metadata": {
    "papermill": {
     "duration": 0.061978,
     "end_time": "2022-04-18T09:11:33.006751",
     "exception": false,
     "start_time": "2022-04-18T09:11:32.944773",
     "status": "completed"
    },
    "tags": []
   },
   "source": [
    "**Task 5 (0.5 points)**. Tell us about your experience in hyperparameter tuning with the approaches above. What do you think would be the best option for this task and why?"
   ]
  },
  {
   "cell_type": "markdown",
   "id": "5e0c200d",
   "metadata": {
    "papermill": {
     "duration": 0.061625,
     "end_time": "2022-04-18T09:11:33.131090",
     "exception": false,
     "start_time": "2022-04-18T09:11:33.069465",
     "status": "completed"
    },
    "tags": []
   },
   "source": [
    "Your cool ideas here..."
   ]
  },
  {
   "cell_type": "markdown",
   "id": "c7aac6fb",
   "metadata": {
    "papermill": {
     "duration": 0.061281,
     "end_time": "2022-04-18T09:11:33.254045",
     "exception": false,
     "start_time": "2022-04-18T09:11:33.192764",
     "status": "completed"
    },
    "tags": []
   },
   "source": [
    "### Desicion tree explained"
   ]
  },
  {
   "cell_type": "markdown",
   "id": "e0e32a4a",
   "metadata": {
    "papermill": {
     "duration": 0.061285,
     "end_time": "2022-04-18T09:11:33.376941",
     "exception": false,
     "start_time": "2022-04-18T09:11:33.315656",
     "status": "completed"
    },
    "tags": []
   },
   "source": [
    "Remember the [Titanic](https://www.kaggle.com/c/titanic) competition from last week? Wouldn't be a good idea to visualize one of possible desicion-making processes of _survived_ / _dead_ labeling?"
   ]
  },
  {
   "cell_type": "markdown",
   "id": "8c460f67",
   "metadata": {
    "papermill": {
     "duration": 0.068777,
     "end_time": "2022-04-18T09:11:33.522645",
     "exception": false,
     "start_time": "2022-04-18T09:11:33.453868",
     "status": "completed"
    },
    "tags": []
   },
   "source": [
    "**Task 6 (1 point)**. Load titanic dataset, split it into train/test parts, apply simple hyperparameter tuning of [DesicionTreeClassifier](https://scikit-learn.org/stable/modules/generated/sklearn.tree.DecisionTreeClassifier.html) (use one of the approaches above) in order to have **test accuracy more than 0.65**. <br>\n",
    "\n",
    "Draw the best tree decision making process. You may use [sklearn.tree.prot_tree](https://scikit-learn.org/stable/modules/generated/sklearn.tree.plot_tree.html).<br>"
   ]
  },
  {
   "cell_type": "code",
   "execution_count": 29,
   "id": "238755ac",
   "metadata": {
    "ExecuteTime": {
     "end_time": "2022-01-17T20:27:52.393362Z",
     "start_time": "2022-01-17T20:27:51.269Z"
    },
    "execution": {
     "iopub.execute_input": "2022-04-18T09:11:33.647863Z",
     "iopub.status.busy": "2022-04-18T09:11:33.647336Z",
     "iopub.status.idle": "2022-04-18T09:11:33.800168Z",
     "shell.execute_reply": "2022-04-18T09:11:33.799116Z"
    },
    "papermill": {
     "duration": 0.2182,
     "end_time": "2022-04-18T09:11:33.802552",
     "exception": false,
     "start_time": "2022-04-18T09:11:33.584352",
     "status": "completed"
    },
    "tags": []
   },
   "outputs": [],
   "source": [
    "from sklearn.tree import DecisionTreeClassifier\n",
    "\n",
    "# your code here"
   ]
  },
  {
   "cell_type": "markdown",
   "id": "ddee8605",
   "metadata": {
    "papermill": {
     "duration": 0.062274,
     "end_time": "2022-04-18T09:11:33.926566",
     "exception": false,
     "start_time": "2022-04-18T09:11:33.864292",
     "status": "completed"
    },
    "tags": []
   },
   "source": [
    "Is it easy to interpret its results? Are you able to explain to a random person why would they survive / die on the titanic?"
   ]
  }
 ],
 "metadata": {
  "kernelspec": {
   "display_name": "Python 3",
   "language": "python",
   "name": "python3"
  },
  "language_info": {
   "codemirror_mode": {
    "name": "ipython",
    "version": 3
   },
   "file_extension": ".py",
   "mimetype": "text/x-python",
   "name": "python",
   "nbconvert_exporter": "python",
   "pygments_lexer": "ipython3",
   "version": "3.7.12"
  },
  "papermill": {
   "default_parameters": {},
   "duration": 66.319582,
   "end_time": "2022-04-18T09:11:34.708886",
   "environment_variables": {},
   "exception": null,
   "input_path": "__notebook__.ipynb",
   "output_path": "__notebook__.ipynb",
   "parameters": {},
   "start_time": "2022-04-18T09:10:28.389304",
   "version": "2.3.4"
  }
 },
 "nbformat": 4,
 "nbformat_minor": 5
}
