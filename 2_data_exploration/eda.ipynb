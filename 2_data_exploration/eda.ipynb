{
 "cells": [
  {
   "cell_type": "code",
   "execution_count": 1,
   "id": "5a3c7d10",
   "metadata": {
    "execution": {
     "iopub.execute_input": "2022-03-06T20:59:28.418843Z",
     "iopub.status.busy": "2022-03-06T20:59:28.417559Z",
     "iopub.status.idle": "2022-03-06T20:59:29.939291Z",
     "shell.execute_reply": "2022-03-06T20:59:29.940071Z",
     "shell.execute_reply.started": "2022-03-06T20:58:50.913627Z"
    },
    "papermill": {
     "duration": 1.575812,
     "end_time": "2022-03-06T20:59:29.940390",
     "exception": false,
     "start_time": "2022-03-06T20:59:28.364578",
     "status": "completed"
    },
    "tags": []
   },
   "outputs": [
    {
     "name": "stdout",
     "output_type": "stream",
     "text": [
      "Finished setup, dataset is available\n"
     ]
    }
   ],
   "source": [
    "import pandas as pd\n",
    "import numpy as np\n",
    "pd.plotting.register_matplotlib_converters()\n",
    "import matplotlib.pyplot as plt\n",
    "%matplotlib inline\n",
    "import seaborn as sns\n",
    "\n",
    "# Path of the file to read, \n",
    "# I solved the task on Kaggle, so you might want to provide the path to train.csv on your local machine to load the notebook correctly.\n",
    "train_filepath = \"../input/tabular-playground-series-apr-2021/train.csv\"\n",
    "\n",
    "df = pd.read_csv(train_filepath, index_col=\"PassengerId\")\n",
    "\n",
    "print(\"Finished setup, dataset is available\")"
   ]
  },
  {
   "cell_type": "markdown",
   "id": "cc641bc9",
   "metadata": {
    "papermill": {
     "duration": 0.048211,
     "end_time": "2022-03-06T20:59:30.037485",
     "exception": false,
     "start_time": "2022-03-06T20:59:29.989274",
     "status": "completed"
    },
    "tags": []
   },
   "source": [
    "# Context\n",
    "\n",
    "Let's get a quick look into the context of the data set that we are planning to explore."
   ]
  },
  {
   "cell_type": "code",
   "execution_count": 2,
   "id": "e0887c06",
   "metadata": {
    "execution": {
     "iopub.execute_input": "2022-03-06T20:59:30.138805Z",
     "iopub.status.busy": "2022-03-06T20:59:30.137783Z",
     "iopub.status.idle": "2022-03-06T20:59:30.156019Z",
     "shell.execute_reply": "2022-03-06T20:59:30.156533Z",
     "shell.execute_reply.started": "2022-03-06T20:58:51.204493Z"
    },
    "papermill": {
     "duration": 0.072614,
     "end_time": "2022-03-06T20:59:30.156715",
     "exception": false,
     "start_time": "2022-03-06T20:59:30.084101",
     "status": "completed"
    },
    "tags": []
   },
   "outputs": [
    {
     "data": {
      "text/html": [
       "<div>\n",
       "<style scoped>\n",
       "    .dataframe tbody tr th:only-of-type {\n",
       "        vertical-align: middle;\n",
       "    }\n",
       "\n",
       "    .dataframe tbody tr th {\n",
       "        vertical-align: top;\n",
       "    }\n",
       "\n",
       "    .dataframe thead th {\n",
       "        text-align: right;\n",
       "    }\n",
       "</style>\n",
       "<table border=\"1\" class=\"dataframe\">\n",
       "  <thead>\n",
       "    <tr style=\"text-align: right;\">\n",
       "      <th></th>\n",
       "      <th>Survived</th>\n",
       "      <th>Pclass</th>\n",
       "      <th>Name</th>\n",
       "      <th>Sex</th>\n",
       "      <th>Age</th>\n",
       "      <th>SibSp</th>\n",
       "      <th>Parch</th>\n",
       "      <th>Ticket</th>\n",
       "      <th>Fare</th>\n",
       "      <th>Cabin</th>\n",
       "      <th>Embarked</th>\n",
       "    </tr>\n",
       "    <tr>\n",
       "      <th>PassengerId</th>\n",
       "      <th></th>\n",
       "      <th></th>\n",
       "      <th></th>\n",
       "      <th></th>\n",
       "      <th></th>\n",
       "      <th></th>\n",
       "      <th></th>\n",
       "      <th></th>\n",
       "      <th></th>\n",
       "      <th></th>\n",
       "      <th></th>\n",
       "    </tr>\n",
       "  </thead>\n",
       "  <tbody>\n",
       "    <tr>\n",
       "      <th>0</th>\n",
       "      <td>1</td>\n",
       "      <td>1</td>\n",
       "      <td>Oconnor, Frankie</td>\n",
       "      <td>male</td>\n",
       "      <td>NaN</td>\n",
       "      <td>2</td>\n",
       "      <td>0</td>\n",
       "      <td>209245</td>\n",
       "      <td>27.14</td>\n",
       "      <td>C12239</td>\n",
       "      <td>S</td>\n",
       "    </tr>\n",
       "    <tr>\n",
       "      <th>1</th>\n",
       "      <td>0</td>\n",
       "      <td>3</td>\n",
       "      <td>Bryan, Drew</td>\n",
       "      <td>male</td>\n",
       "      <td>NaN</td>\n",
       "      <td>0</td>\n",
       "      <td>0</td>\n",
       "      <td>27323</td>\n",
       "      <td>13.35</td>\n",
       "      <td>NaN</td>\n",
       "      <td>S</td>\n",
       "    </tr>\n",
       "    <tr>\n",
       "      <th>2</th>\n",
       "      <td>0</td>\n",
       "      <td>3</td>\n",
       "      <td>Owens, Kenneth</td>\n",
       "      <td>male</td>\n",
       "      <td>0.33</td>\n",
       "      <td>1</td>\n",
       "      <td>2</td>\n",
       "      <td>CA 457703</td>\n",
       "      <td>71.29</td>\n",
       "      <td>NaN</td>\n",
       "      <td>S</td>\n",
       "    </tr>\n",
       "    <tr>\n",
       "      <th>3</th>\n",
       "      <td>0</td>\n",
       "      <td>3</td>\n",
       "      <td>Kramer, James</td>\n",
       "      <td>male</td>\n",
       "      <td>19.00</td>\n",
       "      <td>0</td>\n",
       "      <td>0</td>\n",
       "      <td>A. 10866</td>\n",
       "      <td>13.04</td>\n",
       "      <td>NaN</td>\n",
       "      <td>S</td>\n",
       "    </tr>\n",
       "    <tr>\n",
       "      <th>4</th>\n",
       "      <td>1</td>\n",
       "      <td>3</td>\n",
       "      <td>Bond, Michael</td>\n",
       "      <td>male</td>\n",
       "      <td>25.00</td>\n",
       "      <td>0</td>\n",
       "      <td>0</td>\n",
       "      <td>427635</td>\n",
       "      <td>7.76</td>\n",
       "      <td>NaN</td>\n",
       "      <td>S</td>\n",
       "    </tr>\n",
       "  </tbody>\n",
       "</table>\n",
       "</div>"
      ],
      "text/plain": [
       "             Survived  Pclass              Name   Sex    Age  SibSp  Parch  \\\n",
       "PassengerId                                                                  \n",
       "0                   1       1  Oconnor, Frankie  male    NaN      2      0   \n",
       "1                   0       3       Bryan, Drew  male    NaN      0      0   \n",
       "2                   0       3    Owens, Kenneth  male   0.33      1      2   \n",
       "3                   0       3     Kramer, James  male  19.00      0      0   \n",
       "4                   1       3     Bond, Michael  male  25.00      0      0   \n",
       "\n",
       "                Ticket   Fare   Cabin Embarked  \n",
       "PassengerId                                     \n",
       "0               209245  27.14  C12239        S  \n",
       "1                27323  13.35     NaN        S  \n",
       "2            CA 457703  71.29     NaN        S  \n",
       "3             A. 10866  13.04     NaN        S  \n",
       "4               427635   7.76     NaN        S  "
      ]
     },
     "execution_count": 2,
     "metadata": {},
     "output_type": "execute_result"
    }
   ],
   "source": [
    "# We can have a look on first five rows in the dataframe\n",
    "df.head()"
   ]
  },
  {
   "cell_type": "code",
   "execution_count": 3,
   "id": "ce873335",
   "metadata": {
    "execution": {
     "iopub.execute_input": "2022-03-06T20:59:30.262038Z",
     "iopub.status.busy": "2022-03-06T20:59:30.261356Z",
     "iopub.status.idle": "2022-03-06T20:59:30.270613Z",
     "shell.execute_reply": "2022-03-06T20:59:30.271115Z",
     "shell.execute_reply.started": "2022-03-06T20:58:51.222906Z"
    },
    "papermill": {
     "duration": 0.066531,
     "end_time": "2022-03-06T20:59:30.271283",
     "exception": false,
     "start_time": "2022-03-06T20:59:30.204752",
     "status": "completed"
    },
    "tags": []
   },
   "outputs": [
    {
     "data": {
      "text/html": [
       "<div>\n",
       "<style scoped>\n",
       "    .dataframe tbody tr th:only-of-type {\n",
       "        vertical-align: middle;\n",
       "    }\n",
       "\n",
       "    .dataframe tbody tr th {\n",
       "        vertical-align: top;\n",
       "    }\n",
       "\n",
       "    .dataframe thead th {\n",
       "        text-align: right;\n",
       "    }\n",
       "</style>\n",
       "<table border=\"1\" class=\"dataframe\">\n",
       "  <thead>\n",
       "    <tr style=\"text-align: right;\">\n",
       "      <th></th>\n",
       "      <th>Survived</th>\n",
       "      <th>Pclass</th>\n",
       "      <th>Name</th>\n",
       "      <th>Sex</th>\n",
       "      <th>Age</th>\n",
       "      <th>SibSp</th>\n",
       "      <th>Parch</th>\n",
       "      <th>Ticket</th>\n",
       "      <th>Fare</th>\n",
       "      <th>Cabin</th>\n",
       "      <th>Embarked</th>\n",
       "    </tr>\n",
       "    <tr>\n",
       "      <th>PassengerId</th>\n",
       "      <th></th>\n",
       "      <th></th>\n",
       "      <th></th>\n",
       "      <th></th>\n",
       "      <th></th>\n",
       "      <th></th>\n",
       "      <th></th>\n",
       "      <th></th>\n",
       "      <th></th>\n",
       "      <th></th>\n",
       "      <th></th>\n",
       "    </tr>\n",
       "  </thead>\n",
       "  <tbody>\n",
       "    <tr>\n",
       "      <th>99995</th>\n",
       "      <td>1</td>\n",
       "      <td>2</td>\n",
       "      <td>Bell, Adele</td>\n",
       "      <td>female</td>\n",
       "      <td>62.0</td>\n",
       "      <td>0</td>\n",
       "      <td>0</td>\n",
       "      <td>PC 15008</td>\n",
       "      <td>14.86</td>\n",
       "      <td>D17243</td>\n",
       "      <td>C</td>\n",
       "    </tr>\n",
       "    <tr>\n",
       "      <th>99996</th>\n",
       "      <td>0</td>\n",
       "      <td>2</td>\n",
       "      <td>Brown, Herman</td>\n",
       "      <td>male</td>\n",
       "      <td>66.0</td>\n",
       "      <td>0</td>\n",
       "      <td>0</td>\n",
       "      <td>13273</td>\n",
       "      <td>11.15</td>\n",
       "      <td>NaN</td>\n",
       "      <td>S</td>\n",
       "    </tr>\n",
       "    <tr>\n",
       "      <th>99997</th>\n",
       "      <td>0</td>\n",
       "      <td>3</td>\n",
       "      <td>Childress, Charles</td>\n",
       "      <td>male</td>\n",
       "      <td>37.0</td>\n",
       "      <td>0</td>\n",
       "      <td>0</td>\n",
       "      <td>NaN</td>\n",
       "      <td>9.95</td>\n",
       "      <td>NaN</td>\n",
       "      <td>S</td>\n",
       "    </tr>\n",
       "    <tr>\n",
       "      <th>99998</th>\n",
       "      <td>0</td>\n",
       "      <td>3</td>\n",
       "      <td>Caughlin, Thomas</td>\n",
       "      <td>male</td>\n",
       "      <td>51.0</td>\n",
       "      <td>0</td>\n",
       "      <td>1</td>\n",
       "      <td>458654</td>\n",
       "      <td>30.92</td>\n",
       "      <td>NaN</td>\n",
       "      <td>S</td>\n",
       "    </tr>\n",
       "    <tr>\n",
       "      <th>99999</th>\n",
       "      <td>0</td>\n",
       "      <td>3</td>\n",
       "      <td>Enciso, Tyler</td>\n",
       "      <td>male</td>\n",
       "      <td>55.0</td>\n",
       "      <td>0</td>\n",
       "      <td>0</td>\n",
       "      <td>458074</td>\n",
       "      <td>13.96</td>\n",
       "      <td>NaN</td>\n",
       "      <td>S</td>\n",
       "    </tr>\n",
       "  </tbody>\n",
       "</table>\n",
       "</div>"
      ],
      "text/plain": [
       "             Survived  Pclass                Name     Sex   Age  SibSp  Parch  \\\n",
       "PassengerId                                                                     \n",
       "99995               1       2         Bell, Adele  female  62.0      0      0   \n",
       "99996               0       2       Brown, Herman    male  66.0      0      0   \n",
       "99997               0       3  Childress, Charles    male  37.0      0      0   \n",
       "99998               0       3    Caughlin, Thomas    male  51.0      0      1   \n",
       "99999               0       3       Enciso, Tyler    male  55.0      0      0   \n",
       "\n",
       "               Ticket   Fare   Cabin Embarked  \n",
       "PassengerId                                    \n",
       "99995        PC 15008  14.86  D17243        C  \n",
       "99996           13273  11.15     NaN        S  \n",
       "99997             NaN   9.95     NaN        S  \n",
       "99998          458654  30.92     NaN        S  \n",
       "99999          458074  13.96     NaN        S  "
      ]
     },
     "execution_count": 3,
     "metadata": {},
     "output_type": "execute_result"
    }
   ],
   "source": [
    "# Let's also check last five rows in the dataframe\n",
    "df.tail()"
   ]
  },
  {
   "cell_type": "markdown",
   "id": "4e91e236",
   "metadata": {
    "papermill": {
     "duration": 0.047471,
     "end_time": "2022-03-06T20:59:30.367293",
     "exception": false,
     "start_time": "2022-03-06T20:59:30.319822",
     "status": "completed"
    },
    "tags": []
   },
   "source": [
    "## What do the different columns mean\n",
    "\n",
    "The following information is taken from the competition description and will give us some extra understanding what different columns represent and what values (keys) are expected in them.\n",
    "\n",
    "| Variable |                 Definition                 |                       Key                      |\n",
    "|:--------:|:------------------------------------------:|:----------------------------------------------:|\n",
    "| survival |                  Survival                  |                 0 = No, 1 = Yes                |\n",
    "|  pclass  |                Ticket class                |            1 = 1st, 2 = 2nd, 3 = 3rd           |\n",
    "|    sex   |                     Sex                    |                                                |\n",
    "|    Age   |                Age in years                |                                                |\n",
    "|   sibsp  | # of siblings / spouses aboard the Titanic |                                                |\n",
    "|   parch  | # of parents / children aboard the Titanic |                                                |\n",
    "|  ticket  |                Ticket number               |                                                |\n",
    "|   fare   |               Passenger fare               |                                                |\n",
    "|   cabin  |                Cabin number                |                                                |\n",
    "| embarked |             Port of Embarkation            | C = Cherbourg, Q = Queenstown, S = Southampton |"
   ]
  },
  {
   "cell_type": "markdown",
   "id": "6a9dc6cc",
   "metadata": {
    "papermill": {
     "duration": 0.047839,
     "end_time": "2022-03-06T20:59:30.462500",
     "exception": false,
     "start_time": "2022-03-06T20:59:30.414661",
     "status": "completed"
    },
    "tags": []
   },
   "source": [
    "# Data quality assessment\n",
    "\n",
    "We start some simple assesments and will use the guidance from the following tutorial cheat sheet: https://github.com/cmawer/pycon-2017-eda-tutorial/blob/master/EDA-cheat-sheet.md"
   ]
  },
  {
   "cell_type": "markdown",
   "id": "3f91fb1a",
   "metadata": {
    "papermill": {
     "duration": 0.047702,
     "end_time": "2022-03-06T20:59:30.560210",
     "exception": false,
     "start_time": "2022-03-06T20:59:30.512508",
     "status": "completed"
    },
    "tags": []
   },
   "source": [
    "## Let's also get some overall info from Pandas about this dataframe\n",
    "\n",
    "We start by gathering information about values in each numerical column by using **.describe()** function of pandas."
   ]
  },
  {
   "cell_type": "code",
   "execution_count": 4,
   "id": "5165189b",
   "metadata": {
    "execution": {
     "iopub.execute_input": "2022-03-06T20:59:30.667136Z",
     "iopub.status.busy": "2022-03-06T20:59:30.666462Z",
     "iopub.status.idle": "2022-03-06T20:59:30.712413Z",
     "shell.execute_reply": "2022-03-06T20:59:30.711273Z",
     "shell.execute_reply.started": "2022-03-06T20:58:51.241919Z"
    },
    "papermill": {
     "duration": 0.10463,
     "end_time": "2022-03-06T20:59:30.712585",
     "exception": false,
     "start_time": "2022-03-06T20:59:30.607955",
     "status": "completed"
    },
    "tags": []
   },
   "outputs": [
    {
     "data": {
      "text/html": [
       "<div>\n",
       "<style scoped>\n",
       "    .dataframe tbody tr th:only-of-type {\n",
       "        vertical-align: middle;\n",
       "    }\n",
       "\n",
       "    .dataframe tbody tr th {\n",
       "        vertical-align: top;\n",
       "    }\n",
       "\n",
       "    .dataframe thead th {\n",
       "        text-align: right;\n",
       "    }\n",
       "</style>\n",
       "<table border=\"1\" class=\"dataframe\">\n",
       "  <thead>\n",
       "    <tr style=\"text-align: right;\">\n",
       "      <th></th>\n",
       "      <th>Survived</th>\n",
       "      <th>Pclass</th>\n",
       "      <th>Age</th>\n",
       "      <th>SibSp</th>\n",
       "      <th>Parch</th>\n",
       "      <th>Fare</th>\n",
       "    </tr>\n",
       "  </thead>\n",
       "  <tbody>\n",
       "    <tr>\n",
       "      <th>count</th>\n",
       "      <td>100000.000000</td>\n",
       "      <td>100000.000000</td>\n",
       "      <td>96708.000000</td>\n",
       "      <td>100000.000000</td>\n",
       "      <td>100000.000000</td>\n",
       "      <td>99866.00000</td>\n",
       "    </tr>\n",
       "    <tr>\n",
       "      <th>mean</th>\n",
       "      <td>0.427740</td>\n",
       "      <td>2.106910</td>\n",
       "      <td>38.355472</td>\n",
       "      <td>0.397690</td>\n",
       "      <td>0.454560</td>\n",
       "      <td>43.92933</td>\n",
       "    </tr>\n",
       "    <tr>\n",
       "      <th>std</th>\n",
       "      <td>0.494753</td>\n",
       "      <td>0.837727</td>\n",
       "      <td>18.313556</td>\n",
       "      <td>0.862566</td>\n",
       "      <td>0.950076</td>\n",
       "      <td>69.58882</td>\n",
       "    </tr>\n",
       "    <tr>\n",
       "      <th>min</th>\n",
       "      <td>0.000000</td>\n",
       "      <td>1.000000</td>\n",
       "      <td>0.080000</td>\n",
       "      <td>0.000000</td>\n",
       "      <td>0.000000</td>\n",
       "      <td>0.68000</td>\n",
       "    </tr>\n",
       "    <tr>\n",
       "      <th>25%</th>\n",
       "      <td>0.000000</td>\n",
       "      <td>1.000000</td>\n",
       "      <td>25.000000</td>\n",
       "      <td>0.000000</td>\n",
       "      <td>0.000000</td>\n",
       "      <td>10.04000</td>\n",
       "    </tr>\n",
       "    <tr>\n",
       "      <th>50%</th>\n",
       "      <td>0.000000</td>\n",
       "      <td>2.000000</td>\n",
       "      <td>39.000000</td>\n",
       "      <td>0.000000</td>\n",
       "      <td>0.000000</td>\n",
       "      <td>24.46000</td>\n",
       "    </tr>\n",
       "    <tr>\n",
       "      <th>75%</th>\n",
       "      <td>1.000000</td>\n",
       "      <td>3.000000</td>\n",
       "      <td>53.000000</td>\n",
       "      <td>1.000000</td>\n",
       "      <td>1.000000</td>\n",
       "      <td>33.50000</td>\n",
       "    </tr>\n",
       "    <tr>\n",
       "      <th>max</th>\n",
       "      <td>1.000000</td>\n",
       "      <td>3.000000</td>\n",
       "      <td>87.000000</td>\n",
       "      <td>8.000000</td>\n",
       "      <td>9.000000</td>\n",
       "      <td>744.66000</td>\n",
       "    </tr>\n",
       "  </tbody>\n",
       "</table>\n",
       "</div>"
      ],
      "text/plain": [
       "            Survived         Pclass           Age          SibSp  \\\n",
       "count  100000.000000  100000.000000  96708.000000  100000.000000   \n",
       "mean        0.427740       2.106910     38.355472       0.397690   \n",
       "std         0.494753       0.837727     18.313556       0.862566   \n",
       "min         0.000000       1.000000      0.080000       0.000000   \n",
       "25%         0.000000       1.000000     25.000000       0.000000   \n",
       "50%         0.000000       2.000000     39.000000       0.000000   \n",
       "75%         1.000000       3.000000     53.000000       1.000000   \n",
       "max         1.000000       3.000000     87.000000       8.000000   \n",
       "\n",
       "               Parch         Fare  \n",
       "count  100000.000000  99866.00000  \n",
       "mean        0.454560     43.92933  \n",
       "std         0.950076     69.58882  \n",
       "min         0.000000      0.68000  \n",
       "25%         0.000000     10.04000  \n",
       "50%         0.000000     24.46000  \n",
       "75%         1.000000     33.50000  \n",
       "max         9.000000    744.66000  "
      ]
     },
     "execution_count": 4,
     "metadata": {},
     "output_type": "execute_result"
    }
   ],
   "source": [
    "df.describe()"
   ]
  },
  {
   "cell_type": "markdown",
   "id": "f70804ed",
   "metadata": {
    "papermill": {
     "duration": 0.050698,
     "end_time": "2022-03-06T20:59:30.811818",
     "exception": false,
     "start_time": "2022-03-06T20:59:30.761120",
     "status": "completed"
    },
    "tags": []
   },
   "source": [
    "Now let's have a look into the columns."
   ]
  },
  {
   "cell_type": "code",
   "execution_count": 5,
   "id": "37c1a852",
   "metadata": {
    "execution": {
     "iopub.execute_input": "2022-03-06T20:59:30.913603Z",
     "iopub.status.busy": "2022-03-06T20:59:30.912932Z",
     "iopub.status.idle": "2022-03-06T20:59:30.982283Z",
     "shell.execute_reply": "2022-03-06T20:59:30.981656Z",
     "shell.execute_reply.started": "2022-03-06T20:58:51.290564Z"
    },
    "papermill": {
     "duration": 0.121507,
     "end_time": "2022-03-06T20:59:30.982450",
     "exception": false,
     "start_time": "2022-03-06T20:59:30.860943",
     "status": "completed"
    },
    "tags": []
   },
   "outputs": [
    {
     "name": "stdout",
     "output_type": "stream",
     "text": [
      "<class 'pandas.core.frame.DataFrame'>\n",
      "Int64Index: 100000 entries, 0 to 99999\n",
      "Data columns (total 11 columns):\n",
      " #   Column    Non-Null Count   Dtype  \n",
      "---  ------    --------------   -----  \n",
      " 0   Survived  100000 non-null  int64  \n",
      " 1   Pclass    100000 non-null  int64  \n",
      " 2   Name      100000 non-null  object \n",
      " 3   Sex       100000 non-null  object \n",
      " 4   Age       96708 non-null   float64\n",
      " 5   SibSp     100000 non-null  int64  \n",
      " 6   Parch     100000 non-null  int64  \n",
      " 7   Ticket    95377 non-null   object \n",
      " 8   Fare      99866 non-null   float64\n",
      " 9   Cabin     32134 non-null   object \n",
      " 10  Embarked  99750 non-null   object \n",
      "dtypes: float64(2), int64(4), object(5)\n",
      "memory usage: 9.2+ MB\n"
     ]
    }
   ],
   "source": [
    "df.info()"
   ]
  },
  {
   "cell_type": "markdown",
   "id": "051cf88f",
   "metadata": {
    "papermill": {
     "duration": 0.048437,
     "end_time": "2022-03-06T20:59:31.080173",
     "exception": false,
     "start_time": "2022-03-06T20:59:31.031736",
     "status": "completed"
    },
    "tags": []
   },
   "source": [
    "As we can see there are 10 000 entries in the dataset, and some columns contain NaNs. Let's get some visualisations for the columns with NaNs/null values so we have an overall understanding how bad data is in these columns."
   ]
  },
  {
   "cell_type": "markdown",
   "id": "ca7d9b21",
   "metadata": {
    "papermill": {
     "duration": 0.048563,
     "end_time": "2022-03-06T20:59:31.177513",
     "exception": false,
     "start_time": "2022-03-06T20:59:31.128950",
     "status": "completed"
    },
    "tags": []
   },
   "source": [
    "### Let's start by investigating total count of NaN values in each column where not only non-nulls are present."
   ]
  },
  {
   "cell_type": "code",
   "execution_count": 6,
   "id": "71e8f96c",
   "metadata": {
    "execution": {
     "iopub.execute_input": "2022-03-06T20:59:31.284143Z",
     "iopub.status.busy": "2022-03-06T20:59:31.283394Z",
     "iopub.status.idle": "2022-03-06T20:59:31.522413Z",
     "shell.execute_reply": "2022-03-06T20:59:31.521688Z",
     "shell.execute_reply.started": "2022-03-06T20:58:51.355696Z"
    },
    "papermill": {
     "duration": 0.296176,
     "end_time": "2022-03-06T20:59:31.522567",
     "exception": false,
     "start_time": "2022-03-06T20:59:31.226391",
     "status": "completed"
    },
    "tags": []
   },
   "outputs": [
    {
     "data": {
      "text/plain": [
       "<AxesSubplot:xlabel='Name', ylabel='Nullable data'>"
      ]
     },
     "execution_count": 6,
     "metadata": {},
     "output_type": "execute_result"
    },
    {
     "data": {
      "image/png": "[encoded data removed]",
      "text/plain": [
       "<Figure size 864x504 with 1 Axes>"
      ]
     },
     "metadata": {
      "needs_background": "light"
     },
     "output_type": "display_data"
    }
   ],
   "source": [
    "total = df.shape[0]\n",
    "\n",
    "age_nan_number = df['Age'].isna().sum()\n",
    "ticket_nan_number = df['Ticket'].isna().sum()\n",
    "fare_nan_number = df['Fare'].isna().sum()\n",
    "cabin_nan_number = df['Cabin'].isna().sum()\n",
    "embarked_nan_number = df['Embarked'].isna().sum()\n",
    "\n",
    "name_of_nan_contains_columns = ['Age', 'Ticket', 'Fare', 'Cabin', 'Embarked']\n",
    "list_nans = [age_nan_number, ticket_nan_number, fare_nan_number,cabin_nan_number, embarked_nan_number]\n",
    "list_value = [total - age_nan_number, total - ticket_nan_number, total - fare_nan_number, total - cabin_nan_number, total - embarked_nan_number]\n",
    "df_nans = pd.DataFrame(list(zip(name_of_nan_contains_columns, list_nans, list_value)), columns =['Name','Nullable data', 'Non-empty data'])\n",
    "plt.figure(figsize=(12,7))\n",
    "sns.barplot(x='Name', y='Nullable data', data=df_nans)"
   ]
  },
  {
   "cell_type": "markdown",
   "id": "75629c6c",
   "metadata": {
    "papermill": {
     "duration": 0.049779,
     "end_time": "2022-03-06T20:59:31.622400",
     "exception": false,
     "start_time": "2022-03-06T20:59:31.572621",
     "status": "completed"
    },
    "tags": []
   },
   "source": [
    "Number of NaN values is extremely high for Cabin column (close to 70%), therefore we will remove this column from the dataset."
   ]
  },
  {
   "cell_type": "code",
   "execution_count": 7,
   "id": "3de9d5c1",
   "metadata": {
    "execution": {
     "iopub.execute_input": "2022-03-06T20:59:31.727725Z",
     "iopub.status.busy": "2022-03-06T20:59:31.727058Z",
     "iopub.status.idle": "2022-03-06T20:59:31.736064Z",
     "shell.execute_reply": "2022-03-06T20:59:31.736635Z",
     "shell.execute_reply.started": "2022-03-06T20:58:51.572688Z"
    },
    "papermill": {
     "duration": 0.064626,
     "end_time": "2022-03-06T20:59:31.736810",
     "exception": false,
     "start_time": "2022-03-06T20:59:31.672184",
     "status": "completed"
    },
    "tags": []
   },
   "outputs": [],
   "source": [
    "df.drop(columns=\"Cabin\", axis=1, inplace=True)"
   ]
  },
  {
   "cell_type": "markdown",
   "id": "2df851bf",
   "metadata": {
    "papermill": {
     "duration": 0.050273,
     "end_time": "2022-03-06T20:59:31.838010",
     "exception": false,
     "start_time": "2022-03-06T20:59:31.787737",
     "status": "completed"
    },
    "tags": []
   },
   "source": [
    "## Duplicates\n",
    "Full duplicates are not really valuable in the context of passenger/survivors, since each person is unique in real-world context, therefore duplicates can be safely deleted."
   ]
  },
  {
   "cell_type": "code",
   "execution_count": 8,
   "id": "a15b826c",
   "metadata": {
    "execution": {
     "iopub.execute_input": "2022-03-06T20:59:31.941148Z",
     "iopub.status.busy": "2022-03-06T20:59:31.940490Z",
     "iopub.status.idle": "2022-03-06T20:59:32.072293Z",
     "shell.execute_reply": "2022-03-06T20:59:32.072836Z",
     "shell.execute_reply.started": "2022-03-06T20:58:51.584716Z"
    },
    "papermill": {
     "duration": 0.185194,
     "end_time": "2022-03-06T20:59:32.073004",
     "exception": false,
     "start_time": "2022-03-06T20:59:31.887810",
     "status": "completed"
    },
    "tags": []
   },
   "outputs": [
    {
     "data": {
      "text/html": [
       "<div>\n",
       "<style scoped>\n",
       "    .dataframe tbody tr th:only-of-type {\n",
       "        vertical-align: middle;\n",
       "    }\n",
       "\n",
       "    .dataframe tbody tr th {\n",
       "        vertical-align: top;\n",
       "    }\n",
       "\n",
       "    .dataframe thead th {\n",
       "        text-align: right;\n",
       "    }\n",
       "</style>\n",
       "<table border=\"1\" class=\"dataframe\">\n",
       "  <thead>\n",
       "    <tr style=\"text-align: right;\">\n",
       "      <th></th>\n",
       "      <th>Survived</th>\n",
       "      <th>Pclass</th>\n",
       "      <th>Name</th>\n",
       "      <th>Sex</th>\n",
       "      <th>Age</th>\n",
       "      <th>SibSp</th>\n",
       "      <th>Parch</th>\n",
       "      <th>Ticket</th>\n",
       "      <th>Fare</th>\n",
       "      <th>Embarked</th>\n",
       "    </tr>\n",
       "    <tr>\n",
       "      <th>PassengerId</th>\n",
       "      <th></th>\n",
       "      <th></th>\n",
       "      <th></th>\n",
       "      <th></th>\n",
       "      <th></th>\n",
       "      <th></th>\n",
       "      <th></th>\n",
       "      <th></th>\n",
       "      <th></th>\n",
       "      <th></th>\n",
       "    </tr>\n",
       "  </thead>\n",
       "  <tbody>\n",
       "    <tr>\n",
       "      <th>0</th>\n",
       "      <td>1</td>\n",
       "      <td>1</td>\n",
       "      <td>Oconnor, Frankie</td>\n",
       "      <td>male</td>\n",
       "      <td>NaN</td>\n",
       "      <td>2</td>\n",
       "      <td>0</td>\n",
       "      <td>209245</td>\n",
       "      <td>27.14</td>\n",
       "      <td>S</td>\n",
       "    </tr>\n",
       "    <tr>\n",
       "      <th>1</th>\n",
       "      <td>0</td>\n",
       "      <td>3</td>\n",
       "      <td>Bryan, Drew</td>\n",
       "      <td>male</td>\n",
       "      <td>NaN</td>\n",
       "      <td>0</td>\n",
       "      <td>0</td>\n",
       "      <td>27323</td>\n",
       "      <td>13.35</td>\n",
       "      <td>S</td>\n",
       "    </tr>\n",
       "    <tr>\n",
       "      <th>2</th>\n",
       "      <td>0</td>\n",
       "      <td>3</td>\n",
       "      <td>Owens, Kenneth</td>\n",
       "      <td>male</td>\n",
       "      <td>0.33</td>\n",
       "      <td>1</td>\n",
       "      <td>2</td>\n",
       "      <td>CA 457703</td>\n",
       "      <td>71.29</td>\n",
       "      <td>S</td>\n",
       "    </tr>\n",
       "    <tr>\n",
       "      <th>3</th>\n",
       "      <td>0</td>\n",
       "      <td>3</td>\n",
       "      <td>Kramer, James</td>\n",
       "      <td>male</td>\n",
       "      <td>19.00</td>\n",
       "      <td>0</td>\n",
       "      <td>0</td>\n",
       "      <td>A. 10866</td>\n",
       "      <td>13.04</td>\n",
       "      <td>S</td>\n",
       "    </tr>\n",
       "    <tr>\n",
       "      <th>4</th>\n",
       "      <td>1</td>\n",
       "      <td>3</td>\n",
       "      <td>Bond, Michael</td>\n",
       "      <td>male</td>\n",
       "      <td>25.00</td>\n",
       "      <td>0</td>\n",
       "      <td>0</td>\n",
       "      <td>427635</td>\n",
       "      <td>7.76</td>\n",
       "      <td>S</td>\n",
       "    </tr>\n",
       "    <tr>\n",
       "      <th>...</th>\n",
       "      <td>...</td>\n",
       "      <td>...</td>\n",
       "      <td>...</td>\n",
       "      <td>...</td>\n",
       "      <td>...</td>\n",
       "      <td>...</td>\n",
       "      <td>...</td>\n",
       "      <td>...</td>\n",
       "      <td>...</td>\n",
       "      <td>...</td>\n",
       "    </tr>\n",
       "    <tr>\n",
       "      <th>99995</th>\n",
       "      <td>1</td>\n",
       "      <td>2</td>\n",
       "      <td>Bell, Adele</td>\n",
       "      <td>female</td>\n",
       "      <td>62.00</td>\n",
       "      <td>0</td>\n",
       "      <td>0</td>\n",
       "      <td>PC 15008</td>\n",
       "      <td>14.86</td>\n",
       "      <td>C</td>\n",
       "    </tr>\n",
       "    <tr>\n",
       "      <th>99996</th>\n",
       "      <td>0</td>\n",
       "      <td>2</td>\n",
       "      <td>Brown, Herman</td>\n",
       "      <td>male</td>\n",
       "      <td>66.00</td>\n",
       "      <td>0</td>\n",
       "      <td>0</td>\n",
       "      <td>13273</td>\n",
       "      <td>11.15</td>\n",
       "      <td>S</td>\n",
       "    </tr>\n",
       "    <tr>\n",
       "      <th>99997</th>\n",
       "      <td>0</td>\n",
       "      <td>3</td>\n",
       "      <td>Childress, Charles</td>\n",
       "      <td>male</td>\n",
       "      <td>37.00</td>\n",
       "      <td>0</td>\n",
       "      <td>0</td>\n",
       "      <td>NaN</td>\n",
       "      <td>9.95</td>\n",
       "      <td>S</td>\n",
       "    </tr>\n",
       "    <tr>\n",
       "      <th>99998</th>\n",
       "      <td>0</td>\n",
       "      <td>3</td>\n",
       "      <td>Caughlin, Thomas</td>\n",
       "      <td>male</td>\n",
       "      <td>51.00</td>\n",
       "      <td>0</td>\n",
       "      <td>1</td>\n",
       "      <td>458654</td>\n",
       "      <td>30.92</td>\n",
       "      <td>S</td>\n",
       "    </tr>\n",
       "    <tr>\n",
       "      <th>99999</th>\n",
       "      <td>0</td>\n",
       "      <td>3</td>\n",
       "      <td>Enciso, Tyler</td>\n",
       "      <td>male</td>\n",
       "      <td>55.00</td>\n",
       "      <td>0</td>\n",
       "      <td>0</td>\n",
       "      <td>458074</td>\n",
       "      <td>13.96</td>\n",
       "      <td>S</td>\n",
       "    </tr>\n",
       "  </tbody>\n",
       "</table>\n",
       "<p>100000 rows × 10 columns</p>\n",
       "</div>"
      ],
      "text/plain": [
       "             Survived  Pclass                Name     Sex    Age  SibSp  \\\n",
       "PassengerId                                                               \n",
       "0                   1       1    Oconnor, Frankie    male    NaN      2   \n",
       "1                   0       3         Bryan, Drew    male    NaN      0   \n",
       "2                   0       3      Owens, Kenneth    male   0.33      1   \n",
       "3                   0       3       Kramer, James    male  19.00      0   \n",
       "4                   1       3       Bond, Michael    male  25.00      0   \n",
       "...               ...     ...                 ...     ...    ...    ...   \n",
       "99995               1       2         Bell, Adele  female  62.00      0   \n",
       "99996               0       2       Brown, Herman    male  66.00      0   \n",
       "99997               0       3  Childress, Charles    male  37.00      0   \n",
       "99998               0       3    Caughlin, Thomas    male  51.00      0   \n",
       "99999               0       3       Enciso, Tyler    male  55.00      0   \n",
       "\n",
       "             Parch     Ticket   Fare Embarked  \n",
       "PassengerId                                    \n",
       "0                0     209245  27.14        S  \n",
       "1                0      27323  13.35        S  \n",
       "2                2  CA 457703  71.29        S  \n",
       "3                0   A. 10866  13.04        S  \n",
       "4                0     427635   7.76        S  \n",
       "...            ...        ...    ...      ...  \n",
       "99995            0   PC 15008  14.86        C  \n",
       "99996            0      13273  11.15        S  \n",
       "99997            0        NaN   9.95        S  \n",
       "99998            1     458654  30.92        S  \n",
       "99999            0     458074  13.96        S  \n",
       "\n",
       "[100000 rows x 10 columns]"
      ]
     },
     "execution_count": 8,
     "metadata": {},
     "output_type": "execute_result"
    }
   ],
   "source": [
    "df = df.drop_duplicates()\n",
    "df"
   ]
  },
  {
   "cell_type": "markdown",
   "id": "7f866ed1",
   "metadata": {
    "papermill": {
     "duration": 0.050924,
     "end_time": "2022-03-06T20:59:32.175746",
     "exception": false,
     "start_time": "2022-03-06T20:59:32.124822",
     "status": "completed"
    },
    "tags": []
   },
   "source": [
    "Since no rows are dropped, we conclude that there are no duplicates in the dataframe."
   ]
  },
  {
   "cell_type": "markdown",
   "id": "857c2587",
   "metadata": {
    "papermill": {
     "duration": 0.050339,
     "end_time": "2022-03-06T20:59:32.277032",
     "exception": false,
     "start_time": "2022-03-06T20:59:32.226693",
     "status": "completed"
    },
    "tags": []
   },
   "source": [
    "## Random sample checks\n",
    "Finally, we can run **df.sample()** in Pandas and try to spot something interesting in the random samples of data.\n",
    "\n",
    "> Note, since when the command returns a new sample everytime it is run, I will describe anything interesting in the Markdown section below."
   ]
  },
  {
   "cell_type": "code",
   "execution_count": 9,
   "id": "40bd4284",
   "metadata": {
    "execution": {
     "iopub.execute_input": "2022-03-06T20:59:32.383767Z",
     "iopub.status.busy": "2022-03-06T20:59:32.383046Z",
     "iopub.status.idle": "2022-03-06T20:59:32.402782Z",
     "shell.execute_reply": "2022-03-06T20:59:32.403362Z",
     "shell.execute_reply.started": "2022-03-06T20:58:51.710783Z"
    },
    "papermill": {
     "duration": 0.075017,
     "end_time": "2022-03-06T20:59:32.403540",
     "exception": false,
     "start_time": "2022-03-06T20:59:32.328523",
     "status": "completed"
    },
    "tags": []
   },
   "outputs": [
    {
     "data": {
      "text/html": [
       "<div>\n",
       "<style scoped>\n",
       "    .dataframe tbody tr th:only-of-type {\n",
       "        vertical-align: middle;\n",
       "    }\n",
       "\n",
       "    .dataframe tbody tr th {\n",
       "        vertical-align: top;\n",
       "    }\n",
       "\n",
       "    .dataframe thead th {\n",
       "        text-align: right;\n",
       "    }\n",
       "</style>\n",
       "<table border=\"1\" class=\"dataframe\">\n",
       "  <thead>\n",
       "    <tr style=\"text-align: right;\">\n",
       "      <th></th>\n",
       "      <th>Survived</th>\n",
       "      <th>Pclass</th>\n",
       "      <th>Name</th>\n",
       "      <th>Sex</th>\n",
       "      <th>Age</th>\n",
       "      <th>SibSp</th>\n",
       "      <th>Parch</th>\n",
       "      <th>Ticket</th>\n",
       "      <th>Fare</th>\n",
       "      <th>Embarked</th>\n",
       "    </tr>\n",
       "    <tr>\n",
       "      <th>PassengerId</th>\n",
       "      <th></th>\n",
       "      <th></th>\n",
       "      <th></th>\n",
       "      <th></th>\n",
       "      <th></th>\n",
       "      <th></th>\n",
       "      <th></th>\n",
       "      <th></th>\n",
       "      <th></th>\n",
       "      <th></th>\n",
       "    </tr>\n",
       "  </thead>\n",
       "  <tbody>\n",
       "    <tr>\n",
       "      <th>63296</th>\n",
       "      <td>0</td>\n",
       "      <td>3</td>\n",
       "      <td>Castor, James</td>\n",
       "      <td>male</td>\n",
       "      <td>19.0</td>\n",
       "      <td>1</td>\n",
       "      <td>0</td>\n",
       "      <td>226132</td>\n",
       "      <td>271.26</td>\n",
       "      <td>C</td>\n",
       "    </tr>\n",
       "    <tr>\n",
       "      <th>5472</th>\n",
       "      <td>0</td>\n",
       "      <td>3</td>\n",
       "      <td>Gaudet, Otto</td>\n",
       "      <td>male</td>\n",
       "      <td>55.0</td>\n",
       "      <td>0</td>\n",
       "      <td>0</td>\n",
       "      <td>25651</td>\n",
       "      <td>7.30</td>\n",
       "      <td>C</td>\n",
       "    </tr>\n",
       "    <tr>\n",
       "      <th>50455</th>\n",
       "      <td>0</td>\n",
       "      <td>2</td>\n",
       "      <td>Gilbert, Alfredo</td>\n",
       "      <td>male</td>\n",
       "      <td>0.5</td>\n",
       "      <td>0</td>\n",
       "      <td>0</td>\n",
       "      <td>7174</td>\n",
       "      <td>13.56</td>\n",
       "      <td>S</td>\n",
       "    </tr>\n",
       "    <tr>\n",
       "      <th>19841</th>\n",
       "      <td>0</td>\n",
       "      <td>3</td>\n",
       "      <td>Hayes, Kathleen</td>\n",
       "      <td>female</td>\n",
       "      <td>54.0</td>\n",
       "      <td>0</td>\n",
       "      <td>1</td>\n",
       "      <td>5646</td>\n",
       "      <td>25.04</td>\n",
       "      <td>S</td>\n",
       "    </tr>\n",
       "    <tr>\n",
       "      <th>34026</th>\n",
       "      <td>1</td>\n",
       "      <td>2</td>\n",
       "      <td>Krajewski, Bertha</td>\n",
       "      <td>female</td>\n",
       "      <td>55.0</td>\n",
       "      <td>0</td>\n",
       "      <td>0</td>\n",
       "      <td>441645</td>\n",
       "      <td>32.43</td>\n",
       "      <td>C</td>\n",
       "    </tr>\n",
       "    <tr>\n",
       "      <th>22074</th>\n",
       "      <td>1</td>\n",
       "      <td>3</td>\n",
       "      <td>Miller, Norma</td>\n",
       "      <td>female</td>\n",
       "      <td>3.0</td>\n",
       "      <td>1</td>\n",
       "      <td>1</td>\n",
       "      <td>27500</td>\n",
       "      <td>25.90</td>\n",
       "      <td>C</td>\n",
       "    </tr>\n",
       "    <tr>\n",
       "      <th>90670</th>\n",
       "      <td>1</td>\n",
       "      <td>1</td>\n",
       "      <td>Pierre, Pam</td>\n",
       "      <td>female</td>\n",
       "      <td>45.0</td>\n",
       "      <td>0</td>\n",
       "      <td>1</td>\n",
       "      <td>472402</td>\n",
       "      <td>82.89</td>\n",
       "      <td>C</td>\n",
       "    </tr>\n",
       "    <tr>\n",
       "      <th>84589</th>\n",
       "      <td>1</td>\n",
       "      <td>1</td>\n",
       "      <td>Seal, Ai</td>\n",
       "      <td>female</td>\n",
       "      <td>65.0</td>\n",
       "      <td>0</td>\n",
       "      <td>0</td>\n",
       "      <td>PC 213822</td>\n",
       "      <td>134.85</td>\n",
       "      <td>Q</td>\n",
       "    </tr>\n",
       "    <tr>\n",
       "      <th>10212</th>\n",
       "      <td>0</td>\n",
       "      <td>2</td>\n",
       "      <td>Springer, Wendell</td>\n",
       "      <td>male</td>\n",
       "      <td>61.0</td>\n",
       "      <td>0</td>\n",
       "      <td>0</td>\n",
       "      <td>12263</td>\n",
       "      <td>8.15</td>\n",
       "      <td>S</td>\n",
       "    </tr>\n",
       "    <tr>\n",
       "      <th>56871</th>\n",
       "      <td>1</td>\n",
       "      <td>1</td>\n",
       "      <td>White, Cheryl</td>\n",
       "      <td>female</td>\n",
       "      <td>12.0</td>\n",
       "      <td>0</td>\n",
       "      <td>1</td>\n",
       "      <td>458505</td>\n",
       "      <td>30.53</td>\n",
       "      <td>S</td>\n",
       "    </tr>\n",
       "  </tbody>\n",
       "</table>\n",
       "</div>"
      ],
      "text/plain": [
       "             Survived  Pclass               Name     Sex   Age  SibSp  Parch  \\\n",
       "PassengerId                                                                    \n",
       "63296               0       3      Castor, James    male  19.0      1      0   \n",
       "5472                0       3       Gaudet, Otto    male  55.0      0      0   \n",
       "50455               0       2   Gilbert, Alfredo    male   0.5      0      0   \n",
       "19841               0       3    Hayes, Kathleen  female  54.0      0      1   \n",
       "34026               1       2  Krajewski, Bertha  female  55.0      0      0   \n",
       "22074               1       3      Miller, Norma  female   3.0      1      1   \n",
       "90670               1       1        Pierre, Pam  female  45.0      0      1   \n",
       "84589               1       1           Seal, Ai  female  65.0      0      0   \n",
       "10212               0       2  Springer, Wendell    male  61.0      0      0   \n",
       "56871               1       1      White, Cheryl  female  12.0      0      1   \n",
       "\n",
       "                Ticket    Fare Embarked  \n",
       "PassengerId                              \n",
       "63296           226132  271.26        C  \n",
       "5472             25651    7.30        C  \n",
       "50455             7174   13.56        S  \n",
       "19841             5646   25.04        S  \n",
       "34026           441645   32.43        C  \n",
       "22074            27500   25.90        C  \n",
       "90670           472402   82.89        C  \n",
       "84589        PC 213822  134.85        Q  \n",
       "10212            12263    8.15        S  \n",
       "56871           458505   30.53        S  "
      ]
     },
     "execution_count": 9,
     "metadata": {},
     "output_type": "execute_result"
    }
   ],
   "source": [
    "df.sample(10).sort_values(by=['Name'])"
   ]
  },
  {
   "cell_type": "code",
   "execution_count": 10,
   "id": "9503ba36",
   "metadata": {
    "execution": {
     "iopub.execute_input": "2022-03-06T20:59:32.512748Z",
     "iopub.status.busy": "2022-03-06T20:59:32.509275Z",
     "iopub.status.idle": "2022-03-06T20:59:32.524618Z",
     "shell.execute_reply": "2022-03-06T20:59:32.525145Z",
     "shell.execute_reply.started": "2022-03-06T20:58:51.736198Z"
    },
    "papermill": {
     "duration": 0.070303,
     "end_time": "2022-03-06T20:59:32.525313",
     "exception": false,
     "start_time": "2022-03-06T20:59:32.455010",
     "status": "completed"
    },
    "tags": []
   },
   "outputs": [
    {
     "data": {
      "text/html": [
       "<div>\n",
       "<style scoped>\n",
       "    .dataframe tbody tr th:only-of-type {\n",
       "        vertical-align: middle;\n",
       "    }\n",
       "\n",
       "    .dataframe tbody tr th {\n",
       "        vertical-align: top;\n",
       "    }\n",
       "\n",
       "    .dataframe thead th {\n",
       "        text-align: right;\n",
       "    }\n",
       "</style>\n",
       "<table border=\"1\" class=\"dataframe\">\n",
       "  <thead>\n",
       "    <tr style=\"text-align: right;\">\n",
       "      <th></th>\n",
       "      <th>Pclass</th>\n",
       "      <th>Fare</th>\n",
       "    </tr>\n",
       "    <tr>\n",
       "      <th>PassengerId</th>\n",
       "      <th></th>\n",
       "      <th></th>\n",
       "    </tr>\n",
       "  </thead>\n",
       "  <tbody>\n",
       "    <tr>\n",
       "      <th>69163</th>\n",
       "      <td>2</td>\n",
       "      <td>7.69</td>\n",
       "    </tr>\n",
       "    <tr>\n",
       "      <th>12416</th>\n",
       "      <td>2</td>\n",
       "      <td>8.61</td>\n",
       "    </tr>\n",
       "    <tr>\n",
       "      <th>99315</th>\n",
       "      <td>3</td>\n",
       "      <td>8.75</td>\n",
       "    </tr>\n",
       "    <tr>\n",
       "      <th>34342</th>\n",
       "      <td>3</td>\n",
       "      <td>12.07</td>\n",
       "    </tr>\n",
       "    <tr>\n",
       "      <th>92290</th>\n",
       "      <td>2</td>\n",
       "      <td>19.08</td>\n",
       "    </tr>\n",
       "    <tr>\n",
       "      <th>72034</th>\n",
       "      <td>1</td>\n",
       "      <td>27.73</td>\n",
       "    </tr>\n",
       "    <tr>\n",
       "      <th>69180</th>\n",
       "      <td>2</td>\n",
       "      <td>28.00</td>\n",
       "    </tr>\n",
       "    <tr>\n",
       "      <th>31114</th>\n",
       "      <td>1</td>\n",
       "      <td>28.37</td>\n",
       "    </tr>\n",
       "    <tr>\n",
       "      <th>92348</th>\n",
       "      <td>1</td>\n",
       "      <td>36.00</td>\n",
       "    </tr>\n",
       "    <tr>\n",
       "      <th>12733</th>\n",
       "      <td>2</td>\n",
       "      <td>41.82</td>\n",
       "    </tr>\n",
       "  </tbody>\n",
       "</table>\n",
       "</div>"
      ],
      "text/plain": [
       "             Pclass   Fare\n",
       "PassengerId               \n",
       "69163             2   7.69\n",
       "12416             2   8.61\n",
       "99315             3   8.75\n",
       "34342             3  12.07\n",
       "92290             2  19.08\n",
       "72034             1  27.73\n",
       "69180             2  28.00\n",
       "31114             1  28.37\n",
       "92348             1  36.00\n",
       "12733             2  41.82"
      ]
     },
     "execution_count": 10,
     "metadata": {},
     "output_type": "execute_result"
    }
   ],
   "source": [
    "df[['Pclass','Fare']].sample(10).sort_values(by=['Fare'])"
   ]
  },
  {
   "cell_type": "code",
   "execution_count": 11,
   "id": "5fdd0af9",
   "metadata": {
    "execution": {
     "iopub.execute_input": "2022-03-06T20:59:32.633864Z",
     "iopub.status.busy": "2022-03-06T20:59:32.632852Z",
     "iopub.status.idle": "2022-03-06T20:59:32.652114Z",
     "shell.execute_reply": "2022-03-06T20:59:32.652590Z",
     "shell.execute_reply.started": "2022-03-06T20:58:51.757642Z"
    },
    "papermill": {
     "duration": 0.075392,
     "end_time": "2022-03-06T20:59:32.652775",
     "exception": false,
     "start_time": "2022-03-06T20:59:32.577383",
     "status": "completed"
    },
    "tags": []
   },
   "outputs": [
    {
     "data": {
      "text/html": [
       "<div>\n",
       "<style scoped>\n",
       "    .dataframe tbody tr th:only-of-type {\n",
       "        vertical-align: middle;\n",
       "    }\n",
       "\n",
       "    .dataframe tbody tr th {\n",
       "        vertical-align: top;\n",
       "    }\n",
       "\n",
       "    .dataframe thead th {\n",
       "        text-align: right;\n",
       "    }\n",
       "</style>\n",
       "<table border=\"1\" class=\"dataframe\">\n",
       "  <thead>\n",
       "    <tr style=\"text-align: right;\">\n",
       "      <th></th>\n",
       "      <th>Survived</th>\n",
       "      <th>Pclass</th>\n",
       "      <th>Name</th>\n",
       "      <th>Sex</th>\n",
       "      <th>Age</th>\n",
       "      <th>SibSp</th>\n",
       "      <th>Parch</th>\n",
       "      <th>Ticket</th>\n",
       "      <th>Fare</th>\n",
       "      <th>Embarked</th>\n",
       "    </tr>\n",
       "    <tr>\n",
       "      <th>PassengerId</th>\n",
       "      <th></th>\n",
       "      <th></th>\n",
       "      <th></th>\n",
       "      <th></th>\n",
       "      <th></th>\n",
       "      <th></th>\n",
       "      <th></th>\n",
       "      <th></th>\n",
       "      <th></th>\n",
       "      <th></th>\n",
       "    </tr>\n",
       "  </thead>\n",
       "  <tbody>\n",
       "    <tr>\n",
       "      <th>26699</th>\n",
       "      <td>0</td>\n",
       "      <td>2</td>\n",
       "      <td>Pierre, Theodore</td>\n",
       "      <td>male</td>\n",
       "      <td>31.00</td>\n",
       "      <td>0</td>\n",
       "      <td>0</td>\n",
       "      <td>11180</td>\n",
       "      <td>7.74</td>\n",
       "      <td>S</td>\n",
       "    </tr>\n",
       "    <tr>\n",
       "      <th>99972</th>\n",
       "      <td>0</td>\n",
       "      <td>3</td>\n",
       "      <td>Gordon, Chad</td>\n",
       "      <td>male</td>\n",
       "      <td>NaN</td>\n",
       "      <td>0</td>\n",
       "      <td>0</td>\n",
       "      <td>12159</td>\n",
       "      <td>6.19</td>\n",
       "      <td>Q</td>\n",
       "    </tr>\n",
       "    <tr>\n",
       "      <th>25442</th>\n",
       "      <td>0</td>\n",
       "      <td>3</td>\n",
       "      <td>George, David</td>\n",
       "      <td>male</td>\n",
       "      <td>30.00</td>\n",
       "      <td>0</td>\n",
       "      <td>0</td>\n",
       "      <td>13843</td>\n",
       "      <td>23.59</td>\n",
       "      <td>S</td>\n",
       "    </tr>\n",
       "    <tr>\n",
       "      <th>32129</th>\n",
       "      <td>1</td>\n",
       "      <td>1</td>\n",
       "      <td>Harrison, Angella</td>\n",
       "      <td>female</td>\n",
       "      <td>60.00</td>\n",
       "      <td>4</td>\n",
       "      <td>5</td>\n",
       "      <td>28400</td>\n",
       "      <td>109.66</td>\n",
       "      <td>S</td>\n",
       "    </tr>\n",
       "    <tr>\n",
       "      <th>47199</th>\n",
       "      <td>1</td>\n",
       "      <td>2</td>\n",
       "      <td>Banks, Marjorie</td>\n",
       "      <td>female</td>\n",
       "      <td>57.00</td>\n",
       "      <td>0</td>\n",
       "      <td>0</td>\n",
       "      <td>28865</td>\n",
       "      <td>75.42</td>\n",
       "      <td>S</td>\n",
       "    </tr>\n",
       "    <tr>\n",
       "      <th>18660</th>\n",
       "      <td>0</td>\n",
       "      <td>3</td>\n",
       "      <td>Winton, George</td>\n",
       "      <td>male</td>\n",
       "      <td>0.58</td>\n",
       "      <td>1</td>\n",
       "      <td>1</td>\n",
       "      <td>428210</td>\n",
       "      <td>96.04</td>\n",
       "      <td>S</td>\n",
       "    </tr>\n",
       "    <tr>\n",
       "      <th>55999</th>\n",
       "      <td>0</td>\n",
       "      <td>3</td>\n",
       "      <td>Manzo, Ricky</td>\n",
       "      <td>male</td>\n",
       "      <td>51.00</td>\n",
       "      <td>0</td>\n",
       "      <td>0</td>\n",
       "      <td>8928</td>\n",
       "      <td>22.02</td>\n",
       "      <td>S</td>\n",
       "    </tr>\n",
       "    <tr>\n",
       "      <th>32955</th>\n",
       "      <td>1</td>\n",
       "      <td>1</td>\n",
       "      <td>Douglas, Edna</td>\n",
       "      <td>female</td>\n",
       "      <td>32.00</td>\n",
       "      <td>0</td>\n",
       "      <td>1</td>\n",
       "      <td>PC 41542</td>\n",
       "      <td>117.91</td>\n",
       "      <td>C</td>\n",
       "    </tr>\n",
       "    <tr>\n",
       "      <th>39949</th>\n",
       "      <td>0</td>\n",
       "      <td>1</td>\n",
       "      <td>Barreto, Scott</td>\n",
       "      <td>male</td>\n",
       "      <td>34.00</td>\n",
       "      <td>0</td>\n",
       "      <td>2</td>\n",
       "      <td>S.C./PARIS 433086</td>\n",
       "      <td>195.07</td>\n",
       "      <td>C</td>\n",
       "    </tr>\n",
       "    <tr>\n",
       "      <th>9928</th>\n",
       "      <td>1</td>\n",
       "      <td>3</td>\n",
       "      <td>Hoover, Rose</td>\n",
       "      <td>female</td>\n",
       "      <td>50.00</td>\n",
       "      <td>0</td>\n",
       "      <td>0</td>\n",
       "      <td>NaN</td>\n",
       "      <td>28.51</td>\n",
       "      <td>S</td>\n",
       "    </tr>\n",
       "  </tbody>\n",
       "</table>\n",
       "</div>"
      ],
      "text/plain": [
       "             Survived  Pclass               Name     Sex    Age  SibSp  Parch  \\\n",
       "PassengerId                                                                     \n",
       "26699               0       2   Pierre, Theodore    male  31.00      0      0   \n",
       "99972               0       3       Gordon, Chad    male    NaN      0      0   \n",
       "25442               0       3      George, David    male  30.00      0      0   \n",
       "32129               1       1  Harrison, Angella  female  60.00      4      5   \n",
       "47199               1       2    Banks, Marjorie  female  57.00      0      0   \n",
       "18660               0       3     Winton, George    male   0.58      1      1   \n",
       "55999               0       3       Manzo, Ricky    male  51.00      0      0   \n",
       "32955               1       1      Douglas, Edna  female  32.00      0      1   \n",
       "39949               0       1     Barreto, Scott    male  34.00      0      2   \n",
       "9928                1       3       Hoover, Rose  female  50.00      0      0   \n",
       "\n",
       "                        Ticket    Fare Embarked  \n",
       "PassengerId                                      \n",
       "26699                    11180    7.74        S  \n",
       "99972                    12159    6.19        Q  \n",
       "25442                    13843   23.59        S  \n",
       "32129                    28400  109.66        S  \n",
       "47199                    28865   75.42        S  \n",
       "18660                   428210   96.04        S  \n",
       "55999                     8928   22.02        S  \n",
       "32955                 PC 41542  117.91        C  \n",
       "39949        S.C./PARIS 433086  195.07        C  \n",
       "9928                       NaN   28.51        S  "
      ]
     },
     "execution_count": 11,
     "metadata": {},
     "output_type": "execute_result"
    }
   ],
   "source": [
    "df.sample(10).sort_values(by=['Ticket'])"
   ]
  },
  {
   "cell_type": "markdown",
   "id": "b3eefee1",
   "metadata": {
    "papermill": {
     "duration": 0.053568,
     "end_time": "2022-03-06T20:59:32.759694",
     "exception": false,
     "start_time": "2022-03-06T20:59:32.706126",
     "status": "completed"
    },
    "tags": []
   },
   "source": [
    "## Conclusions\n",
    "Using quick review of samples we have concluded some interesting tendencies that might be interesting for further explorations:\n",
    "* Pclass and Fare are not highly correlated, sometimes higher class costs less than the class below. Maybe it relates to the port of embarkation.\n",
    "* Cabin column contains extremely high number of NaNs\n",
    "* There are people with siblings and parents, but without cabin number. Unless there is a relation that can be build via Ticket number, this information is not really valuable for finding relationships between passengers.\n",
    "* There are entries for people of relatively young age (below 8) that neither had parents or siblings onboarded with them.\n",
    "* The dataset is not directly representing a real world case for Titanic, but rather a training material, because there is no cruise ship in the world that would fit 100 000 passengers. However, the dataset might have been created from the real world data from either multiple real-world datasets, which would also explain NaNs in many of the columns."
   ]
  },
  {
   "cell_type": "markdown",
   "id": "72a4b77b",
   "metadata": {
    "papermill": {
     "duration": 0.052518,
     "end_time": "2022-03-06T20:59:32.865000",
     "exception": false,
     "start_time": "2022-03-06T20:59:32.812482",
     "status": "completed"
    },
    "tags": []
   },
   "source": [
    "# Data exploration\n",
    "\n",
    "We can start EDA with something we already did during data quality check, namely getting overview of mean, max, mode and other props for numerical columns."
   ]
  },
  {
   "cell_type": "code",
   "execution_count": 12,
   "id": "c15b0f17",
   "metadata": {
    "execution": {
     "iopub.execute_input": "2022-03-06T20:59:32.975235Z",
     "iopub.status.busy": "2022-03-06T20:59:32.974569Z",
     "iopub.status.idle": "2022-03-06T20:59:33.020334Z",
     "shell.execute_reply": "2022-03-06T20:59:33.021002Z",
     "shell.execute_reply.started": "2022-03-06T20:58:51.782680Z"
    },
    "papermill": {
     "duration": 0.102485,
     "end_time": "2022-03-06T20:59:33.021177",
     "exception": false,
     "start_time": "2022-03-06T20:59:32.918692",
     "status": "completed"
    },
    "tags": []
   },
   "outputs": [
    {
     "data": {
      "text/html": [
       "<div>\n",
       "<style scoped>\n",
       "    .dataframe tbody tr th:only-of-type {\n",
       "        vertical-align: middle;\n",
       "    }\n",
       "\n",
       "    .dataframe tbody tr th {\n",
       "        vertical-align: top;\n",
       "    }\n",
       "\n",
       "    .dataframe thead th {\n",
       "        text-align: right;\n",
       "    }\n",
       "</style>\n",
       "<table border=\"1\" class=\"dataframe\">\n",
       "  <thead>\n",
       "    <tr style=\"text-align: right;\">\n",
       "      <th></th>\n",
       "      <th>Survived</th>\n",
       "      <th>Pclass</th>\n",
       "      <th>Age</th>\n",
       "      <th>SibSp</th>\n",
       "      <th>Parch</th>\n",
       "      <th>Fare</th>\n",
       "    </tr>\n",
       "  </thead>\n",
       "  <tbody>\n",
       "    <tr>\n",
       "      <th>count</th>\n",
       "      <td>100000.000000</td>\n",
       "      <td>100000.000000</td>\n",
       "      <td>96708.000000</td>\n",
       "      <td>100000.000000</td>\n",
       "      <td>100000.000000</td>\n",
       "      <td>99866.00000</td>\n",
       "    </tr>\n",
       "    <tr>\n",
       "      <th>mean</th>\n",
       "      <td>0.427740</td>\n",
       "      <td>2.106910</td>\n",
       "      <td>38.355472</td>\n",
       "      <td>0.397690</td>\n",
       "      <td>0.454560</td>\n",
       "      <td>43.92933</td>\n",
       "    </tr>\n",
       "    <tr>\n",
       "      <th>std</th>\n",
       "      <td>0.494753</td>\n",
       "      <td>0.837727</td>\n",
       "      <td>18.313556</td>\n",
       "      <td>0.862566</td>\n",
       "      <td>0.950076</td>\n",
       "      <td>69.58882</td>\n",
       "    </tr>\n",
       "    <tr>\n",
       "      <th>min</th>\n",
       "      <td>0.000000</td>\n",
       "      <td>1.000000</td>\n",
       "      <td>0.080000</td>\n",
       "      <td>0.000000</td>\n",
       "      <td>0.000000</td>\n",
       "      <td>0.68000</td>\n",
       "    </tr>\n",
       "    <tr>\n",
       "      <th>25%</th>\n",
       "      <td>0.000000</td>\n",
       "      <td>1.000000</td>\n",
       "      <td>25.000000</td>\n",
       "      <td>0.000000</td>\n",
       "      <td>0.000000</td>\n",
       "      <td>10.04000</td>\n",
       "    </tr>\n",
       "    <tr>\n",
       "      <th>50%</th>\n",
       "      <td>0.000000</td>\n",
       "      <td>2.000000</td>\n",
       "      <td>39.000000</td>\n",
       "      <td>0.000000</td>\n",
       "      <td>0.000000</td>\n",
       "      <td>24.46000</td>\n",
       "    </tr>\n",
       "    <tr>\n",
       "      <th>75%</th>\n",
       "      <td>1.000000</td>\n",
       "      <td>3.000000</td>\n",
       "      <td>53.000000</td>\n",
       "      <td>1.000000</td>\n",
       "      <td>1.000000</td>\n",
       "      <td>33.50000</td>\n",
       "    </tr>\n",
       "    <tr>\n",
       "      <th>max</th>\n",
       "      <td>1.000000</td>\n",
       "      <td>3.000000</td>\n",
       "      <td>87.000000</td>\n",
       "      <td>8.000000</td>\n",
       "      <td>9.000000</td>\n",
       "      <td>744.66000</td>\n",
       "    </tr>\n",
       "  </tbody>\n",
       "</table>\n",
       "</div>"
      ],
      "text/plain": [
       "            Survived         Pclass           Age          SibSp  \\\n",
       "count  100000.000000  100000.000000  96708.000000  100000.000000   \n",
       "mean        0.427740       2.106910     38.355472       0.397690   \n",
       "std         0.494753       0.837727     18.313556       0.862566   \n",
       "min         0.000000       1.000000      0.080000       0.000000   \n",
       "25%         0.000000       1.000000     25.000000       0.000000   \n",
       "50%         0.000000       2.000000     39.000000       0.000000   \n",
       "75%         1.000000       3.000000     53.000000       1.000000   \n",
       "max         1.000000       3.000000     87.000000       8.000000   \n",
       "\n",
       "               Parch         Fare  \n",
       "count  100000.000000  99866.00000  \n",
       "mean        0.454560     43.92933  \n",
       "std         0.950076     69.58882  \n",
       "min         0.000000      0.68000  \n",
       "25%         0.000000     10.04000  \n",
       "50%         0.000000     24.46000  \n",
       "75%         1.000000     33.50000  \n",
       "max         9.000000    744.66000  "
      ]
     },
     "execution_count": 12,
     "metadata": {},
     "output_type": "execute_result"
    }
   ],
   "source": [
    "df.describe()"
   ]
  },
  {
   "cell_type": "markdown",
   "id": "e461bf78",
   "metadata": {
    "papermill": {
     "duration": 0.053904,
     "end_time": "2022-03-06T20:59:33.129229",
     "exception": false,
     "start_time": "2022-03-06T20:59:33.075325",
     "status": "completed"
    },
    "tags": []
   },
   "source": [
    "Looking into the output of the describe function, we can make certain conclusion, like:\n",
    "* Min. fare for a ticket was 0.68\n",
    "* 75 percentale of passengers fall into 3rd class category\n",
    "* Mean age of the passengers is around 38\n",
    "* Maximum count of parents and children onboard was 9\n",
    "* etc."
   ]
  },
  {
   "cell_type": "markdown",
   "id": "8bf05909",
   "metadata": {
    "papermill": {
     "duration": 0.053499,
     "end_time": "2022-03-06T20:59:33.236558",
     "exception": false,
     "start_time": "2022-03-06T20:59:33.183059",
     "status": "completed"
    },
    "tags": []
   },
   "source": [
    "## Single variables and visualisation\n",
    "We start by looking into singles columns of the dataset and visualizing them using Seaborn library."
   ]
  },
  {
   "cell_type": "markdown",
   "id": "5acc8bc6",
   "metadata": {
    "papermill": {
     "duration": 0.054829,
     "end_time": "2022-03-06T20:59:33.344881",
     "exception": false,
     "start_time": "2022-03-06T20:59:33.290052",
     "status": "completed"
    },
    "tags": []
   },
   "source": [
    "## Age\n",
    "Let's build a lineplot to see what was the overall distribution of passengers per age. Since during Data Quality Check we have already seen that this column contains NaNs, we can also drop them."
   ]
  },
  {
   "cell_type": "code",
   "execution_count": 13,
   "id": "b7a2b637",
   "metadata": {
    "execution": {
     "iopub.execute_input": "2022-03-06T20:59:33.458885Z",
     "iopub.status.busy": "2022-03-06T20:59:33.458062Z",
     "iopub.status.idle": "2022-03-06T20:59:33.745239Z",
     "shell.execute_reply": "2022-03-06T20:59:33.744670Z",
     "shell.execute_reply.started": "2022-03-06T20:58:51.834344Z"
    },
    "papermill": {
     "duration": 0.345076,
     "end_time": "2022-03-06T20:59:33.745402",
     "exception": false,
     "start_time": "2022-03-06T20:59:33.400326",
     "status": "completed"
    },
    "tags": []
   },
   "outputs": [
    {
     "data": {
      "text/plain": [
       "<AxesSubplot:xlabel='Age'>"
      ]
     },
     "execution_count": 13,
     "metadata": {},
     "output_type": "execute_result"
    },
    {
     "data": {
      "image/png": "[encoded data removed]",
      "text/plain": [
       "<Figure size 864x504 with 1 Axes>"
      ]
     },
     "metadata": {
      "needs_background": "light"
     },
     "output_type": "display_data"
    }
   ],
   "source": [
    "df_age = df['Age'].dropna().reset_index().groupby('Age').count()\n",
    "\n",
    "plt.figure(figsize=(12,7))\n",
    "sns.scatterplot(data = df_age)"
   ]
  },
  {
   "cell_type": "markdown",
   "id": "e10bf473",
   "metadata": {
    "papermill": {
     "duration": 0.055916,
     "end_time": "2022-03-06T20:59:33.858482",
     "exception": false,
     "start_time": "2022-03-06T20:59:33.802566",
     "status": "completed"
    },
    "tags": []
   },
   "source": [
    "As you see in the plot, there is a lot of dots in the bottom part of the plot as well as many dots around (0,0). The most likely reason behind these is that there are passengers with age represented not as a whole number, as well as some number of passengers with age from 0-1, that are grouped pretty much individually. In order to make our misualisation more consistent, let's round up the float numbers as well as set to 0 those that have the age between 0 and 1."
   ]
  },
  {
   "cell_type": "code",
   "execution_count": 14,
   "id": "1d2fd326",
   "metadata": {
    "execution": {
     "iopub.execute_input": "2022-03-06T20:59:33.976080Z",
     "iopub.status.busy": "2022-03-06T20:59:33.975384Z",
     "iopub.status.idle": "2022-03-06T20:59:34.262871Z",
     "shell.execute_reply": "2022-03-06T20:59:34.263398Z",
     "shell.execute_reply.started": "2022-03-06T20:58:52.111329Z"
    },
    "papermill": {
     "duration": 0.349447,
     "end_time": "2022-03-06T20:59:34.263571",
     "exception": false,
     "start_time": "2022-03-06T20:59:33.914124",
     "status": "completed"
    },
    "tags": []
   },
   "outputs": [
    {
     "data": {
      "text/plain": [
       "<AxesSubplot:title={'center':'Distribution of passenger_s age'}, xlabel='Age'>"
      ]
     },
     "execution_count": 14,
     "metadata": {},
     "output_type": "execute_result"
    },
    {
     "data": {
      "image/png": "[encoded data removed]",
      "text/plain": [
       "<Figure size 864x504 with 1 Axes>"
      ]
     },
     "metadata": {
      "needs_background": "light"
     },
     "output_type": "display_data"
    }
   ],
   "source": [
    "df.loc[df['Age'] < 1, 'Age'] = 0\n",
    "df['Age'] = df['Age'].round(0)\n",
    "df_rounded_age = df['Age'].dropna().reset_index().groupby('Age').count()\n",
    "plt.figure(figsize=(12,7))\n",
    "plt.title('Distribution of passenger_s age')\n",
    "sns.scatterplot(data = df_rounded_age)"
   ]
  },
  {
   "cell_type": "markdown",
   "id": "f25bee41",
   "metadata": {
    "papermill": {
     "duration": 0.057024,
     "end_time": "2022-03-06T20:59:34.378438",
     "exception": false,
     "start_time": "2022-03-06T20:59:34.321414",
     "status": "completed"
    },
    "tags": []
   },
   "source": [
    "We can also use lineplot to make it more continuous."
   ]
  },
  {
   "cell_type": "code",
   "execution_count": 15,
   "id": "ec0f7b59",
   "metadata": {
    "execution": {
     "iopub.execute_input": "2022-03-06T20:59:34.502716Z",
     "iopub.status.busy": "2022-03-06T20:59:34.501988Z",
     "iopub.status.idle": "2022-03-06T20:59:34.761665Z",
     "shell.execute_reply": "2022-03-06T20:59:34.760984Z",
     "shell.execute_reply.started": "2022-03-06T20:58:52.397989Z"
    },
    "papermill": {
     "duration": 0.320529,
     "end_time": "2022-03-06T20:59:34.761809",
     "exception": false,
     "start_time": "2022-03-06T20:59:34.441280",
     "status": "completed"
    },
    "tags": []
   },
   "outputs": [
    {
     "data": {
      "text/plain": [
       "<AxesSubplot:xlabel='Age'>"
      ]
     },
     "execution_count": 15,
     "metadata": {},
     "output_type": "execute_result"
    },
    {
     "data": {
      "image/png": "[encoded data removed]",
      "text/plain": [
       "<Figure size 864x504 with 1 Axes>"
      ]
     },
     "metadata": {
      "needs_background": "light"
     },
     "output_type": "display_data"
    }
   ],
   "source": [
    "plt.figure(figsize=(12,7))\n",
    "sns.lineplot(data=df_rounded_age)"
   ]
  },
  {
   "cell_type": "markdown",
   "id": "3e679737",
   "metadata": {
    "papermill": {
     "duration": 0.061027,
     "end_time": "2022-03-06T20:59:34.883302",
     "exception": false,
     "start_time": "2022-03-06T20:59:34.822275",
     "status": "completed"
    },
    "tags": []
   },
   "source": [
    "## Fare/Class\n",
    "During data quality check we have discovered that some simple values for Fare in 1st class are below Fare in class 2/3. Now that we have a mean value we can look a bit into that and visualise the average fare per each passenger class."
   ]
  },
  {
   "cell_type": "code",
   "execution_count": 16,
   "id": "5b2a481c",
   "metadata": {
    "execution": {
     "iopub.execute_input": "2022-03-06T20:59:35.013089Z",
     "iopub.status.busy": "2022-03-06T20:59:35.012363Z",
     "iopub.status.idle": "2022-03-06T20:59:35.210820Z",
     "shell.execute_reply": "2022-03-06T20:59:35.209805Z",
     "shell.execute_reply.started": "2022-03-06T20:58:52.650880Z"
    },
    "papermill": {
     "duration": 0.266719,
     "end_time": "2022-03-06T20:59:35.210981",
     "exception": false,
     "start_time": "2022-03-06T20:59:34.944262",
     "status": "completed"
    },
    "tags": []
   },
   "outputs": [
    {
     "data": {
      "image/png": "[encoded data removed]",
      "text/plain": [
       "<Figure size 864x504 with 1 Axes>"
      ]
     },
     "metadata": {
      "needs_background": "light"
     },
     "output_type": "display_data"
    }
   ],
   "source": [
    "plass_fare_mean = df.groupby('Pclass').agg({'Fare':'mean'}).reset_index()\n",
    "\n",
    "plt.figure(figsize=(12,7))\n",
    "plt.title('Average fare per Class')\n",
    "sns.barplot(x=plass_fare_mean['Pclass'], y=plass_fare_mean['Fare']);"
   ]
  },
  {
   "cell_type": "markdown",
   "id": "d18097f3",
   "metadata": {
    "papermill": {
     "duration": 0.061042,
     "end_time": "2022-03-06T20:59:35.332153",
     "exception": false,
     "start_time": "2022-03-06T20:59:35.271111",
     "status": "completed"
    },
    "tags": []
   },
   "source": [
    "We can say that in average 1st class is appr. 4 times more expensive than the 2nd/3rd, while the fare difference between 2nd and 3rd is not that large.\n",
    "\n",
    "### Filling in missing values in **Fare** column\n",
    "As we recall from data quality check, **Fare** is one of the columns that had a small proportion of NaNs. Relying on the fact that class and fare have direct relation, we can add missing values to the Fares column based on the corresponding class."
   ]
  },
  {
   "cell_type": "code",
   "execution_count": 17,
   "id": "f88c5c2d",
   "metadata": {
    "execution": {
     "iopub.execute_input": "2022-03-06T20:59:35.471958Z",
     "iopub.status.busy": "2022-03-06T20:59:35.471217Z",
     "iopub.status.idle": "2022-03-06T20:59:35.491681Z",
     "shell.execute_reply": "2022-03-06T20:59:35.491037Z",
     "shell.execute_reply.started": "2022-03-06T20:58:52.843570Z"
    },
    "papermill": {
     "duration": 0.097597,
     "end_time": "2022-03-06T20:59:35.491842",
     "exception": false,
     "start_time": "2022-03-06T20:59:35.394245",
     "status": "completed"
    },
    "tags": []
   },
   "outputs": [],
   "source": [
    "df.loc[(df['Pclass'] == 1) & (df['Fare'].isnull()), 'Fare'] = df[(df['Pclass'] == 1) & (df['Fare'].notnull())]['Fare'].mean()\n",
    "df.loc[(df['Pclass'] == 1) & (df['Fare'].isnull()), 'Fare'] = df[(df['Pclass'] == 1) & (df['Fare'].notnull())]['Fare'].mean()\n",
    "df.loc[(df['Pclass'] == 1) & (df['Fare'].isnull()), 'Fare'] = df[(df['Pclass'] == 1) & (df['Fare'].notnull())]['Fare'].mean()"
   ]
  },
  {
   "cell_type": "markdown",
   "id": "545234de",
   "metadata": {
    "papermill": {
     "duration": 0.06007,
     "end_time": "2022-03-06T20:59:35.614148",
     "exception": false,
     "start_time": "2022-03-06T20:59:35.554078",
     "status": "completed"
    },
    "tags": []
   },
   "source": [
    "## Sex\n",
    "Let's see overall number of male and female passengers."
   ]
  },
  {
   "cell_type": "code",
   "execution_count": 18,
   "id": "b120969f",
   "metadata": {
    "execution": {
     "iopub.execute_input": "2022-03-06T20:59:35.748676Z",
     "iopub.status.busy": "2022-03-06T20:59:35.743998Z",
     "iopub.status.idle": "2022-03-06T20:59:35.867442Z",
     "shell.execute_reply": "2022-03-06T20:59:35.868539Z",
     "shell.execute_reply.started": "2022-03-06T20:58:52.874243Z"
    },
    "papermill": {
     "duration": 0.19427,
     "end_time": "2022-03-06T20:59:35.868855",
     "exception": false,
     "start_time": "2022-03-06T20:59:35.674585",
     "status": "completed"
    },
    "tags": []
   },
   "outputs": [
    {
     "data": {
      "text/plain": [
       "([<matplotlib.patches.Wedge at 0x7fcca84d0d10>,\n",
       "  <matplotlib.patches.Wedge at 0x7fcca84e15d0>],\n",
       " [Text(0.20998789545467864, 1.0797708478017523, 'Female'),\n",
       "  Text(-0.20998789545467925, -1.0797708478017523, 'Male')],\n",
       " [Text(0.11453885206618833, 0.5889659169827739, '44%'),\n",
       "  Text(-0.11453885206618866, -0.5889659169827739, '56%')])"
      ]
     },
     "execution_count": 18,
     "metadata": {},
     "output_type": "execute_result"
    },
    {
     "data": {
      "image/png": "[encoded data removed]",
      "text/plain": [
       "<Figure size 864x504 with 1 Axes>"
      ]
     },
     "metadata": {},
     "output_type": "display_data"
    }
   ],
   "source": [
    "df_sex = df[['Sex']].groupby(['Sex']).size()\n",
    "\n",
    "plt.figure(figsize=(12,7))\n",
    "plt.pie(df_sex, labels = ['Female', 'Male'], autopct='%.0f%%')"
   ]
  },
  {
   "cell_type": "markdown",
   "id": "7ba24793",
   "metadata": {
    "papermill": {
     "duration": 0.064766,
     "end_time": "2022-03-06T20:59:36.030328",
     "exception": false,
     "start_time": "2022-03-06T20:59:35.965562",
     "status": "completed"
    },
    "tags": []
   },
   "source": [
    "As we see there are slightly more men than women in this dataset."
   ]
  },
  {
   "cell_type": "markdown",
   "id": "c1bc4788",
   "metadata": {
    "papermill": {
     "duration": 0.061594,
     "end_time": "2022-03-06T20:59:36.157141",
     "exception": false,
     "start_time": "2022-03-06T20:59:36.095547",
     "status": "completed"
    },
    "tags": []
   },
   "source": [
    "## Survivals"
   ]
  },
  {
   "cell_type": "code",
   "execution_count": 19,
   "id": "5d64d0a0",
   "metadata": {
    "execution": {
     "iopub.execute_input": "2022-03-06T20:59:36.289167Z",
     "iopub.status.busy": "2022-03-06T20:59:36.288401Z",
     "iopub.status.idle": "2022-03-06T20:59:36.407257Z",
     "shell.execute_reply": "2022-03-06T20:59:36.408163Z",
     "shell.execute_reply.started": "2022-03-06T20:58:52.997922Z"
    },
    "papermill": {
     "duration": 0.189459,
     "end_time": "2022-03-06T20:59:36.408458",
     "exception": false,
     "start_time": "2022-03-06T20:59:36.218999",
     "status": "completed"
    },
    "tags": []
   },
   "outputs": [
    {
     "data": {
      "text/plain": [
       "([<matplotlib.patches.Wedge at 0x7fcca84b6550>,\n",
       "  <matplotlib.patches.Wedge at 0x7fcca84b6e10>],\n",
       " [Text(-0.24757343728526857, 1.071777678975802, 'Not survived'),\n",
       "  Text(0.24757353763233614, -1.0717776557962992, 'Survived')],\n",
       " [Text(-0.13504005670105557, 0.5846060067140737, '57%'),\n",
       "  Text(0.1350401114358197, -0.5846059940707086, '43%')])"
      ]
     },
     "execution_count": 19,
     "metadata": {},
     "output_type": "execute_result"
    },
    {
     "data": {
      "image/png": "[encoded data removed]",
      "text/plain": [
       "<Figure size 864x504 with 1 Axes>"
      ]
     },
     "metadata": {},
     "output_type": "display_data"
    }
   ],
   "source": [
    "df_surv = df[['Survived']].groupby(['Survived']).size()\n",
    "\n",
    "plt.figure(figsize=(12,7))\n",
    "plt.pie(df_surv, labels = ['Not survived', 'Survived'], autopct = '%.0f%%', colors = sns.color_palette('light:#5A9')[0:2])"
   ]
  },
  {
   "cell_type": "markdown",
   "id": "8f894e97",
   "metadata": {
    "papermill": {
     "duration": 0.066713,
     "end_time": "2022-03-06T20:59:36.574112",
     "exception": false,
     "start_time": "2022-03-06T20:59:36.507399",
     "status": "completed"
    },
    "tags": []
   },
   "source": [
    "## Exploring relashionships\n",
    "Looking into the pure data is not so interisting as finding correlations and dependencies :)\n",
    "\n",
    "We will be analysing this dataset with the goal to find correlations and relashionships that impacted the survival rate and we will visualize them using different plots from Seaborn."
   ]
  },
  {
   "cell_type": "markdown",
   "id": "305decea",
   "metadata": {
    "papermill": {
     "duration": 0.063706,
     "end_time": "2022-03-06T20:59:36.703251",
     "exception": false,
     "start_time": "2022-03-06T20:59:36.639545",
     "status": "completed"
    },
    "tags": []
   },
   "source": [
    "### Number of survived passengers per age"
   ]
  },
  {
   "cell_type": "code",
   "execution_count": 20,
   "id": "b4d8df05",
   "metadata": {
    "execution": {
     "iopub.execute_input": "2022-03-06T20:59:36.836616Z",
     "iopub.status.busy": "2022-03-06T20:59:36.835586Z",
     "iopub.status.idle": "2022-03-06T20:59:37.399519Z",
     "shell.execute_reply": "2022-03-06T20:59:37.398975Z",
     "shell.execute_reply.started": "2022-03-06T20:58:53.098085Z"
    },
    "papermill": {
     "duration": 0.63214,
     "end_time": "2022-03-06T20:59:37.399667",
     "exception": false,
     "start_time": "2022-03-06T20:59:36.767527",
     "status": "completed"
    },
    "tags": []
   },
   "outputs": [
    {
     "data": {
      "text/plain": [
       "<AxesSubplot:ylabel='Age'>"
      ]
     },
     "execution_count": 20,
     "metadata": {},
     "output_type": "execute_result"
    },
    {
     "data": {
      "image/png": "[encoded data removed]",
      "text/plain": [
       "<Figure size 864x864 with 2 Axes>"
      ]
     },
     "metadata": {
      "needs_background": "light"
     },
     "output_type": "display_data"
    }
   ],
   "source": [
    "df_age_surv = df.groupby(['Age'])['Survived'].agg(['sum'])\n",
    "\n",
    "plt.figure(figsize=(12,12))\n",
    "sns.heatmap(df_age_surv)"
   ]
  },
  {
   "cell_type": "markdown",
   "id": "7b63b5be",
   "metadata": {
    "papermill": {
     "duration": 0.084347,
     "end_time": "2022-03-06T20:59:37.564940",
     "exception": false,
     "start_time": "2022-03-06T20:59:37.480593",
     "status": "completed"
    },
    "tags": []
   },
   "source": [
    "This heatmap shows the age of the survived people, but let's also have a look on the survival rate is represented across all of the passengers."
   ]
  },
  {
   "cell_type": "code",
   "execution_count": 21,
   "id": "f4ffd091",
   "metadata": {
    "execution": {
     "iopub.execute_input": "2022-03-06T20:59:37.704679Z",
     "iopub.status.busy": "2022-03-06T20:59:37.703971Z",
     "iopub.status.idle": "2022-03-06T20:59:41.170445Z",
     "shell.execute_reply": "2022-03-06T20:59:41.170992Z",
     "shell.execute_reply.started": "2022-03-06T20:58:53.637218Z"
    },
    "papermill": {
     "duration": 3.537307,
     "end_time": "2022-03-06T20:59:41.171204",
     "exception": false,
     "start_time": "2022-03-06T20:59:37.633897",
     "status": "completed"
    },
    "tags": []
   },
   "outputs": [
    {
     "data": {
      "text/plain": [
       "<AxesSubplot:xlabel='Age', ylabel='Survived'>"
      ]
     },
     "execution_count": 21,
     "metadata": {},
     "output_type": "execute_result"
    },
    {
     "data": {
      "image/png": "[encoded data removed]",
      "text/plain": [
       "<Figure size 1080x504 with 1 Axes>"
      ]
     },
     "metadata": {
      "needs_background": "light"
     },
     "output_type": "display_data"
    }
   ],
   "source": [
    "plt.figure(figsize=(15,7))\n",
    "\n",
    "sns.violinplot(data = df, x = 'Age', y = 'Survived')"
   ]
  },
  {
   "cell_type": "markdown",
   "id": "ce01d70c",
   "metadata": {
    "papermill": {
     "duration": 0.072139,
     "end_time": "2022-03-06T20:59:41.316942",
     "exception": false,
     "start_time": "2022-03-06T20:59:41.244803",
     "status": "completed"
    },
    "tags": []
   },
   "source": [
    "The violin plot above allows us to see the whole distribution of the survival rate across all of the ages, but since there are essentially passenger for each year between 0 and 87, it makes the graph a bit hard to read. \n",
    "\n",
    "A possible solution can be to group ages into broader categories, e.g., kids, adults and seniors, and then create a more readable plot for each of such categories."
   ]
  },
  {
   "cell_type": "code",
   "execution_count": 22,
   "id": "89ec8098",
   "metadata": {
    "execution": {
     "iopub.execute_input": "2022-03-06T20:59:41.463210Z",
     "iopub.status.busy": "2022-03-06T20:59:41.462433Z",
     "iopub.status.idle": "2022-03-06T20:59:42.938508Z",
     "shell.execute_reply": "2022-03-06T20:59:42.937807Z",
     "shell.execute_reply.started": "2022-03-06T20:58:57.148726Z"
    },
    "papermill": {
     "duration": 1.55063,
     "end_time": "2022-03-06T20:59:42.938721",
     "exception": false,
     "start_time": "2022-03-06T20:59:41.388091",
     "status": "completed"
    },
    "tags": []
   },
   "outputs": [
    {
     "name": "stderr",
     "output_type": "stream",
     "text": [
      "/opt/conda/lib/python3.7/site-packages/pandas/core/indexing.py:1732: SettingWithCopyWarning: \n",
      "A value is trying to be set on a copy of a slice from a DataFrame\n",
      "\n",
      "See the caveats in the documentation: https://pandas.pydata.org/pandas-docs/stable/user_guide/indexing.html#returning-a-view-versus-a-copy\n",
      "  self._setitem_single_block(indexer, value, name)\n"
     ]
    },
    {
     "data": {
      "text/plain": [
       "<AxesSubplot:xlabel='Age group', ylabel='Survived'>"
      ]
     },
     "execution_count": 22,
     "metadata": {},
     "output_type": "execute_result"
    },
    {
     "data": {
      "image/png": "[encoded data removed]",
      "text/plain": [
       "<Figure size 1080x504 with 1 Axes>"
      ]
     },
     "metadata": {
      "needs_background": "light"
     },
     "output_type": "display_data"
    }
   ],
   "source": [
    "df['Age group'] = df.loc[:, 'Age']\n",
    "df['Age group'].iloc[df['Age'] < 18] = \"Children\"\n",
    "df['Age group'].iloc[(df['Age'] >= 18) & (df['Age'] <= 60)] = \"Adults\"\n",
    "df['Age group'].iloc[df['Age'] > 60] = \"Seniors\"\n",
    "\n",
    "plt.figure(figsize=(15,7))\n",
    "\n",
    "sns.barplot(data = df, x = 'Age group', y = 'Survived')"
   ]
  },
  {
   "cell_type": "markdown",
   "id": "4c8b3a9a",
   "metadata": {
    "papermill": {
     "duration": 0.069805,
     "end_time": "2022-03-06T20:59:43.079327",
     "exception": false,
     "start_time": "2022-03-06T20:59:43.009522",
     "status": "completed"
    },
    "tags": []
   },
   "source": [
    "Now, we can state that survival rate for Senior passengers is the highest among all ages, however if we recall a heatmap from above, the number of survived passengers in this age group is relatevely small, compared to adults."
   ]
  },
  {
   "cell_type": "markdown",
   "id": "631c2fec",
   "metadata": {
    "papermill": {
     "duration": 0.070832,
     "end_time": "2022-03-06T20:59:43.220211",
     "exception": false,
     "start_time": "2022-03-06T20:59:43.149379",
     "status": "completed"
    },
    "tags": []
   },
   "source": [
    "## Survival rate per sex\n",
    "Let's find out what is the relation between survival and sex of the passenger using a simple barplot."
   ]
  },
  {
   "cell_type": "code",
   "execution_count": 23,
   "id": "3a67e60e",
   "metadata": {
    "execution": {
     "iopub.execute_input": "2022-03-06T20:59:43.363330Z",
     "iopub.status.busy": "2022-03-06T20:59:43.362659Z",
     "iopub.status.idle": "2022-03-06T20:59:44.885128Z",
     "shell.execute_reply": "2022-03-06T20:59:44.886056Z",
     "shell.execute_reply.started": "2022-03-06T20:58:58.556705Z"
    },
    "papermill": {
     "duration": 1.59726,
     "end_time": "2022-03-06T20:59:44.886316",
     "exception": false,
     "start_time": "2022-03-06T20:59:43.289056",
     "status": "completed"
    },
    "tags": []
   },
   "outputs": [
    {
     "data": {
      "text/plain": [
       "<AxesSubplot:xlabel='Sex', ylabel='Survived'>"
      ]
     },
     "execution_count": 23,
     "metadata": {},
     "output_type": "execute_result"
    },
    {
     "data": {
      "image/png": "[encoded data removed]",
      "text/plain": [
       "<Figure size 1080x504 with 1 Axes>"
      ]
     },
     "metadata": {
      "needs_background": "light"
     },
     "output_type": "display_data"
    }
   ],
   "source": [
    "plt.figure(figsize=(15,7))\n",
    "\n",
    "sns.barplot(data = df, x = 'Sex', y = 'Survived')"
   ]
  },
  {
   "cell_type": "markdown",
   "id": "1a2b25aa",
   "metadata": {
    "papermill": {
     "duration": 0.070615,
     "end_time": "2022-03-06T20:59:45.032723",
     "exception": false,
     "start_time": "2022-03-06T20:59:44.962108",
     "status": "completed"
    },
    "tags": []
   },
   "source": [
    "As we see in the plot above, the survival rate for women is much higher than fo male. It can be explained by a common rule, that during the evacuation women and childer, as well as seniors are prioritized. "
   ]
  },
  {
   "cell_type": "markdown",
   "id": "c698ff2e",
   "metadata": {
    "papermill": {
     "duration": 0.070358,
     "end_time": "2022-03-06T20:59:45.175649",
     "exception": false,
     "start_time": "2022-03-06T20:59:45.105291",
     "status": "completed"
    },
    "tags": []
   },
   "source": [
    "## Survival rate per Pclass\n",
    "Let's see if getting a 1st class ticket would have increased the chances of survival using a barplot."
   ]
  },
  {
   "cell_type": "code",
   "execution_count": 24,
   "id": "c09d14dc",
   "metadata": {
    "execution": {
     "iopub.execute_input": "2022-03-06T20:59:45.326118Z",
     "iopub.status.busy": "2022-03-06T20:59:45.325393Z",
     "iopub.status.idle": "2022-03-06T20:59:46.728896Z",
     "shell.execute_reply": "2022-03-06T20:59:46.729391Z",
     "shell.execute_reply.started": "2022-03-06T20:58:59.937055Z"
    },
    "papermill": {
     "duration": 1.483205,
     "end_time": "2022-03-06T20:59:46.729570",
     "exception": false,
     "start_time": "2022-03-06T20:59:45.246365",
     "status": "completed"
    },
    "tags": []
   },
   "outputs": [
    {
     "data": {
      "text/plain": [
       "<AxesSubplot:xlabel='Pclass', ylabel='Survived'>"
      ]
     },
     "execution_count": 24,
     "metadata": {},
     "output_type": "execute_result"
    },
    {
     "data": {
      "image/png": "[encoded data removed]",
      "text/plain": [
       "<Figure size 1080x504 with 1 Axes>"
      ]
     },
     "metadata": {
      "needs_background": "light"
     },
     "output_type": "display_data"
    }
   ],
   "source": [
    "plt.figure(figsize=(15,7))\n",
    "\n",
    "sns.barplot(data = df, x = 'Pclass', y = 'Survived')"
   ]
  },
  {
   "cell_type": "markdown",
   "id": "84a04b61",
   "metadata": {
    "papermill": {
     "duration": 0.071925,
     "end_time": "2022-03-06T20:59:46.873538",
     "exception": false,
     "start_time": "2022-03-06T20:59:46.801613",
     "status": "completed"
    },
    "tags": []
   },
   "source": [
    "The difference in survival rate between 1st class and 2nd class is not so significant, however chances of surviving with 3rd class tickets have been pretty low."
   ]
  },
  {
   "cell_type": "markdown",
   "id": "4ead7e78",
   "metadata": {
    "papermill": {
     "duration": 0.071573,
     "end_time": "2022-03-06T20:59:47.016979",
     "exception": false,
     "start_time": "2022-03-06T20:59:46.945406",
     "status": "completed"
    },
    "tags": []
   },
   "source": [
    "## Survival rate per class and sex\n",
    "We saw that 1st and 2nd class ticket would increase passengers chances of survival as well as being women wouls also do that. But now let's check if a male passenger could have increased his chances for survival when buying a higher class ticket against women of any passenger class. For that we can use a poinplot diagram with hue."
   ]
  },
  {
   "cell_type": "code",
   "execution_count": 25,
   "id": "fbf3b2f5",
   "metadata": {
    "execution": {
     "iopub.execute_input": "2022-03-06T20:59:47.168450Z",
     "iopub.status.busy": "2022-03-06T20:59:47.167388Z",
     "iopub.status.idle": "2022-03-06T20:59:48.836454Z",
     "shell.execute_reply": "2022-03-06T20:59:48.835659Z",
     "shell.execute_reply.started": "2022-03-06T20:59:01.305355Z"
    },
    "papermill": {
     "duration": 1.746942,
     "end_time": "2022-03-06T20:59:48.836719",
     "exception": false,
     "start_time": "2022-03-06T20:59:47.089777",
     "status": "completed"
    },
    "tags": []
   },
   "outputs": [
    {
     "data": {
      "text/plain": [
       "<AxesSubplot:xlabel='Pclass', ylabel='Survived'>"
      ]
     },
     "execution_count": 25,
     "metadata": {},
     "output_type": "execute_result"
    },
    {
     "data": {
      "image/png": "[encoded data removed]",
      "text/plain": [
       "<Figure size 1080x504 with 1 Axes>"
      ]
     },
     "metadata": {
      "needs_background": "light"
     },
     "output_type": "display_data"
    }
   ],
   "source": [
    "plt.figure(figsize=(15,7))\n",
    "\n",
    "sns.pointplot(data = df, x = 'Pclass', y = 'Survived', hue = 'Sex')"
   ]
  },
  {
   "cell_type": "markdown",
   "id": "a651d265",
   "metadata": {
    "papermill": {
     "duration": 0.073695,
     "end_time": "2022-03-06T20:59:48.994970",
     "exception": false,
     "start_time": "2022-03-06T20:59:48.921275",
     "status": "completed"
    },
    "tags": []
   },
   "source": [
    "As shown in the plot above, being a man and having a higher class ticket would only increase chances of survival compared to other men with lower class tickets, but it still won't be high enough to overpass women with 3rd class ticket."
   ]
  },
  {
   "cell_type": "markdown",
   "id": "6abb5d22",
   "metadata": {
    "papermill": {
     "duration": 0.074078,
     "end_time": "2022-03-06T20:59:49.144218",
     "exception": false,
     "start_time": "2022-03-06T20:59:49.070140",
     "status": "completed"
    },
    "tags": []
   },
   "source": [
    "# Summary\n",
    "Let's sum up some interesting findings that we ahve observed during the EDA of the given dataset:\n",
    "* 43% of the passenger have survived\n",
    "* Women have significantly higher survival rate than men, senior passengers and children have a higher survival rate than adults. Overall, the rule that women, children, and seniors are saved first is confirmed\n",
    "* On average, paying extra money for 1st class significantly increases survival chances for men. For women, no significant difference between 1st and 2nd class survival rate, meaning that women could have saved some money\n",
    "* The range for fare between 1st class and 2nd is much higher, than between 2nd and 3rd."
   ]
  },
  {
   "cell_type": "code",
   "execution_count": null,
   "id": "aad89779",
   "metadata": {
    "papermill": {
     "duration": 0.07424,
     "end_time": "2022-03-06T20:59:49.292231",
     "exception": false,
     "start_time": "2022-03-06T20:59:49.217991",
     "status": "completed"
    },
    "tags": []
   },
   "outputs": [],
   "source": []
  }
 ],
 "metadata": {
  "kernelspec": {
   "display_name": "Python 3",
   "language": "python",
   "name": "python3"
  },
  "language_info": {
   "codemirror_mode": {
    "name": "ipython",
    "version": 3
   },
   "file_extension": ".py",
   "mimetype": "text/x-python",
   "name": "python",
   "nbconvert_exporter": "python",
   "pygments_lexer": "ipython3",
   "version": "3.7.12"
  },
  "papermill": {
   "default_parameters": {},
   "duration": 32.487972,
   "end_time": "2022-03-06T20:59:50.178606",
   "environment_variables": {},
   "exception": null,
   "input_path": "__notebook__.ipynb",
   "output_path": "__notebook__.ipynb",
   "parameters": {},
   "start_time": "2022-03-06T20:59:17.690634",
   "version": "2.3.3"
  }
 },
 "nbformat": 4,
 "nbformat_minor": 5
}
