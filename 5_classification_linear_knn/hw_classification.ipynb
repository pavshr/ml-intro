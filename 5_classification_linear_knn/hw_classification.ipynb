{
 "cells": [
  {
   "cell_type": "markdown",
   "id": "97f6d9ff",
   "metadata": {
    "papermill": {
     "duration": 0.086701,
     "end_time": "2022-04-03T20:19:49.910188",
     "exception": false,
     "start_time": "2022-04-03T20:19:49.823487",
     "status": "completed"
    },
    "tags": []
   },
   "source": [
    "# Classification. Linear models and KNN"
   ]
  },
  {
   "cell_type": "code",
   "execution_count": 1,
   "id": "ed10dfa3",
   "metadata": {
    "execution": {
     "iopub.execute_input": "2022-04-03T20:19:50.098663Z",
     "iopub.status.busy": "2022-04-03T20:19:50.097692Z",
     "iopub.status.idle": "2022-04-03T20:19:51.380297Z",
     "shell.execute_reply": "2022-04-03T20:19:51.379533Z",
     "shell.execute_reply.started": "2022-04-03T20:09:18.839397Z"
    },
    "papermill": {
     "duration": 1.381699,
     "end_time": "2022-04-03T20:19:51.380499",
     "exception": false,
     "start_time": "2022-04-03T20:19:49.998800",
     "status": "completed"
    },
    "tags": []
   },
   "outputs": [],
   "source": [
    "import os\n",
    "import numpy as np\n",
    "import pandas as pd\n",
    "import seaborn as sns\n",
    "import matplotlib.pyplot as plt\n",
    "import warnings\n",
    "import sklearn\n",
    "warnings.filterwarnings('ignore')"
   ]
  },
  {
   "cell_type": "code",
   "execution_count": 2,
   "id": "baabc39a",
   "metadata": {
    "execution": {
     "iopub.execute_input": "2022-04-03T20:19:51.566626Z",
     "iopub.status.busy": "2022-04-03T20:19:51.565843Z",
     "iopub.status.idle": "2022-04-03T20:19:51.794863Z",
     "shell.execute_reply": "2022-04-03T20:19:51.794239Z",
     "shell.execute_reply.started": "2022-04-03T20:09:19.848709Z"
    },
    "papermill": {
     "duration": 0.324125,
     "end_time": "2022-04-03T20:19:51.795052",
     "exception": false,
     "start_time": "2022-04-03T20:19:51.470927",
     "status": "completed"
    },
    "tags": []
   },
   "outputs": [],
   "source": [
    "from sklearn.pipeline import Pipeline\n",
    "from sklearn.compose import ColumnTransformer\n",
    "from sklearn.model_selection import train_test_split, cross_validate\n",
    "from sklearn.metrics import plot_confusion_matrix, accuracy_score\n",
    "from sklearn.neighbors import KNeighborsClassifier\n",
    "from sklearn.preprocessing import StandardScaler, OneHotEncoder\n",
    "from sklearn.multioutput import MultiOutputClassifier"
   ]
  },
  {
   "cell_type": "markdown",
   "id": "a86953fb",
   "metadata": {
    "papermill": {
     "duration": 0.085597,
     "end_time": "2022-04-03T20:19:51.968410",
     "exception": false,
     "start_time": "2022-04-03T20:19:51.882813",
     "status": "completed"
    },
    "tags": []
   },
   "source": [
    "## Part 1: Implementing Logistic Regression"
   ]
  },
  {
   "cell_type": "markdown",
   "id": "c51b81f4",
   "metadata": {
    "papermill": {
     "duration": 0.08436,
     "end_time": "2022-04-03T20:19:52.138262",
     "exception": false,
     "start_time": "2022-04-03T20:19:52.053902",
     "status": "completed"
    },
    "tags": []
   },
   "source": [
    "In this task you need to implement Logistic Regression with l2 regularization using gradient descent algorithm."
   ]
  },
  {
   "cell_type": "markdown",
   "id": "412934a8",
   "metadata": {
    "papermill": {
     "duration": 0.083276,
     "end_time": "2022-04-03T20:19:52.305941",
     "exception": false,
     "start_time": "2022-04-03T20:19:52.222665",
     "status": "completed"
    },
    "tags": []
   },
   "source": [
    "Logistic Regression loss:\n",
    "$$ L(w) = \\dfrac{1}{N}\\sum_{i=1}^N \\log(1 + e^{-\\langle w, x_i \\rangle y_i}) + \\frac{1}{2C} \\lVert w \\rVert^2  \\to \\min_w$$\n",
    "$$\\langle w, x_i \\rangle = \\sum_{j=1}^n w_{j}x_{ij} + w_{0},$$ $$ y_{i} \\in \\{-1, 1\\}$$ where $n$ is the number of features and $N$ is the number of samples."
   ]
  },
  {
   "cell_type": "markdown",
   "id": "5d50e689",
   "metadata": {
    "papermill": {
     "duration": 0.084354,
     "end_time": "2022-04-03T20:19:52.476451",
     "exception": false,
     "start_time": "2022-04-03T20:19:52.392097",
     "status": "completed"
    },
    "tags": []
   },
   "source": [
    "Gradient descent step:\n",
    "$$w^{(t+1)} := w^{(t)} + \\dfrac{\\eta}{N}\\sum_{i=1}^N y_ix_i \\Big(1 - \\dfrac{1}{1 + exp(-\\langle w^{(t)}, x_i \\rangle y_i)}\\Big) - \\eta \\frac{1}{C} w,$$\n",
    "where $\\eta$ is the learning rate."
   ]
  },
  {
   "cell_type": "markdown",
   "id": "f6be5d83",
   "metadata": {
    "papermill": {
     "duration": 0.083948,
     "end_time": "2022-04-03T20:19:52.643642",
     "exception": false,
     "start_time": "2022-04-03T20:19:52.559694",
     "status": "completed"
    },
    "tags": []
   },
   "source": [
    "**(2 points)** Implement the algorithm and use it to classify the digits (https://scikit-learn.org/stable/modules/generated/sklearn.datasets.load_digits.html) into \"even\" and \"odd\" categories. \"Even\" and \"Odd\" classes  should correspond to {-1, 1} labels."
   ]
  },
  {
   "cell_type": "markdown",
   "id": "274a4a4a",
   "metadata": {
    "papermill": {
     "duration": 0.084197,
     "end_time": "2022-04-03T20:19:52.812577",
     "exception": false,
     "start_time": "2022-04-03T20:19:52.728380",
     "status": "completed"
    },
    "tags": []
   },
   "source": [
    "Stopping criteria: either the number of iterations exceeds *max_iter* or $||w^{(t+1)} - w^{(t)}||_2 < tol$."
   ]
  },
  {
   "cell_type": "code",
   "execution_count": 3,
   "id": "7535b437",
   "metadata": {
    "execution": {
     "iopub.execute_input": "2022-04-03T20:19:52.986853Z",
     "iopub.status.busy": "2022-04-03T20:19:52.986059Z",
     "iopub.status.idle": "2022-04-03T20:19:52.989817Z",
     "shell.execute_reply": "2022-04-03T20:19:52.990402Z",
     "shell.execute_reply.started": "2022-04-03T20:09:20.882387Z"
    },
    "papermill": {
     "duration": 0.093757,
     "end_time": "2022-04-03T20:19:52.990610",
     "exception": false,
     "start_time": "2022-04-03T20:19:52.896853",
     "status": "completed"
    },
    "tags": []
   },
   "outputs": [],
   "source": [
    "from sklearn.exceptions import NotFittedError"
   ]
  },
  {
   "cell_type": "code",
   "execution_count": 4,
   "id": "a42aa95b",
   "metadata": {
    "execution": {
     "iopub.execute_input": "2022-04-03T20:19:53.167841Z",
     "iopub.status.busy": "2022-04-03T20:19:53.167011Z",
     "iopub.status.idle": "2022-04-03T20:19:53.187985Z",
     "shell.execute_reply": "2022-04-03T20:19:53.188670Z",
     "shell.execute_reply.started": "2022-04-03T20:09:22.124286Z"
    },
    "papermill": {
     "duration": 0.11214,
     "end_time": "2022-04-03T20:19:53.188896",
     "exception": false,
     "start_time": "2022-04-03T20:19:53.076756",
     "status": "completed"
    },
    "tags": []
   },
   "outputs": [],
   "source": [
    "class CustomLogisticRegression:\n",
    "    _estimator_type = \"classifier\"\n",
    "    \n",
    "    def __init__(self, eta=0.001, max_iter=1000, C=1.0, tol=1e-5, random_state=42, zero_init=False):\n",
    "        \"\"\"Logistic Regression classifier.\n",
    "        \n",
    "        Args:\n",
    "            eta: float, default=0.001\n",
    "                Learning rate.\n",
    "            max_iter: int, default=1000\n",
    "                Maximum number of iterations taken for the solvers to converge.\n",
    "            C: float, default=1.0\n",
    "                Inverse of regularization strength; must be a positive float.\n",
    "                Smaller values specify stronger regularization.\n",
    "            tol: float, default=1e-5\n",
    "                Tolerance for stopping criteria.\n",
    "            random_state: int, default=42\n",
    "                Random state.\n",
    "            zero_init: bool, default=False\n",
    "                Zero weight initialization.\n",
    "        \"\"\"\n",
    "        self.eta = eta\n",
    "        self.max_iter = max_iter\n",
    "        self.C = C\n",
    "        self.tol = tol\n",
    "        self.random_state = np.random.RandomState(seed=random_state)\n",
    "        self.zero_init = zero_init\n",
    "        self.loss_history = []\n",
    "         \n",
    "    def get_sigmoid(self, X, weights):\n",
    "        \"\"\"Compute the sigmoid value.\"\"\"\n",
    "        return 1 / (1 + np.exp(np.dot(-X, weights)))\n",
    "    \n",
    "    def get_loss(self, x, weights, y):\n",
    "        \"\"\"Calculate the loss.\"\"\"\n",
    "        regularization_term = (1 / (2 * self.C)) * np.linalg.norm(weights)\n",
    "        return np.log(1 + np.exp(-np.dot(weights, x.T) * y)).mean() + regularization_term\n",
    "     \n",
    "    def fit(self, X, y):\n",
    "        \"\"\"Fit the model.\n",
    "        \n",
    "        Args:\n",
    "            X: numpy array of shape (n_samples, n_features)\n",
    "            y: numpy array of shape (n_samples,)\n",
    "                Target vector.        \n",
    "        \"\"\"\n",
    "        X_ext = np.hstack([np.ones((X.shape[0], 1)), X]) # a constant feature is included to handle intercept\n",
    "        num_features = X_ext.shape[1]\n",
    "        if self.zero_init:\n",
    "            self.weights_ = np.zeros(num_features) \n",
    "        else:\n",
    "            weight_threshold = 1.0 / (2 * num_features)\n",
    "            self.weights_ = self.random_state.uniform(low=-weight_threshold,\n",
    "                                                      high=weight_threshold, size=num_features) # random weight initialization\n",
    "        \n",
    "        for i in range(self.max_iter):\n",
    "            delta = -np.dot(X_ext.T, (y * (1 - 1 / (1 + np.exp(-np.dot(self.weights_, X_ext.T) * y))))) / len(y) + self.weights_ / self.C\n",
    "            self.weights_ -= self.eta * delta\n",
    "            self.loss_history.append(self.get_loss(X_ext, self.weights_, y))\n",
    "            if np.linalg.norm(delta) < self.tol:\n",
    "                break\n",
    "     \n",
    "    def predict_proba(self, X):\n",
    "        \"\"\"Predict positive class probabilities.\n",
    "        \n",
    "        Args:\n",
    "            X: numpy array of shape (n_samples, n_features)\n",
    "        Returns:\n",
    "            y: numpy array of shape (n_samples,)\n",
    "                Vector containing positive class probabilities.\n",
    "        \"\"\"\n",
    "        X_ext = np.hstack([np.ones((X.shape[0], 1)), X])\n",
    "        if hasattr(self, 'weights_'):\n",
    "            return self.get_sigmoid(X_ext, self.weights_)\n",
    "        else: \n",
    "            raise NotFittedError(\"CustomLogisticRegression instance is not fitted yet\")\n",
    "    \n",
    "    def predict(self, X):\n",
    "        \"\"\"Predict classes.\n",
    "        \n",
    "        Args:\n",
    "            X: numpy array of shape (n_samples, n_features)\n",
    "        Returns:\n",
    "            y: numpy array of shape (n_samples,)\n",
    "                Vector containing predicted class labels.\n",
    "        \"\"\"\n",
    "        return np.where(self.predict_proba(X) >= 0.5, 1, -1)"
   ]
  },
  {
   "cell_type": "code",
   "execution_count": 5,
   "id": "4c614381",
   "metadata": {
    "execution": {
     "iopub.execute_input": "2022-04-03T20:19:53.363966Z",
     "iopub.status.busy": "2022-04-03T20:19:53.362099Z",
     "iopub.status.idle": "2022-04-03T20:19:53.442339Z",
     "shell.execute_reply": "2022-04-03T20:19:53.441551Z",
     "shell.execute_reply.started": "2022-04-03T20:09:23.014060Z"
    },
    "papermill": {
     "duration": 0.168096,
     "end_time": "2022-04-03T20:19:53.442554",
     "exception": false,
     "start_time": "2022-04-03T20:19:53.274458",
     "status": "completed"
    },
    "tags": []
   },
   "outputs": [],
   "source": [
    "from sklearn import datasets\n",
    "from sklearn import metrics"
   ]
  },
  {
   "cell_type": "code",
   "execution_count": 6,
   "id": "452d3639",
   "metadata": {
    "execution": {
     "iopub.execute_input": "2022-04-03T20:19:53.620439Z",
     "iopub.status.busy": "2022-04-03T20:19:53.619502Z",
     "iopub.status.idle": "2022-04-03T20:19:54.762582Z",
     "shell.execute_reply": "2022-04-03T20:19:54.763244Z",
     "shell.execute_reply.started": "2022-04-03T20:09:23.949004Z"
    },
    "papermill": {
     "duration": 1.236672,
     "end_time": "2022-04-03T20:19:54.763480",
     "exception": false,
     "start_time": "2022-04-03T20:19:53.526808",
     "status": "completed"
    },
    "tags": []
   },
   "outputs": [
    {
     "data": {
      "image/png": "[encoded data removed]",
      "text/plain": [
       "<Figure size 720x360 with 21 Axes>"
      ]
     },
     "metadata": {
      "needs_background": "light"
     },
     "output_type": "display_data"
    }
   ],
   "source": [
    "X, y = datasets.load_digits(n_class=10, return_X_y=True)\n",
    "\n",
    "_, axes = plt.subplots(nrows=3, ncols=7, figsize=(10, 5))\n",
    "for ax, image, label in zip(axes.flatten(), X, y):\n",
    "    ax.set_axis_off()\n",
    "    ax.imshow(image.reshape((8, 8)), cmap=plt.cm.gray_r if label % 2 else plt.cm.afmhot_r)\n",
    "    ax.set_title(label)\n",
    "\n",
    "X_train, X_test, y_train, y_test = train_test_split(X, y, test_size=0.2, shuffle=True, random_state=42)\n",
    "y_train = (y_train % 2) * 2 - 1\n",
    "y_test = (y_test % 2) * 2 - 1"
   ]
  },
  {
   "cell_type": "code",
   "execution_count": 7,
   "id": "8981a992",
   "metadata": {
    "execution": {
     "iopub.execute_input": "2022-04-03T20:19:54.943200Z",
     "iopub.status.busy": "2022-04-03T20:19:54.942024Z",
     "iopub.status.idle": "2022-04-03T20:19:54.948144Z",
     "shell.execute_reply": "2022-04-03T20:19:54.948732Z",
     "shell.execute_reply.started": "2022-04-03T20:09:24.859203Z"
    },
    "papermill": {
     "duration": 0.09715,
     "end_time": "2022-04-03T20:19:54.948952",
     "exception": false,
     "start_time": "2022-04-03T20:19:54.851802",
     "status": "completed"
    },
    "tags": []
   },
   "outputs": [],
   "source": [
    "assert (np.unique(y_train) == [-1, 1]).all()\n",
    "assert (np.unique(y_test) == [-1, 1]).all()"
   ]
  },
  {
   "cell_type": "code",
   "execution_count": 8,
   "id": "2a56ca52",
   "metadata": {
    "execution": {
     "iopub.execute_input": "2022-04-03T20:19:55.129974Z",
     "iopub.status.busy": "2022-04-03T20:19:55.129246Z",
     "iopub.status.idle": "2022-04-03T20:19:55.130680Z",
     "shell.execute_reply": "2022-04-03T20:19:55.131188Z",
     "shell.execute_reply.started": "2022-04-03T20:09:25.782303Z"
    },
    "papermill": {
     "duration": 0.095065,
     "end_time": "2022-04-03T20:19:55.131409",
     "exception": false,
     "start_time": "2022-04-03T20:19:55.036344",
     "status": "completed"
    },
    "tags": []
   },
   "outputs": [],
   "source": [
    "def fit_evaluate(clf, X_train, y_train, X_test, y_test):\n",
    "    clf.fit(X_train, y_train)\n",
    "    disp = metrics.plot_confusion_matrix(clf, X_test, y_test, normalize='true')\n",
    "    disp.figure_.suptitle(\"Confusion Matrix\")\n",
    "    plt.show()\n",
    "    \n",
    "    return metrics.accuracy_score(y_pred=clf.predict(X_train), y_true=y_train), \\\n",
    "           metrics.accuracy_score(y_pred=clf.predict(X_test), y_true=y_test)"
   ]
  },
  {
   "cell_type": "code",
   "execution_count": 9,
   "id": "547e877b",
   "metadata": {
    "execution": {
     "iopub.execute_input": "2022-04-03T20:19:55.309938Z",
     "iopub.status.busy": "2022-04-03T20:19:55.309026Z",
     "iopub.status.idle": "2022-04-03T20:19:55.313312Z",
     "shell.execute_reply": "2022-04-03T20:19:55.313820Z",
     "shell.execute_reply.started": "2022-04-03T20:09:26.703986Z"
    },
    "papermill": {
     "duration": 0.094901,
     "end_time": "2022-04-03T20:19:55.314026",
     "exception": false,
     "start_time": "2022-04-03T20:19:55.219125",
     "status": "completed"
    },
    "tags": []
   },
   "outputs": [],
   "source": [
    "lr_clf = CustomLogisticRegression(max_iter=1, zero_init=True)"
   ]
  },
  {
   "cell_type": "code",
   "execution_count": 10,
   "id": "0eaa2389",
   "metadata": {
    "execution": {
     "iopub.execute_input": "2022-04-03T20:19:55.489776Z",
     "iopub.status.busy": "2022-04-03T20:19:55.488952Z",
     "iopub.status.idle": "2022-04-03T20:19:55.494349Z",
     "shell.execute_reply": "2022-04-03T20:19:55.494979Z",
     "shell.execute_reply.started": "2022-04-03T20:09:27.619683Z"
    },
    "papermill": {
     "duration": 0.094345,
     "end_time": "2022-04-03T20:19:55.495256",
     "exception": false,
     "start_time": "2022-04-03T20:19:55.400911",
     "status": "completed"
    },
    "tags": []
   },
   "outputs": [],
   "source": [
    "assert np.allclose(lr_clf.get_sigmoid(np.array([[0.5, 0, 1.0], [0.3, 1.3, 1.0]]), np.array([0.5, -0.5, 0.1])),\n",
    "                   np.array([0.58662, 0.40131]))"
   ]
  },
  {
   "cell_type": "code",
   "execution_count": 11,
   "id": "15400b28",
   "metadata": {
    "execution": {
     "iopub.execute_input": "2022-04-03T20:19:55.675181Z",
     "iopub.status.busy": "2022-04-03T20:19:55.674495Z",
     "iopub.status.idle": "2022-04-03T20:19:55.683908Z",
     "shell.execute_reply": "2022-04-03T20:19:55.684816Z",
     "shell.execute_reply.started": "2022-04-03T20:09:28.545086Z"
    },
    "papermill": {
     "duration": 0.099578,
     "end_time": "2022-04-03T20:19:55.685175",
     "exception": false,
     "start_time": "2022-04-03T20:19:55.585597",
     "status": "completed"
    },
    "tags": []
   },
   "outputs": [],
   "source": [
    "lr_clf.fit(X_train, y_train)"
   ]
  },
  {
   "cell_type": "code",
   "execution_count": 12,
   "id": "ac0e0b79",
   "metadata": {
    "execution": {
     "iopub.execute_input": "2022-04-03T20:19:55.924500Z",
     "iopub.status.busy": "2022-04-03T20:19:55.923534Z",
     "iopub.status.idle": "2022-04-03T20:19:55.925282Z",
     "shell.execute_reply": "2022-04-03T20:19:55.925777Z",
     "shell.execute_reply.started": "2022-04-03T20:09:29.485679Z"
    },
    "papermill": {
     "duration": 0.098704,
     "end_time": "2022-04-03T20:19:55.925994",
     "exception": false,
     "start_time": "2022-04-03T20:19:55.827290",
     "status": "completed"
    },
    "tags": []
   },
   "outputs": [],
   "source": [
    "assert np.allclose(lr_clf.weights_, np.array([ 3.1000e-06,  0.0000e+00,  4.1800e-05,  5.4770e-04,  2.2130e-04,\n",
    "        4.8750e-04,  1.3577e-03,  5.9780e-04,  5.6400e-05, -7.0000e-07,\n",
    "        1.6910e-04,  2.5190e-04, -4.3700e-04,  3.6190e-04,  1.0049e-03,\n",
    "        4.2280e-04,  2.5700e-05,  3.0000e-07, -1.1500e-05, -7.2440e-04,\n",
    "       -2.6200e-04,  8.7540e-04,  4.1540e-04, -8.4200e-05, -5.2000e-06,\n",
    "        0.0000e+00, -2.2160e-04, -5.7130e-04,  9.8570e-04,  1.3507e-03,\n",
    "        5.0210e-04, -1.7050e-04, -1.0000e-06,  0.0000e+00, -6.7810e-04,\n",
    "       -1.0515e-03, -4.4500e-05,  3.7160e-04,  4.2100e-04, -8.1800e-05,\n",
    "        0.0000e+00, -5.2000e-06, -5.3410e-04, -2.0393e-03, -8.4310e-04,\n",
    "        1.0400e-04, -1.2390e-04, -1.7880e-04, -1.3200e-05, -4.5000e-06,\n",
    "       -9.4300e-05, -1.1127e-03, -5.0900e-04, -2.1850e-04, -5.6050e-04,\n",
    "       -3.9560e-04, -1.7700e-05, -3.0000e-07,  2.6800e-05,  6.3920e-04,\n",
    "        1.8090e-04, -7.3660e-04, -5.3930e-04, -3.7060e-04, -2.8200e-05]), atol=1e-5)"
   ]
  },
  {
   "cell_type": "code",
   "execution_count": 13,
   "id": "48a8818c",
   "metadata": {
    "execution": {
     "iopub.execute_input": "2022-04-03T20:19:56.101868Z",
     "iopub.status.busy": "2022-04-03T20:19:56.101159Z",
     "iopub.status.idle": "2022-04-03T20:19:56.105550Z",
     "shell.execute_reply": "2022-04-03T20:19:56.106011Z",
     "shell.execute_reply.started": "2022-04-03T20:09:30.434132Z"
    },
    "papermill": {
     "duration": 0.093255,
     "end_time": "2022-04-03T20:19:56.106224",
     "exception": false,
     "start_time": "2022-04-03T20:19:56.012969",
     "status": "completed"
    },
    "tags": []
   },
   "outputs": [],
   "source": [
    "model = CustomLogisticRegression()"
   ]
  },
  {
   "cell_type": "code",
   "execution_count": 14,
   "id": "d72f5dfe",
   "metadata": {
    "execution": {
     "iopub.execute_input": "2022-04-03T20:19:56.287765Z",
     "iopub.status.busy": "2022-04-03T20:19:56.286144Z",
     "iopub.status.idle": "2022-04-03T20:19:56.954760Z",
     "shell.execute_reply": "2022-04-03T20:19:56.956129Z",
     "shell.execute_reply.started": "2022-04-03T20:09:31.375779Z"
    },
    "papermill": {
     "duration": 0.764733,
     "end_time": "2022-04-03T20:19:56.956492",
     "exception": false,
     "start_time": "2022-04-03T20:19:56.191759",
     "status": "completed"
    },
    "tags": []
   },
   "outputs": [
    {
     "data": {
      "image/png": "[encoded data removed]",
      "text/plain": [
       "<Figure size 432x288 with 2 Axes>"
      ]
     },
     "metadata": {
      "needs_background": "light"
     },
     "output_type": "display_data"
    }
   ],
   "source": [
    "train_acc, test_acc = fit_evaluate(model, X_train, y_train, X_test, y_test)"
   ]
  },
  {
   "cell_type": "code",
   "execution_count": 15,
   "id": "d664ebd7",
   "metadata": {
    "execution": {
     "iopub.execute_input": "2022-04-03T20:19:57.187985Z",
     "iopub.status.busy": "2022-04-03T20:19:57.187239Z",
     "iopub.status.idle": "2022-04-03T20:19:57.191910Z",
     "shell.execute_reply": "2022-04-03T20:19:57.191308Z",
     "shell.execute_reply.started": "2022-04-03T20:09:32.298195Z"
    },
    "papermill": {
     "duration": 0.096245,
     "end_time": "2022-04-03T20:19:57.192092",
     "exception": false,
     "start_time": "2022-04-03T20:19:57.095847",
     "status": "completed"
    },
    "tags": []
   },
   "outputs": [
    {
     "data": {
      "text/plain": [
       "(0.9109255393180237, 0.9388888888888889)"
      ]
     },
     "execution_count": 15,
     "metadata": {},
     "output_type": "execute_result"
    }
   ],
   "source": [
    "train_acc, test_acc"
   ]
  },
  {
   "cell_type": "code",
   "execution_count": 16,
   "id": "3ed1b322",
   "metadata": {
    "execution": {
     "iopub.execute_input": "2022-04-03T20:19:57.372714Z",
     "iopub.status.busy": "2022-04-03T20:19:57.371532Z",
     "iopub.status.idle": "2022-04-03T20:19:57.375354Z",
     "shell.execute_reply": "2022-04-03T20:19:57.375886Z",
     "shell.execute_reply.started": "2022-04-03T20:09:33.224744Z"
    },
    "papermill": {
     "duration": 0.095884,
     "end_time": "2022-04-03T20:19:57.376103",
     "exception": false,
     "start_time": "2022-04-03T20:19:57.280219",
     "status": "completed"
    },
    "tags": []
   },
   "outputs": [],
   "source": [
    "assert min(train_acc, test_acc) > 0.9"
   ]
  },
  {
   "cell_type": "markdown",
   "id": "57d6fb38",
   "metadata": {
    "papermill": {
     "duration": 0.085771,
     "end_time": "2022-04-03T20:19:57.548865",
     "exception": false,
     "start_time": "2022-04-03T20:19:57.463094",
     "status": "completed"
    },
    "tags": []
   },
   "source": [
    "**(0.5 points)** Visualize the loss history."
   ]
  },
  {
   "cell_type": "code",
   "execution_count": 17,
   "id": "b1de8540",
   "metadata": {
    "execution": {
     "iopub.execute_input": "2022-04-03T20:19:57.750591Z",
     "iopub.status.busy": "2022-04-03T20:19:57.745002Z",
     "iopub.status.idle": "2022-04-03T20:19:57.938946Z",
     "shell.execute_reply": "2022-04-03T20:19:57.939507Z",
     "shell.execute_reply.started": "2022-04-03T20:09:34.303005Z"
    },
    "papermill": {
     "duration": 0.303144,
     "end_time": "2022-04-03T20:19:57.939728",
     "exception": false,
     "start_time": "2022-04-03T20:19:57.636584",
     "status": "completed"
    },
    "tags": []
   },
   "outputs": [
    {
     "data": {
      "image/png": "[encoded data removed]",
      "text/plain": [
       "<Figure size 432x288 with 1 Axes>"
      ]
     },
     "metadata": {
      "needs_background": "light"
     },
     "output_type": "display_data"
    }
   ],
   "source": [
    "plt.plot(model.loss_history);"
   ]
  },
  {
   "cell_type": "markdown",
   "id": "beb898f1",
   "metadata": {
    "papermill": {
     "duration": 0.086923,
     "end_time": "2022-04-03T20:19:58.116998",
     "exception": false,
     "start_time": "2022-04-03T20:19:58.030075",
     "status": "completed"
    },
    "tags": []
   },
   "source": [
    "**(0.5 points)** Try different learning rates and compare the results. How does the learning rate influence the convergence?"
   ]
  },
  {
   "cell_type": "markdown",
   "id": "d9ceab4b",
   "metadata": {
    "papermill": {
     "duration": 0.087158,
     "end_time": "2022-04-03T20:19:58.293134",
     "exception": false,
     "start_time": "2022-04-03T20:19:58.205976",
     "status": "completed"
    },
    "tags": []
   },
   "source": [
    "The default value for ETA is 0.001, and we see the plot for our model above. Let's fit_evaluate model for 1, 0.1, 0.01 and 0.0001 learning rates. "
   ]
  },
  {
   "cell_type": "code",
   "execution_count": 18,
   "id": "efbbba39",
   "metadata": {
    "execution": {
     "iopub.execute_input": "2022-04-03T20:19:58.476746Z",
     "iopub.status.busy": "2022-04-03T20:19:58.475540Z",
     "iopub.status.idle": "2022-04-03T20:19:59.218710Z",
     "shell.execute_reply": "2022-04-03T20:19:59.219714Z",
     "shell.execute_reply.started": "2022-04-03T20:09:35.325166Z"
    },
    "papermill": {
     "duration": 0.838653,
     "end_time": "2022-04-03T20:19:59.220059",
     "exception": false,
     "start_time": "2022-04-03T20:19:58.381406",
     "status": "completed"
    },
    "tags": []
   },
   "outputs": [
    {
     "data": {
      "image/png": "[encoded data removed]",
      "text/plain": [
       "<Figure size 432x288 with 2 Axes>"
      ]
     },
     "metadata": {
      "needs_background": "light"
     },
     "output_type": "display_data"
    },
    {
     "data": {
      "text/plain": [
       "(0.4968684759916493, 0.49166666666666664)"
      ]
     },
     "execution_count": 18,
     "metadata": {},
     "output_type": "execute_result"
    }
   ],
   "source": [
    "model = CustomLogisticRegression(eta = 1)\n",
    "fit_evaluate(model, X_train, y_train, X_test, y_test)"
   ]
  },
  {
   "cell_type": "code",
   "execution_count": 19,
   "id": "d4764524",
   "metadata": {
    "execution": {
     "iopub.execute_input": "2022-04-03T20:19:59.476299Z",
     "iopub.status.busy": "2022-04-03T20:19:59.475003Z",
     "iopub.status.idle": "2022-04-03T20:20:00.112650Z",
     "shell.execute_reply": "2022-04-03T20:20:00.113636Z",
     "shell.execute_reply.started": "2022-04-03T20:09:36.395500Z"
    },
    "papermill": {
     "duration": 0.750253,
     "end_time": "2022-04-03T20:20:00.113979",
     "exception": false,
     "start_time": "2022-04-03T20:19:59.363726",
     "status": "completed"
    },
    "tags": []
   },
   "outputs": [
    {
     "data": {
      "image/png": "[encoded data removed]",
      "text/plain": [
       "<Figure size 432x288 with 2 Axes>"
      ]
     },
     "metadata": {
      "needs_background": "light"
     },
     "output_type": "display_data"
    },
    {
     "data": {
      "text/plain": [
       "(0.5455810716771051, 0.5277777777777778)"
      ]
     },
     "execution_count": 19,
     "metadata": {},
     "output_type": "execute_result"
    }
   ],
   "source": [
    "model = CustomLogisticRegression(eta = 0.1)\n",
    "fit_evaluate(model, X_train, y_train, X_test, y_test)"
   ]
  },
  {
   "cell_type": "code",
   "execution_count": 20,
   "id": "95137505",
   "metadata": {
    "execution": {
     "iopub.execute_input": "2022-04-03T20:20:00.351989Z",
     "iopub.status.busy": "2022-04-03T20:20:00.350362Z",
     "iopub.status.idle": "2022-04-03T20:20:00.941520Z",
     "shell.execute_reply": "2022-04-03T20:20:00.942582Z",
     "shell.execute_reply.started": "2022-04-03T20:09:37.379240Z"
    },
    "papermill": {
     "duration": 0.687002,
     "end_time": "2022-04-03T20:20:00.942899",
     "exception": false,
     "start_time": "2022-04-03T20:20:00.255897",
     "status": "completed"
    },
    "tags": []
   },
   "outputs": [
    {
     "data": {
      "image/png": "[encoded data removed]",
      "text/plain": [
       "<Figure size 432x288 with 2 Axes>"
      ]
     },
     "metadata": {
      "needs_background": "light"
     },
     "output_type": "display_data"
    },
    {
     "data": {
      "text/plain": [
       "(0.7731384829505915, 0.7527777777777778)"
      ]
     },
     "execution_count": 20,
     "metadata": {},
     "output_type": "execute_result"
    }
   ],
   "source": [
    "model = CustomLogisticRegression(eta = 0.01)\n",
    "fit_evaluate(model, X_train, y_train, X_test, y_test)"
   ]
  },
  {
   "cell_type": "code",
   "execution_count": 21,
   "id": "a1df02b1",
   "metadata": {
    "execution": {
     "iopub.execute_input": "2022-04-03T20:20:01.189956Z",
     "iopub.status.busy": "2022-04-03T20:20:01.186893Z",
     "iopub.status.idle": "2022-04-03T20:20:01.797965Z",
     "shell.execute_reply": "2022-04-03T20:20:01.798950Z",
     "shell.execute_reply.started": "2022-04-03T20:09:38.962649Z"
    },
    "papermill": {
     "duration": 0.707891,
     "end_time": "2022-04-03T20:20:01.799334",
     "exception": false,
     "start_time": "2022-04-03T20:20:01.091443",
     "status": "completed"
    },
    "tags": []
   },
   "outputs": [
    {
     "data": {
      "image/png": "[encoded data removed]",
      "text/plain": [
       "<Figure size 432x288 with 2 Axes>"
      ]
     },
     "metadata": {
      "needs_background": "light"
     },
     "output_type": "display_data"
    },
    {
     "data": {
      "text/plain": [
       "(0.8844815588030619, 0.9111111111111111)"
      ]
     },
     "execution_count": 21,
     "metadata": {},
     "output_type": "execute_result"
    }
   ],
   "source": [
    "model = CustomLogisticRegression(eta = 0.0001)\n",
    "fit_evaluate(model, X_train, y_train, X_test, y_test)"
   ]
  },
  {
   "cell_type": "markdown",
   "id": "e5f731c0",
   "metadata": {
    "papermill": {
     "duration": 0.093006,
     "end_time": "2022-04-03T20:20:02.037723",
     "exception": false,
     "start_time": "2022-04-03T20:20:01.944717",
     "status": "completed"
    },
    "tags": []
   },
   "source": [
    "> As we see, finding a correct learning rate is important. The learning rate determines how rapidly we update the parameters. If the learning rate is too large, we may \"overshoot\" the optimal value, i.e. we will never reach global minima. However, if the learning rate is set to be too small, we will need too many iterations to converge to the best values. "
   ]
  },
  {
   "cell_type": "markdown",
   "id": "8eae04e5",
   "metadata": {
    "papermill": {
     "duration": 0.092288,
     "end_time": "2022-04-03T20:20:02.224402",
     "exception": false,
     "start_time": "2022-04-03T20:20:02.132114",
     "status": "completed"
    },
    "tags": []
   },
   "source": [
    "**(0.5 points)** Try different regularization parameter values and compare the model quality."
   ]
  },
  {
   "cell_type": "markdown",
   "id": "ecedb8c0",
   "metadata": {
    "papermill": {
     "duration": 0.092417,
     "end_time": "2022-04-03T20:20:02.409439",
     "exception": false,
     "start_time": "2022-04-03T20:20:02.317022",
     "status": "completed"
    },
    "tags": []
   },
   "source": [
    "The default value for regularization parameter is set to 1.0, and we see the plot for our model above. Let's fit_evaluate model for setting the C to 10, 0.5, 0.1 and 0.01 learning rates. "
   ]
  },
  {
   "cell_type": "code",
   "execution_count": 22,
   "id": "b97203ed",
   "metadata": {
    "execution": {
     "iopub.execute_input": "2022-04-03T20:20:02.604244Z",
     "iopub.status.busy": "2022-04-03T20:20:02.602455Z",
     "iopub.status.idle": "2022-04-03T20:20:03.253206Z",
     "shell.execute_reply": "2022-04-03T20:20:03.254125Z",
     "shell.execute_reply.started": "2022-04-03T20:09:40.541319Z"
    },
    "papermill": {
     "duration": 0.752775,
     "end_time": "2022-04-03T20:20:03.254480",
     "exception": false,
     "start_time": "2022-04-03T20:20:02.501705",
     "status": "completed"
    },
    "tags": []
   },
   "outputs": [
    {
     "data": {
      "image/png": "[encoded data removed]",
      "text/plain": [
       "<Figure size 432x288 with 2 Axes>"
      ]
     },
     "metadata": {
      "needs_background": "light"
     },
     "output_type": "display_data"
    },
    {
     "data": {
      "text/plain": [
       "(0.9151009046624913, 0.9416666666666667)"
      ]
     },
     "execution_count": 22,
     "metadata": {},
     "output_type": "execute_result"
    }
   ],
   "source": [
    "model = CustomLogisticRegression(C = 10)\n",
    "fit_evaluate(model, X_train, y_train, X_test, y_test)"
   ]
  },
  {
   "cell_type": "code",
   "execution_count": 23,
   "id": "0d6ff3e4",
   "metadata": {
    "execution": {
     "iopub.execute_input": "2022-04-03T20:20:03.502414Z",
     "iopub.status.busy": "2022-04-03T20:20:03.500925Z",
     "iopub.status.idle": "2022-04-03T20:20:04.152882Z",
     "shell.execute_reply": "2022-04-03T20:20:04.153452Z",
     "shell.execute_reply.started": "2022-04-03T20:09:41.510040Z"
    },
    "papermill": {
     "duration": 0.753236,
     "end_time": "2022-04-03T20:20:04.153675",
     "exception": false,
     "start_time": "2022-04-03T20:20:03.400439",
     "status": "completed"
    },
    "tags": []
   },
   "outputs": [
    {
     "data": {
      "image/png": "[encoded data removed]",
      "text/plain": [
       "<Figure size 432x288 with 2 Axes>"
      ]
     },
     "metadata": {
      "needs_background": "light"
     },
     "output_type": "display_data"
    },
    {
     "data": {
      "text/plain": [
       "(0.9039665970772442, 0.9277777777777778)"
      ]
     },
     "execution_count": 23,
     "metadata": {},
     "output_type": "execute_result"
    }
   ],
   "source": [
    "model = CustomLogisticRegression(C = 0.5)\n",
    "fit_evaluate(model, X_train, y_train, X_test, y_test)"
   ]
  },
  {
   "cell_type": "code",
   "execution_count": 24,
   "id": "0256583d",
   "metadata": {
    "execution": {
     "iopub.execute_input": "2022-04-03T20:20:04.402762Z",
     "iopub.status.busy": "2022-04-03T20:20:04.400546Z",
     "iopub.status.idle": "2022-04-03T20:20:05.055760Z",
     "shell.execute_reply": "2022-04-03T20:20:05.056666Z",
     "shell.execute_reply.started": "2022-04-03T20:09:42.476083Z"
    },
    "papermill": {
     "duration": 0.756169,
     "end_time": "2022-04-03T20:20:05.057027",
     "exception": false,
     "start_time": "2022-04-03T20:20:04.300858",
     "status": "completed"
    },
    "tags": []
   },
   "outputs": [
    {
     "data": {
      "image/png": "[encoded data removed]",
      "text/plain": [
       "<Figure size 432x288 with 2 Axes>"
      ]
     },
     "metadata": {
      "needs_background": "light"
     },
     "output_type": "display_data"
    },
    {
     "data": {
      "text/plain": [
       "(0.8879610299234516, 0.9138888888888889)"
      ]
     },
     "execution_count": 24,
     "metadata": {},
     "output_type": "execute_result"
    }
   ],
   "source": [
    "model = CustomLogisticRegression(C = 0.1)\n",
    "fit_evaluate(model, X_train, y_train, X_test, y_test)"
   ]
  },
  {
   "cell_type": "code",
   "execution_count": 25,
   "id": "89736bb1",
   "metadata": {
    "execution": {
     "iopub.execute_input": "2022-04-03T20:20:05.312648Z",
     "iopub.status.busy": "2022-04-03T20:20:05.309965Z",
     "iopub.status.idle": "2022-04-03T20:20:05.621085Z",
     "shell.execute_reply": "2022-04-03T20:20:05.622227Z",
     "shell.execute_reply.started": "2022-04-03T20:09:43.452087Z"
    },
    "papermill": {
     "duration": 0.415316,
     "end_time": "2022-04-03T20:20:05.622589",
     "exception": false,
     "start_time": "2022-04-03T20:20:05.207273",
     "status": "completed"
    },
    "tags": []
   },
   "outputs": [
    {
     "data": {
      "image/png": "[encoded data removed]",
      "text/plain": [
       "<Figure size 432x288 with 2 Axes>"
      ]
     },
     "metadata": {
      "needs_background": "light"
     },
     "output_type": "display_data"
    },
    {
     "data": {
      "text/plain": [
       "(0.8455114822546973, 0.875)"
      ]
     },
     "execution_count": 25,
     "metadata": {},
     "output_type": "execute_result"
    }
   ],
   "source": [
    "model = CustomLogisticRegression(C = 0.01)\n",
    "fit_evaluate(model, X_train, y_train, X_test, y_test)"
   ]
  },
  {
   "cell_type": "markdown",
   "id": "3c75f6e3",
   "metadata": {
    "papermill": {
     "duration": 0.098199,
     "end_time": "2022-04-03T20:20:05.872930",
     "exception": false,
     "start_time": "2022-04-03T20:20:05.774731",
     "status": "completed"
    },
    "tags": []
   },
   "source": [
    "> As we see, lesser regularisation parameter leads to lesser accuracy, because our model starts to overfit. When creating a model it is important to find an optimal regularisation parameter, that will prevent our model both from over- and underfitting. Based on the plots above, **C = 10** can be considered as an optimal value compared to default 1.0"
   ]
  },
  {
   "cell_type": "markdown",
   "id": "e287ad9a",
   "metadata": {
    "papermill": {
     "duration": 0.100675,
     "end_time": "2022-04-03T20:20:06.072666",
     "exception": false,
     "start_time": "2022-04-03T20:20:05.971991",
     "status": "completed"
    },
    "tags": []
   },
   "source": [
    "**(0.5 points)** Compare zero initialization and random initialization. "
   ]
  },
  {
   "cell_type": "code",
   "execution_count": 26,
   "id": "79952a08",
   "metadata": {
    "execution": {
     "iopub.execute_input": "2022-04-03T20:20:06.276396Z",
     "iopub.status.busy": "2022-04-03T20:20:06.275011Z",
     "iopub.status.idle": "2022-04-03T20:20:06.963088Z",
     "shell.execute_reply": "2022-04-03T20:20:06.964032Z",
     "shell.execute_reply.started": "2022-04-03T20:09:44.438711Z"
    },
    "papermill": {
     "duration": 0.793154,
     "end_time": "2022-04-03T20:20:06.964389",
     "exception": false,
     "start_time": "2022-04-03T20:20:06.171235",
     "status": "completed"
    },
    "tags": []
   },
   "outputs": [
    {
     "data": {
      "image/png": "[encoded data removed]",
      "text/plain": [
       "<Figure size 432x288 with 2 Axes>"
      ]
     },
     "metadata": {
      "needs_background": "light"
     },
     "output_type": "display_data"
    },
    {
     "data": {
      "text/plain": [
       "(0.9116214335421016, 0.9388888888888889)"
      ]
     },
     "execution_count": 26,
     "metadata": {},
     "output_type": "execute_result"
    }
   ],
   "source": [
    "model = CustomLogisticRegression(zero_init = True)\n",
    "fit_evaluate(model, X_train, y_train, X_test, y_test)"
   ]
  },
  {
   "cell_type": "code",
   "execution_count": 27,
   "id": "e1d388f6",
   "metadata": {
    "execution": {
     "iopub.execute_input": "2022-04-03T20:20:07.223023Z",
     "iopub.status.busy": "2022-04-03T20:20:07.221763Z",
     "iopub.status.idle": "2022-04-03T20:20:07.849522Z",
     "shell.execute_reply": "2022-04-03T20:20:07.850414Z",
     "shell.execute_reply.started": "2022-04-03T20:09:45.498246Z"
    },
    "papermill": {
     "duration": 0.735424,
     "end_time": "2022-04-03T20:20:07.850797",
     "exception": false,
     "start_time": "2022-04-03T20:20:07.115373",
     "status": "completed"
    },
    "tags": []
   },
   "outputs": [
    {
     "data": {
      "image/png": "[encoded data removed]",
      "text/plain": [
       "<Figure size 432x288 with 2 Axes>"
      ]
     },
     "metadata": {
      "needs_background": "light"
     },
     "output_type": "display_data"
    },
    {
     "data": {
      "text/plain": [
       "(0.9116214335421016, 0.9416666666666667)"
      ]
     },
     "execution_count": 27,
     "metadata": {},
     "output_type": "execute_result"
    }
   ],
   "source": [
    "model = CustomLogisticRegression(random_state = 0)\n",
    "fit_evaluate(model, X_train, y_train, X_test, y_test)"
   ]
  },
  {
   "cell_type": "markdown",
   "id": "1131df23",
   "metadata": {
    "papermill": {
     "duration": 0.102141,
     "end_time": "2022-04-03T20:20:08.106986",
     "exception": false,
     "start_time": "2022-04-03T20:20:08.004845",
     "status": "completed"
    },
    "tags": []
   },
   "source": [
    "> In our example, the difference is not significant."
   ]
  },
  {
   "cell_type": "markdown",
   "id": "807410dc",
   "metadata": {
    "papermill": {
     "duration": 0.10031,
     "end_time": "2022-04-03T20:20:08.309373",
     "exception": false,
     "start_time": "2022-04-03T20:20:08.209063",
     "status": "completed"
    },
    "tags": []
   },
   "source": [
    "## Part 2: Implementing KNN Classifier"
   ]
  },
  {
   "cell_type": "markdown",
   "id": "70927008",
   "metadata": {
    "papermill": {
     "duration": 0.100115,
     "end_time": "2022-04-03T20:20:08.509789",
     "exception": false,
     "start_time": "2022-04-03T20:20:08.409674",
     "status": "completed"
    },
    "tags": []
   },
   "source": [
    "In this task you need to implement weighted K-Neighbors Classifier."
   ]
  },
  {
   "cell_type": "markdown",
   "id": "1fe9ccc3",
   "metadata": {
    "papermill": {
     "duration": 0.099957,
     "end_time": "2022-04-03T20:20:08.710646",
     "exception": false,
     "start_time": "2022-04-03T20:20:08.610689",
     "status": "completed"
    },
    "tags": []
   },
   "source": [
    "Recall that training a KNN classifier is simply memorizing a training sample. \n",
    "\n",
    "The process of applying a classifier for one object is to find the distances from it to all objects in the training data, then select the k nearest objects (neighbors) and return the most common class among these objects."
   ]
  },
  {
   "cell_type": "markdown",
   "id": "f190b0af",
   "metadata": {
    "papermill": {
     "duration": 0.101852,
     "end_time": "2022-04-03T20:20:08.914551",
     "exception": false,
     "start_time": "2022-04-03T20:20:08.812699",
     "status": "completed"
    },
    "tags": []
   },
   "source": [
    "You can also give the nearest neighbors weights in accordance with the distance of the object to them. In the simplest case (as in your assignment), you can set the weights inversely proportional to that distance. \n",
    "\n",
    "$$w_{i} = \\frac{1}{d_{i} + eps},$$\n",
    "\n",
    "where $d_{i}$ is the distance between object and i-th nearest neighbor and $eps$ is the small value to prevent division by zero.\n",
    "\n",
    "In case of 'uniform' weights, all k nearest neighbors are equivalent (have equal weight, for example $w_{i} = 1, \\forall i \\in(1,k)$)."
   ]
  },
  {
   "cell_type": "markdown",
   "id": "f79c104b",
   "metadata": {
    "papermill": {
     "duration": 0.10253,
     "end_time": "2022-04-03T20:20:09.116715",
     "exception": false,
     "start_time": "2022-04-03T20:20:09.014185",
     "status": "completed"
    },
    "tags": []
   },
   "source": [
    "To predict the probability of classes, it is necessary to normalize the weights of each class, dividing them by the sum:\n",
    "\n",
    "$$p_{i} = \\frac{w_{i}}{\\sum_{j=1}^{c}w_{j}},$$\n",
    "\n",
    "where $p_i$ is probability of i-th class and $c$ is the number of classes."
   ]
  },
  {
   "cell_type": "markdown",
   "id": "7227b50e",
   "metadata": {
    "papermill": {
     "duration": 0.099639,
     "end_time": "2022-04-03T20:20:09.316626",
     "exception": false,
     "start_time": "2022-04-03T20:20:09.216987",
     "status": "completed"
    },
    "tags": []
   },
   "source": [
    "**(2 points)** Implement the algorithm and use it to classify the digits. By implementing this algorithm, you will be able to classify numbers not only into \"even\" or \"odd\", but into their real representation."
   ]
  },
  {
   "cell_type": "code",
   "execution_count": 28,
   "id": "d5027776",
   "metadata": {
    "execution": {
     "iopub.execute_input": "2022-04-03T20:20:09.831931Z",
     "iopub.status.busy": "2022-04-03T20:20:09.831057Z",
     "iopub.status.idle": "2022-04-03T20:20:09.845380Z",
     "shell.execute_reply": "2022-04-03T20:20:09.845991Z",
     "shell.execute_reply.started": "2022-04-03T20:09:46.818249Z"
    },
    "papermill": {
     "duration": 0.426469,
     "end_time": "2022-04-03T20:20:09.846205",
     "exception": false,
     "start_time": "2022-04-03T20:20:09.419736",
     "status": "completed"
    },
    "tags": []
   },
   "outputs": [],
   "source": [
    "class CustomKNeighborsClassifier:\n",
    "    _estimator_type = \"classifier\"\n",
    "    \n",
    "    def __init__(self, n_neighbors=5, weights='uniform', eps=1e-9):\n",
    "        \"\"\"K-Nearest Neighbors classifier.\n",
    "        \n",
    "        Args:\n",
    "            n_neighbors: int, default=5\n",
    "                Number of neighbors to use by default for :meth:`kneighbors` queries.\n",
    "            weights : {'uniform', 'distance'} or callable, default='uniform'\n",
    "                Weight function used in prediction.  Possible values:\n",
    "                - 'uniform' : uniform weights.  All points in each neighborhood\n",
    "                  are weighted equally.\n",
    "                - 'distance' : weight points by the inverse of their distance.\n",
    "                  in this case, closer neighbors of a query point will have a\n",
    "                  greater influence than neighbors which are further away.\n",
    "            eps : float, default=1e-5\n",
    "                Epsilon to prevent division by 0 \n",
    "        \"\"\"\n",
    "        self.n_neighbors = n_neighbors\n",
    "        self.weights = weights\n",
    "        self.eps = eps\n",
    "        \n",
    "    \n",
    "    def get_pairwise_distances(self, X, Y):\n",
    "        \"\"\"\n",
    "        Returnes matrix of the pairwise distances between the rows from both X and Y.\n",
    "        Args:\n",
    "            X: numpy array of shape (n_samples, n_features)\n",
    "            Y: numpy array of shape (k_samples, n_features)\n",
    "        Returns:\n",
    "            P: numpy array of shape (n_samples, k_samples)\n",
    "                Matrix in which (i, j) value is the distance \n",
    "                between i'th row from the X and j'th row from the Y.\n",
    "        \"\"\"\n",
    "        return sklearn.metrics.pairwise.euclidean_distances(X, Y)\n",
    "    \n",
    "    \n",
    "    def get_class_weights(self, y, weights):\n",
    "        \"\"\"\n",
    "        Returns a vector with sum of weights for each class \n",
    "        Args:\n",
    "            y: numpy array of shape (n_samles,)\n",
    "            weights: numpy array of shape (n_samples,)\n",
    "                The weights of the corresponding points of y.\n",
    "        Returns:\n",
    "            p: numpy array of shape (n_classes)\n",
    "                Array where the value at the i-th position \n",
    "                corresponds to the weight of the i-th class.\n",
    "        \"\"\"\n",
    "        res = []\n",
    "        for i in self.classes_:\n",
    "            sum = 0\n",
    "            for j in range(len(y)):\n",
    "                if y[j] == i:\n",
    "                    sum = sum + weights[j]\n",
    "            res.append(sum)\n",
    "        return res\n",
    "            \n",
    "        \n",
    "    def fit(self, X, y):\n",
    "        \"\"\"Fit the model.\n",
    "        \n",
    "        Args:\n",
    "            X: numpy array of shape (n_samples, n_features)\n",
    "            y: numpy array of shape (n_samples,)\n",
    "                Target vector.        \n",
    "        \"\"\"\n",
    "        self.points = X\n",
    "        self.y = y\n",
    "        self.classes_ = np.unique(y)\n",
    "        \n",
    "        \n",
    "    def predict_proba(self, X):\n",
    "        \"\"\"Predict positive class probabilities.\n",
    "        \n",
    "        Args:\n",
    "            X: numpy array of shape (n_samples, n_features)\n",
    "        Returns:\n",
    "            y: numpy array of shape (n_samples, n_classes)\n",
    "                Vector containing positive class probabilities.\n",
    "        \"\"\"\n",
    "        if hasattr(self, 'points'):\n",
    "            P = self.get_pairwise_distances(X, self.points)\n",
    "            closest_distances = P.argsort(axis=1)[:, :self.n_neighbors]\n",
    "            smallest_distances = P[np.arange(len(P))[:,None], closest_distances]\n",
    "            weights_of_points = np.ones(P.shape)\n",
    "            if self.weights == 'distance':\n",
    "                weights_of_points = 1 / np.maximum(smallest_distances, self.eps)\n",
    "            label_count = []\n",
    "            for i in range(len(P)):\n",
    "                label_count.append(self.get_class_weights(self.y[closest_distances][i], weights_of_points[i]))\n",
    "            return np.array(np.array(label_count) / np.expand_dims(np.array(label_count).sum(axis=1), 1))\n",
    "        else: \n",
    "            raise NotFittedError(\"CustomKNeighborsClassifier instance is not fitted yet\")\n",
    "\n",
    "    def predict(self, X):\n",
    "        \"\"\"Predict classes..\n",
    "        \n",
    "        Args:\n",
    "            X: numpy array of shape (n_samples, n_features)\n",
    "        Returns:\n",
    "            y: numpy array of shape (n_samples,)\n",
    "                Vector containing predicted class labels.\n",
    "        \"\"\"\n",
    "        return self.predict_proba(X).argmax(axis = 1)"
   ]
  },
  {
   "cell_type": "code",
   "execution_count": 29,
   "id": "1fff484b",
   "metadata": {
    "execution": {
     "iopub.execute_input": "2022-04-03T20:20:10.050688Z",
     "iopub.status.busy": "2022-04-03T20:20:10.049955Z",
     "iopub.status.idle": "2022-04-03T20:20:10.054015Z",
     "shell.execute_reply": "2022-04-03T20:20:10.054636Z",
     "shell.execute_reply.started": "2022-04-03T20:09:48.317986Z"
    },
    "papermill": {
     "duration": 0.107971,
     "end_time": "2022-04-03T20:20:10.054844",
     "exception": false,
     "start_time": "2022-04-03T20:20:09.946873",
     "status": "completed"
    },
    "tags": []
   },
   "outputs": [],
   "source": [
    "model = CustomKNeighborsClassifier(n_neighbors=5, weights='distance')\n",
    "knn = KNeighborsClassifier(n_neighbors=5, weights='distance')"
   ]
  },
  {
   "cell_type": "code",
   "execution_count": 30,
   "id": "977da048",
   "metadata": {
    "execution": {
     "iopub.execute_input": "2022-04-03T20:20:10.262773Z",
     "iopub.status.busy": "2022-04-03T20:20:10.262040Z",
     "iopub.status.idle": "2022-04-03T20:20:10.267730Z",
     "shell.execute_reply": "2022-04-03T20:20:10.268246Z",
     "shell.execute_reply.started": "2022-04-03T20:09:49.837779Z"
    },
    "papermill": {
     "duration": 0.109977,
     "end_time": "2022-04-03T20:20:10.268449",
     "exception": false,
     "start_time": "2022-04-03T20:20:10.158472",
     "status": "completed"
    },
    "tags": []
   },
   "outputs": [],
   "source": [
    "assert np.allclose(model.get_pairwise_distances(np.array([[0  , 1]  , [1, 1]]), \n",
    "                                                np.array([[0.5, 0.5], [1, 0]])),\n",
    "                   np.array([[0.70710678, 1.41421356],\n",
    "                             [0.70710678, 1.        ]]))"
   ]
  },
  {
   "cell_type": "code",
   "execution_count": 31,
   "id": "39d8a85c",
   "metadata": {
    "execution": {
     "iopub.execute_input": "2022-04-03T20:20:10.505136Z",
     "iopub.status.busy": "2022-04-03T20:20:10.504364Z",
     "iopub.status.idle": "2022-04-03T20:20:10.509154Z",
     "shell.execute_reply": "2022-04-03T20:20:10.509731Z",
     "shell.execute_reply.started": "2022-04-03T20:09:50.767902Z"
    },
    "papermill": {
     "duration": 0.132322,
     "end_time": "2022-04-03T20:20:10.509962",
     "exception": false,
     "start_time": "2022-04-03T20:20:10.377640",
     "status": "completed"
    },
    "tags": []
   },
   "outputs": [],
   "source": [
    "model.classes_ = ['one', 'two', 'three']\n",
    "assert np.allclose(model.get_class_weights(np.array(['one', 'one', 'three', 'two']), np.array([1, 1, 0, 4])), \n",
    "                   np.array([2,4,0]))"
   ]
  },
  {
   "cell_type": "code",
   "execution_count": 32,
   "id": "87dc7c7a",
   "metadata": {
    "execution": {
     "iopub.execute_input": "2022-04-03T20:20:10.720531Z",
     "iopub.status.busy": "2022-04-03T20:20:10.719767Z",
     "iopub.status.idle": "2022-04-03T20:20:11.607076Z",
     "shell.execute_reply": "2022-04-03T20:20:11.607606Z",
     "shell.execute_reply.started": "2022-04-03T20:09:51.706501Z"
    },
    "papermill": {
     "duration": 0.995807,
     "end_time": "2022-04-03T20:20:11.607803",
     "exception": false,
     "start_time": "2022-04-03T20:20:10.611996",
     "status": "completed"
    },
    "tags": []
   },
   "outputs": [
    {
     "data": {
      "image/png": "[encoded data removed]",
      "text/plain": [
       "<Figure size 720x360 with 21 Axes>"
      ]
     },
     "metadata": {
      "needs_background": "light"
     },
     "output_type": "display_data"
    }
   ],
   "source": [
    "X, y = datasets.load_digits(n_class=10, return_X_y=True)\n",
    "\n",
    "_, axes = plt.subplots(nrows=3, ncols=7, figsize=(10, 5))\n",
    "for ax, image, label in zip(axes.flatten(), X, y):\n",
    "    ax.set_axis_off()\n",
    "    ax.imshow(image.reshape((8, 8)), cmap=plt.cm.gray_r if label % 2 else plt.cm.afmhot_r)\n",
    "    ax.set_title(label)\n",
    "\n",
    "X_train, X_test, y_train, y_test = train_test_split(X, y, test_size=0.2, shuffle=True, random_state=42)"
   ]
  },
  {
   "cell_type": "code",
   "execution_count": 33,
   "id": "b4b328f6",
   "metadata": {
    "execution": {
     "iopub.execute_input": "2022-04-03T20:20:11.817615Z",
     "iopub.status.busy": "2022-04-03T20:20:11.816555Z",
     "iopub.status.idle": "2022-04-03T20:20:11.824017Z",
     "shell.execute_reply": "2022-04-03T20:20:11.824504Z",
     "shell.execute_reply.started": "2022-04-03T20:09:52.862894Z"
    },
    "papermill": {
     "duration": 0.114789,
     "end_time": "2022-04-03T20:20:11.824736",
     "exception": false,
     "start_time": "2022-04-03T20:20:11.709947",
     "status": "completed"
    },
    "tags": []
   },
   "outputs": [],
   "source": [
    "model.fit(X_train, y_train)\n",
    "knn.fit(X_train, list(map(str, y_train)));"
   ]
  },
  {
   "cell_type": "code",
   "execution_count": 34,
   "id": "f887c05e",
   "metadata": {
    "execution": {
     "iopub.execute_input": "2022-04-03T20:20:12.035900Z",
     "iopub.status.busy": "2022-04-03T20:20:12.034823Z",
     "iopub.status.idle": "2022-04-03T20:20:12.171838Z",
     "shell.execute_reply": "2022-04-03T20:20:12.172882Z",
     "shell.execute_reply.started": "2022-04-03T20:09:53.594821Z"
    },
    "papermill": {
     "duration": 0.243356,
     "end_time": "2022-04-03T20:20:12.173262",
     "exception": false,
     "start_time": "2022-04-03T20:20:11.929906",
     "status": "completed"
    },
    "tags": []
   },
   "outputs": [],
   "source": [
    "assert np.allclose(model.predict_proba(X_test), knn.predict_proba(X_test))"
   ]
  },
  {
   "cell_type": "code",
   "execution_count": 35,
   "id": "edd4908f",
   "metadata": {
    "execution": {
     "iopub.execute_input": "2022-04-03T20:20:12.424940Z",
     "iopub.status.busy": "2022-04-03T20:20:12.424082Z",
     "iopub.status.idle": "2022-04-03T20:20:13.528653Z",
     "shell.execute_reply": "2022-04-03T20:20:13.527206Z",
     "shell.execute_reply.started": "2022-04-03T20:09:54.535558Z"
    },
    "papermill": {
     "duration": 1.211201,
     "end_time": "2022-04-03T20:20:13.528927",
     "exception": false,
     "start_time": "2022-04-03T20:20:12.317726",
     "status": "completed"
    },
    "tags": []
   },
   "outputs": [
    {
     "data": {
      "image/png": "[encoded data removed]",
      "text/plain": [
       "<Figure size 432x288 with 2 Axes>"
      ]
     },
     "metadata": {
      "needs_background": "light"
     },
     "output_type": "display_data"
    }
   ],
   "source": [
    "train_acc, test_acc = fit_evaluate(model, X_train, y_train, X_test, y_test)"
   ]
  },
  {
   "cell_type": "code",
   "execution_count": 36,
   "id": "91ba4f7a",
   "metadata": {
    "execution": {
     "iopub.execute_input": "2022-04-03T20:20:13.748742Z",
     "iopub.status.busy": "2022-04-03T20:20:13.746898Z",
     "iopub.status.idle": "2022-04-03T20:20:13.752018Z",
     "shell.execute_reply": "2022-04-03T20:20:13.751476Z",
     "shell.execute_reply.started": "2022-04-03T20:09:55.571463Z"
    },
    "papermill": {
     "duration": 0.111745,
     "end_time": "2022-04-03T20:20:13.752180",
     "exception": false,
     "start_time": "2022-04-03T20:20:13.640435",
     "status": "completed"
    },
    "tags": []
   },
   "outputs": [],
   "source": [
    "assert train_acc == 1\n",
    "assert test_acc > 0.98"
   ]
  },
  {
   "cell_type": "markdown",
   "id": "edad7ac2",
   "metadata": {
    "papermill": {
     "duration": 0.104491,
     "end_time": "2022-04-03T20:20:13.961507",
     "exception": false,
     "start_time": "2022-04-03T20:20:13.857016",
     "status": "completed"
    },
    "tags": []
   },
   "source": [
    "**(0.5 points)** Take a look at the confusion matrix and tell what numbers the model confuses and why this happens."
   ]
  },
  {
   "cell_type": "markdown",
   "id": "0e250d93",
   "metadata": {
    "papermill": {
     "duration": 0.106339,
     "end_time": "2022-04-03T20:20:14.173238",
     "exception": false,
     "start_time": "2022-04-03T20:20:14.066899",
     "status": "completed"
    },
    "tags": []
   },
   "source": [
    "> In the confusion matrix we can observe some confusion around following pairs: 5/6, 5/9, 7/9, 9/4 and 9/5. It is happening because the shape of these digits is similar to the other digit in the pair (a curve and a bar element)."
   ]
  },
  {
   "cell_type": "markdown",
   "id": "8a71a78b",
   "metadata": {
    "papermill": {
     "duration": 0.104291,
     "end_time": "2022-04-03T20:20:14.383141",
     "exception": false,
     "start_time": "2022-04-03T20:20:14.278850",
     "status": "completed"
    },
    "tags": []
   },
   "source": [
    "**(0.5 points)** Try different n_neighbors parameters and compare the output probabilities of the model."
   ]
  },
  {
   "cell_type": "code",
   "execution_count": 37,
   "id": "d4d52121",
   "metadata": {
    "execution": {
     "iopub.execute_input": "2022-04-03T20:20:14.606497Z",
     "iopub.status.busy": "2022-04-03T20:20:14.605258Z",
     "iopub.status.idle": "2022-04-03T20:20:14.886415Z",
     "shell.execute_reply": "2022-04-03T20:20:14.885132Z",
     "shell.execute_reply.started": "2022-04-03T20:09:56.424046Z"
    },
    "papermill": {
     "duration": 0.401097,
     "end_time": "2022-04-03T20:20:14.886604",
     "exception": false,
     "start_time": "2022-04-03T20:20:14.485507",
     "status": "completed"
    },
    "tags": []
   },
   "outputs": [
    {
     "data": {
      "text/plain": [
       "<matplotlib.image.AxesImage at 0x7fe5d1252910>"
      ]
     },
     "execution_count": 37,
     "metadata": {},
     "output_type": "execute_result"
    },
    {
     "data": {
      "image/png": "[encoded data removed]",
      "text/plain": [
       "<Figure size 1440x144 with 1 Axes>"
      ]
     },
     "metadata": {
      "needs_background": "light"
     },
     "output_type": "display_data"
    }
   ],
   "source": [
    "model = CustomKNeighborsClassifier(n_neighbors = 5, weights = 'distance')\n",
    "model.fit(X_train, y_train)\n",
    "plt.figure(figsize=(20, 2))\n",
    "plt.imshow(pd.DataFrame(model.predict_proba(X_test)).T, interpolation = 'nearest', aspect = 'auto')"
   ]
  },
  {
   "cell_type": "code",
   "execution_count": 38,
   "id": "bc353403",
   "metadata": {
    "execution": {
     "iopub.execute_input": "2022-04-03T20:20:15.100821Z",
     "iopub.status.busy": "2022-04-03T20:20:15.100072Z",
     "iopub.status.idle": "2022-04-03T20:20:15.526008Z",
     "shell.execute_reply": "2022-04-03T20:20:15.526555Z",
     "shell.execute_reply.started": "2022-04-03T20:09:56.916936Z"
    },
    "papermill": {
     "duration": 0.534252,
     "end_time": "2022-04-03T20:20:15.526786",
     "exception": false,
     "start_time": "2022-04-03T20:20:14.992534",
     "status": "completed"
    },
    "tags": []
   },
   "outputs": [
    {
     "data": {
      "text/plain": [
       "<matplotlib.image.AxesImage at 0x7fe5d09daad0>"
      ]
     },
     "execution_count": 38,
     "metadata": {},
     "output_type": "execute_result"
    },
    {
     "data": {
      "image/png": "[encoded data removed]",
      "text/plain": [
       "<Figure size 1440x144 with 1 Axes>"
      ]
     },
     "metadata": {
      "needs_background": "light"
     },
     "output_type": "display_data"
    }
   ],
   "source": [
    "model = CustomKNeighborsClassifier(n_neighbors = 100, weights = 'distance')\n",
    "model.fit(X_train, y_train)\n",
    "plt.figure(figsize=(20, 2))\n",
    "plt.imshow(pd.DataFrame(model.predict_proba(X_test)).T, interpolation= 'nearest', aspect = 'auto')"
   ]
  },
  {
   "cell_type": "code",
   "execution_count": 39,
   "id": "dde8dc42",
   "metadata": {
    "execution": {
     "iopub.execute_input": "2022-04-03T20:20:15.748206Z",
     "iopub.status.busy": "2022-04-03T20:20:15.746697Z",
     "iopub.status.idle": "2022-04-03T20:20:17.799995Z",
     "shell.execute_reply": "2022-04-03T20:20:17.800651Z",
     "shell.execute_reply.started": "2022-04-03T20:09:57.387606Z"
    },
    "papermill": {
     "duration": 2.169143,
     "end_time": "2022-04-03T20:20:17.800890",
     "exception": false,
     "start_time": "2022-04-03T20:20:15.631747",
     "status": "completed"
    },
    "tags": []
   },
   "outputs": [
    {
     "data": {
      "text/plain": [
       "<matplotlib.image.AxesImage at 0x7fe5d0957b90>"
      ]
     },
     "execution_count": 39,
     "metadata": {},
     "output_type": "execute_result"
    },
    {
     "data": {
      "image/png": "[encoded data removed]",
      "text/plain": [
       "<Figure size 1440x144 with 1 Axes>"
      ]
     },
     "metadata": {
      "needs_background": "light"
     },
     "output_type": "display_data"
    }
   ],
   "source": [
    "model = CustomKNeighborsClassifier(n_neighbors = 1000, weights = 'distance')\n",
    "model.fit(X_train, y_train)\n",
    "plt.figure(figsize=(20, 2))\n",
    "plt.imshow(pd.DataFrame(model.predict_proba(X_test)).T, interpolation = 'nearest', aspect = 'auto')"
   ]
  },
  {
   "cell_type": "markdown",
   "id": "c1fbb5b4",
   "metadata": {
    "papermill": {
     "duration": 0.108772,
     "end_time": "2022-04-03T20:20:18.018820",
     "exception": false,
     "start_time": "2022-04-03T20:20:17.910048",
     "status": "completed"
    },
    "tags": []
   },
   "source": [
    "> Selecting an optimal number of neighbours will allow us to get maximum accuracy for the training dataset with a low error rate. However, it can happen that accuracy might become too high due to overfitting and underfitting as training data may be very small. In our plots, we can see that increasing number of neighbours from default 5 to 100 and 1000 reduces the accuracy (the plot becomes extremely noisy/less gradient)."
   ]
  },
  {
   "cell_type": "markdown",
   "id": "d5d28633",
   "metadata": {
    "papermill": {
     "duration": 0.108175,
     "end_time": "2022-04-03T20:20:18.235864",
     "exception": false,
     "start_time": "2022-04-03T20:20:18.127689",
     "status": "completed"
    },
    "tags": []
   },
   "source": [
    "**(0.5 points)** Compare both 'uniform' and 'distance' weights and share your thoughts in what situations which parameter can be better."
   ]
  },
  {
   "cell_type": "code",
   "execution_count": 40,
   "id": "f09ca4ef",
   "metadata": {
    "execution": {
     "iopub.execute_input": "2022-04-03T20:20:18.466299Z",
     "iopub.status.busy": "2022-04-03T20:20:18.464829Z",
     "iopub.status.idle": "2022-04-03T20:20:19.922362Z",
     "shell.execute_reply": "2022-04-03T20:20:19.923522Z",
     "shell.execute_reply.started": "2022-04-03T20:09:59.295940Z"
    },
    "papermill": {
     "duration": 1.5779,
     "end_time": "2022-04-03T20:20:19.924038",
     "exception": false,
     "start_time": "2022-04-03T20:20:18.346138",
     "status": "completed"
    },
    "tags": []
   },
   "outputs": [
    {
     "data": {
      "image/png": "[encoded data removed]",
      "text/plain": [
       "<Figure size 432x288 with 2 Axes>"
      ]
     },
     "metadata": {
      "needs_background": "light"
     },
     "output_type": "display_data"
    },
    {
     "data": {
      "text/plain": [
       "(1.0, 0.9861111111111112)"
      ]
     },
     "execution_count": 40,
     "metadata": {},
     "output_type": "execute_result"
    }
   ],
   "source": [
    "model = CustomKNeighborsClassifier(weights = 'distance')\n",
    "fit_evaluate(model, X_train, y_train, X_test, y_test)"
   ]
  },
  {
   "cell_type": "markdown",
   "id": "34507ee4",
   "metadata": {
    "papermill": {
     "duration": 0.112886,
     "end_time": "2022-04-03T20:20:20.164574",
     "exception": false,
     "start_time": "2022-04-03T20:20:20.051688",
     "status": "completed"
    },
    "tags": []
   },
   "source": [
    "> In case of our model, the difference between using uniform and distanse weights is not observable in confusion matrices. However, when using uniform weighting, we do not take into account the distance between the new data point and its k nearest neighbors, thus all the neighbors impact the prediction equally. With distance weights, we might have gotten in a situation where the impact of some close neighbours will impact the prediction in a higher degree leading to overfitting of the model."
   ]
  },
  {
   "cell_type": "markdown",
   "id": "6391bb44",
   "metadata": {
    "papermill": {
     "duration": 0.108954,
     "end_time": "2022-04-03T20:20:20.382437",
     "exception": false,
     "start_time": "2022-04-03T20:20:20.273483",
     "status": "completed"
    },
    "tags": []
   },
   "source": [
    "**(0.5 points)** Suggest another distance measurement function that could improve the quality of the classification for this task. "
   ]
  },
  {
   "cell_type": "markdown",
   "id": "c877421f",
   "metadata": {
    "papermill": {
     "duration": 0.10808,
     "end_time": "2022-04-03T20:20:20.600208",
     "exception": false,
     "start_time": "2022-04-03T20:20:20.492128",
     "status": "completed"
    },
    "tags": []
   },
   "source": [
    "> Euclidean or Manhattan as suggested and evaluated in this paper: https://www.csd.uwo.ca/~watt/pub/reprints/2009-ijdar-similarity.pdf"
   ]
  },
  {
   "cell_type": "markdown",
   "id": "06191a6e",
   "metadata": {
    "papermill": {
     "duration": 0.116419,
     "end_time": "2022-04-03T20:20:20.827165",
     "exception": false,
     "start_time": "2022-04-03T20:20:20.710746",
     "status": "completed"
    },
    "tags": []
   },
   "source": [
    "**(0.5 points)** Suggest different task and distance function that you think would be suitable for it."
   ]
  },
  {
   "cell_type": "markdown",
   "id": "d1448649",
   "metadata": {
    "papermill": {
     "duration": 0.113722,
     "end_time": "2022-04-03T20:20:21.058385",
     "exception": false,
     "start_time": "2022-04-03T20:20:20.944663",
     "status": "completed"
    },
    "tags": []
   },
   "source": [
    "> Text mining and Jaccard Similarity (src. https://towardsdatascience.com/3-basic-distance-measurement-in-text-mining-5852becff1d7)"
   ]
  },
  {
   "cell_type": "markdown",
   "id": "c61867f0",
   "metadata": {
    "papermill": {
     "duration": 0.108853,
     "end_time": "2022-04-03T20:20:21.277076",
     "exception": false,
     "start_time": "2022-04-03T20:20:21.168223",
     "status": "completed"
    },
    "tags": []
   },
   "source": [
    "## Part 3: Synthetic Titanic Survival Prediction"
   ]
  },
  {
   "cell_type": "markdown",
   "id": "6e633c4f",
   "metadata": {
    "papermill": {
     "duration": 0.12796,
     "end_time": "2022-04-03T20:20:21.520844",
     "exception": false,
     "start_time": "2022-04-03T20:20:21.392884",
     "status": "completed"
    },
    "tags": []
   },
   "source": [
    "### Dataset\n",
    "\n",
    "Read the description here: https://www.kaggle.com/c/tabular-playground-series-apr-2021/data. Download the dataset and place it in the *data/titanic/* folder in your working directory.\n",
    "You will use train.csv for model training and validation. The test set is used for model testing: once the model is trained, you can predict whether a passenger survived or not for each passenger in the test set, and submit the predictions: https://www.kaggle.com/c/tabular-playground-series-apr-2021/overview/evaluation.  \n"
   ]
  },
  {
   "cell_type": "code",
   "execution_count": 41,
   "id": "b8066454",
   "metadata": {
    "execution": {
     "iopub.execute_input": "2022-04-03T20:20:21.744285Z",
     "iopub.status.busy": "2022-04-03T20:20:21.743136Z",
     "iopub.status.idle": "2022-04-03T20:20:21.746105Z",
     "shell.execute_reply": "2022-04-03T20:20:21.745563Z",
     "shell.execute_reply.started": "2022-04-03T20:10:00.360091Z"
    },
    "papermill": {
     "duration": 0.118231,
     "end_time": "2022-04-03T20:20:21.746320",
     "exception": false,
     "start_time": "2022-04-03T20:20:21.628089",
     "status": "completed"
    },
    "tags": []
   },
   "outputs": [],
   "source": [
    "PATH = \"../input/tabular-playground-series-apr-2021/train.csv\" # Solved on Kaggle\n",
    "PATH_TEST = \"../input/tabular-playground-series-apr-2021/test.csv\""
   ]
  },
  {
   "cell_type": "code",
   "execution_count": 42,
   "id": "8768fa7c",
   "metadata": {
    "execution": {
     "iopub.execute_input": "2022-04-03T20:20:21.972000Z",
     "iopub.status.busy": "2022-04-03T20:20:21.971260Z",
     "iopub.status.idle": "2022-04-03T20:20:22.307194Z",
     "shell.execute_reply": "2022-04-03T20:20:22.306563Z",
     "shell.execute_reply.started": "2022-04-03T20:10:01.223189Z"
    },
    "papermill": {
     "duration": 0.45115,
     "end_time": "2022-04-03T20:20:22.307397",
     "exception": false,
     "start_time": "2022-04-03T20:20:21.856247",
     "status": "completed"
    },
    "tags": []
   },
   "outputs": [],
   "source": [
    "data = pd.read_csv(PATH, index_col=\"PassengerId\")"
   ]
  },
  {
   "cell_type": "code",
   "execution_count": 43,
   "id": "ad1e2c75",
   "metadata": {
    "execution": {
     "iopub.execute_input": "2022-04-03T20:20:22.528711Z",
     "iopub.status.busy": "2022-04-03T20:20:22.528015Z",
     "iopub.status.idle": "2022-04-03T20:20:22.549925Z",
     "shell.execute_reply": "2022-04-03T20:20:22.550473Z",
     "shell.execute_reply.started": "2022-04-03T20:10:02.767989Z"
    },
    "papermill": {
     "duration": 0.134801,
     "end_time": "2022-04-03T20:20:22.550695",
     "exception": false,
     "start_time": "2022-04-03T20:20:22.415894",
     "status": "completed"
    },
    "scrolled": true,
    "tags": []
   },
   "outputs": [
    {
     "data": {
      "text/html": [
       "<div>\n",
       "<style scoped>\n",
       "    .dataframe tbody tr th:only-of-type {\n",
       "        vertical-align: middle;\n",
       "    }\n",
       "\n",
       "    .dataframe tbody tr th {\n",
       "        vertical-align: top;\n",
       "    }\n",
       "\n",
       "    .dataframe thead th {\n",
       "        text-align: right;\n",
       "    }\n",
       "</style>\n",
       "<table border=\"1\" class=\"dataframe\">\n",
       "  <thead>\n",
       "    <tr style=\"text-align: right;\">\n",
       "      <th></th>\n",
       "      <th>Survived</th>\n",
       "      <th>Pclass</th>\n",
       "      <th>Name</th>\n",
       "      <th>Sex</th>\n",
       "      <th>Age</th>\n",
       "      <th>SibSp</th>\n",
       "      <th>Parch</th>\n",
       "      <th>Ticket</th>\n",
       "      <th>Fare</th>\n",
       "      <th>Cabin</th>\n",
       "      <th>Embarked</th>\n",
       "    </tr>\n",
       "    <tr>\n",
       "      <th>PassengerId</th>\n",
       "      <th></th>\n",
       "      <th></th>\n",
       "      <th></th>\n",
       "      <th></th>\n",
       "      <th></th>\n",
       "      <th></th>\n",
       "      <th></th>\n",
       "      <th></th>\n",
       "      <th></th>\n",
       "      <th></th>\n",
       "      <th></th>\n",
       "    </tr>\n",
       "  </thead>\n",
       "  <tbody>\n",
       "    <tr>\n",
       "      <th>0</th>\n",
       "      <td>1</td>\n",
       "      <td>1</td>\n",
       "      <td>Oconnor, Frankie</td>\n",
       "      <td>male</td>\n",
       "      <td>NaN</td>\n",
       "      <td>2</td>\n",
       "      <td>0</td>\n",
       "      <td>209245</td>\n",
       "      <td>27.14</td>\n",
       "      <td>C12239</td>\n",
       "      <td>S</td>\n",
       "    </tr>\n",
       "    <tr>\n",
       "      <th>1</th>\n",
       "      <td>0</td>\n",
       "      <td>3</td>\n",
       "      <td>Bryan, Drew</td>\n",
       "      <td>male</td>\n",
       "      <td>NaN</td>\n",
       "      <td>0</td>\n",
       "      <td>0</td>\n",
       "      <td>27323</td>\n",
       "      <td>13.35</td>\n",
       "      <td>NaN</td>\n",
       "      <td>S</td>\n",
       "    </tr>\n",
       "    <tr>\n",
       "      <th>2</th>\n",
       "      <td>0</td>\n",
       "      <td>3</td>\n",
       "      <td>Owens, Kenneth</td>\n",
       "      <td>male</td>\n",
       "      <td>0.33</td>\n",
       "      <td>1</td>\n",
       "      <td>2</td>\n",
       "      <td>CA 457703</td>\n",
       "      <td>71.29</td>\n",
       "      <td>NaN</td>\n",
       "      <td>S</td>\n",
       "    </tr>\n",
       "    <tr>\n",
       "      <th>3</th>\n",
       "      <td>0</td>\n",
       "      <td>3</td>\n",
       "      <td>Kramer, James</td>\n",
       "      <td>male</td>\n",
       "      <td>19.00</td>\n",
       "      <td>0</td>\n",
       "      <td>0</td>\n",
       "      <td>A. 10866</td>\n",
       "      <td>13.04</td>\n",
       "      <td>NaN</td>\n",
       "      <td>S</td>\n",
       "    </tr>\n",
       "    <tr>\n",
       "      <th>4</th>\n",
       "      <td>1</td>\n",
       "      <td>3</td>\n",
       "      <td>Bond, Michael</td>\n",
       "      <td>male</td>\n",
       "      <td>25.00</td>\n",
       "      <td>0</td>\n",
       "      <td>0</td>\n",
       "      <td>427635</td>\n",
       "      <td>7.76</td>\n",
       "      <td>NaN</td>\n",
       "      <td>S</td>\n",
       "    </tr>\n",
       "  </tbody>\n",
       "</table>\n",
       "</div>"
      ],
      "text/plain": [
       "             Survived  Pclass              Name   Sex    Age  SibSp  Parch  \\\n",
       "PassengerId                                                                  \n",
       "0                   1       1  Oconnor, Frankie  male    NaN      2      0   \n",
       "1                   0       3       Bryan, Drew  male    NaN      0      0   \n",
       "2                   0       3    Owens, Kenneth  male   0.33      1      2   \n",
       "3                   0       3     Kramer, James  male  19.00      0      0   \n",
       "4                   1       3     Bond, Michael  male  25.00      0      0   \n",
       "\n",
       "                Ticket   Fare   Cabin Embarked  \n",
       "PassengerId                                     \n",
       "0               209245  27.14  C12239        S  \n",
       "1                27323  13.35     NaN        S  \n",
       "2            CA 457703  71.29     NaN        S  \n",
       "3             A. 10866  13.04     NaN        S  \n",
       "4               427635   7.76     NaN        S  "
      ]
     },
     "execution_count": 43,
     "metadata": {},
     "output_type": "execute_result"
    }
   ],
   "source": [
    "data.head()"
   ]
  },
  {
   "cell_type": "markdown",
   "id": "51e3132c",
   "metadata": {
    "papermill": {
     "duration": 0.11085,
     "end_time": "2022-04-03T20:20:22.769668",
     "exception": false,
     "start_time": "2022-04-03T20:20:22.658818",
     "status": "completed"
    },
    "tags": []
   },
   "source": [
    "### EDA"
   ]
  },
  {
   "cell_type": "markdown",
   "id": "0000490e",
   "metadata": {
    "papermill": {
     "duration": 0.108455,
     "end_time": "2022-04-03T20:20:22.989123",
     "exception": false,
     "start_time": "2022-04-03T20:20:22.880668",
     "status": "completed"
    },
    "tags": []
   },
   "source": [
    "**(0.5 points)** How many females and males are there in the dataset? What about the survived passengers? Is there any relationship between the gender and the survival?"
   ]
  },
  {
   "cell_type": "code",
   "execution_count": 44,
   "id": "eb52a3e0",
   "metadata": {
    "execution": {
     "iopub.execute_input": "2022-04-03T20:20:23.219364Z",
     "iopub.status.busy": "2022-04-03T20:20:23.214595Z",
     "iopub.status.idle": "2022-04-03T20:20:24.695599Z",
     "shell.execute_reply": "2022-04-03T20:20:24.694812Z",
     "shell.execute_reply.started": "2022-04-03T20:10:04.317607Z"
    },
    "papermill": {
     "duration": 1.59892,
     "end_time": "2022-04-03T20:20:24.695778",
     "exception": false,
     "start_time": "2022-04-03T20:20:23.096858",
     "status": "completed"
    },
    "tags": []
   },
   "outputs": [
    {
     "name": "stdout",
     "output_type": "stream",
     "text": [
      "Total passengers: \n",
      "100000\n",
      "\n",
      "Sex\n",
      "female    43886\n",
      "male      56114\n",
      "dtype: int64\n",
      "\n",
      "Survived\n",
      "0    57226\n",
      "1    42774\n",
      "dtype: int64\n",
      "\n"
     ]
    },
    {
     "data": {
      "text/plain": [
       "<AxesSubplot:xlabel='Sex', ylabel='Survived'>"
      ]
     },
     "execution_count": 44,
     "metadata": {},
     "output_type": "execute_result"
    },
    {
     "data": {
      "image/png": "[encoded data removed]",
      "text/plain": [
       "<Figure size 1080x504 with 1 Axes>"
      ]
     },
     "metadata": {
      "needs_background": "light"
     },
     "output_type": "display_data"
    }
   ],
   "source": [
    "print(\"Total passengers: \\n\" + str(data.shape[0]) + \"\\n\")\n",
    "print(str(data[['Sex']].groupby(['Sex']).size()) + \"\\n\")\n",
    "print(str(data[['Survived']].groupby(['Survived']).size()) + \"\\n\")\n",
    "\n",
    "plt.figure(figsize=(15,7))\n",
    "sns.barplot(data = data, x = 'Sex', y = 'Survived')"
   ]
  },
  {
   "cell_type": "markdown",
   "id": "c92418c2",
   "metadata": {
    "papermill": {
     "duration": 0.113469,
     "end_time": "2022-04-03T20:20:24.920715",
     "exception": false,
     "start_time": "2022-04-03T20:20:24.807246",
     "status": "completed"
    },
    "tags": []
   },
   "source": [
    "> - There are total 56114 men and 43886 women on the ship.\n",
    "> - 57226 passenger have survived.\n",
    "> - Women have a significantly higher survival rate than men.\n"
   ]
  },
  {
   "cell_type": "markdown",
   "id": "5d917d3f",
   "metadata": {
    "papermill": {
     "duration": 0.113021,
     "end_time": "2022-04-03T20:20:25.144037",
     "exception": false,
     "start_time": "2022-04-03T20:20:25.031016",
     "status": "completed"
    },
    "tags": []
   },
   "source": [
    "**(0.5 points)** Plot age distribution of the passengers. What is the average and the median age of survived and deceased passengers? Do age distributions differ for survived and deceased passengers? Why?"
   ]
  },
  {
   "cell_type": "code",
   "execution_count": 45,
   "id": "496bbad6",
   "metadata": {
    "execution": {
     "iopub.execute_input": "2022-04-03T20:20:25.371960Z",
     "iopub.status.busy": "2022-04-03T20:20:25.371170Z",
     "iopub.status.idle": "2022-04-03T20:20:26.019843Z",
     "shell.execute_reply": "2022-04-03T20:20:26.019154Z",
     "shell.execute_reply.started": "2022-04-03T20:10:06.454184Z"
    },
    "papermill": {
     "duration": 0.763105,
     "end_time": "2022-04-03T20:20:26.020049",
     "exception": false,
     "start_time": "2022-04-03T20:20:25.256944",
     "status": "completed"
    },
    "tags": []
   },
   "outputs": [
    {
     "data": {
      "text/plain": [
       "<AxesSubplot:ylabel='Count'>"
      ]
     },
     "execution_count": 45,
     "metadata": {},
     "output_type": "execute_result"
    },
    {
     "data": {
      "image/png": "[encoded data removed]",
      "text/plain": [
       "<Figure size 432x288 with 1 Axes>"
      ]
     },
     "metadata": {
      "needs_background": "light"
     },
     "output_type": "display_data"
    }
   ],
   "source": [
    "data.loc[data['Age'] < 1, 'Age'] = 0\n",
    "data['Age'] = data['Age'].round(0)\n",
    "sns.histplot(data[['Age']])"
   ]
  },
  {
   "cell_type": "code",
   "execution_count": 46,
   "id": "f8f7dab9",
   "metadata": {
    "execution": {
     "iopub.execute_input": "2022-04-03T20:20:26.250236Z",
     "iopub.status.busy": "2022-04-03T20:20:26.249521Z",
     "iopub.status.idle": "2022-04-03T20:20:26.259478Z",
     "shell.execute_reply": "2022-04-03T20:20:26.258561Z",
     "shell.execute_reply.started": "2022-04-03T20:10:07.683209Z"
    },
    "papermill": {
     "duration": 0.127855,
     "end_time": "2022-04-03T20:20:26.259703",
     "exception": false,
     "start_time": "2022-04-03T20:20:26.131848",
     "status": "completed"
    },
    "tags": []
   },
   "outputs": [
    {
     "name": "stdout",
     "output_type": "stream",
     "text": [
      "Mean age of passengers: 38.35213219175249\n",
      "Median age of passengers: 39.0\n"
     ]
    }
   ],
   "source": [
    "print(\"Mean age of passengers: \" + str(data['Age'].mean())),\n",
    "print(\"Median age of passengers: \" + str(data['Age'].median()))"
   ]
  },
  {
   "cell_type": "code",
   "execution_count": 47,
   "id": "3de01e82",
   "metadata": {
    "execution": {
     "iopub.execute_input": "2022-04-03T20:20:26.500077Z",
     "iopub.status.busy": "2022-04-03T20:20:26.499373Z",
     "iopub.status.idle": "2022-04-03T20:20:27.085915Z",
     "shell.execute_reply": "2022-04-03T20:20:27.085329Z",
     "shell.execute_reply.started": "2022-04-03T20:10:08.005218Z"
    },
    "papermill": {
     "duration": 0.708292,
     "end_time": "2022-04-03T20:20:27.086091",
     "exception": false,
     "start_time": "2022-04-03T20:20:26.377799",
     "status": "completed"
    },
    "tags": []
   },
   "outputs": [
    {
     "data": {
      "text/plain": [
       "<AxesSubplot:ylabel='Age'>"
      ]
     },
     "execution_count": 47,
     "metadata": {},
     "output_type": "execute_result"
    },
    {
     "data": {
      "image/png": "[encoded data removed]",
      "text/plain": [
       "<Figure size 864x864 with 2 Axes>"
      ]
     },
     "metadata": {
      "needs_background": "light"
     },
     "output_type": "display_data"
    }
   ],
   "source": [
    "plt.figure(figsize=(12,12))\n",
    "sns.heatmap(data.groupby(['Age'])['Survived'].agg(['sum']))"
   ]
  },
  {
   "cell_type": "markdown",
   "id": "9d71baf9",
   "metadata": {
    "papermill": {
     "duration": 0.113227,
     "end_time": "2022-04-03T20:20:27.314070",
     "exception": false,
     "start_time": "2022-04-03T20:20:27.200843",
     "status": "completed"
    },
    "tags": []
   },
   "source": [
    "> Yes, the age distribution differ between survived and not survived passengers. Most likely this is due to the rescue principle that kids and seniors have a priority."
   ]
  },
  {
   "cell_type": "markdown",
   "id": "d747d610",
   "metadata": {
    "papermill": {
     "duration": 0.112947,
     "end_time": "2022-04-03T20:20:27.540668",
     "exception": false,
     "start_time": "2022-04-03T20:20:27.427721",
     "status": "completed"
    },
    "tags": []
   },
   "source": [
    "**(1 point)** Explore \"passenger class\" and \"embarked\" features. What class was \"the safest\"? Is there any relationship between the embarkation port and the survival? Provide the corresponding visualizations."
   ]
  },
  {
   "cell_type": "code",
   "execution_count": 48,
   "id": "4c871ee6",
   "metadata": {
    "execution": {
     "iopub.execute_input": "2022-04-03T20:20:27.779942Z",
     "iopub.status.busy": "2022-04-03T20:20:27.779163Z",
     "iopub.status.idle": "2022-04-03T20:20:28.051373Z",
     "shell.execute_reply": "2022-04-03T20:20:28.050708Z",
     "shell.execute_reply.started": "2022-04-03T20:10:08.646844Z"
    },
    "papermill": {
     "duration": 0.396655,
     "end_time": "2022-04-03T20:20:28.051560",
     "exception": false,
     "start_time": "2022-04-03T20:20:27.654905",
     "status": "completed"
    },
    "tags": []
   },
   "outputs": [
    {
     "data": {
      "text/plain": [
       "<AxesSubplot:xlabel='Pclass', ylabel='count'>"
      ]
     },
     "execution_count": 48,
     "metadata": {},
     "output_type": "execute_result"
    },
    {
     "data": {
      "image/png": "[encoded data removed]",
      "text/plain": [
       "<Figure size 1080x504 with 1 Axes>"
      ]
     },
     "metadata": {
      "needs_background": "light"
     },
     "output_type": "display_data"
    }
   ],
   "source": [
    "plt.figure(figsize=(15,7))\n",
    "sns.countplot(data = data, x = 'Pclass', hue = 'Survived')"
   ]
  },
  {
   "cell_type": "code",
   "execution_count": 49,
   "id": "305accf7",
   "metadata": {
    "execution": {
     "iopub.execute_input": "2022-04-03T20:20:28.291840Z",
     "iopub.status.busy": "2022-04-03T20:20:28.291058Z",
     "iopub.status.idle": "2022-04-03T20:20:28.676745Z",
     "shell.execute_reply": "2022-04-03T20:20:28.676086Z",
     "shell.execute_reply.started": "2022-04-03T20:10:09.449890Z"
    },
    "papermill": {
     "duration": 0.506787,
     "end_time": "2022-04-03T20:20:28.676899",
     "exception": false,
     "start_time": "2022-04-03T20:20:28.170112",
     "status": "completed"
    },
    "tags": []
   },
   "outputs": [
    {
     "data": {
      "text/plain": [
       "<AxesSubplot:xlabel='Embarked', ylabel='count'>"
      ]
     },
     "execution_count": 49,
     "metadata": {},
     "output_type": "execute_result"
    },
    {
     "data": {
      "image/png": "[encoded data removed]",
      "text/plain": [
       "<Figure size 1080x504 with 1 Axes>"
      ]
     },
     "metadata": {
      "needs_background": "light"
     },
     "output_type": "display_data"
    }
   ],
   "source": [
    "plt.figure(figsize=(15,7))\n",
    "sns.countplot(data = data, x = 'Embarked', hue = 'Survived')"
   ]
  },
  {
   "cell_type": "markdown",
   "id": "9a77d1c4",
   "metadata": {
    "papermill": {
     "duration": 0.115318,
     "end_time": "2022-04-03T20:20:28.913342",
     "exception": false,
     "start_time": "2022-04-03T20:20:28.798024",
     "status": "completed"
    },
    "tags": []
   },
   "source": [
    "> - 1st class was the one where the survival rate was the highest.\n",
    "> - If a passenger has embarked in Southampton chances for survival were the lowest.\n",
    "> - Majority of passengers have embarked in Southampton.\n"
   ]
  },
  {
   "cell_type": "markdown",
   "id": "23640f85",
   "metadata": {
    "papermill": {
     "duration": 0.116161,
     "end_time": "2022-04-03T20:20:29.146736",
     "exception": false,
     "start_time": "2022-04-03T20:20:29.030575",
     "status": "completed"
    },
    "tags": []
   },
   "source": [
    "### Modelling"
   ]
  },
  {
   "cell_type": "markdown",
   "id": "90cfd179",
   "metadata": {
    "papermill": {
     "duration": 0.116683,
     "end_time": "2022-04-03T20:20:29.381592",
     "exception": false,
     "start_time": "2022-04-03T20:20:29.264909",
     "status": "completed"
    },
    "tags": []
   },
   "source": [
    "**(0.5 points)** Find the percentage of missing values for each feature. "
   ]
  },
  {
   "cell_type": "code",
   "execution_count": 50,
   "id": "56a5bf73",
   "metadata": {
    "execution": {
     "iopub.execute_input": "2022-04-03T20:20:29.620078Z",
     "iopub.status.busy": "2022-04-03T20:20:29.619260Z",
     "iopub.status.idle": "2022-04-03T20:20:29.680958Z",
     "shell.execute_reply": "2022-04-03T20:20:29.680342Z",
     "shell.execute_reply.started": "2022-04-03T20:10:10.255001Z"
    },
    "papermill": {
     "duration": 0.183208,
     "end_time": "2022-04-03T20:20:29.681124",
     "exception": false,
     "start_time": "2022-04-03T20:20:29.497916",
     "status": "completed"
    },
    "tags": []
   },
   "outputs": [
    {
     "data": {
      "text/plain": [
       "Survived     0.000\n",
       "Pclass       0.000\n",
       "Name         0.000\n",
       "Sex          0.000\n",
       "Age          3.292\n",
       "SibSp        0.000\n",
       "Parch        0.000\n",
       "Ticket       4.623\n",
       "Fare         0.134\n",
       "Cabin       67.866\n",
       "Embarked     0.250\n",
       "dtype: float64"
      ]
     },
     "execution_count": 50,
     "metadata": {},
     "output_type": "execute_result"
    }
   ],
   "source": [
    "data.isna().mean() * 100"
   ]
  },
  {
   "cell_type": "markdown",
   "id": "8f8a28bd",
   "metadata": {
    "papermill": {
     "duration": 0.117683,
     "end_time": "2022-04-03T20:20:29.917269",
     "exception": false,
     "start_time": "2022-04-03T20:20:29.799586",
     "status": "completed"
    },
    "tags": []
   },
   "source": [
    "Think about the ways to handle these missing values for modelling and write your answer below. Which methods would you suggest? What are their advantages and disadvantages?\n",
    "\n",
    "> I would suggest to fill in the missing numerical values, like **Age**, with mean values. For categorical values like Embarked, we could do some deeper analysis and try to predict the **Embarked** port based on **Fare/Ticket**.\n",
    "> We could also use prediction based on non-NaN values, e.g., Survived/Sex/Parch to identify missing values with some probability."
   ]
  },
  {
   "cell_type": "markdown",
   "id": "f5feeb03",
   "metadata": {
    "papermill": {
     "duration": 0.117117,
     "end_time": "2022-04-03T20:20:30.152929",
     "exception": false,
     "start_time": "2022-04-03T20:20:30.035812",
     "status": "completed"
    },
    "tags": []
   },
   "source": [
    "**(1.5 points)** Prepare the features and train two models (KNN and Logistic Regression) to predict the survival. Compare the results. Use accuracy as a metric. Don't forget about cross-validation!"
   ]
  },
  {
   "cell_type": "code",
   "execution_count": 51,
   "id": "fbcc0a4d",
   "metadata": {
    "execution": {
     "iopub.execute_input": "2022-04-03T20:20:30.409119Z",
     "iopub.status.busy": "2022-04-03T20:20:30.407943Z",
     "iopub.status.idle": "2022-04-03T20:20:30.411935Z",
     "shell.execute_reply": "2022-04-03T20:20:30.412491Z",
     "shell.execute_reply.started": "2022-04-03T20:10:10.861029Z"
    },
    "papermill": {
     "duration": 0.140956,
     "end_time": "2022-04-03T20:20:30.412722",
     "exception": false,
     "start_time": "2022-04-03T20:20:30.271766",
     "status": "completed"
    },
    "tags": []
   },
   "outputs": [
    {
     "data": {
      "text/html": [
       "<div>\n",
       "<style scoped>\n",
       "    .dataframe tbody tr th:only-of-type {\n",
       "        vertical-align: middle;\n",
       "    }\n",
       "\n",
       "    .dataframe tbody tr th {\n",
       "        vertical-align: top;\n",
       "    }\n",
       "\n",
       "    .dataframe thead th {\n",
       "        text-align: right;\n",
       "    }\n",
       "</style>\n",
       "<table border=\"1\" class=\"dataframe\">\n",
       "  <thead>\n",
       "    <tr style=\"text-align: right;\">\n",
       "      <th></th>\n",
       "      <th>Survived</th>\n",
       "      <th>Pclass</th>\n",
       "      <th>Name</th>\n",
       "      <th>Sex</th>\n",
       "      <th>Age</th>\n",
       "      <th>SibSp</th>\n",
       "      <th>Parch</th>\n",
       "      <th>Ticket</th>\n",
       "      <th>Fare</th>\n",
       "      <th>Cabin</th>\n",
       "      <th>Embarked</th>\n",
       "    </tr>\n",
       "    <tr>\n",
       "      <th>PassengerId</th>\n",
       "      <th></th>\n",
       "      <th></th>\n",
       "      <th></th>\n",
       "      <th></th>\n",
       "      <th></th>\n",
       "      <th></th>\n",
       "      <th></th>\n",
       "      <th></th>\n",
       "      <th></th>\n",
       "      <th></th>\n",
       "      <th></th>\n",
       "    </tr>\n",
       "  </thead>\n",
       "  <tbody>\n",
       "    <tr>\n",
       "      <th>0</th>\n",
       "      <td>1</td>\n",
       "      <td>1</td>\n",
       "      <td>Oconnor, Frankie</td>\n",
       "      <td>male</td>\n",
       "      <td>NaN</td>\n",
       "      <td>2</td>\n",
       "      <td>0</td>\n",
       "      <td>209245</td>\n",
       "      <td>27.14</td>\n",
       "      <td>C12239</td>\n",
       "      <td>S</td>\n",
       "    </tr>\n",
       "    <tr>\n",
       "      <th>1</th>\n",
       "      <td>0</td>\n",
       "      <td>3</td>\n",
       "      <td>Bryan, Drew</td>\n",
       "      <td>male</td>\n",
       "      <td>NaN</td>\n",
       "      <td>0</td>\n",
       "      <td>0</td>\n",
       "      <td>27323</td>\n",
       "      <td>13.35</td>\n",
       "      <td>NaN</td>\n",
       "      <td>S</td>\n",
       "    </tr>\n",
       "    <tr>\n",
       "      <th>2</th>\n",
       "      <td>0</td>\n",
       "      <td>3</td>\n",
       "      <td>Owens, Kenneth</td>\n",
       "      <td>male</td>\n",
       "      <td>0.0</td>\n",
       "      <td>1</td>\n",
       "      <td>2</td>\n",
       "      <td>CA 457703</td>\n",
       "      <td>71.29</td>\n",
       "      <td>NaN</td>\n",
       "      <td>S</td>\n",
       "    </tr>\n",
       "    <tr>\n",
       "      <th>3</th>\n",
       "      <td>0</td>\n",
       "      <td>3</td>\n",
       "      <td>Kramer, James</td>\n",
       "      <td>male</td>\n",
       "      <td>19.0</td>\n",
       "      <td>0</td>\n",
       "      <td>0</td>\n",
       "      <td>A. 10866</td>\n",
       "      <td>13.04</td>\n",
       "      <td>NaN</td>\n",
       "      <td>S</td>\n",
       "    </tr>\n",
       "    <tr>\n",
       "      <th>4</th>\n",
       "      <td>1</td>\n",
       "      <td>3</td>\n",
       "      <td>Bond, Michael</td>\n",
       "      <td>male</td>\n",
       "      <td>25.0</td>\n",
       "      <td>0</td>\n",
       "      <td>0</td>\n",
       "      <td>427635</td>\n",
       "      <td>7.76</td>\n",
       "      <td>NaN</td>\n",
       "      <td>S</td>\n",
       "    </tr>\n",
       "  </tbody>\n",
       "</table>\n",
       "</div>"
      ],
      "text/plain": [
       "             Survived  Pclass              Name   Sex   Age  SibSp  Parch  \\\n",
       "PassengerId                                                                 \n",
       "0                   1       1  Oconnor, Frankie  male   NaN      2      0   \n",
       "1                   0       3       Bryan, Drew  male   NaN      0      0   \n",
       "2                   0       3    Owens, Kenneth  male   0.0      1      2   \n",
       "3                   0       3     Kramer, James  male  19.0      0      0   \n",
       "4                   1       3     Bond, Michael  male  25.0      0      0   \n",
       "\n",
       "                Ticket   Fare   Cabin Embarked  \n",
       "PassengerId                                     \n",
       "0               209245  27.14  C12239        S  \n",
       "1                27323  13.35     NaN        S  \n",
       "2            CA 457703  71.29     NaN        S  \n",
       "3             A. 10866  13.04     NaN        S  \n",
       "4               427635   7.76     NaN        S  "
      ]
     },
     "execution_count": 51,
     "metadata": {},
     "output_type": "execute_result"
    }
   ],
   "source": [
    "from sklearn.linear_model import LogisticRegression\n",
    "from sklearn.neighbors import KNeighborsClassifier\n",
    "from sklearn.model_selection import cross_val_score\n",
    "\n",
    "data.head()"
   ]
  },
  {
   "cell_type": "code",
   "execution_count": 52,
   "id": "21b5a933",
   "metadata": {
    "execution": {
     "iopub.execute_input": "2022-04-03T20:20:30.651710Z",
     "iopub.status.busy": "2022-04-03T20:20:30.650568Z",
     "iopub.status.idle": "2022-04-03T20:20:31.465748Z",
     "shell.execute_reply": "2022-04-03T20:20:31.466324Z",
     "shell.execute_reply.started": "2022-04-03T20:10:12.049773Z"
    },
    "papermill": {
     "duration": 0.936604,
     "end_time": "2022-04-03T20:20:31.466539",
     "exception": false,
     "start_time": "2022-04-03T20:20:30.529935",
     "status": "completed"
    },
    "tags": []
   },
   "outputs": [
    {
     "data": {
      "text/html": [
       "<div>\n",
       "<style scoped>\n",
       "    .dataframe tbody tr th:only-of-type {\n",
       "        vertical-align: middle;\n",
       "    }\n",
       "\n",
       "    .dataframe tbody tr th {\n",
       "        vertical-align: top;\n",
       "    }\n",
       "\n",
       "    .dataframe thead th {\n",
       "        text-align: right;\n",
       "    }\n",
       "</style>\n",
       "<table border=\"1\" class=\"dataframe\">\n",
       "  <thead>\n",
       "    <tr style=\"text-align: right;\">\n",
       "      <th></th>\n",
       "      <th>PassengerId</th>\n",
       "      <th>Survived</th>\n",
       "      <th>Age</th>\n",
       "      <th>Fare</th>\n",
       "      <th>Pclass_1</th>\n",
       "      <th>Pclass_2</th>\n",
       "      <th>Pclass_3</th>\n",
       "      <th>Sex_female</th>\n",
       "      <th>Sex_male</th>\n",
       "      <th>Embarked_C</th>\n",
       "      <th>Embarked_Q</th>\n",
       "      <th>Embarked_S</th>\n",
       "      <th>SibSp_Parch_(0.0, 4.0]</th>\n",
       "      <th>SibSp_Parch_(4.0, 8.0]</th>\n",
       "      <th>SibSp_Parch_(8.0, 17.0]</th>\n",
       "    </tr>\n",
       "  </thead>\n",
       "  <tbody>\n",
       "    <tr>\n",
       "      <th>0</th>\n",
       "      <td>0</td>\n",
       "      <td>1</td>\n",
       "      <td>39.0</td>\n",
       "      <td>27.14</td>\n",
       "      <td>1</td>\n",
       "      <td>0</td>\n",
       "      <td>0</td>\n",
       "      <td>0</td>\n",
       "      <td>1</td>\n",
       "      <td>0</td>\n",
       "      <td>0</td>\n",
       "      <td>1</td>\n",
       "      <td>1</td>\n",
       "      <td>0</td>\n",
       "      <td>0</td>\n",
       "    </tr>\n",
       "    <tr>\n",
       "      <th>1</th>\n",
       "      <td>1</td>\n",
       "      <td>0</td>\n",
       "      <td>39.0</td>\n",
       "      <td>13.35</td>\n",
       "      <td>0</td>\n",
       "      <td>0</td>\n",
       "      <td>1</td>\n",
       "      <td>0</td>\n",
       "      <td>1</td>\n",
       "      <td>0</td>\n",
       "      <td>0</td>\n",
       "      <td>1</td>\n",
       "      <td>0</td>\n",
       "      <td>0</td>\n",
       "      <td>0</td>\n",
       "    </tr>\n",
       "    <tr>\n",
       "      <th>2</th>\n",
       "      <td>2</td>\n",
       "      <td>0</td>\n",
       "      <td>0.0</td>\n",
       "      <td>71.29</td>\n",
       "      <td>0</td>\n",
       "      <td>0</td>\n",
       "      <td>1</td>\n",
       "      <td>0</td>\n",
       "      <td>1</td>\n",
       "      <td>0</td>\n",
       "      <td>0</td>\n",
       "      <td>1</td>\n",
       "      <td>1</td>\n",
       "      <td>0</td>\n",
       "      <td>0</td>\n",
       "    </tr>\n",
       "    <tr>\n",
       "      <th>3</th>\n",
       "      <td>3</td>\n",
       "      <td>0</td>\n",
       "      <td>19.0</td>\n",
       "      <td>13.04</td>\n",
       "      <td>0</td>\n",
       "      <td>0</td>\n",
       "      <td>1</td>\n",
       "      <td>0</td>\n",
       "      <td>1</td>\n",
       "      <td>0</td>\n",
       "      <td>0</td>\n",
       "      <td>1</td>\n",
       "      <td>0</td>\n",
       "      <td>0</td>\n",
       "      <td>0</td>\n",
       "    </tr>\n",
       "    <tr>\n",
       "      <th>4</th>\n",
       "      <td>4</td>\n",
       "      <td>1</td>\n",
       "      <td>25.0</td>\n",
       "      <td>7.76</td>\n",
       "      <td>0</td>\n",
       "      <td>0</td>\n",
       "      <td>1</td>\n",
       "      <td>0</td>\n",
       "      <td>1</td>\n",
       "      <td>0</td>\n",
       "      <td>0</td>\n",
       "      <td>1</td>\n",
       "      <td>0</td>\n",
       "      <td>0</td>\n",
       "      <td>0</td>\n",
       "    </tr>\n",
       "    <tr>\n",
       "      <th>...</th>\n",
       "      <td>...</td>\n",
       "      <td>...</td>\n",
       "      <td>...</td>\n",
       "      <td>...</td>\n",
       "      <td>...</td>\n",
       "      <td>...</td>\n",
       "      <td>...</td>\n",
       "      <td>...</td>\n",
       "      <td>...</td>\n",
       "      <td>...</td>\n",
       "      <td>...</td>\n",
       "      <td>...</td>\n",
       "      <td>...</td>\n",
       "      <td>...</td>\n",
       "      <td>...</td>\n",
       "    </tr>\n",
       "    <tr>\n",
       "      <th>99995</th>\n",
       "      <td>99995</td>\n",
       "      <td>1</td>\n",
       "      <td>62.0</td>\n",
       "      <td>14.86</td>\n",
       "      <td>0</td>\n",
       "      <td>1</td>\n",
       "      <td>0</td>\n",
       "      <td>1</td>\n",
       "      <td>0</td>\n",
       "      <td>1</td>\n",
       "      <td>0</td>\n",
       "      <td>0</td>\n",
       "      <td>0</td>\n",
       "      <td>0</td>\n",
       "      <td>0</td>\n",
       "    </tr>\n",
       "    <tr>\n",
       "      <th>99996</th>\n",
       "      <td>99996</td>\n",
       "      <td>0</td>\n",
       "      <td>66.0</td>\n",
       "      <td>11.15</td>\n",
       "      <td>0</td>\n",
       "      <td>1</td>\n",
       "      <td>0</td>\n",
       "      <td>0</td>\n",
       "      <td>1</td>\n",
       "      <td>0</td>\n",
       "      <td>0</td>\n",
       "      <td>1</td>\n",
       "      <td>0</td>\n",
       "      <td>0</td>\n",
       "      <td>0</td>\n",
       "    </tr>\n",
       "    <tr>\n",
       "      <th>99997</th>\n",
       "      <td>99997</td>\n",
       "      <td>0</td>\n",
       "      <td>37.0</td>\n",
       "      <td>9.95</td>\n",
       "      <td>0</td>\n",
       "      <td>0</td>\n",
       "      <td>1</td>\n",
       "      <td>0</td>\n",
       "      <td>1</td>\n",
       "      <td>0</td>\n",
       "      <td>0</td>\n",
       "      <td>1</td>\n",
       "      <td>0</td>\n",
       "      <td>0</td>\n",
       "      <td>0</td>\n",
       "    </tr>\n",
       "    <tr>\n",
       "      <th>99998</th>\n",
       "      <td>99998</td>\n",
       "      <td>0</td>\n",
       "      <td>51.0</td>\n",
       "      <td>30.92</td>\n",
       "      <td>0</td>\n",
       "      <td>0</td>\n",
       "      <td>1</td>\n",
       "      <td>0</td>\n",
       "      <td>1</td>\n",
       "      <td>0</td>\n",
       "      <td>0</td>\n",
       "      <td>1</td>\n",
       "      <td>1</td>\n",
       "      <td>0</td>\n",
       "      <td>0</td>\n",
       "    </tr>\n",
       "    <tr>\n",
       "      <th>99999</th>\n",
       "      <td>99999</td>\n",
       "      <td>0</td>\n",
       "      <td>55.0</td>\n",
       "      <td>13.96</td>\n",
       "      <td>0</td>\n",
       "      <td>0</td>\n",
       "      <td>1</td>\n",
       "      <td>0</td>\n",
       "      <td>1</td>\n",
       "      <td>0</td>\n",
       "      <td>0</td>\n",
       "      <td>1</td>\n",
       "      <td>0</td>\n",
       "      <td>0</td>\n",
       "      <td>0</td>\n",
       "    </tr>\n",
       "  </tbody>\n",
       "</table>\n",
       "<p>100000 rows × 15 columns</p>\n",
       "</div>"
      ],
      "text/plain": [
       "       PassengerId  Survived   Age   Fare  Pclass_1  Pclass_2  Pclass_3  \\\n",
       "0                0         1  39.0  27.14         1         0         0   \n",
       "1                1         0  39.0  13.35         0         0         1   \n",
       "2                2         0   0.0  71.29         0         0         1   \n",
       "3                3         0  19.0  13.04         0         0         1   \n",
       "4                4         1  25.0   7.76         0         0         1   \n",
       "...            ...       ...   ...    ...       ...       ...       ...   \n",
       "99995        99995         1  62.0  14.86         0         1         0   \n",
       "99996        99996         0  66.0  11.15         0         1         0   \n",
       "99997        99997         0  37.0   9.95         0         0         1   \n",
       "99998        99998         0  51.0  30.92         0         0         1   \n",
       "99999        99999         0  55.0  13.96         0         0         1   \n",
       "\n",
       "       Sex_female  Sex_male  Embarked_C  Embarked_Q  Embarked_S  \\\n",
       "0               0         1           0           0           1   \n",
       "1               0         1           0           0           1   \n",
       "2               0         1           0           0           1   \n",
       "3               0         1           0           0           1   \n",
       "4               0         1           0           0           1   \n",
       "...           ...       ...         ...         ...         ...   \n",
       "99995           1         0           1           0           0   \n",
       "99996           0         1           0           0           1   \n",
       "99997           0         1           0           0           1   \n",
       "99998           0         1           0           0           1   \n",
       "99999           0         1           0           0           1   \n",
       "\n",
       "       SibSp_Parch_(0.0, 4.0]  SibSp_Parch_(4.0, 8.0]  SibSp_Parch_(8.0, 17.0]  \n",
       "0                           1                       0                        0  \n",
       "1                           0                       0                        0  \n",
       "2                           1                       0                        0  \n",
       "3                           0                       0                        0  \n",
       "4                           0                       0                        0  \n",
       "...                       ...                     ...                      ...  \n",
       "99995                       0                       0                        0  \n",
       "99996                       0                       0                        0  \n",
       "99997                       0                       0                        0  \n",
       "99998                       1                       0                        0  \n",
       "99999                       0                       0                        0  \n",
       "\n",
       "[100000 rows x 15 columns]"
      ]
     },
     "execution_count": 52,
     "metadata": {},
     "output_type": "execute_result"
    }
   ],
   "source": [
    "train = pd.read_csv(PATH)\n",
    "test = pd.read_csv(PATH_TEST)\n",
    "\n",
    "def feature_prep(df):\n",
    "    df = df.copy()\n",
    "    \n",
    "    # Age\n",
    "    df['Age'] = df['Age'].fillna(df['Age'].median())\n",
    "    df.loc[data['Age'] < 1, 'Age'] = 0\n",
    "    df['Age'] = df['Age'].round(0)\n",
    "    \n",
    "    # SibSp + Parch cobmined\n",
    "    df['SibSp_Parch'] = df['SibSp'] + df['Parch']\n",
    "    df['SibSp_Parch'] = pd.cut(df['SibSp_Parch'], bins=[0 , np.round(df['SibSp_Parch'].max() / 4, 0) , np.round(df['SibSp_Parch'].max() / 2, 0) , df['SibSp_Parch'].max()])\n",
    "    \n",
    "    # Fare\n",
    "    df['Fare'] = df.groupby(['Pclass'])['Fare'].apply(lambda x: x.fillna(x.mean()))\n",
    "    \n",
    "    # Embarked\n",
    "    df['Embarked'] = df['Embarked'].fillna(df['Embarked'].mode()[0])\n",
    "    \n",
    "    # Get dummies\n",
    "    df = pd.get_dummies(df, columns=['Pclass','Sex','Embarked', 'SibSp_Parch'])\n",
    "    \n",
    "    # Return by dropping features that are considered non-essential for survival rate at the moment\n",
    "    return df.drop(['Name', 'SibSp', 'Parch', 'Ticket', 'Cabin'], axis = 1)\n",
    "\n",
    "feature_prep(train)"
   ]
  },
  {
   "cell_type": "code",
   "execution_count": 53,
   "id": "f6742ed2",
   "metadata": {
    "execution": {
     "iopub.execute_input": "2022-04-03T20:20:31.714938Z",
     "iopub.status.busy": "2022-04-03T20:20:31.714206Z",
     "iopub.status.idle": "2022-04-03T20:20:32.020144Z",
     "shell.execute_reply": "2022-04-03T20:20:32.019473Z",
     "shell.execute_reply.started": "2022-04-03T20:10:13.203080Z"
    },
    "papermill": {
     "duration": 0.433517,
     "end_time": "2022-04-03T20:20:32.020340",
     "exception": false,
     "start_time": "2022-04-03T20:20:31.586823",
     "status": "completed"
    },
    "tags": []
   },
   "outputs": [],
   "source": [
    "X_train = feature_prep(train).drop(['PassengerId', 'Survived'], axis=1)\n",
    "Y_train = feature_prep(train)['Survived']"
   ]
  },
  {
   "cell_type": "code",
   "execution_count": 54,
   "id": "eb635674",
   "metadata": {
    "execution": {
     "iopub.execute_input": "2022-04-03T20:20:32.272284Z",
     "iopub.status.busy": "2022-04-03T20:20:32.271524Z",
     "iopub.status.idle": "2022-04-03T20:20:32.310334Z",
     "shell.execute_reply": "2022-04-03T20:20:32.309555Z",
     "shell.execute_reply.started": "2022-04-03T20:10:13.464768Z"
    },
    "papermill": {
     "duration": 0.167921,
     "end_time": "2022-04-03T20:20:32.310536",
     "exception": false,
     "start_time": "2022-04-03T20:20:32.142615",
     "status": "completed"
    },
    "tags": []
   },
   "outputs": [
    {
     "data": {
      "text/plain": [
       "array([[ 0.03477526, -0.24138976,  1.51614545, ...,  1.34261388,\n",
       "        -0.14238266, -0.06937618],\n",
       "       [ 0.03477526, -0.43965957, -0.65956733, ..., -0.74481578,\n",
       "        -0.14238266, -0.06937618],\n",
       "       [-2.12986745,  0.39338994, -0.65956733, ...,  1.34261388,\n",
       "        -0.14238266, -0.06937618],\n",
       "       ...,\n",
       "       [-0.07623206, -0.48854408, -0.65956733, ..., -0.74481578,\n",
       "        -0.14238266, -0.06937618],\n",
       "       [ 0.70081917, -0.18704169, -0.65956733, ...,  1.34261388,\n",
       "        -0.14238266, -0.06937618],\n",
       "       [ 0.92283381, -0.43088912, -0.65956733, ..., -0.74481578,\n",
       "        -0.14238266, -0.06937618]])"
      ]
     },
     "execution_count": 54,
     "metadata": {},
     "output_type": "execute_result"
    }
   ],
   "source": [
    "scaler = StandardScaler()\n",
    "X_scaled = scaler.fit_transform(X_train)\n",
    "X_scaled"
   ]
  },
  {
   "cell_type": "code",
   "execution_count": 55,
   "id": "78484c29",
   "metadata": {
    "execution": {
     "iopub.execute_input": "2022-04-03T20:20:32.587835Z",
     "iopub.status.busy": "2022-04-03T20:20:32.586987Z",
     "iopub.status.idle": "2022-04-03T20:20:39.830831Z",
     "shell.execute_reply": "2022-04-03T20:20:39.831764Z",
     "shell.execute_reply.started": "2022-04-03T20:10:13.656047Z"
    },
    "papermill": {
     "duration": 7.379294,
     "end_time": "2022-04-03T20:20:39.832084",
     "exception": false,
     "start_time": "2022-04-03T20:20:32.452790",
     "status": "completed"
    },
    "tags": []
   },
   "outputs": [
    {
     "data": {
      "text/plain": [
       "0.7627200000000001"
      ]
     },
     "execution_count": 55,
     "metadata": {},
     "output_type": "execute_result"
    }
   ],
   "source": [
    "model_lr = LogisticRegression()\n",
    "model_lr.fit(X_train, Y_train)\n",
    "cross_val_score(model_lr, X_train, Y_train, scoring='accuracy').mean()"
   ]
  },
  {
   "cell_type": "code",
   "execution_count": 56,
   "id": "e0c1180e",
   "metadata": {
    "execution": {
     "iopub.execute_input": "2022-04-03T20:20:40.131326Z",
     "iopub.status.busy": "2022-04-03T20:20:40.130509Z",
     "iopub.status.idle": "2022-04-03T20:20:47.635012Z",
     "shell.execute_reply": "2022-04-03T20:20:47.635612Z",
     "shell.execute_reply.started": "2022-04-03T20:10:20.488318Z"
    },
    "papermill": {
     "duration": 7.635522,
     "end_time": "2022-04-03T20:20:47.635832",
     "exception": false,
     "start_time": "2022-04-03T20:20:40.000310",
     "status": "completed"
    },
    "tags": []
   },
   "outputs": [
    {
     "data": {
      "text/plain": [
       "0.7344299999999999"
      ]
     },
     "execution_count": 56,
     "metadata": {},
     "output_type": "execute_result"
    }
   ],
   "source": [
    "model_knn = KNeighborsClassifier()\n",
    "model_knn.fit(X_train, Y_train)\n",
    "cross_val_score(model_knn, X_train, Y_train, scoring='accuracy').mean()"
   ]
  },
  {
   "cell_type": "markdown",
   "id": "28c16a66",
   "metadata": {
    "papermill": {
     "duration": 0.11836,
     "end_time": "2022-04-03T20:20:47.875286",
     "exception": false,
     "start_time": "2022-04-03T20:20:47.756926",
     "status": "completed"
    },
    "tags": []
   },
   "source": [
    "**(0.5 + X points)** Try more feature engineering and hyperparameter tuning to improve the results. You may use either KNN or Logistic Regression (or both)."
   ]
  },
  {
   "cell_type": "code",
   "execution_count": 57,
   "id": "edbac1ae",
   "metadata": {
    "execution": {
     "iopub.execute_input": "2022-04-03T20:20:48.127586Z",
     "iopub.status.busy": "2022-04-03T20:20:48.122660Z",
     "iopub.status.idle": "2022-04-03T20:20:48.511896Z",
     "shell.execute_reply": "2022-04-03T20:20:48.510566Z",
     "shell.execute_reply.started": "2022-04-03T20:16:51.100939Z"
    },
    "papermill": {
     "duration": 0.51131,
     "end_time": "2022-04-03T20:20:48.512097",
     "exception": false,
     "start_time": "2022-04-03T20:20:48.000787",
     "status": "completed"
    },
    "tags": []
   },
   "outputs": [],
   "source": [
    "X_test = feature_prep(test)\n",
    "\n",
    "survived = X_test[['PassengerId']].copy()\n",
    "survived['Survived'] = model_lr.predict(X_test.drop(['PassengerId'], axis = 1))\n",
    "survived.to_csv('./submit.csv', index=False)\n",
    "\n",
    "# Score on Kaggle: 0.76889"
   ]
  },
  {
   "cell_type": "markdown",
   "id": "39bc720e",
   "metadata": {
    "papermill": {
     "duration": 0.119082,
     "end_time": "2022-04-03T20:20:48.751625",
     "exception": false,
     "start_time": "2022-04-03T20:20:48.632543",
     "status": "completed"
    },
    "tags": []
   },
   "source": [
    "Select the best model, load the test set and make the predictions. Submit them to kaggle and see the results :)\n",
    "\n",
    "**Note**. X points will depend on your kaggle public leaderboard score.\n",
    "$$ f(score) = 1.0, \\ \\ 0.79 \\leq score < 0.80,$$\n",
    "$$ f(score) = 2.5, \\ \\ 0.80 \\leq score < 0.81,$$ \n",
    "$$ f(score) = 4.0, \\ \\ 0.81 \\leq score $$ \n",
    "Your code should generate the output submitted to kaggle. Fix random seeds to make the results reproducible."
   ]
  }
 ],
 "metadata": {
  "kernelspec": {
   "display_name": "Python 3",
   "language": "python",
   "name": "python3"
  },
  "language_info": {
   "codemirror_mode": {
    "name": "ipython",
    "version": 3
   },
   "file_extension": ".py",
   "mimetype": "text/x-python",
   "name": "python",
   "nbconvert_exporter": "python",
   "pygments_lexer": "ipython3",
   "version": "3.7.12"
  },
  "papermill": {
   "default_parameters": {},
   "duration": 72.052696,
   "end_time": "2022-04-03T20:20:51.263286",
   "environment_variables": {},
   "exception": null,
   "input_path": "__notebook__.ipynb",
   "output_path": "__notebook__.ipynb",
   "parameters": {},
   "start_time": "2022-04-03T20:19:39.210590",
   "version": "2.3.3"
  }
 },
 "nbformat": 4,
 "nbformat_minor": 5
}
