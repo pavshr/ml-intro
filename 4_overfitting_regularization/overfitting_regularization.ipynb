{
 "cells": [
  {
   "cell_type": "markdown",
   "id": "627752e6",
   "metadata": {
    "papermill": {
     "duration": 0.061035,
     "end_time": "2022-03-27T18:03:10.488179",
     "exception": false,
     "start_time": "2022-03-27T18:03:10.427144",
     "status": "completed"
    },
    "tags": []
   },
   "source": [
    "# Overfitting and Regularization"
   ]
  },
  {
   "cell_type": "markdown",
   "id": "a2ca7b0f",
   "metadata": {
    "papermill": {
     "duration": 0.060788,
     "end_time": "2022-03-27T18:03:10.611656",
     "exception": false,
     "start_time": "2022-03-27T18:03:10.550868",
     "status": "completed"
    },
    "tags": []
   },
   "source": [
    "## Imports"
   ]
  },
  {
   "cell_type": "code",
   "execution_count": 1,
   "id": "4677b109",
   "metadata": {
    "ExecuteTime": {
     "end_time": "2022-02-16T07:39:25.890581Z",
     "start_time": "2022-02-16T07:39:23.835921Z"
    },
    "execution": {
     "iopub.execute_input": "2022-03-27T18:03:10.737772Z",
     "iopub.status.busy": "2022-03-27T18:03:10.735768Z",
     "iopub.status.idle": "2022-03-27T18:03:11.844703Z",
     "shell.execute_reply": "2022-03-27T18:03:11.845422Z",
     "shell.execute_reply.started": "2022-03-27T17:10:03.611355Z"
    },
    "papermill": {
     "duration": 1.174852,
     "end_time": "2022-03-27T18:03:11.845760",
     "exception": false,
     "start_time": "2022-03-27T18:03:10.670908",
     "status": "completed"
    },
    "tags": []
   },
   "outputs": [],
   "source": [
    "import numpy as np\n",
    "import pandas as pd\n",
    "import seaborn as sns\n",
    "import matplotlib.pyplot as plt"
   ]
  },
  {
   "cell_type": "code",
   "execution_count": 2,
   "id": "cee50d73",
   "metadata": {
    "ExecuteTime": {
     "end_time": "2022-02-16T07:39:26.108031Z",
     "start_time": "2022-02-16T07:39:25.925893Z"
    },
    "execution": {
     "iopub.execute_input": "2022-03-27T18:03:11.971255Z",
     "iopub.status.busy": "2022-03-27T18:03:11.970203Z",
     "iopub.status.idle": "2022-03-27T18:03:12.228105Z",
     "shell.execute_reply": "2022-03-27T18:03:12.228646Z",
     "shell.execute_reply.started": "2022-03-27T17:10:03.716406Z"
    },
    "papermill": {
     "duration": 0.323734,
     "end_time": "2022-03-27T18:03:12.228868",
     "exception": false,
     "start_time": "2022-03-27T18:03:11.905134",
     "status": "completed"
    },
    "tags": []
   },
   "outputs": [],
   "source": [
    "from sklearn.pipeline import Pipeline\n",
    "from sklearn.model_selection import train_test_split, cross_validate\n",
    "from sklearn.preprocessing import PolynomialFeatures, StandardScaler\n",
    "from sklearn.linear_model import LinearRegression, Lasso, Ridge\n",
    "from sklearn.metrics import mean_squared_error\n",
    "from sklearn import set_config"
   ]
  },
  {
   "cell_type": "code",
   "execution_count": 3,
   "id": "24de907d",
   "metadata": {
    "ExecuteTime": {
     "end_time": "2022-02-16T07:39:26.155183Z",
     "start_time": "2022-02-16T07:39:26.141249Z"
    },
    "execution": {
     "iopub.execute_input": "2022-03-27T18:03:12.353584Z",
     "iopub.status.busy": "2022-03-27T18:03:12.352553Z",
     "iopub.status.idle": "2022-03-27T18:03:12.355024Z",
     "shell.execute_reply": "2022-03-27T18:03:12.355511Z",
     "shell.execute_reply.started": "2022-03-27T17:10:03.790310Z"
    },
    "papermill": {
     "duration": 0.067055,
     "end_time": "2022-03-27T18:03:12.355690",
     "exception": false,
     "start_time": "2022-03-27T18:03:12.288635",
     "status": "completed"
    },
    "tags": []
   },
   "outputs": [],
   "source": [
    "set_config(display='diagram')"
   ]
  },
  {
   "cell_type": "markdown",
   "id": "c46dc894",
   "metadata": {
    "papermill": {
     "duration": 0.059896,
     "end_time": "2022-03-27T18:03:12.475356",
     "exception": false,
     "start_time": "2022-03-27T18:03:12.415460",
     "status": "completed"
    },
    "tags": []
   },
   "source": [
    "## Settings"
   ]
  },
  {
   "cell_type": "code",
   "execution_count": 4,
   "id": "cd362d45",
   "metadata": {
    "ExecuteTime": {
     "end_time": "2022-02-16T07:39:26.201661Z",
     "start_time": "2022-02-16T07:39:26.189181Z"
    },
    "execution": {
     "iopub.execute_input": "2022-03-27T18:03:12.602120Z",
     "iopub.status.busy": "2022-03-27T18:03:12.601443Z",
     "iopub.status.idle": "2022-03-27T18:03:12.603213Z",
     "shell.execute_reply": "2022-03-27T18:03:12.603732Z",
     "shell.execute_reply.started": "2022-03-27T17:10:03.872070Z"
    },
    "papermill": {
     "duration": 0.068925,
     "end_time": "2022-03-27T18:03:12.603911",
     "exception": false,
     "start_time": "2022-03-27T18:03:12.534986",
     "status": "completed"
    },
    "tags": []
   },
   "outputs": [],
   "source": [
    "SEED = 42\n",
    "RANGE = (-5, 5)\n",
    "N_SAMPLES = 50\n",
    "DEGREES = np.linspace(0, 15, 1 + 15, dtype=int)\n",
    "ALPHAS = np.linspace(0, 0.5, 1 + 40)"
   ]
  },
  {
   "cell_type": "markdown",
   "id": "43819490",
   "metadata": {
    "papermill": {
     "duration": 0.05911,
     "end_time": "2022-03-27T18:03:12.722382",
     "exception": false,
     "start_time": "2022-03-27T18:03:12.663272",
     "status": "completed"
    },
    "tags": []
   },
   "source": [
    "## Part 1: Underfitting vs. overfitting"
   ]
  },
  {
   "cell_type": "markdown",
   "id": "ca1692c7",
   "metadata": {
    "papermill": {
     "duration": 0.059049,
     "end_time": "2022-03-27T18:03:12.841623",
     "exception": false,
     "start_time": "2022-03-27T18:03:12.782574",
     "status": "completed"
    },
    "tags": []
   },
   "source": [
    "### Generate samples"
   ]
  },
  {
   "cell_type": "markdown",
   "id": "d5d766d8",
   "metadata": {
    "ExecuteTime": {
     "end_time": "2020-11-09T09:04:09.904994Z",
     "start_time": "2020-11-09T09:04:09.896444Z"
    },
    "papermill": {
     "duration": 0.059714,
     "end_time": "2022-03-27T18:03:12.963133",
     "exception": false,
     "start_time": "2022-03-27T18:03:12.903419",
     "status": "completed"
    },
    "tags": []
   },
   "source": [
    "Let's pick a target function $ f(x) = 2\\cdot x + 10\\cdot sin(x) $ and generate some noisy samples to learn from."
   ]
  },
  {
   "cell_type": "code",
   "execution_count": 5,
   "id": "5321b967",
   "metadata": {
    "ExecuteTime": {
     "end_time": "2022-02-16T07:39:26.433239Z",
     "start_time": "2022-02-16T07:39:26.412501Z"
    },
    "execution": {
     "iopub.execute_input": "2022-03-27T18:03:13.087687Z",
     "iopub.status.busy": "2022-03-27T18:03:13.086999Z",
     "iopub.status.idle": "2022-03-27T18:03:13.094774Z",
     "shell.execute_reply": "2022-03-27T18:03:13.095257Z",
     "shell.execute_reply.started": "2022-03-27T17:10:03.954810Z"
    },
    "papermill": {
     "duration": 0.071712,
     "end_time": "2022-03-27T18:03:13.095455",
     "exception": false,
     "start_time": "2022-03-27T18:03:13.023743",
     "status": "completed"
    },
    "tags": []
   },
   "outputs": [],
   "source": [
    "def target_function(x):\n",
    "    return 2 * x + 10 * np.sin(x)\n",
    "\n",
    "def generate_samples():\n",
    "    \"\"\"Generate noisy samples.\"\"\"\n",
    "    np.random.seed(SEED)\n",
    "    x = np.random.uniform(*RANGE, size=N_SAMPLES)\n",
    "    y = target_function(x) + np.random.normal(scale=4, size=N_SAMPLES)\n",
    "    return x.reshape(-1, 1), y\n",
    "\n",
    "X, y = generate_samples()"
   ]
  },
  {
   "cell_type": "markdown",
   "id": "68f24d98",
   "metadata": {
    "papermill": {
     "duration": 0.059349,
     "end_time": "2022-03-27T18:03:13.214453",
     "exception": false,
     "start_time": "2022-03-27T18:03:13.155104",
     "status": "completed"
    },
    "tags": []
   },
   "source": [
    "### Plot samples"
   ]
  },
  {
   "cell_type": "code",
   "execution_count": 6,
   "id": "a0bba89b",
   "metadata": {
    "ExecuteTime": {
     "end_time": "2022-02-16T07:39:27.822431Z",
     "start_time": "2022-02-16T07:39:27.696426Z"
    },
    "execution": {
     "iopub.execute_input": "2022-03-27T18:03:13.336966Z",
     "iopub.status.busy": "2022-03-27T18:03:13.336217Z",
     "iopub.status.idle": "2022-03-27T18:03:13.573268Z",
     "shell.execute_reply": "2022-03-27T18:03:13.573848Z",
     "shell.execute_reply.started": "2022-03-27T17:10:04.022480Z"
    },
    "papermill": {
     "duration": 0.300153,
     "end_time": "2022-03-27T18:03:13.574028",
     "exception": false,
     "start_time": "2022-03-27T18:03:13.273875",
     "status": "completed"
    },
    "tags": []
   },
   "outputs": [
    {
     "data": {
      "image/png": "[encoded data removed]",
      "text/plain": [
       "<Figure size 432x288 with 1 Axes>"
      ]
     },
     "metadata": {
      "needs_background": "light"
     },
     "output_type": "display_data"
    }
   ],
   "source": [
    "def plot_scatter(x, y, title=None, label='Noisy samples'):\n",
    "    plt.scatter(x, y, label=label)\n",
    "    plt.xlabel('x')\n",
    "    plt.ylabel('y')\n",
    "    plt.grid(True)\n",
    "    plt.title(title)\n",
    "    plt.legend(loc='lower right')\n",
    "\n",
    "plot_scatter(X, y)"
   ]
  },
  {
   "cell_type": "markdown",
   "id": "3107362d",
   "metadata": {
    "papermill": {
     "duration": 0.061224,
     "end_time": "2022-03-27T18:03:13.696869",
     "exception": false,
     "start_time": "2022-03-27T18:03:13.635645",
     "status": "completed"
    },
    "tags": []
   },
   "source": [
    "### Split"
   ]
  },
  {
   "cell_type": "code",
   "execution_count": 7,
   "id": "91903841",
   "metadata": {
    "ExecuteTime": {
     "end_time": "2022-02-16T07:39:29.210072Z",
     "start_time": "2022-02-16T07:39:29.093175Z"
    },
    "execution": {
     "iopub.execute_input": "2022-03-27T18:03:13.847647Z",
     "iopub.status.busy": "2022-03-27T18:03:13.840478Z",
     "iopub.status.idle": "2022-03-27T18:03:14.052936Z",
     "shell.execute_reply": "2022-03-27T18:03:14.052306Z",
     "shell.execute_reply.started": "2022-03-27T17:10:04.278511Z"
    },
    "papermill": {
     "duration": 0.294918,
     "end_time": "2022-03-27T18:03:14.053097",
     "exception": false,
     "start_time": "2022-03-27T18:03:13.758179",
     "status": "completed"
    },
    "tags": []
   },
   "outputs": [
    {
     "data": {
      "image/png": "[encoded data removed]",
      "text/plain": [
       "<Figure size 432x288 with 1 Axes>"
      ]
     },
     "metadata": {
      "needs_background": "light"
     },
     "output_type": "display_data"
    }
   ],
   "source": [
    "X_train, X_valid, y_train, y_valid = train_test_split(X, y, test_size=0.3, random_state=SEED)\n",
    "\n",
    "plot_scatter(X_train, y_train, label='Training set')\n",
    "plot_scatter(X_valid, y_valid, label='Validation set')"
   ]
  },
  {
   "cell_type": "code",
   "execution_count": 8,
   "id": "2bad8536",
   "metadata": {
    "ExecuteTime": {
     "end_time": "2022-02-16T07:39:33.496625Z",
     "start_time": "2022-02-16T07:39:33.479851Z"
    },
    "execution": {
     "iopub.execute_input": "2022-03-27T18:03:14.183593Z",
     "iopub.status.busy": "2022-03-27T18:03:14.182865Z",
     "iopub.status.idle": "2022-03-27T18:03:14.185511Z",
     "shell.execute_reply": "2022-03-27T18:03:14.186002Z",
     "shell.execute_reply.started": "2022-03-27T17:10:04.585904Z"
    },
    "papermill": {
     "duration": 0.070542,
     "end_time": "2022-03-27T18:03:14.186173",
     "exception": false,
     "start_time": "2022-03-27T18:03:14.115631",
     "status": "completed"
    },
    "tags": []
   },
   "outputs": [
    {
     "data": {
      "text/plain": [
       "array([ -1.10771616,   0.84986647,  -9.62110024,   3.70972424,\n",
       "        -2.36319095,   5.83708039, -16.53330524,  -1.8815588 ,\n",
       "       -11.1506254 ,   1.0883081 ,  -9.05957818, -14.72254274,\n",
       "         5.71746212,   5.48508317,  -6.81897956,  -1.80751907,\n",
       "        -2.14124891, -12.83476672,  -0.09034969,  -3.48222266,\n",
       "        11.50001273,  -2.03019037,  10.03142993, -17.18409407,\n",
       "        -2.48182149,   1.67461593, -17.32081894,  -6.32825039,\n",
       "        -4.15121484,   9.31494651,   6.5817456 ,   6.58351686,\n",
       "        -1.83803375,  11.27589865,  13.68530977])"
      ]
     },
     "execution_count": 8,
     "metadata": {},
     "output_type": "execute_result"
    }
   ],
   "source": [
    "y_train"
   ]
  },
  {
   "cell_type": "markdown",
   "id": "0ae30d8a",
   "metadata": {
    "papermill": {
     "duration": 0.061256,
     "end_time": "2022-03-27T18:03:14.308853",
     "exception": false,
     "start_time": "2022-03-27T18:03:14.247597",
     "status": "completed"
    },
    "tags": []
   },
   "source": [
    "### Model"
   ]
  },
  {
   "cell_type": "markdown",
   "id": "b9daa1f1",
   "metadata": {
    "papermill": {
     "duration": 0.061471,
     "end_time": "2022-03-27T18:03:14.431985",
     "exception": false,
     "start_time": "2022-03-27T18:03:14.370514",
     "status": "completed"
    },
    "tags": []
   },
   "source": [
    "Let's try to approximate our target function $ f(x) = 2\\cdot x + 10\\cdot sin(x) $ with polynomials of different degree. \n",
    "\n",
    "A polynomial of degree $n$ has the form:\n",
    "$ h(x) = w_0 + w_1\\cdot x + w_2\\cdot x^2 +\\ldots + w_n\\cdot x^n $.\n",
    "\n",
    "$x^i$ values could easily be generated by `PolynomialFeatures`, while $w_i$ are the unknown paramaters to be estimated using `LinearRegression`."
   ]
  },
  {
   "cell_type": "code",
   "execution_count": 9,
   "id": "32b80e7b",
   "metadata": {
    "ExecuteTime": {
     "end_time": "2022-02-16T07:39:34.647226Z",
     "start_time": "2022-02-16T07:39:34.63954Z"
    },
    "execution": {
     "iopub.execute_input": "2022-03-27T18:03:14.561963Z",
     "iopub.status.busy": "2022-03-27T18:03:14.561151Z",
     "iopub.status.idle": "2022-03-27T18:03:14.565752Z",
     "shell.execute_reply": "2022-03-27T18:03:14.565139Z",
     "shell.execute_reply.started": "2022-03-27T17:10:04.596433Z"
    },
    "papermill": {
     "duration": 0.072457,
     "end_time": "2022-03-27T18:03:14.565907",
     "exception": false,
     "start_time": "2022-03-27T18:03:14.493450",
     "status": "completed"
    },
    "tags": []
   },
   "outputs": [
    {
     "data": {
      "text/plain": [
       "array([[  1.,   1.,   1.,   1.],\n",
       "       [  3.,   9.,  27.,  81.],\n",
       "       [  4.,  16.,  64., 256.]])"
      ]
     },
     "execution_count": 9,
     "metadata": {},
     "output_type": "execute_result"
    }
   ],
   "source": [
    "PolynomialFeatures(degree=4, include_bias=False).fit_transform(X=[\n",
    "    [1],\n",
    "    [3],\n",
    "    [4],\n",
    "])"
   ]
  },
  {
   "cell_type": "code",
   "execution_count": 10,
   "id": "b7911f87",
   "metadata": {
    "ExecuteTime": {
     "end_time": "2022-02-16T07:40:49.993908Z",
     "start_time": "2022-02-16T07:40:49.95934Z"
    },
    "execution": {
     "iopub.execute_input": "2022-03-27T18:03:14.699528Z",
     "iopub.status.busy": "2022-03-27T18:03:14.698442Z",
     "iopub.status.idle": "2022-03-27T18:03:14.725386Z",
     "shell.execute_reply": "2022-03-27T18:03:14.724805Z",
     "shell.execute_reply.started": "2022-03-27T17:10:04.610642Z"
    },
    "papermill": {
     "duration": 0.097429,
     "end_time": "2022-03-27T18:03:14.725534",
     "exception": false,
     "start_time": "2022-03-27T18:03:14.628105",
     "status": "completed"
    },
    "tags": []
   },
   "outputs": [
    {
     "data": {
      "text/html": [
       "<style>#sk-d1c4e3ca-9f29-4632-ace8-cfe78c056590 {color: black;background-color: white;}#sk-d1c4e3ca-9f29-4632-ace8-cfe78c056590 pre{padding: 0;}#sk-d1c4e3ca-9f29-4632-ace8-cfe78c056590 div.sk-toggleable {background-color: white;}#sk-d1c4e3ca-9f29-4632-ace8-cfe78c056590 label.sk-toggleable__label {cursor: pointer;display: block;width: 100%;margin-bottom: 0;padding: 0.3em;box-sizing: border-box;text-align: center;}#sk-d1c4e3ca-9f29-4632-ace8-cfe78c056590 div.sk-toggleable__content {max-height: 0;max-width: 0;overflow: hidden;text-align: left;background-color: #f0f8ff;}#sk-d1c4e3ca-9f29-4632-ace8-cfe78c056590 div.sk-toggleable__content pre {margin: 0.2em;color: black;border-radius: 0.25em;background-color: #f0f8ff;}#sk-d1c4e3ca-9f29-4632-ace8-cfe78c056590 input.sk-toggleable__control:checked~div.sk-toggleable__content {max-height: 200px;max-width: 100%;overflow: auto;}#sk-d1c4e3ca-9f29-4632-ace8-cfe78c056590 div.sk-estimator input.sk-toggleable__control:checked~label.sk-toggleable__label {background-color: #d4ebff;}#sk-d1c4e3ca-9f29-4632-ace8-cfe78c056590 div.sk-label input.sk-toggleable__control:checked~label.sk-toggleable__label {background-color: #d4ebff;}#sk-d1c4e3ca-9f29-4632-ace8-cfe78c056590 input.sk-hidden--visually {border: 0;clip: rect(1px 1px 1px 1px);clip: rect(1px, 1px, 1px, 1px);height: 1px;margin: -1px;overflow: hidden;padding: 0;position: absolute;width: 1px;}#sk-d1c4e3ca-9f29-4632-ace8-cfe78c056590 div.sk-estimator {font-family: monospace;background-color: #f0f8ff;border: 1px dotted black;border-radius: 0.25em;box-sizing: border-box;margin-bottom: 0.5em;}#sk-d1c4e3ca-9f29-4632-ace8-cfe78c056590 div.sk-estimator:hover {background-color: #d4ebff;}#sk-d1c4e3ca-9f29-4632-ace8-cfe78c056590 div.sk-parallel-item::after {content: \"\";width: 100%;border-bottom: 1px solid gray;flex-grow: 1;}#sk-d1c4e3ca-9f29-4632-ace8-cfe78c056590 div.sk-label:hover label.sk-toggleable__label {background-color: #d4ebff;}#sk-d1c4e3ca-9f29-4632-ace8-cfe78c056590 div.sk-serial::before {content: \"\";position: absolute;border-left: 1px solid gray;box-sizing: border-box;top: 2em;bottom: 0;left: 50%;}#sk-d1c4e3ca-9f29-4632-ace8-cfe78c056590 div.sk-serial {display: flex;flex-direction: column;align-items: center;background-color: white;padding-right: 0.2em;padding-left: 0.2em;}#sk-d1c4e3ca-9f29-4632-ace8-cfe78c056590 div.sk-item {z-index: 1;}#sk-d1c4e3ca-9f29-4632-ace8-cfe78c056590 div.sk-parallel {display: flex;align-items: stretch;justify-content: center;background-color: white;}#sk-d1c4e3ca-9f29-4632-ace8-cfe78c056590 div.sk-parallel::before {content: \"\";position: absolute;border-left: 1px solid gray;box-sizing: border-box;top: 2em;bottom: 0;left: 50%;}#sk-d1c4e3ca-9f29-4632-ace8-cfe78c056590 div.sk-parallel-item {display: flex;flex-direction: column;position: relative;background-color: white;}#sk-d1c4e3ca-9f29-4632-ace8-cfe78c056590 div.sk-parallel-item:first-child::after {align-self: flex-end;width: 50%;}#sk-d1c4e3ca-9f29-4632-ace8-cfe78c056590 div.sk-parallel-item:last-child::after {align-self: flex-start;width: 50%;}#sk-d1c4e3ca-9f29-4632-ace8-cfe78c056590 div.sk-parallel-item:only-child::after {width: 0;}#sk-d1c4e3ca-9f29-4632-ace8-cfe78c056590 div.sk-dashed-wrapped {border: 1px dashed gray;margin: 0 0.4em 0.5em 0.4em;box-sizing: border-box;padding-bottom: 0.4em;background-color: white;position: relative;}#sk-d1c4e3ca-9f29-4632-ace8-cfe78c056590 div.sk-label label {font-family: monospace;font-weight: bold;background-color: white;display: inline-block;line-height: 1.2em;}#sk-d1c4e3ca-9f29-4632-ace8-cfe78c056590 div.sk-label-container {position: relative;z-index: 2;text-align: center;}#sk-d1c4e3ca-9f29-4632-ace8-cfe78c056590 div.sk-container {display: inline-block;position: relative;}</style><div id=\"sk-d1c4e3ca-9f29-4632-ace8-cfe78c056590\" class\"sk-top-container\"><div class=\"sk-container\"><div class=\"sk-item sk-dashed-wrapped\"><div class=\"sk-label-container\"><div class=\"sk-label sk-toggleable\"><input class=\"sk-toggleable__control sk-hidden--visually\" id=\"37a113fc-afe8-43c7-8350-cc1737de869f\" type=\"checkbox\" ><label class=\"sk-toggleable__label\" for=\"37a113fc-afe8-43c7-8350-cc1737de869f\">Pipeline</label><div class=\"sk-toggleable__content\"><pre>Pipeline(steps=[('pol', PolynomialFeatures(include_bias=False)),\n",
       "                ('sca', StandardScaler()), ('reg', LinearRegression())])</pre></div></div></div><div class=\"sk-serial\"><div class=\"sk-item\"><div class=\"sk-estimator sk-toggleable\"><input class=\"sk-toggleable__control sk-hidden--visually\" id=\"825e021b-6975-4300-a2d4-d62220173ea8\" type=\"checkbox\" ><label class=\"sk-toggleable__label\" for=\"825e021b-6975-4300-a2d4-d62220173ea8\">PolynomialFeatures</label><div class=\"sk-toggleable__content\"><pre>PolynomialFeatures(include_bias=False)</pre></div></div></div><div class=\"sk-item\"><div class=\"sk-estimator sk-toggleable\"><input class=\"sk-toggleable__control sk-hidden--visually\" id=\"034b6f86-d0d5-40a9-97d9-e38989f937e8\" type=\"checkbox\" ><label class=\"sk-toggleable__label\" for=\"034b6f86-d0d5-40a9-97d9-e38989f937e8\">StandardScaler</label><div class=\"sk-toggleable__content\"><pre>StandardScaler()</pre></div></div></div><div class=\"sk-item\"><div class=\"sk-estimator sk-toggleable\"><input class=\"sk-toggleable__control sk-hidden--visually\" id=\"30584d67-f1cc-4aea-ba16-e82673d52543\" type=\"checkbox\" ><label class=\"sk-toggleable__label\" for=\"30584d67-f1cc-4aea-ba16-e82673d52543\">LinearRegression</label><div class=\"sk-toggleable__content\"><pre>LinearRegression()</pre></div></div></div></div></div></div></div>"
      ],
      "text/plain": [
       "Pipeline(steps=[('pol', PolynomialFeatures(include_bias=False)),\n",
       "                ('sca', StandardScaler()), ('reg', LinearRegression())])"
      ]
     },
     "metadata": {},
     "output_type": "display_data"
    },
    {
     "data": {
      "text/html": [
       "<style>#sk-da60b879-a25c-4ee2-8b68-ff3ccad8216d {color: black;background-color: white;}#sk-da60b879-a25c-4ee2-8b68-ff3ccad8216d pre{padding: 0;}#sk-da60b879-a25c-4ee2-8b68-ff3ccad8216d div.sk-toggleable {background-color: white;}#sk-da60b879-a25c-4ee2-8b68-ff3ccad8216d label.sk-toggleable__label {cursor: pointer;display: block;width: 100%;margin-bottom: 0;padding: 0.3em;box-sizing: border-box;text-align: center;}#sk-da60b879-a25c-4ee2-8b68-ff3ccad8216d div.sk-toggleable__content {max-height: 0;max-width: 0;overflow: hidden;text-align: left;background-color: #f0f8ff;}#sk-da60b879-a25c-4ee2-8b68-ff3ccad8216d div.sk-toggleable__content pre {margin: 0.2em;color: black;border-radius: 0.25em;background-color: #f0f8ff;}#sk-da60b879-a25c-4ee2-8b68-ff3ccad8216d input.sk-toggleable__control:checked~div.sk-toggleable__content {max-height: 200px;max-width: 100%;overflow: auto;}#sk-da60b879-a25c-4ee2-8b68-ff3ccad8216d div.sk-estimator input.sk-toggleable__control:checked~label.sk-toggleable__label {background-color: #d4ebff;}#sk-da60b879-a25c-4ee2-8b68-ff3ccad8216d div.sk-label input.sk-toggleable__control:checked~label.sk-toggleable__label {background-color: #d4ebff;}#sk-da60b879-a25c-4ee2-8b68-ff3ccad8216d input.sk-hidden--visually {border: 0;clip: rect(1px 1px 1px 1px);clip: rect(1px, 1px, 1px, 1px);height: 1px;margin: -1px;overflow: hidden;padding: 0;position: absolute;width: 1px;}#sk-da60b879-a25c-4ee2-8b68-ff3ccad8216d div.sk-estimator {font-family: monospace;background-color: #f0f8ff;border: 1px dotted black;border-radius: 0.25em;box-sizing: border-box;margin-bottom: 0.5em;}#sk-da60b879-a25c-4ee2-8b68-ff3ccad8216d div.sk-estimator:hover {background-color: #d4ebff;}#sk-da60b879-a25c-4ee2-8b68-ff3ccad8216d div.sk-parallel-item::after {content: \"\";width: 100%;border-bottom: 1px solid gray;flex-grow: 1;}#sk-da60b879-a25c-4ee2-8b68-ff3ccad8216d div.sk-label:hover label.sk-toggleable__label {background-color: #d4ebff;}#sk-da60b879-a25c-4ee2-8b68-ff3ccad8216d div.sk-serial::before {content: \"\";position: absolute;border-left: 1px solid gray;box-sizing: border-box;top: 2em;bottom: 0;left: 50%;}#sk-da60b879-a25c-4ee2-8b68-ff3ccad8216d div.sk-serial {display: flex;flex-direction: column;align-items: center;background-color: white;padding-right: 0.2em;padding-left: 0.2em;}#sk-da60b879-a25c-4ee2-8b68-ff3ccad8216d div.sk-item {z-index: 1;}#sk-da60b879-a25c-4ee2-8b68-ff3ccad8216d div.sk-parallel {display: flex;align-items: stretch;justify-content: center;background-color: white;}#sk-da60b879-a25c-4ee2-8b68-ff3ccad8216d div.sk-parallel::before {content: \"\";position: absolute;border-left: 1px solid gray;box-sizing: border-box;top: 2em;bottom: 0;left: 50%;}#sk-da60b879-a25c-4ee2-8b68-ff3ccad8216d div.sk-parallel-item {display: flex;flex-direction: column;position: relative;background-color: white;}#sk-da60b879-a25c-4ee2-8b68-ff3ccad8216d div.sk-parallel-item:first-child::after {align-self: flex-end;width: 50%;}#sk-da60b879-a25c-4ee2-8b68-ff3ccad8216d div.sk-parallel-item:last-child::after {align-self: flex-start;width: 50%;}#sk-da60b879-a25c-4ee2-8b68-ff3ccad8216d div.sk-parallel-item:only-child::after {width: 0;}#sk-da60b879-a25c-4ee2-8b68-ff3ccad8216d div.sk-dashed-wrapped {border: 1px dashed gray;margin: 0 0.4em 0.5em 0.4em;box-sizing: border-box;padding-bottom: 0.4em;background-color: white;position: relative;}#sk-da60b879-a25c-4ee2-8b68-ff3ccad8216d div.sk-label label {font-family: monospace;font-weight: bold;background-color: white;display: inline-block;line-height: 1.2em;}#sk-da60b879-a25c-4ee2-8b68-ff3ccad8216d div.sk-label-container {position: relative;z-index: 2;text-align: center;}#sk-da60b879-a25c-4ee2-8b68-ff3ccad8216d div.sk-container {display: inline-block;position: relative;}</style><div id=\"sk-da60b879-a25c-4ee2-8b68-ff3ccad8216d\" class\"sk-top-container\"><div class=\"sk-container\"><div class=\"sk-item sk-dashed-wrapped\"><div class=\"sk-label-container\"><div class=\"sk-label sk-toggleable\"><input class=\"sk-toggleable__control sk-hidden--visually\" id=\"29403895-8ff1-4d54-9b17-b9c22c535e97\" type=\"checkbox\" ><label class=\"sk-toggleable__label\" for=\"29403895-8ff1-4d54-9b17-b9c22c535e97\">Pipeline</label><div class=\"sk-toggleable__content\"><pre>Pipeline(steps=[('pol', PolynomialFeatures(include_bias=False)),\n",
       "                ('sca', StandardScaler()),\n",
       "                ('reg', Lasso(alpha=0.1, max_iter=50000, random_state=42))])</pre></div></div></div><div class=\"sk-serial\"><div class=\"sk-item\"><div class=\"sk-estimator sk-toggleable\"><input class=\"sk-toggleable__control sk-hidden--visually\" id=\"8ac0ffee-a8da-45b3-8d5a-045a651b47a0\" type=\"checkbox\" ><label class=\"sk-toggleable__label\" for=\"8ac0ffee-a8da-45b3-8d5a-045a651b47a0\">PolynomialFeatures</label><div class=\"sk-toggleable__content\"><pre>PolynomialFeatures(include_bias=False)</pre></div></div></div><div class=\"sk-item\"><div class=\"sk-estimator sk-toggleable\"><input class=\"sk-toggleable__control sk-hidden--visually\" id=\"55721332-761f-4c8b-87e4-ad5493682bb2\" type=\"checkbox\" ><label class=\"sk-toggleable__label\" for=\"55721332-761f-4c8b-87e4-ad5493682bb2\">StandardScaler</label><div class=\"sk-toggleable__content\"><pre>StandardScaler()</pre></div></div></div><div class=\"sk-item\"><div class=\"sk-estimator sk-toggleable\"><input class=\"sk-toggleable__control sk-hidden--visually\" id=\"c9198141-3f37-4acd-8be2-75ed4df0bc95\" type=\"checkbox\" ><label class=\"sk-toggleable__label\" for=\"c9198141-3f37-4acd-8be2-75ed4df0bc95\">Lasso</label><div class=\"sk-toggleable__content\"><pre>Lasso(alpha=0.1, max_iter=50000, random_state=42)</pre></div></div></div></div></div></div></div>"
      ],
      "text/plain": [
       "Pipeline(steps=[('pol', PolynomialFeatures(include_bias=False)),\n",
       "                ('sca', StandardScaler()),\n",
       "                ('reg', Lasso(alpha=0.1, max_iter=50000, random_state=42))])"
      ]
     },
     "metadata": {},
     "output_type": "display_data"
    },
    {
     "data": {
      "text/html": [
       "<style>#sk-ed9a7264-f442-4feb-b64f-89f610ef960f {color: black;background-color: white;}#sk-ed9a7264-f442-4feb-b64f-89f610ef960f pre{padding: 0;}#sk-ed9a7264-f442-4feb-b64f-89f610ef960f div.sk-toggleable {background-color: white;}#sk-ed9a7264-f442-4feb-b64f-89f610ef960f label.sk-toggleable__label {cursor: pointer;display: block;width: 100%;margin-bottom: 0;padding: 0.3em;box-sizing: border-box;text-align: center;}#sk-ed9a7264-f442-4feb-b64f-89f610ef960f div.sk-toggleable__content {max-height: 0;max-width: 0;overflow: hidden;text-align: left;background-color: #f0f8ff;}#sk-ed9a7264-f442-4feb-b64f-89f610ef960f div.sk-toggleable__content pre {margin: 0.2em;color: black;border-radius: 0.25em;background-color: #f0f8ff;}#sk-ed9a7264-f442-4feb-b64f-89f610ef960f input.sk-toggleable__control:checked~div.sk-toggleable__content {max-height: 200px;max-width: 100%;overflow: auto;}#sk-ed9a7264-f442-4feb-b64f-89f610ef960f div.sk-estimator input.sk-toggleable__control:checked~label.sk-toggleable__label {background-color: #d4ebff;}#sk-ed9a7264-f442-4feb-b64f-89f610ef960f div.sk-label input.sk-toggleable__control:checked~label.sk-toggleable__label {background-color: #d4ebff;}#sk-ed9a7264-f442-4feb-b64f-89f610ef960f input.sk-hidden--visually {border: 0;clip: rect(1px 1px 1px 1px);clip: rect(1px, 1px, 1px, 1px);height: 1px;margin: -1px;overflow: hidden;padding: 0;position: absolute;width: 1px;}#sk-ed9a7264-f442-4feb-b64f-89f610ef960f div.sk-estimator {font-family: monospace;background-color: #f0f8ff;border: 1px dotted black;border-radius: 0.25em;box-sizing: border-box;margin-bottom: 0.5em;}#sk-ed9a7264-f442-4feb-b64f-89f610ef960f div.sk-estimator:hover {background-color: #d4ebff;}#sk-ed9a7264-f442-4feb-b64f-89f610ef960f div.sk-parallel-item::after {content: \"\";width: 100%;border-bottom: 1px solid gray;flex-grow: 1;}#sk-ed9a7264-f442-4feb-b64f-89f610ef960f div.sk-label:hover label.sk-toggleable__label {background-color: #d4ebff;}#sk-ed9a7264-f442-4feb-b64f-89f610ef960f div.sk-serial::before {content: \"\";position: absolute;border-left: 1px solid gray;box-sizing: border-box;top: 2em;bottom: 0;left: 50%;}#sk-ed9a7264-f442-4feb-b64f-89f610ef960f div.sk-serial {display: flex;flex-direction: column;align-items: center;background-color: white;padding-right: 0.2em;padding-left: 0.2em;}#sk-ed9a7264-f442-4feb-b64f-89f610ef960f div.sk-item {z-index: 1;}#sk-ed9a7264-f442-4feb-b64f-89f610ef960f div.sk-parallel {display: flex;align-items: stretch;justify-content: center;background-color: white;}#sk-ed9a7264-f442-4feb-b64f-89f610ef960f div.sk-parallel::before {content: \"\";position: absolute;border-left: 1px solid gray;box-sizing: border-box;top: 2em;bottom: 0;left: 50%;}#sk-ed9a7264-f442-4feb-b64f-89f610ef960f div.sk-parallel-item {display: flex;flex-direction: column;position: relative;background-color: white;}#sk-ed9a7264-f442-4feb-b64f-89f610ef960f div.sk-parallel-item:first-child::after {align-self: flex-end;width: 50%;}#sk-ed9a7264-f442-4feb-b64f-89f610ef960f div.sk-parallel-item:last-child::after {align-self: flex-start;width: 50%;}#sk-ed9a7264-f442-4feb-b64f-89f610ef960f div.sk-parallel-item:only-child::after {width: 0;}#sk-ed9a7264-f442-4feb-b64f-89f610ef960f div.sk-dashed-wrapped {border: 1px dashed gray;margin: 0 0.4em 0.5em 0.4em;box-sizing: border-box;padding-bottom: 0.4em;background-color: white;position: relative;}#sk-ed9a7264-f442-4feb-b64f-89f610ef960f div.sk-label label {font-family: monospace;font-weight: bold;background-color: white;display: inline-block;line-height: 1.2em;}#sk-ed9a7264-f442-4feb-b64f-89f610ef960f div.sk-label-container {position: relative;z-index: 2;text-align: center;}#sk-ed9a7264-f442-4feb-b64f-89f610ef960f div.sk-container {display: inline-block;position: relative;}</style><div id=\"sk-ed9a7264-f442-4feb-b64f-89f610ef960f\" class\"sk-top-container\"><div class=\"sk-container\"><div class=\"sk-item sk-dashed-wrapped\"><div class=\"sk-label-container\"><div class=\"sk-label sk-toggleable\"><input class=\"sk-toggleable__control sk-hidden--visually\" id=\"045aebcd-a5d9-47ed-bb41-b5b88a3b457c\" type=\"checkbox\" ><label class=\"sk-toggleable__label\" for=\"045aebcd-a5d9-47ed-bb41-b5b88a3b457c\">Pipeline</label><div class=\"sk-toggleable__content\"><pre>Pipeline(steps=[('pol', PolynomialFeatures(include_bias=False)),\n",
       "                ('sca', StandardScaler()),\n",
       "                ('reg', Ridge(alpha=0.1, max_iter=50000, random_state=42))])</pre></div></div></div><div class=\"sk-serial\"><div class=\"sk-item\"><div class=\"sk-estimator sk-toggleable\"><input class=\"sk-toggleable__control sk-hidden--visually\" id=\"416a86a2-cf8d-4fec-b3fe-98b5e7220f3b\" type=\"checkbox\" ><label class=\"sk-toggleable__label\" for=\"416a86a2-cf8d-4fec-b3fe-98b5e7220f3b\">PolynomialFeatures</label><div class=\"sk-toggleable__content\"><pre>PolynomialFeatures(include_bias=False)</pre></div></div></div><div class=\"sk-item\"><div class=\"sk-estimator sk-toggleable\"><input class=\"sk-toggleable__control sk-hidden--visually\" id=\"0aef7d90-603d-4023-9c03-c3bf6c4d7b76\" type=\"checkbox\" ><label class=\"sk-toggleable__label\" for=\"0aef7d90-603d-4023-9c03-c3bf6c4d7b76\">StandardScaler</label><div class=\"sk-toggleable__content\"><pre>StandardScaler()</pre></div></div></div><div class=\"sk-item\"><div class=\"sk-estimator sk-toggleable\"><input class=\"sk-toggleable__control sk-hidden--visually\" id=\"ae40c841-4dd9-4489-af7e-af27777a5855\" type=\"checkbox\" ><label class=\"sk-toggleable__label\" for=\"ae40c841-4dd9-4489-af7e-af27777a5855\">Ridge</label><div class=\"sk-toggleable__content\"><pre>Ridge(alpha=0.1, max_iter=50000, random_state=42)</pre></div></div></div></div></div></div></div>"
      ],
      "text/plain": [
       "Pipeline(steps=[('pol', PolynomialFeatures(include_bias=False)),\n",
       "                ('sca', StandardScaler()),\n",
       "                ('reg', Ridge(alpha=0.1, max_iter=50000, random_state=42))])"
      ]
     },
     "metadata": {},
     "output_type": "display_data"
    }
   ],
   "source": [
    "def make_model(degree, alpha=0, penalty=None):\n",
    "    # linear regression\n",
    "    if alpha == 0:\n",
    "        regressor = LinearRegression()\n",
    "    # lasso regression\",\n",
    "    elif penalty == 'L1':\n",
    "        regressor = Lasso(alpha=alpha, random_state=SEED, max_iter=50000)\n",
    "    # ridge regression\",\n",
    "    elif penalty == 'L2':\n",
    "        regressor = Ridge(alpha=alpha, random_state=SEED, max_iter=50000) \n",
    "    \n",
    "    \n",
    "    return Pipeline([\n",
    "        ('pol', PolynomialFeatures(degree, include_bias=(degree == 0))),\n",
    "        ('sca', StandardScaler()),\n",
    "        ('reg', regressor)\n",
    "    ])\n",
    "\n",
    "display(make_model(2))\n",
    "display(make_model(2, penalty='L1', alpha=0.1))\n",
    "display(make_model(2, penalty='L2', alpha=0.1))"
   ]
  },
  {
   "cell_type": "markdown",
   "id": "00776856",
   "metadata": {
    "papermill": {
     "duration": 0.063862,
     "end_time": "2022-03-27T18:03:14.856081",
     "exception": false,
     "start_time": "2022-03-27T18:03:14.792219",
     "status": "completed"
    },
    "tags": []
   },
   "source": [
    "### Fit"
   ]
  },
  {
   "cell_type": "markdown",
   "id": "0645e1d7",
   "metadata": {
    "papermill": {
     "duration": 0.063852,
     "end_time": "2022-03-27T18:03:14.984360",
     "exception": false,
     "start_time": "2022-03-27T18:03:14.920508",
     "status": "completed"
    },
    "tags": []
   },
   "source": [
    "Let's fit a model and plot the hypothesis it learns:"
   ]
  },
  {
   "cell_type": "code",
   "execution_count": 11,
   "id": "451c134d",
   "metadata": {
    "ExecuteTime": {
     "end_time": "2022-02-16T07:40:51.426785Z",
     "start_time": "2022-02-16T07:40:51.20983Z"
    },
    "execution": {
     "iopub.execute_input": "2022-03-27T18:03:15.149040Z",
     "iopub.status.busy": "2022-03-27T18:03:15.137922Z",
     "iopub.status.idle": "2022-03-27T18:03:15.370210Z",
     "shell.execute_reply": "2022-03-27T18:03:15.370761Z",
     "shell.execute_reply.started": "2022-03-27T17:10:04.647307Z"
    },
    "papermill": {
     "duration": 0.322425,
     "end_time": "2022-03-27T18:03:15.370943",
     "exception": false,
     "start_time": "2022-03-27T18:03:15.048518",
     "status": "completed"
    },
    "tags": []
   },
   "outputs": [
    {
     "data": {
      "image/png": "[encoded data removed]",
      "text/plain": [
       "<Figure size 432x288 with 1 Axes>"
      ]
     },
     "metadata": {
      "needs_background": "light"
     },
     "output_type": "display_data"
    }
   ],
   "source": [
    "def plot_fit(model):\n",
    "    degree = model['pol'].degree\n",
    "    X_range = np.linspace(*RANGE, 1000).reshape(-1, 1)\n",
    "    y_pred = model.predict(X_range)\n",
    "    plot_scatter(X_train, y_train, label='Training sample')\n",
    "    plot_scatter(X_valid, y_valid, label='Validation sample')\n",
    "    plt.plot(X_range, target_function(X_range), c='green', alpha=0.2, lw=5, label='Target function')\n",
    "    plt.plot(X_range, y_pred, c='red', label='Hypothesis')\n",
    "    plt.ylim((min(y) - 3, max(y) + 3))\n",
    "    plt.legend(loc='best')    \n",
    "    plt.title(f'Polynomial approximation: degree={degree}')\n",
    "    plt.show()\n",
    "\n",
    "plot_fit(make_model(degree=2).fit(X_train, y_train))"
   ]
  },
  {
   "cell_type": "markdown",
   "id": "8e0c83cc",
   "metadata": {
    "papermill": {
     "duration": 0.065134,
     "end_time": "2022-03-27T18:03:15.503262",
     "exception": false,
     "start_time": "2022-03-27T18:03:15.438128",
     "status": "completed"
    },
    "tags": []
   },
   "source": [
    "### From underfitting to overfitting"
   ]
  },
  {
   "cell_type": "markdown",
   "id": "7fc20883",
   "metadata": {
    "ExecuteTime": {
     "end_time": "2020-11-09T11:15:24.323458Z",
     "start_time": "2020-11-09T11:15:24.318089Z"
    },
    "papermill": {
     "duration": 0.065631,
     "end_time": "2022-03-27T18:03:15.636036",
     "exception": false,
     "start_time": "2022-03-27T18:03:15.570405",
     "status": "completed"
    },
    "tags": []
   },
   "source": [
    "We can investigate the shape of the fitted curve for different values of `degree`:"
   ]
  },
  {
   "cell_type": "code",
   "execution_count": 12,
   "id": "e0ec8f6d",
   "metadata": {
    "ExecuteTime": {
     "end_time": "2022-02-16T07:40:54.236522Z",
     "start_time": "2022-02-16T07:40:52.748262Z"
    },
    "execution": {
     "iopub.execute_input": "2022-03-27T18:03:15.770709Z",
     "iopub.status.busy": "2022-03-27T18:03:15.770009Z",
     "iopub.status.idle": "2022-03-27T18:03:18.377458Z",
     "shell.execute_reply": "2022-03-27T18:03:18.376019Z",
     "shell.execute_reply.started": "2022-03-27T17:10:04.960563Z"
    },
    "papermill": {
     "duration": 2.675723,
     "end_time": "2022-03-27T18:03:18.377638",
     "exception": false,
     "start_time": "2022-03-27T18:03:15.701915",
     "status": "completed"
    },
    "tags": []
   },
   "outputs": [
    {
     "data": {
      "image/png": "[encoded data removed]",
      "text/plain": [
       "<Figure size 432x288 with 1 Axes>"
      ]
     },
     "metadata": {
      "needs_background": "light"
     },
     "output_type": "display_data"
    },
    {
     "data": {
      "image/png": "[encoded data removed]",
      "text/plain": [
       "<Figure size 432x288 with 1 Axes>"
      ]
     },
     "metadata": {
      "needs_background": "light"
     },
     "output_type": "display_data"
    },
    {
     "data": {
      "image/png": "[encoded data removed]",
      "text/plain": [
       "<Figure size 432x288 with 1 Axes>"
      ]
     },
     "metadata": {
      "needs_background": "light"
     },
     "output_type": "display_data"
    },
    {
     "data": {
      "image/png": "[encoded data removed]",
      "text/plain": [
       "<Figure size 432x288 with 1 Axes>"
      ]
     },
     "metadata": {
      "needs_background": "light"
     },
     "output_type": "display_data"
    },
    {
     "data": {
      "image/png": "[encoded data removed]",
      "text/plain": [
       "<Figure size 432x288 with 1 Axes>"
      ]
     },
     "metadata": {
      "needs_background": "light"
     },
     "output_type": "display_data"
    },
    {
     "data": {
      "image/png": "[encoded data removed]",
      "text/plain": [
       "<Figure size 432x288 with 1 Axes>"
      ]
     },
     "metadata": {
      "needs_background": "light"
     },
     "output_type": "display_data"
    },
    {
     "data": {
      "image/png": "[encoded data removed]",
      "text/plain": [
       "<Figure size 432x288 with 1 Axes>"
      ]
     },
     "metadata": {
      "needs_background": "light"
     },
     "output_type": "display_data"
    },
    {
     "data": {
      "image/png": "[encoded data removed]",
      "text/plain": [
       "<Figure size 432x288 with 1 Axes>"
      ]
     },
     "metadata": {
      "needs_background": "light"
     },
     "output_type": "display_data"
    },
    {
     "data": {
      "image/png": "[encoded data removed]",
      "text/plain": [
       "<Figure size 432x288 with 1 Axes>"
      ]
     },
     "metadata": {
      "needs_background": "light"
     },
     "output_type": "display_data"
    }
   ],
   "source": [
    "for degree in [0, 1, 2, 3, 4, 5, 10, 15, 20]:\n",
    "    plot_fit(make_model(degree).fit(X_train, y_train))"
   ]
  },
  {
   "cell_type": "markdown",
   "id": "d73d51a2",
   "metadata": {
    "papermill": {
     "duration": 0.078073,
     "end_time": "2022-03-27T18:03:18.536033",
     "exception": false,
     "start_time": "2022-03-27T18:03:18.457960",
     "status": "completed"
    },
    "tags": []
   },
   "source": [
    "### Fitting graph"
   ]
  },
  {
   "cell_type": "markdown",
   "id": "0261d121",
   "metadata": {
    "papermill": {
     "duration": 0.077935,
     "end_time": "2022-03-27T18:03:18.692134",
     "exception": false,
     "start_time": "2022-03-27T18:03:18.614199",
     "status": "completed"
    },
    "tags": []
   },
   "source": [
    "In the next step we calculate the training and the validation error for each `degree` and plot them in a single graph. The resulting graph is called the fitting graph."
   ]
  },
  {
   "cell_type": "code",
   "execution_count": 13,
   "id": "804fdf21",
   "metadata": {
    "ExecuteTime": {
     "end_time": "2021-12-15T20:32:47.308471Z",
     "start_time": "2021-12-15T20:32:47.036535Z"
    },
    "execution": {
     "iopub.execute_input": "2022-03-27T18:03:18.858776Z",
     "iopub.status.busy": "2022-03-27T18:03:18.858059Z",
     "iopub.status.idle": "2022-03-27T18:03:19.100366Z",
     "shell.execute_reply": "2022-03-27T18:03:19.099805Z",
     "shell.execute_reply.started": "2022-03-27T17:10:07.860797Z"
    },
    "papermill": {
     "duration": 0.329987,
     "end_time": "2022-03-27T18:03:19.100529",
     "exception": false,
     "start_time": "2022-03-27T18:03:18.770542",
     "status": "completed"
    },
    "tags": []
   },
   "outputs": [
    {
     "data": {
      "image/png": "[encoded data removed]",
      "text/plain": [
       "<Figure size 648x324 with 1 Axes>"
      ]
     },
     "metadata": {
      "needs_background": "light"
     },
     "output_type": "display_data"
    }
   ],
   "source": [
    "def rmse(y_true, y_pred):\n",
    "    return np.sqrt(mean_squared_error(y_true, y_pred))\n",
    "\n",
    "def plot_fitting_graph(x, metric_train, metric_valid, xlabel, ylabel, \n",
    "                       custom_metric=None, custom_label='', custom_scale='log', title='Fitting graph'):\n",
    "    plt.figure(figsize=(9, 4.5))\n",
    "    plt.plot(x, metric_train, label='Training')\n",
    "    plt.plot(x, metric_valid, color='C1', label='Validation')\n",
    "    plt.axvline(x[np.argmin(metric_valid)], color='C1', lw=10, alpha=0.2)\n",
    "    plt.title(title)\n",
    "    plt.xlabel(xlabel)\n",
    "    plt.ylabel(ylabel)\n",
    "    plt.grid(True)\n",
    "    plt.xticks(x, rotation='vertical')\n",
    "    plt.legend(loc='center left')        \n",
    "    if custom_metric:\n",
    "        plt.twinx()\n",
    "        plt.yscale(custom_scale)\n",
    "        plt.plot(x, custom_metric, alpha=0.2, lw=4, ls='dotted', color='black', label=custom_label) \n",
    "        plt.legend(loc='center right')         \n",
    "    plt.show()\n",
    "    \n",
    "rmse_train, rmse_valid = [], []\n",
    "for degree in DEGREES:\n",
    "    reg = make_model(degree).fit(X_train, y_train)\n",
    "    rmse_train.append(rmse(reg.predict(X_train), y_train))\n",
    "    rmse_valid.append(rmse(reg.predict(X_valid), y_valid))\n",
    "    \n",
    "plot_fitting_graph(DEGREES, rmse_train, rmse_valid, xlabel='Complexity (degree)', ylabel='Error (RMSE)', \n",
    "                   title='Least squares polynomial regression')"
   ]
  },
  {
   "cell_type": "markdown",
   "id": "8f09ae2f",
   "metadata": {
    "papermill": {
     "duration": 0.080865,
     "end_time": "2022-03-27T18:03:19.260890",
     "exception": false,
     "start_time": "2022-03-27T18:03:19.180025",
     "status": "completed"
    },
    "tags": []
   },
   "source": [
    "### Sweet spot"
   ]
  },
  {
   "cell_type": "markdown",
   "id": "e27930ab",
   "metadata": {
    "papermill": {
     "duration": 0.0799,
     "end_time": "2022-03-27T18:03:19.420800",
     "exception": false,
     "start_time": "2022-03-27T18:03:19.340900",
     "status": "completed"
    },
    "tags": []
   },
   "source": [
    "What is the optimal `degree` to go with?"
   ]
  },
  {
   "cell_type": "code",
   "execution_count": 14,
   "id": "9ac7ae0e",
   "metadata": {
    "ExecuteTime": {
     "end_time": "2021-12-15T20:32:47.324492Z",
     "start_time": "2021-12-15T20:32:47.308471Z"
    },
    "execution": {
     "iopub.execute_input": "2022-03-27T18:03:19.586826Z",
     "iopub.status.busy": "2022-03-27T18:03:19.586162Z",
     "iopub.status.idle": "2022-03-27T18:03:19.589999Z",
     "shell.execute_reply": "2022-03-27T18:03:19.589477Z",
     "shell.execute_reply.started": "2022-03-27T17:10:08.181311Z"
    },
    "papermill": {
     "duration": 0.089363,
     "end_time": "2022-03-27T18:03:19.590137",
     "exception": false,
     "start_time": "2022-03-27T18:03:19.500774",
     "status": "completed"
    },
    "tags": []
   },
   "outputs": [
    {
     "data": {
      "text/plain": [
       "5"
      ]
     },
     "execution_count": 14,
     "metadata": {},
     "output_type": "execute_result"
    }
   ],
   "source": [
    "DEGREES[np.argmin(rmse_valid)]"
   ]
  },
  {
   "cell_type": "markdown",
   "id": "f7523b4c",
   "metadata": {
    "papermill": {
     "duration": 0.08054,
     "end_time": "2022-03-27T18:03:19.751547",
     "exception": false,
     "start_time": "2022-03-27T18:03:19.671007",
     "status": "completed"
    },
    "tags": []
   },
   "source": [
    "### Cross-validation"
   ]
  },
  {
   "cell_type": "markdown",
   "id": "191156bd",
   "metadata": {
    "papermill": {
     "duration": 0.080263,
     "end_time": "2022-03-27T18:03:19.915316",
     "exception": false,
     "start_time": "2022-03-27T18:03:19.835053",
     "status": "completed"
    },
    "tags": []
   },
   "source": [
    "Ideally, we would choose the the model parameters such that we have the best model performance. However, we want to make sure that we really have the best validation performance. When we do `train_test_split` we randomly split the data into two parts. What could happen is that we got lucky and split the data such that it favours the validation error. This is especially dangerous if we are dealing with small datasets. One way to check if that's the case is to run the experiment several times for different, random splits. However, there is an even more systematic way of doing this: [cross-validation](https://scikit-learn.org/stable/modules/cross_validation.html)."
   ]
  },
  {
   "cell_type": "markdown",
   "id": "14f246b6",
   "metadata": {
    "papermill": {
     "duration": 0.08032,
     "end_time": "2022-03-27T18:03:20.077160",
     "exception": false,
     "start_time": "2022-03-27T18:03:19.996840",
     "status": "completed"
    },
    "tags": []
   },
   "source": [
    "<img src=\"https://scikit-learn.org/stable/_images/grid_search_cross_validation.png\" width=50% />"
   ]
  },
  {
   "cell_type": "code",
   "execution_count": 15,
   "id": "87276693",
   "metadata": {
    "ExecuteTime": {
     "end_time": "2021-12-15T20:32:47.788153Z",
     "start_time": "2021-12-15T20:32:47.324492Z"
    },
    "execution": {
     "iopub.execute_input": "2022-03-27T18:03:20.246428Z",
     "iopub.status.busy": "2022-03-27T18:03:20.245716Z",
     "iopub.status.idle": "2022-03-27T18:03:20.701913Z",
     "shell.execute_reply": "2022-03-27T18:03:20.701315Z",
     "shell.execute_reply.started": "2022-03-27T17:10:08.189403Z"
    },
    "papermill": {
     "duration": 0.542158,
     "end_time": "2022-03-27T18:03:20.702053",
     "exception": false,
     "start_time": "2022-03-27T18:03:20.159895",
     "status": "completed"
    },
    "tags": []
   },
   "outputs": [
    {
     "data": {
      "image/png": "[encoded data removed]",
      "text/plain": [
       "<Figure size 648x324 with 1 Axes>"
      ]
     },
     "metadata": {
      "needs_background": "light"
     },
     "output_type": "display_data"
    }
   ],
   "source": [
    "rmse_train, rmse_valid = [], []\n",
    "for degree in DEGREES:\n",
    "    results = cross_validate(make_model(degree), \n",
    "                             X, y, cv=5,\n",
    "                             return_train_score=True,\n",
    "                             scoring='neg_root_mean_squared_error')\n",
    "    rmse_train.append(-np.mean(results['train_score']))\n",
    "    rmse_valid.append(-np.mean(results['test_score']))\n",
    "    \n",
    "plot_fitting_graph(DEGREES, rmse_train, rmse_valid, xlabel='Complexity (degree)', ylabel='Error (RMSE)',\n",
    "                   title='Least squares polynomial regression')"
   ]
  },
  {
   "cell_type": "markdown",
   "id": "30f4db7f",
   "metadata": {
    "papermill": {
     "duration": 0.082375,
     "end_time": "2022-03-27T18:03:20.866410",
     "exception": false,
     "start_time": "2022-03-27T18:03:20.784035",
     "status": "completed"
    },
    "tags": []
   },
   "source": [
    "### Model coefficients"
   ]
  },
  {
   "cell_type": "markdown",
   "id": "dfa2f3fd",
   "metadata": {
    "ExecuteTime": {
     "end_time": "2020-11-05T16:26:33.200639Z",
     "start_time": "2020-11-05T16:26:33.197656Z"
    },
    "papermill": {
     "duration": 0.083154,
     "end_time": "2022-03-27T18:03:21.032032",
     "exception": false,
     "start_time": "2022-03-27T18:03:20.948878",
     "status": "completed"
    },
    "tags": []
   },
   "source": [
    "Let's inspect our regression model coefficients:"
   ]
  },
  {
   "cell_type": "code",
   "execution_count": 16,
   "id": "dd9201a1",
   "metadata": {
    "ExecuteTime": {
     "end_time": "2021-12-15T20:32:47.820142Z",
     "start_time": "2021-12-15T20:32:47.788153Z"
    },
    "execution": {
     "iopub.execute_input": "2022-03-27T18:03:21.198758Z",
     "iopub.status.busy": "2022-03-27T18:03:21.198071Z",
     "iopub.status.idle": "2022-03-27T18:03:21.215584Z",
     "shell.execute_reply": "2022-03-27T18:03:21.216129Z",
     "shell.execute_reply.started": "2022-03-27T17:10:08.752543Z"
    },
    "papermill": {
     "duration": 0.102655,
     "end_time": "2022-03-27T18:03:21.216304",
     "exception": false,
     "start_time": "2022-03-27T18:03:21.113649",
     "status": "completed"
    },
    "tags": []
   },
   "outputs": [
    {
     "data": {
      "text/plain": [
       "(array([2.81292778]),\n",
       " array([2.80049884, 0.45166501]),\n",
       " array([ 30.87315584,   1.48752361, -54.60227825,  -1.63699842,\n",
       "         26.62792933]),\n",
       " array([  33.63850705,  -41.86346242,  -70.48743112,  278.98853452,\n",
       "          27.48125634, -656.36383501,   59.32988346,  651.64795186,\n",
       "         -47.55728814, -233.48455138]))"
      ]
     },
     "execution_count": 16,
     "metadata": {},
     "output_type": "execute_result"
    }
   ],
   "source": [
    "(make_model(degree=1).fit(X_train, y_train)['reg'].coef_,\n",
    " make_model(degree=2).fit(X_train, y_train)['reg'].coef_,\n",
    " make_model(degree=5).fit(X_train, y_train)['reg'].coef_,\n",
    " make_model(degree=10).fit(X_train, y_train)['reg'].coef_)"
   ]
  },
  {
   "cell_type": "markdown",
   "id": "65814340",
   "metadata": {
    "papermill": {
     "duration": 0.082135,
     "end_time": "2022-03-27T18:03:21.397542",
     "exception": false,
     "start_time": "2022-03-27T18:03:21.315407",
     "status": "completed"
    },
    "tags": []
   },
   "source": [
    "Hmm... it looks like high degree polynomials are coming with much bigger regression coefficients. \n",
    "\n",
    "We are going to plot the mean absolute value of $w_i$ as a function of degree to reveal the relationship:"
   ]
  },
  {
   "cell_type": "code",
   "execution_count": 17,
   "id": "c1b1b686",
   "metadata": {
    "ExecuteTime": {
     "end_time": "2021-12-15T20:32:48.876099Z",
     "start_time": "2021-12-15T20:32:47.820142Z"
    },
    "execution": {
     "iopub.execute_input": "2022-03-27T18:03:21.573940Z",
     "iopub.status.busy": "2022-03-27T18:03:21.572790Z",
     "iopub.status.idle": "2022-03-27T18:03:22.559997Z",
     "shell.execute_reply": "2022-03-27T18:03:22.560558Z",
     "shell.execute_reply.started": "2022-03-27T17:10:08.772360Z"
    },
    "papermill": {
     "duration": 1.081024,
     "end_time": "2022-03-27T18:03:22.560760",
     "exception": false,
     "start_time": "2022-03-27T18:03:21.479736",
     "status": "completed"
    },
    "tags": []
   },
   "outputs": [
    {
     "data": {
      "image/png": "[encoded data removed]",
      "text/plain": [
       "<Figure size 648x324 with 2 Axes>"
      ]
     },
     "metadata": {
      "needs_background": "light"
     },
     "output_type": "display_data"
    }
   ],
   "source": [
    "rmse_train, rmse_valid, avg_coef = [], [], []\n",
    "for degree in DEGREES:\n",
    "    results = cross_validate(make_model(degree),\n",
    "                             X, y, cv=5,\n",
    "                             return_train_score=True, return_estimator=True,\n",
    "                             scoring='neg_root_mean_squared_error')\n",
    "    rmse_train.append(-np.mean(results['train_score']))\n",
    "    rmse_valid.append(-np.mean(results['test_score']))        \n",
    "    avg_coef.append(        \n",
    "        # average over CV folds\n",
    "        np.mean([            \n",
    "            # mean absolute value of weights\n",
    "            np.mean(np.abs(model['reg'].coef_))\n",
    "            for model in results['estimator']\n",
    "        ]))\n",
    "    \n",
    "plot_fitting_graph(DEGREES, rmse_train, rmse_valid,\n",
    "                   xlabel='Complexity (degree)', ylabel='Error (RMSE)',\n",
    "                   custom_metric=avg_coef, custom_label='avg(|$w_i$|)',\n",
    "                   title='Least squares polynomial regression')"
   ]
  },
  {
   "cell_type": "markdown",
   "id": "98a67979",
   "metadata": {
    "ExecuteTime": {
     "end_time": "2020-11-09T15:24:18.245064Z",
     "start_time": "2020-11-09T15:24:18.241548Z"
    },
    "papermill": {
     "duration": 0.084429,
     "end_time": "2022-03-27T18:03:22.730480",
     "exception": false,
     "start_time": "2022-03-27T18:03:22.646051",
     "status": "completed"
    },
    "tags": []
   },
   "source": [
    "### Summary"
   ]
  },
  {
   "cell_type": "markdown",
   "id": "d26abec3",
   "metadata": {
    "papermill": {
     "duration": 0.085546,
     "end_time": "2022-03-27T18:03:22.900961",
     "exception": false,
     "start_time": "2022-03-27T18:03:22.815415",
     "status": "completed"
    },
    "tags": []
   },
   "source": [
    "We observe the following:\n",
    "\n",
    "1. **Underfitting** (degree < 5): The model is not able to fit the data properly. The fit is bad for both the training and the validation set.\n",
    "\n",
    "2. **Fit is just right** (degree = 5): The model is able to capture the underlying data distribution. The fit is good for both the training and the validation set.\n",
    "\n",
    "3. **Overfitting** (degree > 5): The model starts fitting the noise in the dataset. While the fit for the training data gets even better, the fit for the validation set gets worse.\n",
    "\n",
    "4. As the order of polynomial increases, the linear model coefficients become more likely to take on **large values**."
   ]
  },
  {
   "cell_type": "markdown",
   "id": "cc1eb56e",
   "metadata": {
    "ExecuteTime": {
     "end_time": "2020-11-03T08:47:28.699189Z",
     "start_time": "2020-11-03T08:47:28.695466Z"
    },
    "papermill": {
     "duration": 0.083463,
     "end_time": "2022-03-27T18:03:23.069661",
     "exception": false,
     "start_time": "2022-03-27T18:03:22.986198",
     "status": "completed"
    },
    "tags": []
   },
   "source": [
    "## Part 2: Regularization"
   ]
  },
  {
   "cell_type": "markdown",
   "id": "2085d129",
   "metadata": {
    "papermill": {
     "duration": 0.083931,
     "end_time": "2022-03-27T18:03:23.237041",
     "exception": false,
     "start_time": "2022-03-27T18:03:23.153110",
     "status": "completed"
    },
    "tags": []
   },
   "source": [
    "There are two major ways to build a machine learning model with the ability to generalize well on unseen data:\n",
    "1. Train the simplest model possible for our purpose (according to Occam’s Razor).\n",
    "2. Train a complex or more expressive model on the data and perform regularization.\n",
    "\n",
    "Regularization is a method used to reduce the variance of a machine learning model. In other words, it is used to reduce overfitting. Regularization penalizes a model for being complex. For linear models, it means regularization forces model coefficients to be smaller in magnitude.\n",
    "\n",
    "Let's pick a polynomial model of degree **15** (which tends to overfit strongly) and try to regularize it using **L1** and **L2** penalties."
   ]
  },
  {
   "cell_type": "markdown",
   "id": "d5ea80f5",
   "metadata": {
    "papermill": {
     "duration": 0.083879,
     "end_time": "2022-03-27T18:03:23.404450",
     "exception": false,
     "start_time": "2022-03-27T18:03:23.320571",
     "status": "completed"
    },
    "tags": []
   },
   "source": [
    "### L1 - Lasso regression"
   ]
  },
  {
   "cell_type": "code",
   "execution_count": 18,
   "id": "96e35b18",
   "metadata": {
    "ExecuteTime": {
     "end_time": "2021-12-15T20:32:49.851006Z",
     "start_time": "2021-12-15T20:32:48.876099Z"
    },
    "execution": {
     "iopub.execute_input": "2022-03-27T18:03:23.582022Z",
     "iopub.status.busy": "2022-03-27T18:03:23.581235Z",
     "iopub.status.idle": "2022-03-27T18:03:25.038574Z",
     "shell.execute_reply": "2022-03-27T18:03:25.037849Z",
     "shell.execute_reply.started": "2022-03-27T17:10:09.660682Z"
    },
    "papermill": {
     "duration": 1.549448,
     "end_time": "2022-03-27T18:03:25.038731",
     "exception": false,
     "start_time": "2022-03-27T18:03:23.489283",
     "status": "completed"
    },
    "tags": []
   },
   "outputs": [
    {
     "data": {
      "image/png": "[encoded data removed]",
      "text/plain": [
       "<Figure size 648x324 with 1 Axes>"
      ]
     },
     "metadata": {
      "needs_background": "light"
     },
     "output_type": "display_data"
    }
   ],
   "source": [
    "rmse_train, rmse_valid = [], []\n",
    "for alpha in ALPHAS:    \n",
    "    results = cross_validate(make_model(degree=15, penalty='L1', alpha=alpha), \n",
    "                             X, y, cv=5,\n",
    "                             return_train_score=True,\n",
    "                             scoring='neg_root_mean_squared_error')\n",
    "    rmse_train.append(-np.mean(results['train_score']))\n",
    "    rmse_valid.append(-np.mean(results['test_score']))\n",
    "    \n",
    "plot_fitting_graph(ALPHAS, rmse_train, rmse_valid,\n",
    "                   xlabel='Regularization strength (alpha)', ylabel='Error (RMSE)',\n",
    "                   title='Lasso polynomial regression (L1): degree=15')"
   ]
  },
  {
   "cell_type": "markdown",
   "id": "58afd2e9",
   "metadata": {
    "papermill": {
     "duration": 0.086384,
     "end_time": "2022-03-27T18:03:25.212890",
     "exception": false,
     "start_time": "2022-03-27T18:03:25.126506",
     "status": "completed"
    },
    "tags": []
   },
   "source": [
    "### L2 - Ridge regression"
   ]
  },
  {
   "cell_type": "code",
   "execution_count": 19,
   "id": "7dfe1b5e",
   "metadata": {
    "ExecuteTime": {
     "end_time": "2021-12-15T20:32:51.202745Z",
     "start_time": "2021-12-15T20:32:50.468099Z"
    },
    "execution": {
     "iopub.execute_input": "2022-03-27T18:03:25.396529Z",
     "iopub.status.busy": "2022-03-27T18:03:25.395787Z",
     "iopub.status.idle": "2022-03-27T18:03:26.641219Z",
     "shell.execute_reply": "2022-03-27T18:03:26.641805Z",
     "shell.execute_reply.started": "2022-03-27T17:10:11.171250Z"
    },
    "papermill": {
     "duration": 1.342985,
     "end_time": "2022-03-27T18:03:26.641989",
     "exception": false,
     "start_time": "2022-03-27T18:03:25.299004",
     "status": "completed"
    },
    "tags": []
   },
   "outputs": [
    {
     "data": {
      "image/png": "[encoded data removed]",
      "text/plain": [
       "<Figure size 648x324 with 1 Axes>"
      ]
     },
     "metadata": {
      "needs_background": "light"
     },
     "output_type": "display_data"
    }
   ],
   "source": [
    "rmse_train, rmse_valid = [], []\n",
    "for alpha in ALPHAS:    \n",
    "    results = cross_validate(make_model(degree=15, penalty='L2', alpha=alpha), \n",
    "                             X, y, cv=5,\n",
    "                             return_train_score=True,\n",
    "                             scoring='neg_root_mean_squared_error')\n",
    "    rmse_train.append(-np.mean(results['train_score']))\n",
    "    rmse_valid.append(-np.mean(results['test_score']))\n",
    "    \n",
    "plot_fitting_graph(ALPHAS, rmse_train, rmse_valid, \n",
    "                   xlabel='Regularization strength (alpha)', ylabel='Error (RMSE)', \n",
    "                   title='Ridge polynomial regression (L2): degree=15')"
   ]
  },
  {
   "cell_type": "markdown",
   "id": "383e7f86",
   "metadata": {
    "ExecuteTime": {
     "end_time": "2020-11-09T13:47:39.048589Z",
     "start_time": "2020-11-09T13:47:39.044912Z"
    },
    "papermill": {
     "duration": 0.088686,
     "end_time": "2022-03-27T18:03:26.819131",
     "exception": false,
     "start_time": "2022-03-27T18:03:26.730445",
     "status": "completed"
    },
    "tags": []
   },
   "source": [
    "### Summary"
   ]
  },
  {
   "cell_type": "markdown",
   "id": "f8ba8312",
   "metadata": {
    "ExecuteTime": {
     "end_time": "2020-11-09T13:49:03.993455Z",
     "start_time": "2020-11-09T13:49:03.987472Z"
    },
    "papermill": {
     "duration": 0.087218,
     "end_time": "2022-03-27T18:03:26.995170",
     "exception": false,
     "start_time": "2022-03-27T18:03:26.907952",
     "status": "completed"
    },
    "tags": []
   },
   "source": [
    "1. We can control the regularization strength by changing the hyperparameter `alpha`.\n",
    "2. Regularized version of the model performs pretty well. Even in case the original original (unregularized) model is heavily overfitting due to excessive complexity."
   ]
  },
  {
   "cell_type": "markdown",
   "id": "43720377",
   "metadata": {
    "ExecuteTime": {
     "end_time": "2020-11-09T12:14:17.962945Z",
     "start_time": "2020-11-09T12:14:17.959952Z"
    },
    "papermill": {
     "duration": 0.086335,
     "end_time": "2022-03-27T18:03:27.169074",
     "exception": false,
     "start_time": "2022-03-27T18:03:27.082739",
     "status": "completed"
    },
    "tags": []
   },
   "source": [
    "## Part 3: Homework assignment (10 points)"
   ]
  },
  {
   "cell_type": "markdown",
   "id": "bc60bb77",
   "metadata": {
    "papermill": {
     "duration": 0.085975,
     "end_time": "2022-03-27T18:03:27.342138",
     "exception": false,
     "start_time": "2022-03-27T18:03:27.256163",
     "status": "completed"
    },
    "tags": []
   },
   "source": [
    "**WARNING!**\n",
    "\n",
    "Due to the limited power of your machine, you may face some difficulties in generating polynomial features of a high degree. It's ok to take only a subsample of features for that purpose (even one feature is enough). Afterwards, you **must collect all features together** (those which were used to generate polynomials and the rest)."
   ]
  },
  {
   "cell_type": "markdown",
   "id": "310f9c66",
   "metadata": {
    "ExecuteTime": {
     "end_time": "2021-12-10T12:27:23.202301Z",
     "start_time": "2021-12-10T12:27:23.185315Z"
    },
    "papermill": {
     "duration": 0.087802,
     "end_time": "2022-03-27T18:03:27.516408",
     "exception": false,
     "start_time": "2022-03-27T18:03:27.428606",
     "status": "completed"
    },
    "tags": []
   },
   "source": [
    "### Excercise 1 - Overfiting and Underfitting (2 points)"
   ]
  },
  {
   "cell_type": "markdown",
   "id": "c52527b6",
   "metadata": {
    "ExecuteTime": {
     "end_time": "2021-12-10T07:35:07.485715Z",
     "start_time": "2021-12-10T07:35:07.461799Z"
    },
    "papermill": {
     "duration": 0.086455,
     "end_time": "2022-03-27T18:03:27.690051",
     "exception": false,
     "start_time": "2022-03-27T18:03:27.603596",
     "status": "completed"
    },
    "tags": []
   },
   "source": [
    "Let's work with the diabetes dataset"
   ]
  },
  {
   "cell_type": "code",
   "execution_count": 20,
   "id": "33d40989",
   "metadata": {
    "ExecuteTime": {
     "end_time": "2021-12-15T20:32:51.45077Z",
     "start_time": "2021-12-15T20:32:51.234725Z"
    },
    "execution": {
     "iopub.execute_input": "2022-03-27T18:03:27.870930Z",
     "iopub.status.busy": "2022-03-27T18:03:27.870084Z",
     "iopub.status.idle": "2022-03-27T18:03:27.967354Z",
     "shell.execute_reply": "2022-03-27T18:03:27.966431Z",
     "shell.execute_reply.started": "2022-03-27T17:10:12.538846Z"
    },
    "papermill": {
     "duration": 0.190077,
     "end_time": "2022-03-27T18:03:27.967556",
     "exception": false,
     "start_time": "2022-03-27T18:03:27.777479",
     "status": "completed"
    },
    "tags": []
   },
   "outputs": [
    {
     "name": "stdout",
     "output_type": "stream",
     "text": [
      ".. _diabetes_dataset:\n",
      "\n",
      "Diabetes dataset\n",
      "----------------\n",
      "\n",
      "Ten baseline variables, age, sex, body mass index, average blood\n",
      "pressure, and six blood serum measurements were obtained for each of n =\n",
      "442 diabetes patients, as well as the response of interest, a\n",
      "quantitative measure of disease progression one year after baseline.\n",
      "\n",
      "**Data Set Characteristics:**\n",
      "\n",
      "  :Number of Instances: 442\n",
      "\n",
      "  :Number of Attributes: First 10 columns are numeric predictive values\n",
      "\n",
      "  :Target: Column 11 is a quantitative measure of disease progression one year after baseline\n",
      "\n",
      "  :Attribute Information:\n",
      "      - age     age in years\n",
      "      - sex\n",
      "      - bmi     body mass index\n",
      "      - bp      average blood pressure\n",
      "      - s1      tc, total serum cholesterol\n",
      "      - s2      ldl, low-density lipoproteins\n",
      "      - s3      hdl, high-density lipoproteins\n",
      "      - s4      tch, total cholesterol / HDL\n",
      "      - s5      ltg, possibly log of serum triglycerides level\n",
      "      - s6      glu, blood sugar level\n",
      "\n",
      "Note: Each of these 10 feature variables have been mean centered and scaled by the standard deviation times `n_samples` (i.e. the sum of squares of each column totals 1).\n",
      "\n",
      "Source URL:\n",
      "https://www4.stat.ncsu.edu/~boos/var.select/diabetes.html\n",
      "\n",
      "For more information see:\n",
      "Bradley Efron, Trevor Hastie, Iain Johnstone and Robert Tibshirani (2004) \"Least Angle Regression,\" Annals of Statistics (with discussion), 407-499.\n",
      "(https://web.stanford.edu/~hastie/Papers/LARS/LeastAngle_2002.pdf)\n"
     ]
    }
   ],
   "source": [
    "from sklearn.datasets import load_diabetes\n",
    "data = load_diabetes()\n",
    "X_diabetes = pd.DataFrame(data['data'], columns=data['feature_names'])\n",
    "y_diabetes = pd.DataFrame(data['target'], columns=['target'])\n",
    "print(data['DESCR'])"
   ]
  },
  {
   "cell_type": "markdown",
   "id": "2d7485f4",
   "metadata": {
    "papermill": {
     "duration": 0.088486,
     "end_time": "2022-03-27T18:03:28.148379",
     "exception": false,
     "start_time": "2022-03-27T18:03:28.059893",
     "status": "completed"
    },
    "tags": []
   },
   "source": [
    "Apply model for diabetes dataset with polynomial feature engineering of different degrees. Plot the dependence of train and test error on polynomial degree. Highlight a degree with the best test error. Which degrees cause overfitting/underfitting? Why?"
   ]
  },
  {
   "cell_type": "code",
   "execution_count": 21,
   "id": "ecec012a",
   "metadata": {
    "execution": {
     "iopub.execute_input": "2022-03-27T18:03:28.336556Z",
     "iopub.status.busy": "2022-03-27T18:03:28.335740Z",
     "iopub.status.idle": "2022-03-27T18:05:13.232058Z",
     "shell.execute_reply": "2022-03-27T18:05:13.232652Z",
     "shell.execute_reply.started": "2022-03-27T17:10:12.562465Z"
    },
    "papermill": {
     "duration": 104.99299,
     "end_time": "2022-03-27T18:05:13.233008",
     "exception": false,
     "start_time": "2022-03-27T18:03:28.240018",
     "status": "completed"
    },
    "tags": []
   },
   "outputs": [
    {
     "data": {
      "image/png": "[encoded data removed]",
      "text/plain": [
       "<Figure size 648x324 with 1 Axes>"
      ]
     },
     "metadata": {
      "needs_background": "light"
     },
     "output_type": "display_data"
    }
   ],
   "source": [
    "def create_poly(degree, x, y, regressor):\n",
    "    pf = PolynomialFeatures(degree=degree, include_bias=False)\n",
    "    poly_fit_train_data = pf.fit_transform(x)\n",
    "    lr = regressor\n",
    "    lr.fit(poly_fit_train_data, y)\n",
    "    return lr\n",
    "\n",
    "def predict_poly(poly, degree, test):\n",
    "    pf = PolynomialFeatures(degree=degree, include_bias=False)\n",
    "    poly_test_data = pf.fit_transform(test)\n",
    "    return poly.predict(poly_test_data)\n",
    "\n",
    "def create_model(degree, scaled_X_train, scaled_X_test, Y_train, Y_test, alpha, penalty):\n",
    "    regressor = LinearRegression()\n",
    "    if alpha == 0:\n",
    "        pass\n",
    "    elif penalty == 'L1':\n",
    "        regressor = Lasso(alpha=alpha, random_state=SEED, max_iter=50000)\n",
    "    elif penalty == 'L2':\n",
    "        regressor = Ridge(alpha=alpha, random_state=SEED, max_iter=50000) \n",
    "    pol_for_degree = create_poly(degree, scaled_X_train, Y_train, regressor)\n",
    "    y_train_pred = predict_poly(pol_for_degree, degree, scaled_X_train)\n",
    "    y_test_pred = predict_poly(pol_for_degree, degree, scaled_X_test)\n",
    "    rmse_train.append(rmse(y_train_pred, Y_train))\n",
    "    rmse_valid.append(rmse(y_test_pred, Y_test))\n",
    "    return pol_for_degree\n",
    "    \n",
    "DEGREES = [1, 2, 3, 4, 5, 6, 7, 8, 9, 10, 11, 12] # I select only 12 due to processing limitations of Kaggle\n",
    "rmse_train, rmse_valid = [], []\n",
    "\n",
    "X_train, X_test, Y_train, Y_test = train_test_split(X_diabetes, y_diabetes, test_size=0.3, random_state=SEED)\n",
    "\n",
    "scaler = StandardScaler()\n",
    "scaled_X_train = scaler.fit_transform(X_train)\n",
    "scaled_X_test = scaler.transform(X_test)\n",
    "\n",
    "for degree in DEGREES:\n",
    "    create_model(degree, scaled_X_train, scaled_X_test, Y_train, Y_test, 0, \"\")\n",
    "    \n",
    "plot_fitting_graph(DEGREES, rmse_train, rmse_valid, xlabel='Complexity (degree)', ylabel='Error (RMSE)',\n",
    "                   title='Least squares polynomial regression')"
   ]
  },
  {
   "cell_type": "markdown",
   "id": "1bb06830",
   "metadata": {
    "papermill": {
     "duration": 0.088415,
     "end_time": "2022-03-27T18:05:13.410013",
     "exception": false,
     "start_time": "2022-03-27T18:05:13.321598",
     "status": "completed"
    },
    "tags": []
   },
   "source": [
    "We observe the following tendencies:\n",
    "- Underfitting (degree < 8 (except degree 3)): The model shows equal result for train and test.\n",
    "- Well-fit model (degree = 8): The model is able to capture the underlying data distribution and fits well train and test.\n",
    "- Overfitting (degree = 3 or degree > 8): While the fit for the training data gets even better, the fit for the validation set gets worse.\n",
    "- As the degree of polynomial increases, the linear model coefficients become more likely to take on large values.\n",
    "\n"
   ]
  },
  {
   "cell_type": "markdown",
   "id": "f9a348a5",
   "metadata": {
    "ExecuteTime": {
     "end_time": "2021-12-10T12:46:46.756169Z",
     "start_time": "2021-12-10T12:44:13.217Z"
    },
    "papermill": {
     "duration": 0.089596,
     "end_time": "2022-03-27T18:05:13.587965",
     "exception": false,
     "start_time": "2022-03-27T18:05:13.498369",
     "status": "completed"
    },
    "tags": []
   },
   "source": [
    "### Excercise 2 - Magnitude (3 points)"
   ]
  },
  {
   "cell_type": "markdown",
   "id": "9f2d56dd",
   "metadata": {
    "papermill": {
     "duration": 0.090038,
     "end_time": "2022-03-27T18:05:13.767047",
     "exception": false,
     "start_time": "2022-03-27T18:05:13.677009",
     "status": "completed"
    },
    "tags": []
   },
   "source": [
    "As discussed earlier, regularization methods are expected to constraint the weights (model coefficients). \n",
    "\n",
    "Is it indeed happening? \n",
    "\n",
    "Please do a discovery on your own and find that out empirically (both for **L1** and **L2**). Let's use `degree=15` and `alpha` from `ALPHAS`."
   ]
  },
  {
   "cell_type": "markdown",
   "id": "b14866cf",
   "metadata": {
    "papermill": {
     "duration": 0.08978,
     "end_time": "2022-03-27T18:05:13.946457",
     "exception": false,
     "start_time": "2022-03-27T18:05:13.856677",
     "status": "completed"
    },
    "tags": []
   },
   "source": [
    "#### L1"
   ]
  },
  {
   "cell_type": "code",
   "execution_count": 22,
   "id": "6bc18ad3",
   "metadata": {
    "execution": {
     "iopub.execute_input": "2022-03-27T18:05:14.134400Z",
     "iopub.status.busy": "2022-03-27T18:05:14.133586Z",
     "iopub.status.idle": "2022-03-27T18:07:03.834567Z",
     "shell.execute_reply": "2022-03-27T18:07:03.835138Z",
     "shell.execute_reply.started": "2022-03-27T17:10:15.162837Z"
    },
    "papermill": {
     "duration": 109.800325,
     "end_time": "2022-03-27T18:07:03.835365",
     "exception": false,
     "start_time": "2022-03-27T18:05:14.035040",
     "status": "completed"
    },
    "tags": []
   },
   "outputs": [
    {
     "data": {
      "image/png": "[encoded data removed]",
      "text/plain": [
       "<Figure size 648x324 with 2 Axes>"
      ]
     },
     "metadata": {
      "needs_background": "light"
     },
     "output_type": "display_data"
    }
   ],
   "source": [
    "# Due to extreme processing power and time, I will use only some of the features\n",
    "X_train, X_test, Y_train, Y_test = train_test_split(X_diabetes[['age', 'sex']], y_diabetes, test_size=0.3, random_state=SEED)\n",
    "rmse_train, rmse_valid = [], []\n",
    "scaler = StandardScaler()\n",
    "scaled_X_train = scaler.fit_transform(X_train)\n",
    "scaled_X_test = scaler.transform(X_test)\n",
    "\n",
    "# Supress warnings in kaggle\n",
    "import warnings\n",
    "warnings.filterwarnings('ignore')\n",
    "\n",
    "lasso_coefs = []\n",
    "for alpha in ALPHAS:\n",
    "    lr = create_model(15, scaled_X_train, scaled_X_test, Y_train, Y_test, alpha, 'L1')\n",
    "    res = cross_validate(lr, X_diabetes[['age', 'sex']], y_diabetes, cv=5, return_estimator=True,scoring='neg_root_mean_squared_error')\n",
    "    lasso_coefs.append(np.mean([            \n",
    "            np.abs(lr.coef_)\n",
    "            for model in res['estimator']\n",
    "        ]))\n",
    "\n",
    "plot_fitting_graph(ALPHAS, rmse_train, rmse_valid,\n",
    "                   xlabel='Regularization strength (alpha)', ylabel='Error (RMSE)',\n",
    "                   custom_metric=lasso_coefs, custom_label='avg(|$w_i$|)',\n",
    "                   title='Lasso polynomial regression (L1): degree=15')"
   ]
  },
  {
   "cell_type": "markdown",
   "id": "8b5e6842",
   "metadata": {
    "papermill": {
     "duration": 0.090591,
     "end_time": "2022-03-27T18:07:04.016149",
     "exception": false,
     "start_time": "2022-03-27T18:07:03.925558",
     "status": "completed"
    },
    "tags": []
   },
   "source": [
    "#### L2"
   ]
  },
  {
   "cell_type": "code",
   "execution_count": 23,
   "id": "f0ea3702",
   "metadata": {
    "execution": {
     "iopub.execute_input": "2022-03-27T18:07:04.210749Z",
     "iopub.status.busy": "2022-03-27T18:07:04.209639Z",
     "iopub.status.idle": "2022-03-27T18:07:08.998080Z",
     "shell.execute_reply": "2022-03-27T18:07:08.998638Z",
     "shell.execute_reply.started": "2022-03-27T17:12:15.280695Z"
    },
    "papermill": {
     "duration": 4.890008,
     "end_time": "2022-03-27T18:07:08.998825",
     "exception": false,
     "start_time": "2022-03-27T18:07:04.108817",
     "status": "completed"
    },
    "tags": []
   },
   "outputs": [
    {
     "data": {
      "image/png": "[encoded data removed]",
      "text/plain": [
       "<Figure size 648x324 with 2 Axes>"
      ]
     },
     "metadata": {
      "needs_background": "light"
     },
     "output_type": "display_data"
    }
   ],
   "source": [
    "# Due to extreme processing power and time, I will use only some of the features\n",
    "X_train, X_test, Y_train, Y_test = train_test_split(X_diabetes[['age', 'sex']], y_diabetes, test_size=0.3, random_state=SEED)\n",
    "rmse_train, rmse_valid = [], []\n",
    "scaler = StandardScaler()\n",
    "scaled_X_train = scaler.fit_transform(X_train)\n",
    "scaled_X_test = scaler.transform(X_test)\n",
    "\n",
    "# Supress warnings in kaggle\n",
    "import warnings\n",
    "warnings.filterwarnings('ignore')\n",
    "\n",
    "ridge_coefs = []\n",
    "for alpha in ALPHAS:\n",
    "    lr = create_model(15, scaled_X_train, scaled_X_test, Y_train, Y_test, alpha, 'L2')\n",
    "    res = cross_validate(lr, X_diabetes[['age', 'sex']], y_diabetes, cv=5, return_estimator=True,scoring='neg_root_mean_squared_error')\n",
    "    ridge_coefs.append(np.mean([            \n",
    "            np.abs(lr.coef_)\n",
    "            for model in res['estimator']\n",
    "        ]))\n",
    "\n",
    "plot_fitting_graph(ALPHAS, rmse_train, rmse_valid,\n",
    "                   xlabel='Regularization strength (alpha)', ylabel='Error (RMSE)',\n",
    "                   custom_metric=ridge_coefs, custom_label='avg(|$w_i$|)',\n",
    "                   title='Ridge polynomial regression (L2): degree=15')"
   ]
  },
  {
   "cell_type": "markdown",
   "id": "c42dc707",
   "metadata": {
    "papermill": {
     "duration": 0.094159,
     "end_time": "2022-03-27T18:07:09.187043",
     "exception": false,
     "start_time": "2022-03-27T18:07:09.092884",
     "status": "completed"
    },
    "tags": []
   },
   "source": [
    "#### Summary\n",
    "\n",
    "Regularization helps to prevent our model from overfitting by setting constraints to the polynomial features that lead to the overfitting of our model. This is indeed happening, both for L1 and L2, and it is clearly shown on the provided plots (keep in mind that the model was build only for two features due to limiting processing power). \n",
    "- In case of L1, even a small value of alpha improved the model significantly: on the plot the validation drops down close to the training curve. \n",
    "- In case of L2, the situation is the same, but the angle of the curve is not so radical, and rather smoother."
   ]
  },
  {
   "cell_type": "markdown",
   "id": "16b89ffd",
   "metadata": {
    "ExecuteTime": {
     "end_time": "2021-12-10T12:46:46.756169Z",
     "start_time": "2021-12-10T12:44:13.217Z"
    },
    "papermill": {
     "duration": 0.09111,
     "end_time": "2022-03-27T18:07:09.371412",
     "exception": false,
     "start_time": "2022-03-27T18:07:09.280302",
     "status": "completed"
    },
    "tags": []
   },
   "source": [
    "### Excercise 3 - Sparsity (3 points)"
   ]
  },
  {
   "cell_type": "markdown",
   "id": "a5dd3e4b",
   "metadata": {
    "papermill": {
     "duration": 0.093725,
     "end_time": "2022-03-27T18:07:09.556542",
     "exception": false,
     "start_time": "2022-03-27T18:07:09.462817",
     "status": "completed"
    },
    "tags": []
   },
   "source": [
    "Lasso can also be used for **feature selection** since L1 is [more likely to produce zero coefficients](https://explained.ai/regularization/).\n",
    "\n",
    "Is it indeed happening? \n",
    "\n",
    "Please do a discovery on your own and find that out empirically (both for **L1** and **L2**). Let's use `degree=15` and `alpha` from `ALPHAS`."
   ]
  },
  {
   "cell_type": "markdown",
   "id": "cc6556d9",
   "metadata": {
    "papermill": {
     "duration": 0.093017,
     "end_time": "2022-03-27T18:07:09.741499",
     "exception": false,
     "start_time": "2022-03-27T18:07:09.648482",
     "status": "completed"
    },
    "tags": []
   },
   "source": [
    "#### L1"
   ]
  },
  {
   "cell_type": "code",
   "execution_count": 24,
   "id": "d0f979ca",
   "metadata": {
    "execution": {
     "iopub.execute_input": "2022-03-27T18:07:09.939102Z",
     "iopub.status.busy": "2022-03-27T18:07:09.938095Z",
     "iopub.status.idle": "2022-03-27T18:07:22.450906Z",
     "shell.execute_reply": "2022-03-27T18:07:22.451696Z",
     "shell.execute_reply.started": "2022-03-27T17:28:11.897437Z"
    },
    "papermill": {
     "duration": 12.617575,
     "end_time": "2022-03-27T18:07:22.451994",
     "exception": false,
     "start_time": "2022-03-27T18:07:09.834419",
     "status": "completed"
    },
    "tags": []
   },
   "outputs": [
    {
     "data": {
      "text/html": [
       "<div>\n",
       "<style scoped>\n",
       "    .dataframe tbody tr th:only-of-type {\n",
       "        vertical-align: middle;\n",
       "    }\n",
       "\n",
       "    .dataframe tbody tr th {\n",
       "        vertical-align: top;\n",
       "    }\n",
       "\n",
       "    .dataframe thead th {\n",
       "        text-align: right;\n",
       "    }\n",
       "</style>\n",
       "<table border=\"1\" class=\"dataframe\">\n",
       "  <thead>\n",
       "    <tr style=\"text-align: right;\">\n",
       "      <th></th>\n",
       "      <th>0</th>\n",
       "      <th>1</th>\n",
       "      <th>2</th>\n",
       "      <th>3</th>\n",
       "      <th>4</th>\n",
       "      <th>5</th>\n",
       "      <th>6</th>\n",
       "      <th>7</th>\n",
       "      <th>8</th>\n",
       "      <th>9</th>\n",
       "      <th>...</th>\n",
       "      <th>25</th>\n",
       "      <th>26</th>\n",
       "      <th>27</th>\n",
       "      <th>28</th>\n",
       "      <th>29</th>\n",
       "      <th>30</th>\n",
       "      <th>31</th>\n",
       "      <th>32</th>\n",
       "      <th>33</th>\n",
       "      <th>34</th>\n",
       "    </tr>\n",
       "  </thead>\n",
       "  <tbody>\n",
       "    <tr>\n",
       "      <th>0</th>\n",
       "      <td>2.997248</td>\n",
       "      <td>-1.186155</td>\n",
       "      <td>3.184503</td>\n",
       "      <td>4.830292</td>\n",
       "      <td>-0.130713</td>\n",
       "      <td>-1.111306</td>\n",
       "      <td>9.807676</td>\n",
       "      <td>3.529543</td>\n",
       "      <td>-1.200559</td>\n",
       "      <td>-2.301445</td>\n",
       "      <td>...</td>\n",
       "      <td>5.671580</td>\n",
       "      <td>-0.398509</td>\n",
       "      <td>-0.935467</td>\n",
       "      <td>4.342384</td>\n",
       "      <td>2.761501</td>\n",
       "      <td>-12.992293</td>\n",
       "      <td>-3.159711</td>\n",
       "      <td>10.872554</td>\n",
       "      <td>4.729703</td>\n",
       "      <td>-1.273458</td>\n",
       "    </tr>\n",
       "    <tr>\n",
       "      <th>1</th>\n",
       "      <td>0.000000</td>\n",
       "      <td>-0.000000</td>\n",
       "      <td>0.000000</td>\n",
       "      <td>0.000000</td>\n",
       "      <td>-0.000000</td>\n",
       "      <td>-0.000000</td>\n",
       "      <td>0.000000</td>\n",
       "      <td>0.000000</td>\n",
       "      <td>-0.000000</td>\n",
       "      <td>-0.000000</td>\n",
       "      <td>...</td>\n",
       "      <td>13.533989</td>\n",
       "      <td>-0.000000</td>\n",
       "      <td>-0.845325</td>\n",
       "      <td>4.241300</td>\n",
       "      <td>2.950356</td>\n",
       "      <td>-18.184944</td>\n",
       "      <td>-3.966578</td>\n",
       "      <td>29.056716</td>\n",
       "      <td>13.120216</td>\n",
       "      <td>-4.670068</td>\n",
       "    </tr>\n",
       "    <tr>\n",
       "      <th>2</th>\n",
       "      <td>0.000000</td>\n",
       "      <td>-0.000000</td>\n",
       "      <td>0.000000</td>\n",
       "      <td>0.000000</td>\n",
       "      <td>-0.000000</td>\n",
       "      <td>-0.000000</td>\n",
       "      <td>0.000000</td>\n",
       "      <td>0.000000</td>\n",
       "      <td>-0.000000</td>\n",
       "      <td>-0.000000</td>\n",
       "      <td>...</td>\n",
       "      <td>13.348733</td>\n",
       "      <td>-0.000000</td>\n",
       "      <td>-0.755184</td>\n",
       "      <td>4.140215</td>\n",
       "      <td>2.897945</td>\n",
       "      <td>-20.462010</td>\n",
       "      <td>-2.537338</td>\n",
       "      <td>28.212543</td>\n",
       "      <td>12.372949</td>\n",
       "      <td>-4.450420</td>\n",
       "    </tr>\n",
       "    <tr>\n",
       "      <th>3</th>\n",
       "      <td>0.000000</td>\n",
       "      <td>-0.000000</td>\n",
       "      <td>0.000000</td>\n",
       "      <td>0.000000</td>\n",
       "      <td>-0.000000</td>\n",
       "      <td>-0.000000</td>\n",
       "      <td>0.000000</td>\n",
       "      <td>0.000000</td>\n",
       "      <td>-0.000000</td>\n",
       "      <td>-0.000000</td>\n",
       "      <td>...</td>\n",
       "      <td>13.163477</td>\n",
       "      <td>-0.000000</td>\n",
       "      <td>-0.665042</td>\n",
       "      <td>4.039131</td>\n",
       "      <td>2.828773</td>\n",
       "      <td>-22.728239</td>\n",
       "      <td>-1.108098</td>\n",
       "      <td>27.368370</td>\n",
       "      <td>11.625682</td>\n",
       "      <td>-4.230773</td>\n",
       "    </tr>\n",
       "    <tr>\n",
       "      <th>4</th>\n",
       "      <td>0.000000</td>\n",
       "      <td>-0.000000</td>\n",
       "      <td>0.000000</td>\n",
       "      <td>0.000000</td>\n",
       "      <td>-0.000000</td>\n",
       "      <td>-0.000000</td>\n",
       "      <td>0.000000</td>\n",
       "      <td>0.000000</td>\n",
       "      <td>-0.000000</td>\n",
       "      <td>-0.000000</td>\n",
       "      <td>...</td>\n",
       "      <td>12.960044</td>\n",
       "      <td>-0.000000</td>\n",
       "      <td>-0.593585</td>\n",
       "      <td>3.953081</td>\n",
       "      <td>2.469311</td>\n",
       "      <td>-23.070170</td>\n",
       "      <td>-0.000000</td>\n",
       "      <td>26.642695</td>\n",
       "      <td>11.054540</td>\n",
       "      <td>-4.031437</td>\n",
       "    </tr>\n",
       "    <tr>\n",
       "      <th>5</th>\n",
       "      <td>0.000000</td>\n",
       "      <td>-0.000000</td>\n",
       "      <td>0.000000</td>\n",
       "      <td>0.000000</td>\n",
       "      <td>-0.000000</td>\n",
       "      <td>-0.000000</td>\n",
       "      <td>0.000000</td>\n",
       "      <td>0.000000</td>\n",
       "      <td>-0.000000</td>\n",
       "      <td>-0.000000</td>\n",
       "      <td>...</td>\n",
       "      <td>12.601982</td>\n",
       "      <td>-0.000000</td>\n",
       "      <td>-0.577502</td>\n",
       "      <td>3.886143</td>\n",
       "      <td>2.407324</td>\n",
       "      <td>-22.679502</td>\n",
       "      <td>-0.000000</td>\n",
       "      <td>26.068732</td>\n",
       "      <td>11.136683</td>\n",
       "      <td>-3.861931</td>\n",
       "    </tr>\n",
       "    <tr>\n",
       "      <th>6</th>\n",
       "      <td>0.000000</td>\n",
       "      <td>-0.000000</td>\n",
       "      <td>0.000000</td>\n",
       "      <td>0.000000</td>\n",
       "      <td>-0.000000</td>\n",
       "      <td>-0.000000</td>\n",
       "      <td>0.000000</td>\n",
       "      <td>0.000000</td>\n",
       "      <td>-0.000000</td>\n",
       "      <td>-0.000000</td>\n",
       "      <td>...</td>\n",
       "      <td>12.243930</td>\n",
       "      <td>-0.000000</td>\n",
       "      <td>-0.561419</td>\n",
       "      <td>3.819207</td>\n",
       "      <td>2.345340</td>\n",
       "      <td>-22.288849</td>\n",
       "      <td>-0.000000</td>\n",
       "      <td>25.494791</td>\n",
       "      <td>11.218821</td>\n",
       "      <td>-3.692428</td>\n",
       "    </tr>\n",
       "    <tr>\n",
       "      <th>7</th>\n",
       "      <td>0.000000</td>\n",
       "      <td>-0.000000</td>\n",
       "      <td>0.000000</td>\n",
       "      <td>0.000000</td>\n",
       "      <td>-0.000000</td>\n",
       "      <td>0.000000</td>\n",
       "      <td>0.000000</td>\n",
       "      <td>0.000000</td>\n",
       "      <td>-0.000000</td>\n",
       "      <td>-0.000000</td>\n",
       "      <td>...</td>\n",
       "      <td>11.897597</td>\n",
       "      <td>-0.000000</td>\n",
       "      <td>-0.539042</td>\n",
       "      <td>3.749416</td>\n",
       "      <td>2.231543</td>\n",
       "      <td>-21.882565</td>\n",
       "      <td>-0.000000</td>\n",
       "      <td>24.899818</td>\n",
       "      <td>11.231500</td>\n",
       "      <td>-3.518942</td>\n",
       "    </tr>\n",
       "    <tr>\n",
       "      <th>8</th>\n",
       "      <td>0.000000</td>\n",
       "      <td>-0.000000</td>\n",
       "      <td>0.000000</td>\n",
       "      <td>0.000000</td>\n",
       "      <td>-0.000000</td>\n",
       "      <td>0.000000</td>\n",
       "      <td>0.000000</td>\n",
       "      <td>0.000000</td>\n",
       "      <td>-0.000000</td>\n",
       "      <td>-0.000000</td>\n",
       "      <td>...</td>\n",
       "      <td>11.619684</td>\n",
       "      <td>-0.000000</td>\n",
       "      <td>-0.491279</td>\n",
       "      <td>3.668965</td>\n",
       "      <td>1.905250</td>\n",
       "      <td>-21.414670</td>\n",
       "      <td>-0.000000</td>\n",
       "      <td>24.218041</td>\n",
       "      <td>10.952080</td>\n",
       "      <td>-3.329098</td>\n",
       "    </tr>\n",
       "    <tr>\n",
       "      <th>9</th>\n",
       "      <td>0.000000</td>\n",
       "      <td>-0.000000</td>\n",
       "      <td>0.000000</td>\n",
       "      <td>0.000000</td>\n",
       "      <td>-0.000000</td>\n",
       "      <td>0.000000</td>\n",
       "      <td>0.000000</td>\n",
       "      <td>0.000000</td>\n",
       "      <td>-0.000000</td>\n",
       "      <td>-0.000000</td>\n",
       "      <td>...</td>\n",
       "      <td>11.307314</td>\n",
       "      <td>-0.000000</td>\n",
       "      <td>-0.456636</td>\n",
       "      <td>3.593347</td>\n",
       "      <td>1.689464</td>\n",
       "      <td>-20.973969</td>\n",
       "      <td>-0.000000</td>\n",
       "      <td>23.573676</td>\n",
       "      <td>10.826586</td>\n",
       "      <td>-3.146794</td>\n",
       "    </tr>\n",
       "    <tr>\n",
       "      <th>10</th>\n",
       "      <td>0.000000</td>\n",
       "      <td>-0.000000</td>\n",
       "      <td>0.000000</td>\n",
       "      <td>0.000000</td>\n",
       "      <td>-0.000000</td>\n",
       "      <td>0.000000</td>\n",
       "      <td>0.000000</td>\n",
       "      <td>0.000000</td>\n",
       "      <td>-0.000000</td>\n",
       "      <td>-0.000000</td>\n",
       "      <td>...</td>\n",
       "      <td>10.995514</td>\n",
       "      <td>-0.000000</td>\n",
       "      <td>-0.426261</td>\n",
       "      <td>3.521380</td>\n",
       "      <td>1.505785</td>\n",
       "      <td>-20.553500</td>\n",
       "      <td>-0.000000</td>\n",
       "      <td>22.956945</td>\n",
       "      <td>10.736680</td>\n",
       "      <td>-2.968800</td>\n",
       "    </tr>\n",
       "    <tr>\n",
       "      <th>11</th>\n",
       "      <td>0.000000</td>\n",
       "      <td>-0.000000</td>\n",
       "      <td>0.000000</td>\n",
       "      <td>0.000000</td>\n",
       "      <td>-0.000000</td>\n",
       "      <td>0.000000</td>\n",
       "      <td>0.000000</td>\n",
       "      <td>0.000000</td>\n",
       "      <td>-0.000000</td>\n",
       "      <td>-0.000000</td>\n",
       "      <td>...</td>\n",
       "      <td>10.682515</td>\n",
       "      <td>-0.000000</td>\n",
       "      <td>-0.399355</td>\n",
       "      <td>3.450982</td>\n",
       "      <td>1.351059</td>\n",
       "      <td>-20.142122</td>\n",
       "      <td>0.000000</td>\n",
       "      <td>22.352986</td>\n",
       "      <td>10.684970</td>\n",
       "      <td>-2.793704</td>\n",
       "    </tr>\n",
       "    <tr>\n",
       "      <th>12</th>\n",
       "      <td>0.000000</td>\n",
       "      <td>-0.000000</td>\n",
       "      <td>0.000000</td>\n",
       "      <td>0.000000</td>\n",
       "      <td>-0.000000</td>\n",
       "      <td>0.000000</td>\n",
       "      <td>0.000000</td>\n",
       "      <td>0.000000</td>\n",
       "      <td>-0.000000</td>\n",
       "      <td>-0.000000</td>\n",
       "      <td>...</td>\n",
       "      <td>10.338446</td>\n",
       "      <td>-0.000000</td>\n",
       "      <td>-0.386190</td>\n",
       "      <td>3.386877</td>\n",
       "      <td>1.309714</td>\n",
       "      <td>-19.765874</td>\n",
       "      <td>0.000000</td>\n",
       "      <td>21.797144</td>\n",
       "      <td>10.786046</td>\n",
       "      <td>-2.627402</td>\n",
       "    </tr>\n",
       "    <tr>\n",
       "      <th>13</th>\n",
       "      <td>0.000000</td>\n",
       "      <td>-0.000000</td>\n",
       "      <td>0.000000</td>\n",
       "      <td>0.000000</td>\n",
       "      <td>-0.000000</td>\n",
       "      <td>0.000000</td>\n",
       "      <td>0.000000</td>\n",
       "      <td>0.000000</td>\n",
       "      <td>-0.000000</td>\n",
       "      <td>-0.000000</td>\n",
       "      <td>...</td>\n",
       "      <td>9.994391</td>\n",
       "      <td>-0.000000</td>\n",
       "      <td>-0.373026</td>\n",
       "      <td>3.322776</td>\n",
       "      <td>1.268373</td>\n",
       "      <td>-19.389642</td>\n",
       "      <td>0.000000</td>\n",
       "      <td>21.241326</td>\n",
       "      <td>10.887115</td>\n",
       "      <td>-2.461102</td>\n",
       "    </tr>\n",
       "    <tr>\n",
       "      <th>14</th>\n",
       "      <td>0.000000</td>\n",
       "      <td>-0.000000</td>\n",
       "      <td>0.000000</td>\n",
       "      <td>0.000000</td>\n",
       "      <td>-0.000000</td>\n",
       "      <td>0.000000</td>\n",
       "      <td>0.000000</td>\n",
       "      <td>0.000000</td>\n",
       "      <td>-0.000000</td>\n",
       "      <td>-0.000000</td>\n",
       "      <td>...</td>\n",
       "      <td>9.650339</td>\n",
       "      <td>-0.000000</td>\n",
       "      <td>-0.359862</td>\n",
       "      <td>3.258676</td>\n",
       "      <td>1.227033</td>\n",
       "      <td>-19.013415</td>\n",
       "      <td>0.000000</td>\n",
       "      <td>20.685514</td>\n",
       "      <td>10.988183</td>\n",
       "      <td>-2.294804</td>\n",
       "    </tr>\n",
       "    <tr>\n",
       "      <th>15</th>\n",
       "      <td>0.000000</td>\n",
       "      <td>-0.000000</td>\n",
       "      <td>0.000000</td>\n",
       "      <td>0.000000</td>\n",
       "      <td>-0.000000</td>\n",
       "      <td>0.000000</td>\n",
       "      <td>0.000000</td>\n",
       "      <td>0.000000</td>\n",
       "      <td>-0.000000</td>\n",
       "      <td>-0.000000</td>\n",
       "      <td>...</td>\n",
       "      <td>9.306294</td>\n",
       "      <td>-0.000000</td>\n",
       "      <td>-0.346699</td>\n",
       "      <td>3.194577</td>\n",
       "      <td>1.185696</td>\n",
       "      <td>-18.637198</td>\n",
       "      <td>0.000000</td>\n",
       "      <td>20.129715</td>\n",
       "      <td>11.089247</td>\n",
       "      <td>-2.128507</td>\n",
       "    </tr>\n",
       "    <tr>\n",
       "      <th>16</th>\n",
       "      <td>0.000000</td>\n",
       "      <td>-0.000000</td>\n",
       "      <td>0.000000</td>\n",
       "      <td>0.000000</td>\n",
       "      <td>-0.000000</td>\n",
       "      <td>0.000000</td>\n",
       "      <td>0.000000</td>\n",
       "      <td>0.000000</td>\n",
       "      <td>-0.000000</td>\n",
       "      <td>-0.000000</td>\n",
       "      <td>...</td>\n",
       "      <td>8.962251</td>\n",
       "      <td>-0.000000</td>\n",
       "      <td>-0.333536</td>\n",
       "      <td>3.130478</td>\n",
       "      <td>1.144358</td>\n",
       "      <td>-18.260982</td>\n",
       "      <td>0.000000</td>\n",
       "      <td>19.573918</td>\n",
       "      <td>11.190310</td>\n",
       "      <td>-1.962210</td>\n",
       "    </tr>\n",
       "    <tr>\n",
       "      <th>17</th>\n",
       "      <td>0.000000</td>\n",
       "      <td>-0.000000</td>\n",
       "      <td>0.000000</td>\n",
       "      <td>0.000000</td>\n",
       "      <td>-0.000000</td>\n",
       "      <td>0.000000</td>\n",
       "      <td>0.000000</td>\n",
       "      <td>0.000000</td>\n",
       "      <td>-0.000000</td>\n",
       "      <td>-0.000000</td>\n",
       "      <td>...</td>\n",
       "      <td>8.618218</td>\n",
       "      <td>-0.000000</td>\n",
       "      <td>-0.320374</td>\n",
       "      <td>3.066382</td>\n",
       "      <td>1.103023</td>\n",
       "      <td>-17.884779</td>\n",
       "      <td>0.000000</td>\n",
       "      <td>19.018138</td>\n",
       "      <td>11.291368</td>\n",
       "      <td>-1.795915</td>\n",
       "    </tr>\n",
       "    <tr>\n",
       "      <th>18</th>\n",
       "      <td>0.000000</td>\n",
       "      <td>-0.000000</td>\n",
       "      <td>0.000000</td>\n",
       "      <td>0.000000</td>\n",
       "      <td>-0.000000</td>\n",
       "      <td>0.000000</td>\n",
       "      <td>0.000000</td>\n",
       "      <td>0.000000</td>\n",
       "      <td>-0.000000</td>\n",
       "      <td>-0.000000</td>\n",
       "      <td>...</td>\n",
       "      <td>8.274179</td>\n",
       "      <td>-0.000000</td>\n",
       "      <td>-0.307211</td>\n",
       "      <td>3.002285</td>\n",
       "      <td>1.061687</td>\n",
       "      <td>-17.508568</td>\n",
       "      <td>0.000000</td>\n",
       "      <td>18.462349</td>\n",
       "      <td>11.392429</td>\n",
       "      <td>-1.629620</td>\n",
       "    </tr>\n",
       "    <tr>\n",
       "      <th>19</th>\n",
       "      <td>0.000000</td>\n",
       "      <td>-0.000000</td>\n",
       "      <td>0.000000</td>\n",
       "      <td>0.000000</td>\n",
       "      <td>-0.000000</td>\n",
       "      <td>0.000000</td>\n",
       "      <td>0.000000</td>\n",
       "      <td>0.000000</td>\n",
       "      <td>-0.000000</td>\n",
       "      <td>-0.000000</td>\n",
       "      <td>...</td>\n",
       "      <td>7.930144</td>\n",
       "      <td>-0.000000</td>\n",
       "      <td>-0.294049</td>\n",
       "      <td>2.938188</td>\n",
       "      <td>1.020352</td>\n",
       "      <td>-17.132364</td>\n",
       "      <td>0.000000</td>\n",
       "      <td>17.906567</td>\n",
       "      <td>11.493487</td>\n",
       "      <td>-1.463325</td>\n",
       "    </tr>\n",
       "    <tr>\n",
       "      <th>20</th>\n",
       "      <td>0.000000</td>\n",
       "      <td>-0.000000</td>\n",
       "      <td>0.000000</td>\n",
       "      <td>0.000000</td>\n",
       "      <td>-0.000000</td>\n",
       "      <td>0.000000</td>\n",
       "      <td>0.000000</td>\n",
       "      <td>0.000000</td>\n",
       "      <td>-0.000000</td>\n",
       "      <td>-0.000000</td>\n",
       "      <td>...</td>\n",
       "      <td>7.586108</td>\n",
       "      <td>-0.000000</td>\n",
       "      <td>-0.280887</td>\n",
       "      <td>2.874092</td>\n",
       "      <td>0.979017</td>\n",
       "      <td>-16.756157</td>\n",
       "      <td>0.000000</td>\n",
       "      <td>17.350782</td>\n",
       "      <td>11.594547</td>\n",
       "      <td>-1.297030</td>\n",
       "    </tr>\n",
       "    <tr>\n",
       "      <th>21</th>\n",
       "      <td>0.000000</td>\n",
       "      <td>-0.000000</td>\n",
       "      <td>0.000000</td>\n",
       "      <td>0.000000</td>\n",
       "      <td>-0.000000</td>\n",
       "      <td>0.000000</td>\n",
       "      <td>0.000000</td>\n",
       "      <td>0.000000</td>\n",
       "      <td>-0.000000</td>\n",
       "      <td>-0.000000</td>\n",
       "      <td>...</td>\n",
       "      <td>7.242072</td>\n",
       "      <td>-0.000000</td>\n",
       "      <td>-0.267724</td>\n",
       "      <td>2.809995</td>\n",
       "      <td>0.937681</td>\n",
       "      <td>-16.379950</td>\n",
       "      <td>0.000000</td>\n",
       "      <td>16.794998</td>\n",
       "      <td>11.695606</td>\n",
       "      <td>-1.130735</td>\n",
       "    </tr>\n",
       "    <tr>\n",
       "      <th>22</th>\n",
       "      <td>0.000000</td>\n",
       "      <td>-0.000000</td>\n",
       "      <td>0.000000</td>\n",
       "      <td>0.000000</td>\n",
       "      <td>-0.000000</td>\n",
       "      <td>0.000000</td>\n",
       "      <td>0.000000</td>\n",
       "      <td>0.000000</td>\n",
       "      <td>-0.000000</td>\n",
       "      <td>-0.000000</td>\n",
       "      <td>...</td>\n",
       "      <td>6.898043</td>\n",
       "      <td>-0.000000</td>\n",
       "      <td>-0.254563</td>\n",
       "      <td>2.745900</td>\n",
       "      <td>0.896348</td>\n",
       "      <td>-16.003752</td>\n",
       "      <td>0.000000</td>\n",
       "      <td>16.239225</td>\n",
       "      <td>11.796662</td>\n",
       "      <td>-0.964441</td>\n",
       "    </tr>\n",
       "    <tr>\n",
       "      <th>23</th>\n",
       "      <td>0.000000</td>\n",
       "      <td>-0.000000</td>\n",
       "      <td>0.000000</td>\n",
       "      <td>0.000000</td>\n",
       "      <td>-0.000000</td>\n",
       "      <td>0.000000</td>\n",
       "      <td>0.000000</td>\n",
       "      <td>0.000000</td>\n",
       "      <td>-0.000000</td>\n",
       "      <td>-0.000000</td>\n",
       "      <td>...</td>\n",
       "      <td>6.554018</td>\n",
       "      <td>-0.000000</td>\n",
       "      <td>-0.241401</td>\n",
       "      <td>2.681805</td>\n",
       "      <td>0.855015</td>\n",
       "      <td>-15.627561</td>\n",
       "      <td>0.000000</td>\n",
       "      <td>15.683461</td>\n",
       "      <td>11.897716</td>\n",
       "      <td>-0.798149</td>\n",
       "    </tr>\n",
       "    <tr>\n",
       "      <th>24</th>\n",
       "      <td>0.000000</td>\n",
       "      <td>-0.000000</td>\n",
       "      <td>0.000000</td>\n",
       "      <td>0.000000</td>\n",
       "      <td>-0.000000</td>\n",
       "      <td>0.000000</td>\n",
       "      <td>0.000000</td>\n",
       "      <td>0.000000</td>\n",
       "      <td>-0.000000</td>\n",
       "      <td>-0.000000</td>\n",
       "      <td>...</td>\n",
       "      <td>6.209973</td>\n",
       "      <td>-0.000000</td>\n",
       "      <td>-0.228238</td>\n",
       "      <td>2.617707</td>\n",
       "      <td>0.813678</td>\n",
       "      <td>-15.251343</td>\n",
       "      <td>0.000000</td>\n",
       "      <td>15.127661</td>\n",
       "      <td>11.998779</td>\n",
       "      <td>-0.631852</td>\n",
       "    </tr>\n",
       "    <tr>\n",
       "      <th>25</th>\n",
       "      <td>0.000000</td>\n",
       "      <td>-0.000000</td>\n",
       "      <td>0.000000</td>\n",
       "      <td>0.000000</td>\n",
       "      <td>-0.000000</td>\n",
       "      <td>0.000000</td>\n",
       "      <td>0.000000</td>\n",
       "      <td>0.000000</td>\n",
       "      <td>-0.000000</td>\n",
       "      <td>-0.000000</td>\n",
       "      <td>...</td>\n",
       "      <td>5.865943</td>\n",
       "      <td>-0.000000</td>\n",
       "      <td>-0.215076</td>\n",
       "      <td>2.553611</td>\n",
       "      <td>0.772344</td>\n",
       "      <td>-14.875144</td>\n",
       "      <td>0.000000</td>\n",
       "      <td>14.571888</td>\n",
       "      <td>12.099836</td>\n",
       "      <td>-0.465558</td>\n",
       "    </tr>\n",
       "    <tr>\n",
       "      <th>26</th>\n",
       "      <td>0.000000</td>\n",
       "      <td>-0.000000</td>\n",
       "      <td>0.000000</td>\n",
       "      <td>0.000000</td>\n",
       "      <td>-0.000000</td>\n",
       "      <td>0.000000</td>\n",
       "      <td>0.000000</td>\n",
       "      <td>0.000000</td>\n",
       "      <td>-0.000000</td>\n",
       "      <td>-0.000000</td>\n",
       "      <td>...</td>\n",
       "      <td>5.521910</td>\n",
       "      <td>-0.000000</td>\n",
       "      <td>-0.201914</td>\n",
       "      <td>2.489515</td>\n",
       "      <td>0.731009</td>\n",
       "      <td>-14.498942</td>\n",
       "      <td>0.000000</td>\n",
       "      <td>14.016109</td>\n",
       "      <td>12.200893</td>\n",
       "      <td>-0.299264</td>\n",
       "    </tr>\n",
       "    <tr>\n",
       "      <th>27</th>\n",
       "      <td>0.000000</td>\n",
       "      <td>-0.000000</td>\n",
       "      <td>0.000000</td>\n",
       "      <td>0.000000</td>\n",
       "      <td>-0.000000</td>\n",
       "      <td>0.000000</td>\n",
       "      <td>0.000000</td>\n",
       "      <td>0.000000</td>\n",
       "      <td>-0.000000</td>\n",
       "      <td>-0.000000</td>\n",
       "      <td>...</td>\n",
       "      <td>5.177863</td>\n",
       "      <td>-0.000000</td>\n",
       "      <td>-0.188751</td>\n",
       "      <td>2.425416</td>\n",
       "      <td>0.689671</td>\n",
       "      <td>-14.122721</td>\n",
       "      <td>0.000000</td>\n",
       "      <td>13.460305</td>\n",
       "      <td>12.301959</td>\n",
       "      <td>-0.132966</td>\n",
       "    </tr>\n",
       "    <tr>\n",
       "      <th>28</th>\n",
       "      <td>0.000000</td>\n",
       "      <td>-0.000000</td>\n",
       "      <td>0.000000</td>\n",
       "      <td>0.000000</td>\n",
       "      <td>-0.000000</td>\n",
       "      <td>0.000000</td>\n",
       "      <td>0.000000</td>\n",
       "      <td>0.000000</td>\n",
       "      <td>-0.000000</td>\n",
       "      <td>-0.000000</td>\n",
       "      <td>...</td>\n",
       "      <td>4.848047</td>\n",
       "      <td>-0.000000</td>\n",
       "      <td>-0.176210</td>\n",
       "      <td>2.366335</td>\n",
       "      <td>0.650418</td>\n",
       "      <td>-13.783187</td>\n",
       "      <td>0.000000</td>\n",
       "      <td>12.978890</td>\n",
       "      <td>12.398311</td>\n",
       "      <td>-0.000000</td>\n",
       "    </tr>\n",
       "    <tr>\n",
       "      <th>29</th>\n",
       "      <td>0.000000</td>\n",
       "      <td>-0.000000</td>\n",
       "      <td>0.000000</td>\n",
       "      <td>0.000000</td>\n",
       "      <td>-0.000000</td>\n",
       "      <td>0.000000</td>\n",
       "      <td>0.000000</td>\n",
       "      <td>0.000000</td>\n",
       "      <td>-0.000000</td>\n",
       "      <td>-0.000000</td>\n",
       "      <td>...</td>\n",
       "      <td>4.572128</td>\n",
       "      <td>-0.000000</td>\n",
       "      <td>-0.165852</td>\n",
       "      <td>2.326171</td>\n",
       "      <td>0.618399</td>\n",
       "      <td>-13.583933</td>\n",
       "      <td>0.000000</td>\n",
       "      <td>12.786835</td>\n",
       "      <td>12.477757</td>\n",
       "      <td>-0.000000</td>\n",
       "    </tr>\n",
       "    <tr>\n",
       "      <th>30</th>\n",
       "      <td>0.000000</td>\n",
       "      <td>-0.000000</td>\n",
       "      <td>0.000000</td>\n",
       "      <td>0.000000</td>\n",
       "      <td>-0.000000</td>\n",
       "      <td>0.000000</td>\n",
       "      <td>0.000000</td>\n",
       "      <td>0.000000</td>\n",
       "      <td>-0.000000</td>\n",
       "      <td>-0.000000</td>\n",
       "      <td>...</td>\n",
       "      <td>4.296226</td>\n",
       "      <td>-0.000000</td>\n",
       "      <td>-0.155495</td>\n",
       "      <td>2.286011</td>\n",
       "      <td>0.586384</td>\n",
       "      <td>-13.384698</td>\n",
       "      <td>0.000000</td>\n",
       "      <td>12.594802</td>\n",
       "      <td>12.557194</td>\n",
       "      <td>-0.000000</td>\n",
       "    </tr>\n",
       "    <tr>\n",
       "      <th>31</th>\n",
       "      <td>0.000000</td>\n",
       "      <td>-0.000000</td>\n",
       "      <td>0.000000</td>\n",
       "      <td>0.000000</td>\n",
       "      <td>-0.000000</td>\n",
       "      <td>0.000000</td>\n",
       "      <td>0.000000</td>\n",
       "      <td>0.000000</td>\n",
       "      <td>-0.000000</td>\n",
       "      <td>-0.000000</td>\n",
       "      <td>...</td>\n",
       "      <td>4.020305</td>\n",
       "      <td>-0.000000</td>\n",
       "      <td>-0.145137</td>\n",
       "      <td>2.245847</td>\n",
       "      <td>0.554365</td>\n",
       "      <td>-13.185442</td>\n",
       "      <td>0.000000</td>\n",
       "      <td>12.402745</td>\n",
       "      <td>12.636641</td>\n",
       "      <td>-0.000000</td>\n",
       "    </tr>\n",
       "    <tr>\n",
       "      <th>32</th>\n",
       "      <td>0.000000</td>\n",
       "      <td>-0.000000</td>\n",
       "      <td>0.000000</td>\n",
       "      <td>0.000000</td>\n",
       "      <td>-0.000000</td>\n",
       "      <td>0.000000</td>\n",
       "      <td>0.000000</td>\n",
       "      <td>0.000000</td>\n",
       "      <td>-0.000000</td>\n",
       "      <td>-0.000000</td>\n",
       "      <td>...</td>\n",
       "      <td>3.744396</td>\n",
       "      <td>-0.000000</td>\n",
       "      <td>-0.134780</td>\n",
       "      <td>2.205686</td>\n",
       "      <td>0.522348</td>\n",
       "      <td>-12.986199</td>\n",
       "      <td>0.000000</td>\n",
       "      <td>12.210702</td>\n",
       "      <td>12.716082</td>\n",
       "      <td>-0.000000</td>\n",
       "    </tr>\n",
       "    <tr>\n",
       "      <th>33</th>\n",
       "      <td>0.000000</td>\n",
       "      <td>-0.000000</td>\n",
       "      <td>0.000000</td>\n",
       "      <td>0.000000</td>\n",
       "      <td>-0.000000</td>\n",
       "      <td>0.000000</td>\n",
       "      <td>0.000000</td>\n",
       "      <td>0.000000</td>\n",
       "      <td>-0.000000</td>\n",
       "      <td>-0.000000</td>\n",
       "      <td>...</td>\n",
       "      <td>3.468477</td>\n",
       "      <td>-0.000000</td>\n",
       "      <td>-0.124422</td>\n",
       "      <td>2.165522</td>\n",
       "      <td>0.490329</td>\n",
       "      <td>-12.786944</td>\n",
       "      <td>0.000000</td>\n",
       "      <td>12.018647</td>\n",
       "      <td>12.795528</td>\n",
       "      <td>-0.000000</td>\n",
       "    </tr>\n",
       "    <tr>\n",
       "      <th>34</th>\n",
       "      <td>0.000000</td>\n",
       "      <td>-0.000000</td>\n",
       "      <td>0.000000</td>\n",
       "      <td>0.000000</td>\n",
       "      <td>-0.000000</td>\n",
       "      <td>0.000000</td>\n",
       "      <td>0.000000</td>\n",
       "      <td>0.000000</td>\n",
       "      <td>-0.000000</td>\n",
       "      <td>-0.000000</td>\n",
       "      <td>...</td>\n",
       "      <td>3.192572</td>\n",
       "      <td>-0.000000</td>\n",
       "      <td>-0.114065</td>\n",
       "      <td>2.125362</td>\n",
       "      <td>0.458314</td>\n",
       "      <td>-12.587707</td>\n",
       "      <td>0.000000</td>\n",
       "      <td>11.826612</td>\n",
       "      <td>12.874966</td>\n",
       "      <td>-0.000000</td>\n",
       "    </tr>\n",
       "    <tr>\n",
       "      <th>35</th>\n",
       "      <td>0.000000</td>\n",
       "      <td>-0.000000</td>\n",
       "      <td>0.000000</td>\n",
       "      <td>0.000000</td>\n",
       "      <td>-0.000000</td>\n",
       "      <td>0.000000</td>\n",
       "      <td>0.000000</td>\n",
       "      <td>0.000000</td>\n",
       "      <td>-0.000000</td>\n",
       "      <td>-0.000000</td>\n",
       "      <td>...</td>\n",
       "      <td>2.916655</td>\n",
       "      <td>-0.000000</td>\n",
       "      <td>-0.103707</td>\n",
       "      <td>2.085199</td>\n",
       "      <td>0.426295</td>\n",
       "      <td>-12.388455</td>\n",
       "      <td>0.000000</td>\n",
       "      <td>11.634559</td>\n",
       "      <td>12.954411</td>\n",
       "      <td>-0.000000</td>\n",
       "    </tr>\n",
       "    <tr>\n",
       "      <th>36</th>\n",
       "      <td>0.000000</td>\n",
       "      <td>0.000000</td>\n",
       "      <td>0.000000</td>\n",
       "      <td>0.000000</td>\n",
       "      <td>0.000000</td>\n",
       "      <td>0.000000</td>\n",
       "      <td>0.000000</td>\n",
       "      <td>0.000000</td>\n",
       "      <td>0.000000</td>\n",
       "      <td>-0.000000</td>\n",
       "      <td>...</td>\n",
       "      <td>2.640717</td>\n",
       "      <td>0.000000</td>\n",
       "      <td>-0.093348</td>\n",
       "      <td>2.045031</td>\n",
       "      <td>0.394270</td>\n",
       "      <td>-12.189180</td>\n",
       "      <td>0.000000</td>\n",
       "      <td>11.442478</td>\n",
       "      <td>13.033867</td>\n",
       "      <td>0.000000</td>\n",
       "    </tr>\n",
       "    <tr>\n",
       "      <th>37</th>\n",
       "      <td>0.000000</td>\n",
       "      <td>0.000000</td>\n",
       "      <td>0.000000</td>\n",
       "      <td>0.000000</td>\n",
       "      <td>0.000000</td>\n",
       "      <td>0.000000</td>\n",
       "      <td>0.000000</td>\n",
       "      <td>0.000000</td>\n",
       "      <td>0.000000</td>\n",
       "      <td>-0.000000</td>\n",
       "      <td>...</td>\n",
       "      <td>2.364804</td>\n",
       "      <td>0.000000</td>\n",
       "      <td>-0.082990</td>\n",
       "      <td>2.004869</td>\n",
       "      <td>0.362253</td>\n",
       "      <td>-11.989933</td>\n",
       "      <td>0.000000</td>\n",
       "      <td>11.250431</td>\n",
       "      <td>13.113310</td>\n",
       "      <td>0.000000</td>\n",
       "    </tr>\n",
       "    <tr>\n",
       "      <th>38</th>\n",
       "      <td>0.000000</td>\n",
       "      <td>0.000000</td>\n",
       "      <td>0.000000</td>\n",
       "      <td>0.000000</td>\n",
       "      <td>0.000000</td>\n",
       "      <td>0.000000</td>\n",
       "      <td>0.000000</td>\n",
       "      <td>0.000000</td>\n",
       "      <td>0.000000</td>\n",
       "      <td>-0.000000</td>\n",
       "      <td>...</td>\n",
       "      <td>2.088878</td>\n",
       "      <td>0.000000</td>\n",
       "      <td>-0.072632</td>\n",
       "      <td>1.964704</td>\n",
       "      <td>0.330232</td>\n",
       "      <td>-11.790671</td>\n",
       "      <td>0.000000</td>\n",
       "      <td>11.058367</td>\n",
       "      <td>13.192760</td>\n",
       "      <td>0.000000</td>\n",
       "    </tr>\n",
       "    <tr>\n",
       "      <th>39</th>\n",
       "      <td>0.000000</td>\n",
       "      <td>0.000000</td>\n",
       "      <td>0.000000</td>\n",
       "      <td>0.000000</td>\n",
       "      <td>0.000000</td>\n",
       "      <td>0.000000</td>\n",
       "      <td>0.000000</td>\n",
       "      <td>0.000000</td>\n",
       "      <td>0.000000</td>\n",
       "      <td>-0.000000</td>\n",
       "      <td>...</td>\n",
       "      <td>1.812955</td>\n",
       "      <td>0.000000</td>\n",
       "      <td>-0.062273</td>\n",
       "      <td>1.924539</td>\n",
       "      <td>0.298211</td>\n",
       "      <td>-11.591413</td>\n",
       "      <td>0.000000</td>\n",
       "      <td>10.866307</td>\n",
       "      <td>13.272208</td>\n",
       "      <td>0.000000</td>\n",
       "    </tr>\n",
       "    <tr>\n",
       "      <th>40</th>\n",
       "      <td>0.000000</td>\n",
       "      <td>0.000000</td>\n",
       "      <td>0.000000</td>\n",
       "      <td>0.000000</td>\n",
       "      <td>0.000000</td>\n",
       "      <td>0.000000</td>\n",
       "      <td>0.000000</td>\n",
       "      <td>0.000000</td>\n",
       "      <td>0.000000</td>\n",
       "      <td>-0.000000</td>\n",
       "      <td>...</td>\n",
       "      <td>1.537020</td>\n",
       "      <td>0.000000</td>\n",
       "      <td>-0.051914</td>\n",
       "      <td>1.884372</td>\n",
       "      <td>0.266187</td>\n",
       "      <td>-11.392142</td>\n",
       "      <td>0.000000</td>\n",
       "      <td>10.674231</td>\n",
       "      <td>13.351662</td>\n",
       "      <td>0.000000</td>\n",
       "    </tr>\n",
       "  </tbody>\n",
       "</table>\n",
       "<p>41 rows × 35 columns</p>\n",
       "</div>"
      ],
      "text/plain": [
       "          0         1         2         3         4         5         6   \\\n",
       "0   2.997248 -1.186155  3.184503  4.830292 -0.130713 -1.111306  9.807676   \n",
       "1   0.000000 -0.000000  0.000000  0.000000 -0.000000 -0.000000  0.000000   \n",
       "2   0.000000 -0.000000  0.000000  0.000000 -0.000000 -0.000000  0.000000   \n",
       "3   0.000000 -0.000000  0.000000  0.000000 -0.000000 -0.000000  0.000000   \n",
       "4   0.000000 -0.000000  0.000000  0.000000 -0.000000 -0.000000  0.000000   \n",
       "5   0.000000 -0.000000  0.000000  0.000000 -0.000000 -0.000000  0.000000   \n",
       "6   0.000000 -0.000000  0.000000  0.000000 -0.000000 -0.000000  0.000000   \n",
       "7   0.000000 -0.000000  0.000000  0.000000 -0.000000  0.000000  0.000000   \n",
       "8   0.000000 -0.000000  0.000000  0.000000 -0.000000  0.000000  0.000000   \n",
       "9   0.000000 -0.000000  0.000000  0.000000 -0.000000  0.000000  0.000000   \n",
       "10  0.000000 -0.000000  0.000000  0.000000 -0.000000  0.000000  0.000000   \n",
       "11  0.000000 -0.000000  0.000000  0.000000 -0.000000  0.000000  0.000000   \n",
       "12  0.000000 -0.000000  0.000000  0.000000 -0.000000  0.000000  0.000000   \n",
       "13  0.000000 -0.000000  0.000000  0.000000 -0.000000  0.000000  0.000000   \n",
       "14  0.000000 -0.000000  0.000000  0.000000 -0.000000  0.000000  0.000000   \n",
       "15  0.000000 -0.000000  0.000000  0.000000 -0.000000  0.000000  0.000000   \n",
       "16  0.000000 -0.000000  0.000000  0.000000 -0.000000  0.000000  0.000000   \n",
       "17  0.000000 -0.000000  0.000000  0.000000 -0.000000  0.000000  0.000000   \n",
       "18  0.000000 -0.000000  0.000000  0.000000 -0.000000  0.000000  0.000000   \n",
       "19  0.000000 -0.000000  0.000000  0.000000 -0.000000  0.000000  0.000000   \n",
       "20  0.000000 -0.000000  0.000000  0.000000 -0.000000  0.000000  0.000000   \n",
       "21  0.000000 -0.000000  0.000000  0.000000 -0.000000  0.000000  0.000000   \n",
       "22  0.000000 -0.000000  0.000000  0.000000 -0.000000  0.000000  0.000000   \n",
       "23  0.000000 -0.000000  0.000000  0.000000 -0.000000  0.000000  0.000000   \n",
       "24  0.000000 -0.000000  0.000000  0.000000 -0.000000  0.000000  0.000000   \n",
       "25  0.000000 -0.000000  0.000000  0.000000 -0.000000  0.000000  0.000000   \n",
       "26  0.000000 -0.000000  0.000000  0.000000 -0.000000  0.000000  0.000000   \n",
       "27  0.000000 -0.000000  0.000000  0.000000 -0.000000  0.000000  0.000000   \n",
       "28  0.000000 -0.000000  0.000000  0.000000 -0.000000  0.000000  0.000000   \n",
       "29  0.000000 -0.000000  0.000000  0.000000 -0.000000  0.000000  0.000000   \n",
       "30  0.000000 -0.000000  0.000000  0.000000 -0.000000  0.000000  0.000000   \n",
       "31  0.000000 -0.000000  0.000000  0.000000 -0.000000  0.000000  0.000000   \n",
       "32  0.000000 -0.000000  0.000000  0.000000 -0.000000  0.000000  0.000000   \n",
       "33  0.000000 -0.000000  0.000000  0.000000 -0.000000  0.000000  0.000000   \n",
       "34  0.000000 -0.000000  0.000000  0.000000 -0.000000  0.000000  0.000000   \n",
       "35  0.000000 -0.000000  0.000000  0.000000 -0.000000  0.000000  0.000000   \n",
       "36  0.000000  0.000000  0.000000  0.000000  0.000000  0.000000  0.000000   \n",
       "37  0.000000  0.000000  0.000000  0.000000  0.000000  0.000000  0.000000   \n",
       "38  0.000000  0.000000  0.000000  0.000000  0.000000  0.000000  0.000000   \n",
       "39  0.000000  0.000000  0.000000  0.000000  0.000000  0.000000  0.000000   \n",
       "40  0.000000  0.000000  0.000000  0.000000  0.000000  0.000000  0.000000   \n",
       "\n",
       "          7         8         9   ...         25        26        27  \\\n",
       "0   3.529543 -1.200559 -2.301445  ...   5.671580 -0.398509 -0.935467   \n",
       "1   0.000000 -0.000000 -0.000000  ...  13.533989 -0.000000 -0.845325   \n",
       "2   0.000000 -0.000000 -0.000000  ...  13.348733 -0.000000 -0.755184   \n",
       "3   0.000000 -0.000000 -0.000000  ...  13.163477 -0.000000 -0.665042   \n",
       "4   0.000000 -0.000000 -0.000000  ...  12.960044 -0.000000 -0.593585   \n",
       "5   0.000000 -0.000000 -0.000000  ...  12.601982 -0.000000 -0.577502   \n",
       "6   0.000000 -0.000000 -0.000000  ...  12.243930 -0.000000 -0.561419   \n",
       "7   0.000000 -0.000000 -0.000000  ...  11.897597 -0.000000 -0.539042   \n",
       "8   0.000000 -0.000000 -0.000000  ...  11.619684 -0.000000 -0.491279   \n",
       "9   0.000000 -0.000000 -0.000000  ...  11.307314 -0.000000 -0.456636   \n",
       "10  0.000000 -0.000000 -0.000000  ...  10.995514 -0.000000 -0.426261   \n",
       "11  0.000000 -0.000000 -0.000000  ...  10.682515 -0.000000 -0.399355   \n",
       "12  0.000000 -0.000000 -0.000000  ...  10.338446 -0.000000 -0.386190   \n",
       "13  0.000000 -0.000000 -0.000000  ...   9.994391 -0.000000 -0.373026   \n",
       "14  0.000000 -0.000000 -0.000000  ...   9.650339 -0.000000 -0.359862   \n",
       "15  0.000000 -0.000000 -0.000000  ...   9.306294 -0.000000 -0.346699   \n",
       "16  0.000000 -0.000000 -0.000000  ...   8.962251 -0.000000 -0.333536   \n",
       "17  0.000000 -0.000000 -0.000000  ...   8.618218 -0.000000 -0.320374   \n",
       "18  0.000000 -0.000000 -0.000000  ...   8.274179 -0.000000 -0.307211   \n",
       "19  0.000000 -0.000000 -0.000000  ...   7.930144 -0.000000 -0.294049   \n",
       "20  0.000000 -0.000000 -0.000000  ...   7.586108 -0.000000 -0.280887   \n",
       "21  0.000000 -0.000000 -0.000000  ...   7.242072 -0.000000 -0.267724   \n",
       "22  0.000000 -0.000000 -0.000000  ...   6.898043 -0.000000 -0.254563   \n",
       "23  0.000000 -0.000000 -0.000000  ...   6.554018 -0.000000 -0.241401   \n",
       "24  0.000000 -0.000000 -0.000000  ...   6.209973 -0.000000 -0.228238   \n",
       "25  0.000000 -0.000000 -0.000000  ...   5.865943 -0.000000 -0.215076   \n",
       "26  0.000000 -0.000000 -0.000000  ...   5.521910 -0.000000 -0.201914   \n",
       "27  0.000000 -0.000000 -0.000000  ...   5.177863 -0.000000 -0.188751   \n",
       "28  0.000000 -0.000000 -0.000000  ...   4.848047 -0.000000 -0.176210   \n",
       "29  0.000000 -0.000000 -0.000000  ...   4.572128 -0.000000 -0.165852   \n",
       "30  0.000000 -0.000000 -0.000000  ...   4.296226 -0.000000 -0.155495   \n",
       "31  0.000000 -0.000000 -0.000000  ...   4.020305 -0.000000 -0.145137   \n",
       "32  0.000000 -0.000000 -0.000000  ...   3.744396 -0.000000 -0.134780   \n",
       "33  0.000000 -0.000000 -0.000000  ...   3.468477 -0.000000 -0.124422   \n",
       "34  0.000000 -0.000000 -0.000000  ...   3.192572 -0.000000 -0.114065   \n",
       "35  0.000000 -0.000000 -0.000000  ...   2.916655 -0.000000 -0.103707   \n",
       "36  0.000000  0.000000 -0.000000  ...   2.640717  0.000000 -0.093348   \n",
       "37  0.000000  0.000000 -0.000000  ...   2.364804  0.000000 -0.082990   \n",
       "38  0.000000  0.000000 -0.000000  ...   2.088878  0.000000 -0.072632   \n",
       "39  0.000000  0.000000 -0.000000  ...   1.812955  0.000000 -0.062273   \n",
       "40  0.000000  0.000000 -0.000000  ...   1.537020  0.000000 -0.051914   \n",
       "\n",
       "          28        29         30        31         32         33        34  \n",
       "0   4.342384  2.761501 -12.992293 -3.159711  10.872554   4.729703 -1.273458  \n",
       "1   4.241300  2.950356 -18.184944 -3.966578  29.056716  13.120216 -4.670068  \n",
       "2   4.140215  2.897945 -20.462010 -2.537338  28.212543  12.372949 -4.450420  \n",
       "3   4.039131  2.828773 -22.728239 -1.108098  27.368370  11.625682 -4.230773  \n",
       "4   3.953081  2.469311 -23.070170 -0.000000  26.642695  11.054540 -4.031437  \n",
       "5   3.886143  2.407324 -22.679502 -0.000000  26.068732  11.136683 -3.861931  \n",
       "6   3.819207  2.345340 -22.288849 -0.000000  25.494791  11.218821 -3.692428  \n",
       "7   3.749416  2.231543 -21.882565 -0.000000  24.899818  11.231500 -3.518942  \n",
       "8   3.668965  1.905250 -21.414670 -0.000000  24.218041  10.952080 -3.329098  \n",
       "9   3.593347  1.689464 -20.973969 -0.000000  23.573676  10.826586 -3.146794  \n",
       "10  3.521380  1.505785 -20.553500 -0.000000  22.956945  10.736680 -2.968800  \n",
       "11  3.450982  1.351059 -20.142122  0.000000  22.352986  10.684970 -2.793704  \n",
       "12  3.386877  1.309714 -19.765874  0.000000  21.797144  10.786046 -2.627402  \n",
       "13  3.322776  1.268373 -19.389642  0.000000  21.241326  10.887115 -2.461102  \n",
       "14  3.258676  1.227033 -19.013415  0.000000  20.685514  10.988183 -2.294804  \n",
       "15  3.194577  1.185696 -18.637198  0.000000  20.129715  11.089247 -2.128507  \n",
       "16  3.130478  1.144358 -18.260982  0.000000  19.573918  11.190310 -1.962210  \n",
       "17  3.066382  1.103023 -17.884779  0.000000  19.018138  11.291368 -1.795915  \n",
       "18  3.002285  1.061687 -17.508568  0.000000  18.462349  11.392429 -1.629620  \n",
       "19  2.938188  1.020352 -17.132364  0.000000  17.906567  11.493487 -1.463325  \n",
       "20  2.874092  0.979017 -16.756157  0.000000  17.350782  11.594547 -1.297030  \n",
       "21  2.809995  0.937681 -16.379950  0.000000  16.794998  11.695606 -1.130735  \n",
       "22  2.745900  0.896348 -16.003752  0.000000  16.239225  11.796662 -0.964441  \n",
       "23  2.681805  0.855015 -15.627561  0.000000  15.683461  11.897716 -0.798149  \n",
       "24  2.617707  0.813678 -15.251343  0.000000  15.127661  11.998779 -0.631852  \n",
       "25  2.553611  0.772344 -14.875144  0.000000  14.571888  12.099836 -0.465558  \n",
       "26  2.489515  0.731009 -14.498942  0.000000  14.016109  12.200893 -0.299264  \n",
       "27  2.425416  0.689671 -14.122721  0.000000  13.460305  12.301959 -0.132966  \n",
       "28  2.366335  0.650418 -13.783187  0.000000  12.978890  12.398311 -0.000000  \n",
       "29  2.326171  0.618399 -13.583933  0.000000  12.786835  12.477757 -0.000000  \n",
       "30  2.286011  0.586384 -13.384698  0.000000  12.594802  12.557194 -0.000000  \n",
       "31  2.245847  0.554365 -13.185442  0.000000  12.402745  12.636641 -0.000000  \n",
       "32  2.205686  0.522348 -12.986199  0.000000  12.210702  12.716082 -0.000000  \n",
       "33  2.165522  0.490329 -12.786944  0.000000  12.018647  12.795528 -0.000000  \n",
       "34  2.125362  0.458314 -12.587707  0.000000  11.826612  12.874966 -0.000000  \n",
       "35  2.085199  0.426295 -12.388455  0.000000  11.634559  12.954411 -0.000000  \n",
       "36  2.045031  0.394270 -12.189180  0.000000  11.442478  13.033867  0.000000  \n",
       "37  2.004869  0.362253 -11.989933  0.000000  11.250431  13.113310  0.000000  \n",
       "38  1.964704  0.330232 -11.790671  0.000000  11.058367  13.192760  0.000000  \n",
       "39  1.924539  0.298211 -11.591413  0.000000  10.866307  13.272208  0.000000  \n",
       "40  1.884372  0.266187 -11.392142  0.000000  10.674231  13.351662  0.000000  \n",
       "\n",
       "[41 rows x 35 columns]"
      ]
     },
     "execution_count": 24,
     "metadata": {},
     "output_type": "execute_result"
    }
   ],
   "source": [
    "# Due to extreme processing power and time, I will use only some of the features\n",
    "X_train, X_test, Y_train, Y_test = train_test_split(X_diabetes[['age', 'sex']], y_diabetes, test_size=0.3, random_state=SEED)\n",
    "rmse_train, rmse_valid = [], []\n",
    "scaler = StandardScaler()\n",
    "scaled_X_train = scaler.fit_transform(X_train)\n",
    "scaled_X_test = scaler.transform(X_test)\n",
    "\n",
    "lasso_coefs = []\n",
    "for alpha in ALPHAS:\n",
    "    lr = create_model(7, scaled_X_train, scaled_X_test, Y_train, Y_test, alpha, 'L1')\n",
    "    lasso_coefs.append(lr.coef_)\n",
    "\n",
    "df = pd.DataFrame(np.row_stack(lasso_coefs))\n",
    "df"
   ]
  },
  {
   "cell_type": "markdown",
   "id": "10c92860",
   "metadata": {
    "papermill": {
     "duration": 0.109941,
     "end_time": "2022-03-27T18:07:22.680847",
     "exception": false,
     "start_time": "2022-03-27T18:07:22.570906",
     "status": "completed"
    },
    "tags": []
   },
   "source": [
    "#### L2"
   ]
  },
  {
   "cell_type": "code",
   "execution_count": 25,
   "id": "e3df087c",
   "metadata": {
    "execution": {
     "iopub.execute_input": "2022-03-27T18:07:22.893293Z",
     "iopub.status.busy": "2022-03-27T18:07:22.892324Z",
     "iopub.status.idle": "2022-03-27T18:07:23.570430Z",
     "shell.execute_reply": "2022-03-27T18:07:23.571348Z",
     "shell.execute_reply.started": "2022-03-27T17:28:32.611553Z"
    },
    "papermill": {
     "duration": 0.785485,
     "end_time": "2022-03-27T18:07:23.571622",
     "exception": false,
     "start_time": "2022-03-27T18:07:22.786137",
     "status": "completed"
    },
    "tags": []
   },
   "outputs": [
    {
     "data": {
      "text/html": [
       "<div>\n",
       "<style scoped>\n",
       "    .dataframe tbody tr th:only-of-type {\n",
       "        vertical-align: middle;\n",
       "    }\n",
       "\n",
       "    .dataframe tbody tr th {\n",
       "        vertical-align: top;\n",
       "    }\n",
       "\n",
       "    .dataframe thead th {\n",
       "        text-align: right;\n",
       "    }\n",
       "</style>\n",
       "<table border=\"1\" class=\"dataframe\">\n",
       "  <thead>\n",
       "    <tr style=\"text-align: right;\">\n",
       "      <th></th>\n",
       "      <th>0</th>\n",
       "      <th>1</th>\n",
       "      <th>2</th>\n",
       "      <th>3</th>\n",
       "      <th>4</th>\n",
       "      <th>5</th>\n",
       "      <th>6</th>\n",
       "      <th>7</th>\n",
       "      <th>8</th>\n",
       "      <th>9</th>\n",
       "      <th>...</th>\n",
       "      <th>25</th>\n",
       "      <th>26</th>\n",
       "      <th>27</th>\n",
       "      <th>28</th>\n",
       "      <th>29</th>\n",
       "      <th>30</th>\n",
       "      <th>31</th>\n",
       "      <th>32</th>\n",
       "      <th>33</th>\n",
       "      <th>34</th>\n",
       "    </tr>\n",
       "  </thead>\n",
       "  <tbody>\n",
       "    <tr>\n",
       "      <th>0</th>\n",
       "      <td>2.997248</td>\n",
       "      <td>-1.186155</td>\n",
       "      <td>3.184503</td>\n",
       "      <td>4.830292</td>\n",
       "      <td>-0.130713</td>\n",
       "      <td>-1.111306</td>\n",
       "      <td>9.807676</td>\n",
       "      <td>3.529543</td>\n",
       "      <td>-1.200559</td>\n",
       "      <td>-2.301445</td>\n",
       "      <td>...</td>\n",
       "      <td>5.671580</td>\n",
       "      <td>-0.398509</td>\n",
       "      <td>-0.935467</td>\n",
       "      <td>4.342384</td>\n",
       "      <td>2.761501</td>\n",
       "      <td>-12.992293</td>\n",
       "      <td>-3.159711</td>\n",
       "      <td>10.872554</td>\n",
       "      <td>4.729703</td>\n",
       "      <td>-1.273458</td>\n",
       "    </tr>\n",
       "    <tr>\n",
       "      <th>1</th>\n",
       "      <td>2.995664</td>\n",
       "      <td>-1.184760</td>\n",
       "      <td>3.187774</td>\n",
       "      <td>4.827126</td>\n",
       "      <td>-0.130560</td>\n",
       "      <td>-1.105540</td>\n",
       "      <td>9.799000</td>\n",
       "      <td>3.527610</td>\n",
       "      <td>-1.199147</td>\n",
       "      <td>-2.305545</td>\n",
       "      <td>...</td>\n",
       "      <td>5.667947</td>\n",
       "      <td>-0.398040</td>\n",
       "      <td>-0.933858</td>\n",
       "      <td>4.339380</td>\n",
       "      <td>2.756055</td>\n",
       "      <td>-12.983783</td>\n",
       "      <td>-3.152533</td>\n",
       "      <td>10.864286</td>\n",
       "      <td>4.726998</td>\n",
       "      <td>-1.271961</td>\n",
       "    </tr>\n",
       "    <tr>\n",
       "      <th>2</th>\n",
       "      <td>2.994086</td>\n",
       "      <td>-1.183367</td>\n",
       "      <td>3.191031</td>\n",
       "      <td>4.823965</td>\n",
       "      <td>-0.130406</td>\n",
       "      <td>-1.099794</td>\n",
       "      <td>9.790343</td>\n",
       "      <td>3.525684</td>\n",
       "      <td>-1.197738</td>\n",
       "      <td>-2.309630</td>\n",
       "      <td>...</td>\n",
       "      <td>5.664321</td>\n",
       "      <td>-0.397572</td>\n",
       "      <td>-0.932254</td>\n",
       "      <td>4.336383</td>\n",
       "      <td>2.750625</td>\n",
       "      <td>-12.975289</td>\n",
       "      <td>-3.145379</td>\n",
       "      <td>10.856034</td>\n",
       "      <td>4.724301</td>\n",
       "      <td>-1.270466</td>\n",
       "    </tr>\n",
       "    <tr>\n",
       "      <th>3</th>\n",
       "      <td>2.992516</td>\n",
       "      <td>-1.181978</td>\n",
       "      <td>3.194274</td>\n",
       "      <td>4.820810</td>\n",
       "      <td>-0.130253</td>\n",
       "      <td>-1.094068</td>\n",
       "      <td>9.781704</td>\n",
       "      <td>3.523765</td>\n",
       "      <td>-1.196331</td>\n",
       "      <td>-2.313700</td>\n",
       "      <td>...</td>\n",
       "      <td>5.660702</td>\n",
       "      <td>-0.397105</td>\n",
       "      <td>-0.930655</td>\n",
       "      <td>4.333393</td>\n",
       "      <td>2.745212</td>\n",
       "      <td>-12.966814</td>\n",
       "      <td>-3.138246</td>\n",
       "      <td>10.847798</td>\n",
       "      <td>4.721613</td>\n",
       "      <td>-1.268974</td>\n",
       "    </tr>\n",
       "    <tr>\n",
       "      <th>4</th>\n",
       "      <td>2.990951</td>\n",
       "      <td>-1.180590</td>\n",
       "      <td>3.197504</td>\n",
       "      <td>4.817661</td>\n",
       "      <td>-0.130100</td>\n",
       "      <td>-1.088362</td>\n",
       "      <td>9.773084</td>\n",
       "      <td>3.521854</td>\n",
       "      <td>-1.194927</td>\n",
       "      <td>-2.317755</td>\n",
       "      <td>...</td>\n",
       "      <td>5.657091</td>\n",
       "      <td>-0.396639</td>\n",
       "      <td>-0.929060</td>\n",
       "      <td>4.330408</td>\n",
       "      <td>2.739815</td>\n",
       "      <td>-12.958355</td>\n",
       "      <td>-3.131137</td>\n",
       "      <td>10.839579</td>\n",
       "      <td>4.718933</td>\n",
       "      <td>-1.267485</td>\n",
       "    </tr>\n",
       "    <tr>\n",
       "      <th>5</th>\n",
       "      <td>2.989394</td>\n",
       "      <td>-1.179206</td>\n",
       "      <td>3.200720</td>\n",
       "      <td>4.814517</td>\n",
       "      <td>-0.129948</td>\n",
       "      <td>-1.082676</td>\n",
       "      <td>9.764482</td>\n",
       "      <td>3.519950</td>\n",
       "      <td>-1.193526</td>\n",
       "      <td>-2.321795</td>\n",
       "      <td>...</td>\n",
       "      <td>5.653486</td>\n",
       "      <td>-0.396174</td>\n",
       "      <td>-0.927470</td>\n",
       "      <td>4.327430</td>\n",
       "      <td>2.734435</td>\n",
       "      <td>-12.949914</td>\n",
       "      <td>-3.124050</td>\n",
       "      <td>10.831375</td>\n",
       "      <td>4.716262</td>\n",
       "      <td>-1.265998</td>\n",
       "    </tr>\n",
       "    <tr>\n",
       "      <th>6</th>\n",
       "      <td>2.987843</td>\n",
       "      <td>-1.177824</td>\n",
       "      <td>3.203922</td>\n",
       "      <td>4.811378</td>\n",
       "      <td>-0.129795</td>\n",
       "      <td>-1.077010</td>\n",
       "      <td>9.755899</td>\n",
       "      <td>3.518053</td>\n",
       "      <td>-1.192127</td>\n",
       "      <td>-2.325820</td>\n",
       "      <td>...</td>\n",
       "      <td>5.649888</td>\n",
       "      <td>-0.395710</td>\n",
       "      <td>-0.925884</td>\n",
       "      <td>4.324458</td>\n",
       "      <td>2.729071</td>\n",
       "      <td>-12.941489</td>\n",
       "      <td>-3.116985</td>\n",
       "      <td>10.823188</td>\n",
       "      <td>4.713600</td>\n",
       "      <td>-1.264514</td>\n",
       "    </tr>\n",
       "    <tr>\n",
       "      <th>7</th>\n",
       "      <td>2.986299</td>\n",
       "      <td>-1.176444</td>\n",
       "      <td>3.207111</td>\n",
       "      <td>4.808244</td>\n",
       "      <td>-0.129643</td>\n",
       "      <td>-1.071363</td>\n",
       "      <td>9.747333</td>\n",
       "      <td>3.516164</td>\n",
       "      <td>-1.190731</td>\n",
       "      <td>-2.329831</td>\n",
       "      <td>...</td>\n",
       "      <td>5.646298</td>\n",
       "      <td>-0.395246</td>\n",
       "      <td>-0.924303</td>\n",
       "      <td>4.321493</td>\n",
       "      <td>2.723723</td>\n",
       "      <td>-12.933082</td>\n",
       "      <td>-3.109943</td>\n",
       "      <td>10.815017</td>\n",
       "      <td>4.710946</td>\n",
       "      <td>-1.263033</td>\n",
       "    </tr>\n",
       "    <tr>\n",
       "      <th>8</th>\n",
       "      <td>2.984761</td>\n",
       "      <td>-1.175067</td>\n",
       "      <td>3.210286</td>\n",
       "      <td>4.805116</td>\n",
       "      <td>-0.129492</td>\n",
       "      <td>-1.065736</td>\n",
       "      <td>9.738786</td>\n",
       "      <td>3.514281</td>\n",
       "      <td>-1.189337</td>\n",
       "      <td>-2.333827</td>\n",
       "      <td>...</td>\n",
       "      <td>5.642714</td>\n",
       "      <td>-0.394784</td>\n",
       "      <td>-0.922726</td>\n",
       "      <td>4.318534</td>\n",
       "      <td>2.718392</td>\n",
       "      <td>-12.924692</td>\n",
       "      <td>-3.102923</td>\n",
       "      <td>10.806861</td>\n",
       "      <td>4.708301</td>\n",
       "      <td>-1.261555</td>\n",
       "    </tr>\n",
       "    <tr>\n",
       "      <th>9</th>\n",
       "      <td>2.983229</td>\n",
       "      <td>-1.173693</td>\n",
       "      <td>3.213448</td>\n",
       "      <td>4.801993</td>\n",
       "      <td>-0.129340</td>\n",
       "      <td>-1.060128</td>\n",
       "      <td>9.730258</td>\n",
       "      <td>3.512406</td>\n",
       "      <td>-1.187946</td>\n",
       "      <td>-2.337809</td>\n",
       "      <td>...</td>\n",
       "      <td>5.639138</td>\n",
       "      <td>-0.394322</td>\n",
       "      <td>-0.921154</td>\n",
       "      <td>4.315580</td>\n",
       "      <td>2.713076</td>\n",
       "      <td>-12.916319</td>\n",
       "      <td>-3.095925</td>\n",
       "      <td>10.798721</td>\n",
       "      <td>4.705665</td>\n",
       "      <td>-1.260079</td>\n",
       "    </tr>\n",
       "    <tr>\n",
       "      <th>10</th>\n",
       "      <td>2.981704</td>\n",
       "      <td>-1.172321</td>\n",
       "      <td>3.216596</td>\n",
       "      <td>4.798876</td>\n",
       "      <td>-0.129189</td>\n",
       "      <td>-1.054540</td>\n",
       "      <td>9.721747</td>\n",
       "      <td>3.510537</td>\n",
       "      <td>-1.186557</td>\n",
       "      <td>-2.341776</td>\n",
       "      <td>...</td>\n",
       "      <td>5.635568</td>\n",
       "      <td>-0.393861</td>\n",
       "      <td>-0.919587</td>\n",
       "      <td>4.312634</td>\n",
       "      <td>2.707777</td>\n",
       "      <td>-12.907962</td>\n",
       "      <td>-3.088949</td>\n",
       "      <td>10.790597</td>\n",
       "      <td>4.703037</td>\n",
       "      <td>-1.258607</td>\n",
       "    </tr>\n",
       "    <tr>\n",
       "      <th>11</th>\n",
       "      <td>2.980186</td>\n",
       "      <td>-1.170951</td>\n",
       "      <td>3.219731</td>\n",
       "      <td>4.795763</td>\n",
       "      <td>-0.129038</td>\n",
       "      <td>-1.048970</td>\n",
       "      <td>9.713254</td>\n",
       "      <td>3.508676</td>\n",
       "      <td>-1.185171</td>\n",
       "      <td>-2.345729</td>\n",
       "      <td>...</td>\n",
       "      <td>5.632005</td>\n",
       "      <td>-0.393401</td>\n",
       "      <td>-0.918024</td>\n",
       "      <td>4.309693</td>\n",
       "      <td>2.702494</td>\n",
       "      <td>-12.899623</td>\n",
       "      <td>-3.081995</td>\n",
       "      <td>10.782489</td>\n",
       "      <td>4.700417</td>\n",
       "      <td>-1.257136</td>\n",
       "    </tr>\n",
       "    <tr>\n",
       "      <th>12</th>\n",
       "      <td>2.978674</td>\n",
       "      <td>-1.169584</td>\n",
       "      <td>3.222853</td>\n",
       "      <td>4.792656</td>\n",
       "      <td>-0.128887</td>\n",
       "      <td>-1.043420</td>\n",
       "      <td>9.704779</td>\n",
       "      <td>3.506821</td>\n",
       "      <td>-1.183788</td>\n",
       "      <td>-2.349667</td>\n",
       "      <td>...</td>\n",
       "      <td>5.628449</td>\n",
       "      <td>-0.392942</td>\n",
       "      <td>-0.916465</td>\n",
       "      <td>4.306758</td>\n",
       "      <td>2.697227</td>\n",
       "      <td>-12.891300</td>\n",
       "      <td>-3.075063</td>\n",
       "      <td>10.774397</td>\n",
       "      <td>4.697806</td>\n",
       "      <td>-1.255669</td>\n",
       "    </tr>\n",
       "    <tr>\n",
       "      <th>13</th>\n",
       "      <td>2.977168</td>\n",
       "      <td>-1.168220</td>\n",
       "      <td>3.225962</td>\n",
       "      <td>4.789555</td>\n",
       "      <td>-0.128737</td>\n",
       "      <td>-1.037889</td>\n",
       "      <td>9.696322</td>\n",
       "      <td>3.504974</td>\n",
       "      <td>-1.182407</td>\n",
       "      <td>-2.353591</td>\n",
       "      <td>...</td>\n",
       "      <td>5.624900</td>\n",
       "      <td>-0.392483</td>\n",
       "      <td>-0.914911</td>\n",
       "      <td>4.303830</td>\n",
       "      <td>2.691976</td>\n",
       "      <td>-12.882994</td>\n",
       "      <td>-3.068153</td>\n",
       "      <td>10.766320</td>\n",
       "      <td>4.695203</td>\n",
       "      <td>-1.254204</td>\n",
       "    </tr>\n",
       "    <tr>\n",
       "      <th>14</th>\n",
       "      <td>2.975669</td>\n",
       "      <td>-1.166858</td>\n",
       "      <td>3.229057</td>\n",
       "      <td>4.786458</td>\n",
       "      <td>-0.128587</td>\n",
       "      <td>-1.032377</td>\n",
       "      <td>9.687883</td>\n",
       "      <td>3.503133</td>\n",
       "      <td>-1.181028</td>\n",
       "      <td>-2.357501</td>\n",
       "      <td>...</td>\n",
       "      <td>5.621358</td>\n",
       "      <td>-0.392026</td>\n",
       "      <td>-0.913361</td>\n",
       "      <td>4.300908</td>\n",
       "      <td>2.686740</td>\n",
       "      <td>-12.874705</td>\n",
       "      <td>-3.061264</td>\n",
       "      <td>10.758258</td>\n",
       "      <td>4.692608</td>\n",
       "      <td>-1.252742</td>\n",
       "    </tr>\n",
       "    <tr>\n",
       "      <th>15</th>\n",
       "      <td>2.974176</td>\n",
       "      <td>-1.165498</td>\n",
       "      <td>3.232140</td>\n",
       "      <td>4.783367</td>\n",
       "      <td>-0.128437</td>\n",
       "      <td>-1.026884</td>\n",
       "      <td>9.679462</td>\n",
       "      <td>3.501299</td>\n",
       "      <td>-1.179652</td>\n",
       "      <td>-2.361397</td>\n",
       "      <td>...</td>\n",
       "      <td>5.617822</td>\n",
       "      <td>-0.391569</td>\n",
       "      <td>-0.911816</td>\n",
       "      <td>4.297991</td>\n",
       "      <td>2.681520</td>\n",
       "      <td>-12.866432</td>\n",
       "      <td>-3.054397</td>\n",
       "      <td>10.750212</td>\n",
       "      <td>4.690022</td>\n",
       "      <td>-1.251282</td>\n",
       "    </tr>\n",
       "    <tr>\n",
       "      <th>16</th>\n",
       "      <td>2.972689</td>\n",
       "      <td>-1.164141</td>\n",
       "      <td>3.235209</td>\n",
       "      <td>4.780281</td>\n",
       "      <td>-0.128288</td>\n",
       "      <td>-1.021410</td>\n",
       "      <td>9.671058</td>\n",
       "      <td>3.499472</td>\n",
       "      <td>-1.178279</td>\n",
       "      <td>-2.365278</td>\n",
       "      <td>...</td>\n",
       "      <td>5.614294</td>\n",
       "      <td>-0.391113</td>\n",
       "      <td>-0.910275</td>\n",
       "      <td>4.295081</td>\n",
       "      <td>2.676316</td>\n",
       "      <td>-12.858176</td>\n",
       "      <td>-3.047551</td>\n",
       "      <td>10.742182</td>\n",
       "      <td>4.687444</td>\n",
       "      <td>-1.249825</td>\n",
       "    </tr>\n",
       "    <tr>\n",
       "      <th>17</th>\n",
       "      <td>2.971208</td>\n",
       "      <td>-1.162787</td>\n",
       "      <td>3.238266</td>\n",
       "      <td>4.777200</td>\n",
       "      <td>-0.128138</td>\n",
       "      <td>-1.015954</td>\n",
       "      <td>9.662672</td>\n",
       "      <td>3.497652</td>\n",
       "      <td>-1.176908</td>\n",
       "      <td>-2.369145</td>\n",
       "      <td>...</td>\n",
       "      <td>5.610772</td>\n",
       "      <td>-0.390658</td>\n",
       "      <td>-0.908738</td>\n",
       "      <td>4.292177</td>\n",
       "      <td>2.671127</td>\n",
       "      <td>-12.849936</td>\n",
       "      <td>-3.040727</td>\n",
       "      <td>10.734167</td>\n",
       "      <td>4.684874</td>\n",
       "      <td>-1.248371</td>\n",
       "    </tr>\n",
       "    <tr>\n",
       "      <th>18</th>\n",
       "      <td>2.969734</td>\n",
       "      <td>-1.161435</td>\n",
       "      <td>3.241309</td>\n",
       "      <td>4.774124</td>\n",
       "      <td>-0.127989</td>\n",
       "      <td>-1.010517</td>\n",
       "      <td>9.654304</td>\n",
       "      <td>3.495839</td>\n",
       "      <td>-1.175539</td>\n",
       "      <td>-2.372999</td>\n",
       "      <td>...</td>\n",
       "      <td>5.607257</td>\n",
       "      <td>-0.390204</td>\n",
       "      <td>-0.907206</td>\n",
       "      <td>4.289279</td>\n",
       "      <td>2.665954</td>\n",
       "      <td>-12.841713</td>\n",
       "      <td>-3.033924</td>\n",
       "      <td>10.726167</td>\n",
       "      <td>4.682312</td>\n",
       "      <td>-1.246919</td>\n",
       "    </tr>\n",
       "    <tr>\n",
       "      <th>19</th>\n",
       "      <td>2.968265</td>\n",
       "      <td>-1.160085</td>\n",
       "      <td>3.244340</td>\n",
       "      <td>4.771054</td>\n",
       "      <td>-0.127841</td>\n",
       "      <td>-1.005099</td>\n",
       "      <td>9.645953</td>\n",
       "      <td>3.494032</td>\n",
       "      <td>-1.174173</td>\n",
       "      <td>-2.376838</td>\n",
       "      <td>...</td>\n",
       "      <td>5.603748</td>\n",
       "      <td>-0.389750</td>\n",
       "      <td>-0.905678</td>\n",
       "      <td>4.286387</td>\n",
       "      <td>2.660797</td>\n",
       "      <td>-12.833506</td>\n",
       "      <td>-3.027142</td>\n",
       "      <td>10.718183</td>\n",
       "      <td>4.679759</td>\n",
       "      <td>-1.245470</td>\n",
       "    </tr>\n",
       "    <tr>\n",
       "      <th>20</th>\n",
       "      <td>2.966803</td>\n",
       "      <td>-1.158738</td>\n",
       "      <td>3.247357</td>\n",
       "      <td>4.767988</td>\n",
       "      <td>-0.127692</td>\n",
       "      <td>-0.999699</td>\n",
       "      <td>9.637619</td>\n",
       "      <td>3.492232</td>\n",
       "      <td>-1.172809</td>\n",
       "      <td>-2.380664</td>\n",
       "      <td>...</td>\n",
       "      <td>5.600246</td>\n",
       "      <td>-0.389298</td>\n",
       "      <td>-0.904154</td>\n",
       "      <td>4.283501</td>\n",
       "      <td>2.655654</td>\n",
       "      <td>-12.825315</td>\n",
       "      <td>-3.020381</td>\n",
       "      <td>10.710214</td>\n",
       "      <td>4.677213</td>\n",
       "      <td>-1.244024</td>\n",
       "    </tr>\n",
       "    <tr>\n",
       "      <th>21</th>\n",
       "      <td>2.965347</td>\n",
       "      <td>-1.157393</td>\n",
       "      <td>3.250362</td>\n",
       "      <td>4.764928</td>\n",
       "      <td>-0.127544</td>\n",
       "      <td>-0.994317</td>\n",
       "      <td>9.629303</td>\n",
       "      <td>3.490439</td>\n",
       "      <td>-1.171448</td>\n",
       "      <td>-2.384476</td>\n",
       "      <td>...</td>\n",
       "      <td>5.596751</td>\n",
       "      <td>-0.388846</td>\n",
       "      <td>-0.902635</td>\n",
       "      <td>4.280621</td>\n",
       "      <td>2.650527</td>\n",
       "      <td>-12.817140</td>\n",
       "      <td>-3.013641</td>\n",
       "      <td>10.702260</td>\n",
       "      <td>4.674676</td>\n",
       "      <td>-1.242580</td>\n",
       "    </tr>\n",
       "    <tr>\n",
       "      <th>22</th>\n",
       "      <td>2.963897</td>\n",
       "      <td>-1.156050</td>\n",
       "      <td>3.253355</td>\n",
       "      <td>4.761873</td>\n",
       "      <td>-0.127396</td>\n",
       "      <td>-0.988954</td>\n",
       "      <td>9.621005</td>\n",
       "      <td>3.488652</td>\n",
       "      <td>-1.170089</td>\n",
       "      <td>-2.388274</td>\n",
       "      <td>...</td>\n",
       "      <td>5.593263</td>\n",
       "      <td>-0.388395</td>\n",
       "      <td>-0.901119</td>\n",
       "      <td>4.277746</td>\n",
       "      <td>2.645416</td>\n",
       "      <td>-12.808982</td>\n",
       "      <td>-3.006922</td>\n",
       "      <td>10.694321</td>\n",
       "      <td>4.672146</td>\n",
       "      <td>-1.241138</td>\n",
       "    </tr>\n",
       "    <tr>\n",
       "      <th>23</th>\n",
       "      <td>2.962453</td>\n",
       "      <td>-1.154710</td>\n",
       "      <td>3.256334</td>\n",
       "      <td>4.758823</td>\n",
       "      <td>-0.127248</td>\n",
       "      <td>-0.983609</td>\n",
       "      <td>9.612723</td>\n",
       "      <td>3.486872</td>\n",
       "      <td>-1.168733</td>\n",
       "      <td>-2.392058</td>\n",
       "      <td>...</td>\n",
       "      <td>5.589781</td>\n",
       "      <td>-0.387945</td>\n",
       "      <td>-0.899609</td>\n",
       "      <td>4.274878</td>\n",
       "      <td>2.640319</td>\n",
       "      <td>-12.800840</td>\n",
       "      <td>-3.000224</td>\n",
       "      <td>10.686397</td>\n",
       "      <td>4.669625</td>\n",
       "      <td>-1.239700</td>\n",
       "    </tr>\n",
       "    <tr>\n",
       "      <th>24</th>\n",
       "      <td>2.961015</td>\n",
       "      <td>-1.153373</td>\n",
       "      <td>3.259301</td>\n",
       "      <td>4.755778</td>\n",
       "      <td>-0.127101</td>\n",
       "      <td>-0.978282</td>\n",
       "      <td>9.604459</td>\n",
       "      <td>3.485099</td>\n",
       "      <td>-1.167379</td>\n",
       "      <td>-2.395828</td>\n",
       "      <td>...</td>\n",
       "      <td>5.586306</td>\n",
       "      <td>-0.387495</td>\n",
       "      <td>-0.898102</td>\n",
       "      <td>4.272016</td>\n",
       "      <td>2.635238</td>\n",
       "      <td>-12.792714</td>\n",
       "      <td>-2.993546</td>\n",
       "      <td>10.678488</td>\n",
       "      <td>4.667111</td>\n",
       "      <td>-1.238264</td>\n",
       "    </tr>\n",
       "    <tr>\n",
       "      <th>25</th>\n",
       "      <td>2.959583</td>\n",
       "      <td>-1.152037</td>\n",
       "      <td>3.262256</td>\n",
       "      <td>4.752738</td>\n",
       "      <td>-0.126954</td>\n",
       "      <td>-0.972973</td>\n",
       "      <td>9.596211</td>\n",
       "      <td>3.483332</td>\n",
       "      <td>-1.166028</td>\n",
       "      <td>-2.399585</td>\n",
       "      <td>...</td>\n",
       "      <td>5.582837</td>\n",
       "      <td>-0.387047</td>\n",
       "      <td>-0.896599</td>\n",
       "      <td>4.269159</td>\n",
       "      <td>2.630172</td>\n",
       "      <td>-12.784604</td>\n",
       "      <td>-2.986889</td>\n",
       "      <td>10.670594</td>\n",
       "      <td>4.664606</td>\n",
       "      <td>-1.236830</td>\n",
       "    </tr>\n",
       "    <tr>\n",
       "      <th>26</th>\n",
       "      <td>2.958157</td>\n",
       "      <td>-1.150704</td>\n",
       "      <td>3.265198</td>\n",
       "      <td>4.749703</td>\n",
       "      <td>-0.126807</td>\n",
       "      <td>-0.967682</td>\n",
       "      <td>9.587981</td>\n",
       "      <td>3.481571</td>\n",
       "      <td>-1.164678</td>\n",
       "      <td>-2.403329</td>\n",
       "      <td>...</td>\n",
       "      <td>5.579375</td>\n",
       "      <td>-0.386599</td>\n",
       "      <td>-0.895101</td>\n",
       "      <td>4.266308</td>\n",
       "      <td>2.625120</td>\n",
       "      <td>-12.776510</td>\n",
       "      <td>-2.980252</td>\n",
       "      <td>10.662715</td>\n",
       "      <td>4.662108</td>\n",
       "      <td>-1.235399</td>\n",
       "    </tr>\n",
       "    <tr>\n",
       "      <th>27</th>\n",
       "      <td>2.956737</td>\n",
       "      <td>-1.149374</td>\n",
       "      <td>3.268128</td>\n",
       "      <td>4.746673</td>\n",
       "      <td>-0.126660</td>\n",
       "      <td>-0.962409</td>\n",
       "      <td>9.579768</td>\n",
       "      <td>3.479817</td>\n",
       "      <td>-1.163332</td>\n",
       "      <td>-2.407059</td>\n",
       "      <td>...</td>\n",
       "      <td>5.575919</td>\n",
       "      <td>-0.386152</td>\n",
       "      <td>-0.893607</td>\n",
       "      <td>4.263463</td>\n",
       "      <td>2.620084</td>\n",
       "      <td>-12.768431</td>\n",
       "      <td>-2.973636</td>\n",
       "      <td>10.654851</td>\n",
       "      <td>4.659618</td>\n",
       "      <td>-1.233971</td>\n",
       "    </tr>\n",
       "    <tr>\n",
       "      <th>28</th>\n",
       "      <td>2.955323</td>\n",
       "      <td>-1.148046</td>\n",
       "      <td>3.271045</td>\n",
       "      <td>4.743648</td>\n",
       "      <td>-0.126514</td>\n",
       "      <td>-0.957154</td>\n",
       "      <td>9.571572</td>\n",
       "      <td>3.478070</td>\n",
       "      <td>-1.161987</td>\n",
       "      <td>-2.410775</td>\n",
       "      <td>...</td>\n",
       "      <td>5.572470</td>\n",
       "      <td>-0.385706</td>\n",
       "      <td>-0.892117</td>\n",
       "      <td>4.260624</td>\n",
       "      <td>2.615062</td>\n",
       "      <td>-12.760369</td>\n",
       "      <td>-2.967040</td>\n",
       "      <td>10.647002</td>\n",
       "      <td>4.657136</td>\n",
       "      <td>-1.232545</td>\n",
       "    </tr>\n",
       "    <tr>\n",
       "      <th>29</th>\n",
       "      <td>2.953915</td>\n",
       "      <td>-1.146720</td>\n",
       "      <td>3.273950</td>\n",
       "      <td>4.740628</td>\n",
       "      <td>-0.126368</td>\n",
       "      <td>-0.951916</td>\n",
       "      <td>9.563392</td>\n",
       "      <td>3.476329</td>\n",
       "      <td>-1.160646</td>\n",
       "      <td>-2.414479</td>\n",
       "      <td>...</td>\n",
       "      <td>5.569028</td>\n",
       "      <td>-0.385260</td>\n",
       "      <td>-0.890631</td>\n",
       "      <td>4.257791</td>\n",
       "      <td>2.610056</td>\n",
       "      <td>-12.752322</td>\n",
       "      <td>-2.960465</td>\n",
       "      <td>10.639168</td>\n",
       "      <td>4.654661</td>\n",
       "      <td>-1.231121</td>\n",
       "    </tr>\n",
       "    <tr>\n",
       "      <th>30</th>\n",
       "      <td>2.952512</td>\n",
       "      <td>-1.145397</td>\n",
       "      <td>3.276842</td>\n",
       "      <td>4.737614</td>\n",
       "      <td>-0.126222</td>\n",
       "      <td>-0.946696</td>\n",
       "      <td>9.555230</td>\n",
       "      <td>3.474594</td>\n",
       "      <td>-1.159306</td>\n",
       "      <td>-2.418168</td>\n",
       "      <td>...</td>\n",
       "      <td>5.565592</td>\n",
       "      <td>-0.384815</td>\n",
       "      <td>-0.889150</td>\n",
       "      <td>4.254963</td>\n",
       "      <td>2.605064</td>\n",
       "      <td>-12.744291</td>\n",
       "      <td>-2.953909</td>\n",
       "      <td>10.631348</td>\n",
       "      <td>4.652195</td>\n",
       "      <td>-1.229700</td>\n",
       "    </tr>\n",
       "    <tr>\n",
       "      <th>31</th>\n",
       "      <td>2.951116</td>\n",
       "      <td>-1.144075</td>\n",
       "      <td>3.279723</td>\n",
       "      <td>4.734604</td>\n",
       "      <td>-0.126076</td>\n",
       "      <td>-0.941494</td>\n",
       "      <td>9.547084</td>\n",
       "      <td>3.472866</td>\n",
       "      <td>-1.157969</td>\n",
       "      <td>-2.421845</td>\n",
       "      <td>...</td>\n",
       "      <td>5.562162</td>\n",
       "      <td>-0.384372</td>\n",
       "      <td>-0.887672</td>\n",
       "      <td>4.252142</td>\n",
       "      <td>2.600086</td>\n",
       "      <td>-12.736276</td>\n",
       "      <td>-2.947374</td>\n",
       "      <td>10.623543</td>\n",
       "      <td>4.649736</td>\n",
       "      <td>-1.228282</td>\n",
       "    </tr>\n",
       "    <tr>\n",
       "      <th>32</th>\n",
       "      <td>2.949725</td>\n",
       "      <td>-1.142757</td>\n",
       "      <td>3.282591</td>\n",
       "      <td>4.731599</td>\n",
       "      <td>-0.125931</td>\n",
       "      <td>-0.936309</td>\n",
       "      <td>9.538955</td>\n",
       "      <td>3.471144</td>\n",
       "      <td>-1.156634</td>\n",
       "      <td>-2.425508</td>\n",
       "      <td>...</td>\n",
       "      <td>5.558739</td>\n",
       "      <td>-0.383929</td>\n",
       "      <td>-0.886199</td>\n",
       "      <td>4.249326</td>\n",
       "      <td>2.595124</td>\n",
       "      <td>-12.728276</td>\n",
       "      <td>-2.940859</td>\n",
       "      <td>10.615752</td>\n",
       "      <td>4.647284</td>\n",
       "      <td>-1.226866</td>\n",
       "    </tr>\n",
       "    <tr>\n",
       "      <th>33</th>\n",
       "      <td>2.948340</td>\n",
       "      <td>-1.141440</td>\n",
       "      <td>3.285447</td>\n",
       "      <td>4.728599</td>\n",
       "      <td>-0.125786</td>\n",
       "      <td>-0.931141</td>\n",
       "      <td>9.530843</td>\n",
       "      <td>3.469428</td>\n",
       "      <td>-1.155302</td>\n",
       "      <td>-2.429159</td>\n",
       "      <td>...</td>\n",
       "      <td>5.555322</td>\n",
       "      <td>-0.383486</td>\n",
       "      <td>-0.884729</td>\n",
       "      <td>4.246515</td>\n",
       "      <td>2.590175</td>\n",
       "      <td>-12.720292</td>\n",
       "      <td>-2.934363</td>\n",
       "      <td>10.607977</td>\n",
       "      <td>4.644841</td>\n",
       "      <td>-1.225453</td>\n",
       "    </tr>\n",
       "    <tr>\n",
       "      <th>34</th>\n",
       "      <td>2.946960</td>\n",
       "      <td>-1.140126</td>\n",
       "      <td>3.288291</td>\n",
       "      <td>4.725604</td>\n",
       "      <td>-0.125641</td>\n",
       "      <td>-0.925991</td>\n",
       "      <td>9.522747</td>\n",
       "      <td>3.467718</td>\n",
       "      <td>-1.153972</td>\n",
       "      <td>-2.432796</td>\n",
       "      <td>...</td>\n",
       "      <td>5.551912</td>\n",
       "      <td>-0.383045</td>\n",
       "      <td>-0.883264</td>\n",
       "      <td>4.243710</td>\n",
       "      <td>2.585242</td>\n",
       "      <td>-12.712324</td>\n",
       "      <td>-2.927887</td>\n",
       "      <td>10.600215</td>\n",
       "      <td>4.642405</td>\n",
       "      <td>-1.224042</td>\n",
       "    </tr>\n",
       "    <tr>\n",
       "      <th>35</th>\n",
       "      <td>2.945587</td>\n",
       "      <td>-1.138814</td>\n",
       "      <td>3.291123</td>\n",
       "      <td>4.722614</td>\n",
       "      <td>-0.125496</td>\n",
       "      <td>-0.920858</td>\n",
       "      <td>9.514667</td>\n",
       "      <td>3.466015</td>\n",
       "      <td>-1.152644</td>\n",
       "      <td>-2.436420</td>\n",
       "      <td>...</td>\n",
       "      <td>5.548508</td>\n",
       "      <td>-0.382604</td>\n",
       "      <td>-0.881803</td>\n",
       "      <td>4.240911</td>\n",
       "      <td>2.580322</td>\n",
       "      <td>-12.704371</td>\n",
       "      <td>-2.921431</td>\n",
       "      <td>10.592468</td>\n",
       "      <td>4.639976</td>\n",
       "      <td>-1.222634</td>\n",
       "    </tr>\n",
       "    <tr>\n",
       "      <th>36</th>\n",
       "      <td>2.944219</td>\n",
       "      <td>-1.137505</td>\n",
       "      <td>3.293943</td>\n",
       "      <td>4.719628</td>\n",
       "      <td>-0.125352</td>\n",
       "      <td>-0.915742</td>\n",
       "      <td>9.506604</td>\n",
       "      <td>3.464318</td>\n",
       "      <td>-1.151318</td>\n",
       "      <td>-2.440031</td>\n",
       "      <td>...</td>\n",
       "      <td>5.545110</td>\n",
       "      <td>-0.382164</td>\n",
       "      <td>-0.880345</td>\n",
       "      <td>4.238118</td>\n",
       "      <td>2.575417</td>\n",
       "      <td>-12.696433</td>\n",
       "      <td>-2.914995</td>\n",
       "      <td>10.584736</td>\n",
       "      <td>4.637555</td>\n",
       "      <td>-1.221228</td>\n",
       "    </tr>\n",
       "    <tr>\n",
       "      <th>37</th>\n",
       "      <td>2.942856</td>\n",
       "      <td>-1.136197</td>\n",
       "      <td>3.296751</td>\n",
       "      <td>4.716648</td>\n",
       "      <td>-0.125208</td>\n",
       "      <td>-0.910643</td>\n",
       "      <td>9.498558</td>\n",
       "      <td>3.462627</td>\n",
       "      <td>-1.149995</td>\n",
       "      <td>-2.443629</td>\n",
       "      <td>...</td>\n",
       "      <td>5.541718</td>\n",
       "      <td>-0.381725</td>\n",
       "      <td>-0.878892</td>\n",
       "      <td>4.235330</td>\n",
       "      <td>2.570527</td>\n",
       "      <td>-12.688511</td>\n",
       "      <td>-2.908578</td>\n",
       "      <td>10.577018</td>\n",
       "      <td>4.635141</td>\n",
       "      <td>-1.219824</td>\n",
       "    </tr>\n",
       "    <tr>\n",
       "      <th>38</th>\n",
       "      <td>2.941499</td>\n",
       "      <td>-1.134892</td>\n",
       "      <td>3.299547</td>\n",
       "      <td>4.713673</td>\n",
       "      <td>-0.125064</td>\n",
       "      <td>-0.905561</td>\n",
       "      <td>9.490528</td>\n",
       "      <td>3.460943</td>\n",
       "      <td>-1.148674</td>\n",
       "      <td>-2.447214</td>\n",
       "      <td>...</td>\n",
       "      <td>5.538333</td>\n",
       "      <td>-0.381286</td>\n",
       "      <td>-0.877443</td>\n",
       "      <td>4.232548</td>\n",
       "      <td>2.565650</td>\n",
       "      <td>-12.680604</td>\n",
       "      <td>-2.902180</td>\n",
       "      <td>10.569314</td>\n",
       "      <td>4.632735</td>\n",
       "      <td>-1.218423</td>\n",
       "    </tr>\n",
       "    <tr>\n",
       "      <th>39</th>\n",
       "      <td>2.940148</td>\n",
       "      <td>-1.133590</td>\n",
       "      <td>3.302331</td>\n",
       "      <td>4.710702</td>\n",
       "      <td>-0.124921</td>\n",
       "      <td>-0.900496</td>\n",
       "      <td>9.482514</td>\n",
       "      <td>3.459264</td>\n",
       "      <td>-1.147356</td>\n",
       "      <td>-2.450787</td>\n",
       "      <td>...</td>\n",
       "      <td>5.534954</td>\n",
       "      <td>-0.380849</td>\n",
       "      <td>-0.875997</td>\n",
       "      <td>4.229771</td>\n",
       "      <td>2.560788</td>\n",
       "      <td>-12.672712</td>\n",
       "      <td>-2.895802</td>\n",
       "      <td>10.561624</td>\n",
       "      <td>4.630337</td>\n",
       "      <td>-1.217025</td>\n",
       "    </tr>\n",
       "    <tr>\n",
       "      <th>40</th>\n",
       "      <td>2.938802</td>\n",
       "      <td>-1.132289</td>\n",
       "      <td>3.305104</td>\n",
       "      <td>4.707736</td>\n",
       "      <td>-0.124777</td>\n",
       "      <td>-0.895448</td>\n",
       "      <td>9.474516</td>\n",
       "      <td>3.457591</td>\n",
       "      <td>-1.146040</td>\n",
       "      <td>-2.454346</td>\n",
       "      <td>...</td>\n",
       "      <td>5.531582</td>\n",
       "      <td>-0.380412</td>\n",
       "      <td>-0.874556</td>\n",
       "      <td>4.227000</td>\n",
       "      <td>2.555940</td>\n",
       "      <td>-12.664835</td>\n",
       "      <td>-2.889443</td>\n",
       "      <td>10.553949</td>\n",
       "      <td>4.627945</td>\n",
       "      <td>-1.215629</td>\n",
       "    </tr>\n",
       "  </tbody>\n",
       "</table>\n",
       "<p>41 rows × 35 columns</p>\n",
       "</div>"
      ],
      "text/plain": [
       "          0         1         2         3         4         5         6   \\\n",
       "0   2.997248 -1.186155  3.184503  4.830292 -0.130713 -1.111306  9.807676   \n",
       "1   2.995664 -1.184760  3.187774  4.827126 -0.130560 -1.105540  9.799000   \n",
       "2   2.994086 -1.183367  3.191031  4.823965 -0.130406 -1.099794  9.790343   \n",
       "3   2.992516 -1.181978  3.194274  4.820810 -0.130253 -1.094068  9.781704   \n",
       "4   2.990951 -1.180590  3.197504  4.817661 -0.130100 -1.088362  9.773084   \n",
       "5   2.989394 -1.179206  3.200720  4.814517 -0.129948 -1.082676  9.764482   \n",
       "6   2.987843 -1.177824  3.203922  4.811378 -0.129795 -1.077010  9.755899   \n",
       "7   2.986299 -1.176444  3.207111  4.808244 -0.129643 -1.071363  9.747333   \n",
       "8   2.984761 -1.175067  3.210286  4.805116 -0.129492 -1.065736  9.738786   \n",
       "9   2.983229 -1.173693  3.213448  4.801993 -0.129340 -1.060128  9.730258   \n",
       "10  2.981704 -1.172321  3.216596  4.798876 -0.129189 -1.054540  9.721747   \n",
       "11  2.980186 -1.170951  3.219731  4.795763 -0.129038 -1.048970  9.713254   \n",
       "12  2.978674 -1.169584  3.222853  4.792656 -0.128887 -1.043420  9.704779   \n",
       "13  2.977168 -1.168220  3.225962  4.789555 -0.128737 -1.037889  9.696322   \n",
       "14  2.975669 -1.166858  3.229057  4.786458 -0.128587 -1.032377  9.687883   \n",
       "15  2.974176 -1.165498  3.232140  4.783367 -0.128437 -1.026884  9.679462   \n",
       "16  2.972689 -1.164141  3.235209  4.780281 -0.128288 -1.021410  9.671058   \n",
       "17  2.971208 -1.162787  3.238266  4.777200 -0.128138 -1.015954  9.662672   \n",
       "18  2.969734 -1.161435  3.241309  4.774124 -0.127989 -1.010517  9.654304   \n",
       "19  2.968265 -1.160085  3.244340  4.771054 -0.127841 -1.005099  9.645953   \n",
       "20  2.966803 -1.158738  3.247357  4.767988 -0.127692 -0.999699  9.637619   \n",
       "21  2.965347 -1.157393  3.250362  4.764928 -0.127544 -0.994317  9.629303   \n",
       "22  2.963897 -1.156050  3.253355  4.761873 -0.127396 -0.988954  9.621005   \n",
       "23  2.962453 -1.154710  3.256334  4.758823 -0.127248 -0.983609  9.612723   \n",
       "24  2.961015 -1.153373  3.259301  4.755778 -0.127101 -0.978282  9.604459   \n",
       "25  2.959583 -1.152037  3.262256  4.752738 -0.126954 -0.972973  9.596211   \n",
       "26  2.958157 -1.150704  3.265198  4.749703 -0.126807 -0.967682  9.587981   \n",
       "27  2.956737 -1.149374  3.268128  4.746673 -0.126660 -0.962409  9.579768   \n",
       "28  2.955323 -1.148046  3.271045  4.743648 -0.126514 -0.957154  9.571572   \n",
       "29  2.953915 -1.146720  3.273950  4.740628 -0.126368 -0.951916  9.563392   \n",
       "30  2.952512 -1.145397  3.276842  4.737614 -0.126222 -0.946696  9.555230   \n",
       "31  2.951116 -1.144075  3.279723  4.734604 -0.126076 -0.941494  9.547084   \n",
       "32  2.949725 -1.142757  3.282591  4.731599 -0.125931 -0.936309  9.538955   \n",
       "33  2.948340 -1.141440  3.285447  4.728599 -0.125786 -0.931141  9.530843   \n",
       "34  2.946960 -1.140126  3.288291  4.725604 -0.125641 -0.925991  9.522747   \n",
       "35  2.945587 -1.138814  3.291123  4.722614 -0.125496 -0.920858  9.514667   \n",
       "36  2.944219 -1.137505  3.293943  4.719628 -0.125352 -0.915742  9.506604   \n",
       "37  2.942856 -1.136197  3.296751  4.716648 -0.125208 -0.910643  9.498558   \n",
       "38  2.941499 -1.134892  3.299547  4.713673 -0.125064 -0.905561  9.490528   \n",
       "39  2.940148 -1.133590  3.302331  4.710702 -0.124921 -0.900496  9.482514   \n",
       "40  2.938802 -1.132289  3.305104  4.707736 -0.124777 -0.895448  9.474516   \n",
       "\n",
       "          7         8         9   ...        25        26        27        28  \\\n",
       "0   3.529543 -1.200559 -2.301445  ...  5.671580 -0.398509 -0.935467  4.342384   \n",
       "1   3.527610 -1.199147 -2.305545  ...  5.667947 -0.398040 -0.933858  4.339380   \n",
       "2   3.525684 -1.197738 -2.309630  ...  5.664321 -0.397572 -0.932254  4.336383   \n",
       "3   3.523765 -1.196331 -2.313700  ...  5.660702 -0.397105 -0.930655  4.333393   \n",
       "4   3.521854 -1.194927 -2.317755  ...  5.657091 -0.396639 -0.929060  4.330408   \n",
       "5   3.519950 -1.193526 -2.321795  ...  5.653486 -0.396174 -0.927470  4.327430   \n",
       "6   3.518053 -1.192127 -2.325820  ...  5.649888 -0.395710 -0.925884  4.324458   \n",
       "7   3.516164 -1.190731 -2.329831  ...  5.646298 -0.395246 -0.924303  4.321493   \n",
       "8   3.514281 -1.189337 -2.333827  ...  5.642714 -0.394784 -0.922726  4.318534   \n",
       "9   3.512406 -1.187946 -2.337809  ...  5.639138 -0.394322 -0.921154  4.315580   \n",
       "10  3.510537 -1.186557 -2.341776  ...  5.635568 -0.393861 -0.919587  4.312634   \n",
       "11  3.508676 -1.185171 -2.345729  ...  5.632005 -0.393401 -0.918024  4.309693   \n",
       "12  3.506821 -1.183788 -2.349667  ...  5.628449 -0.392942 -0.916465  4.306758   \n",
       "13  3.504974 -1.182407 -2.353591  ...  5.624900 -0.392483 -0.914911  4.303830   \n",
       "14  3.503133 -1.181028 -2.357501  ...  5.621358 -0.392026 -0.913361  4.300908   \n",
       "15  3.501299 -1.179652 -2.361397  ...  5.617822 -0.391569 -0.911816  4.297991   \n",
       "16  3.499472 -1.178279 -2.365278  ...  5.614294 -0.391113 -0.910275  4.295081   \n",
       "17  3.497652 -1.176908 -2.369145  ...  5.610772 -0.390658 -0.908738  4.292177   \n",
       "18  3.495839 -1.175539 -2.372999  ...  5.607257 -0.390204 -0.907206  4.289279   \n",
       "19  3.494032 -1.174173 -2.376838  ...  5.603748 -0.389750 -0.905678  4.286387   \n",
       "20  3.492232 -1.172809 -2.380664  ...  5.600246 -0.389298 -0.904154  4.283501   \n",
       "21  3.490439 -1.171448 -2.384476  ...  5.596751 -0.388846 -0.902635  4.280621   \n",
       "22  3.488652 -1.170089 -2.388274  ...  5.593263 -0.388395 -0.901119  4.277746   \n",
       "23  3.486872 -1.168733 -2.392058  ...  5.589781 -0.387945 -0.899609  4.274878   \n",
       "24  3.485099 -1.167379 -2.395828  ...  5.586306 -0.387495 -0.898102  4.272016   \n",
       "25  3.483332 -1.166028 -2.399585  ...  5.582837 -0.387047 -0.896599  4.269159   \n",
       "26  3.481571 -1.164678 -2.403329  ...  5.579375 -0.386599 -0.895101  4.266308   \n",
       "27  3.479817 -1.163332 -2.407059  ...  5.575919 -0.386152 -0.893607  4.263463   \n",
       "28  3.478070 -1.161987 -2.410775  ...  5.572470 -0.385706 -0.892117  4.260624   \n",
       "29  3.476329 -1.160646 -2.414479  ...  5.569028 -0.385260 -0.890631  4.257791   \n",
       "30  3.474594 -1.159306 -2.418168  ...  5.565592 -0.384815 -0.889150  4.254963   \n",
       "31  3.472866 -1.157969 -2.421845  ...  5.562162 -0.384372 -0.887672  4.252142   \n",
       "32  3.471144 -1.156634 -2.425508  ...  5.558739 -0.383929 -0.886199  4.249326   \n",
       "33  3.469428 -1.155302 -2.429159  ...  5.555322 -0.383486 -0.884729  4.246515   \n",
       "34  3.467718 -1.153972 -2.432796  ...  5.551912 -0.383045 -0.883264  4.243710   \n",
       "35  3.466015 -1.152644 -2.436420  ...  5.548508 -0.382604 -0.881803  4.240911   \n",
       "36  3.464318 -1.151318 -2.440031  ...  5.545110 -0.382164 -0.880345  4.238118   \n",
       "37  3.462627 -1.149995 -2.443629  ...  5.541718 -0.381725 -0.878892  4.235330   \n",
       "38  3.460943 -1.148674 -2.447214  ...  5.538333 -0.381286 -0.877443  4.232548   \n",
       "39  3.459264 -1.147356 -2.450787  ...  5.534954 -0.380849 -0.875997  4.229771   \n",
       "40  3.457591 -1.146040 -2.454346  ...  5.531582 -0.380412 -0.874556  4.227000   \n",
       "\n",
       "          29         30        31         32        33        34  \n",
       "0   2.761501 -12.992293 -3.159711  10.872554  4.729703 -1.273458  \n",
       "1   2.756055 -12.983783 -3.152533  10.864286  4.726998 -1.271961  \n",
       "2   2.750625 -12.975289 -3.145379  10.856034  4.724301 -1.270466  \n",
       "3   2.745212 -12.966814 -3.138246  10.847798  4.721613 -1.268974  \n",
       "4   2.739815 -12.958355 -3.131137  10.839579  4.718933 -1.267485  \n",
       "5   2.734435 -12.949914 -3.124050  10.831375  4.716262 -1.265998  \n",
       "6   2.729071 -12.941489 -3.116985  10.823188  4.713600 -1.264514  \n",
       "7   2.723723 -12.933082 -3.109943  10.815017  4.710946 -1.263033  \n",
       "8   2.718392 -12.924692 -3.102923  10.806861  4.708301 -1.261555  \n",
       "9   2.713076 -12.916319 -3.095925  10.798721  4.705665 -1.260079  \n",
       "10  2.707777 -12.907962 -3.088949  10.790597  4.703037 -1.258607  \n",
       "11  2.702494 -12.899623 -3.081995  10.782489  4.700417 -1.257136  \n",
       "12  2.697227 -12.891300 -3.075063  10.774397  4.697806 -1.255669  \n",
       "13  2.691976 -12.882994 -3.068153  10.766320  4.695203 -1.254204  \n",
       "14  2.686740 -12.874705 -3.061264  10.758258  4.692608 -1.252742  \n",
       "15  2.681520 -12.866432 -3.054397  10.750212  4.690022 -1.251282  \n",
       "16  2.676316 -12.858176 -3.047551  10.742182  4.687444 -1.249825  \n",
       "17  2.671127 -12.849936 -3.040727  10.734167  4.684874 -1.248371  \n",
       "18  2.665954 -12.841713 -3.033924  10.726167  4.682312 -1.246919  \n",
       "19  2.660797 -12.833506 -3.027142  10.718183  4.679759 -1.245470  \n",
       "20  2.655654 -12.825315 -3.020381  10.710214  4.677213 -1.244024  \n",
       "21  2.650527 -12.817140 -3.013641  10.702260  4.674676 -1.242580  \n",
       "22  2.645416 -12.808982 -3.006922  10.694321  4.672146 -1.241138  \n",
       "23  2.640319 -12.800840 -3.000224  10.686397  4.669625 -1.239700  \n",
       "24  2.635238 -12.792714 -2.993546  10.678488  4.667111 -1.238264  \n",
       "25  2.630172 -12.784604 -2.986889  10.670594  4.664606 -1.236830  \n",
       "26  2.625120 -12.776510 -2.980252  10.662715  4.662108 -1.235399  \n",
       "27  2.620084 -12.768431 -2.973636  10.654851  4.659618 -1.233971  \n",
       "28  2.615062 -12.760369 -2.967040  10.647002  4.657136 -1.232545  \n",
       "29  2.610056 -12.752322 -2.960465  10.639168  4.654661 -1.231121  \n",
       "30  2.605064 -12.744291 -2.953909  10.631348  4.652195 -1.229700  \n",
       "31  2.600086 -12.736276 -2.947374  10.623543  4.649736 -1.228282  \n",
       "32  2.595124 -12.728276 -2.940859  10.615752  4.647284 -1.226866  \n",
       "33  2.590175 -12.720292 -2.934363  10.607977  4.644841 -1.225453  \n",
       "34  2.585242 -12.712324 -2.927887  10.600215  4.642405 -1.224042  \n",
       "35  2.580322 -12.704371 -2.921431  10.592468  4.639976 -1.222634  \n",
       "36  2.575417 -12.696433 -2.914995  10.584736  4.637555 -1.221228  \n",
       "37  2.570527 -12.688511 -2.908578  10.577018  4.635141 -1.219824  \n",
       "38  2.565650 -12.680604 -2.902180  10.569314  4.632735 -1.218423  \n",
       "39  2.560788 -12.672712 -2.895802  10.561624  4.630337 -1.217025  \n",
       "40  2.555940 -12.664835 -2.889443  10.553949  4.627945 -1.215629  \n",
       "\n",
       "[41 rows x 35 columns]"
      ]
     },
     "execution_count": 25,
     "metadata": {},
     "output_type": "execute_result"
    }
   ],
   "source": [
    "# Due to extreme processing power and time, I will use only some of the features\n",
    "X_train, X_test, Y_train, Y_test = train_test_split(X_diabetes[['age', 'sex']], y_diabetes, test_size=0.3, random_state=SEED)\n",
    "rmse_train, rmse_valid = [], []\n",
    "scaler = StandardScaler()\n",
    "scaled_X_train = scaler.fit_transform(X_train)\n",
    "scaled_X_test = scaler.transform(X_test)\n",
    "\n",
    "ridge_coefs = []\n",
    "for alpha in ALPHAS:\n",
    "    lr = create_model(7, scaled_X_train, scaled_X_test, Y_train, Y_test, alpha, 'L2')\n",
    "    ridge_coefs.append(lr.coef_)\n",
    "\n",
    "df = pd.DataFrame(np.row_stack(ridge_coefs))\n",
    "df"
   ]
  },
  {
   "cell_type": "markdown",
   "id": "74c00752",
   "metadata": {
    "papermill": {
     "duration": 0.098072,
     "end_time": "2022-03-27T18:07:23.773724",
     "exception": false,
     "start_time": "2022-03-27T18:07:23.675652",
     "status": "completed"
    },
    "tags": []
   },
   "source": [
    "#### Summary\n",
    "Yes, indeed. L1 regularisation has a sparcity effect, and there are many zero weights as shown in the first table above (dataframes where we put the weights in) above.\n",
    "In case of L2, we see coefficients that are close to zero, but none of them are. This is because L2 is calculated using not abs value differences, but square of differences."
   ]
  },
  {
   "cell_type": "markdown",
   "id": "3529d9e6",
   "metadata": {
    "papermill": {
     "duration": 0.097096,
     "end_time": "2022-03-27T18:07:23.968669",
     "exception": false,
     "start_time": "2022-03-27T18:07:23.871573",
     "status": "completed"
    },
    "tags": []
   },
   "source": [
    "### Excercise 4 - Scaling (2 points)"
   ]
  },
  {
   "cell_type": "markdown",
   "id": "d3b1c2be",
   "metadata": {
    "papermill": {
     "duration": 0.098459,
     "end_time": "2022-03-27T18:07:24.166420",
     "exception": false,
     "start_time": "2022-03-27T18:07:24.067961",
     "status": "completed"
    },
    "tags": []
   },
   "source": [
    "As a general rule, it is recommended to scale input features before fitting a regularized model so that the features/inputs take values in similar ranges. One common way of doing so is to standardize the inputs and that is exactly what our pipeline  second step (`StandardScaler`) is responsible for. \n",
    "\n",
    "Is scaling important? What are the underlying reasons?\n",
    "\n",
    "Please do a discovery on your own and find that out empirically (both for **L1** and **L2**) on the dataset below. Check coefficients."
   ]
  },
  {
   "cell_type": "code",
   "execution_count": 26,
   "id": "868e315d",
   "metadata": {
    "execution": {
     "iopub.execute_input": "2022-03-27T18:07:24.371036Z",
     "iopub.status.busy": "2022-03-27T18:07:24.370213Z",
     "iopub.status.idle": "2022-03-27T18:07:24.377105Z",
     "shell.execute_reply": "2022-03-27T18:07:24.376452Z",
     "shell.execute_reply.started": "2022-03-27T17:12:21.388858Z"
    },
    "papermill": {
     "duration": 0.113943,
     "end_time": "2022-03-27T18:07:24.377256",
     "exception": false,
     "start_time": "2022-03-27T18:07:24.263313",
     "status": "completed"
    },
    "tags": []
   },
   "outputs": [
    {
     "name": "stdout",
     "output_type": "stream",
     "text": [
      "Min of feature 0: -0.05, max: 0.05\n",
      "Min of feature 1: -494.87, max: 493.57\n",
      "Min of feature 2: -2.35, max: 213.31\n"
     ]
    }
   ],
   "source": [
    "def target_function_hw(x):\n",
    "    return 2 * x\n",
    "\n",
    "def generate_samples_hw():\n",
    "    np.random.seed(SEED)\n",
    "    x = np.random.uniform(*RANGE, size=N_SAMPLES)\n",
    "    \n",
    "    np.random.seed(SEED+1)\n",
    "    x_noise = np.random.uniform(*[x * 100 for x in RANGE], size=N_SAMPLES)\n",
    "    x_noise2 = np.random.normal(100, 50, size=N_SAMPLES)\n",
    "    \n",
    "    y = target_function_hw(x) + np.random.normal(scale=4, size=N_SAMPLES)\n",
    "    \n",
    "    return np.concatenate([x.reshape(-1, 1) / 100, \n",
    "                           x_noise.reshape(-1, 1),\n",
    "                           x_noise2.reshape(-1, 1)], axis=1), y\n",
    "\n",
    "X_hw, y_hw = generate_samples_hw()\n",
    "\n",
    "for i in range(X_hw.shape[1]):\n",
    "    print(f'Min of feature {i}: {min(X_hw[:, i]):.2f}, max: {max(X_hw[:, i]):.2f}')"
   ]
  },
  {
   "cell_type": "markdown",
   "id": "dc228396",
   "metadata": {
    "papermill": {
     "duration": 0.098951,
     "end_time": "2022-03-27T18:07:24.574179",
     "exception": false,
     "start_time": "2022-03-27T18:07:24.475228",
     "status": "completed"
    },
    "tags": []
   },
   "source": [
    "#### L1"
   ]
  },
  {
   "cell_type": "code",
   "execution_count": 27,
   "id": "36b89548",
   "metadata": {
    "execution": {
     "iopub.execute_input": "2022-03-27T18:07:24.781552Z",
     "iopub.status.busy": "2022-03-27T18:07:24.780195Z",
     "iopub.status.idle": "2022-03-27T18:07:57.010091Z",
     "shell.execute_reply": "2022-03-27T18:07:57.010664Z",
     "shell.execute_reply.started": "2022-03-27T17:12:21.404526Z"
    },
    "papermill": {
     "duration": 32.337712,
     "end_time": "2022-03-27T18:07:57.010872",
     "exception": false,
     "start_time": "2022-03-27T18:07:24.673160",
     "status": "completed"
    },
    "tags": []
   },
   "outputs": [
    {
     "data": {
      "image/png": "[encoded data removed]",
      "text/plain": [
       "<Figure size 648x324 with 1 Axes>"
      ]
     },
     "metadata": {
      "needs_background": "light"
     },
     "output_type": "display_data"
    }
   ],
   "source": [
    "rmse_train, rmse_valid = [], []\n",
    "for alpha in ALPHAS:    \n",
    "    results = cross_validate(make_model(degree=15, penalty='L1', alpha=alpha), \n",
    "                             X_hw, y_hw, cv=5,\n",
    "                             return_train_score=True,\n",
    "                             scoring='neg_root_mean_squared_error')\n",
    "    rmse_train.append(-np.mean(results['train_score']))\n",
    "    rmse_valid.append(-np.mean(results['test_score']))\n",
    "    \n",
    "plot_fitting_graph(ALPHAS, rmse_train, rmse_valid,\n",
    "                   xlabel='Regularization strength (alpha)', ylabel='Error (RMSE)',\n",
    "                   title='Lasso polynomial regression (L1): degree=15')"
   ]
  },
  {
   "cell_type": "markdown",
   "id": "1f1c5e2e",
   "metadata": {
    "papermill": {
     "duration": 0.097397,
     "end_time": "2022-03-27T18:07:57.207702",
     "exception": false,
     "start_time": "2022-03-27T18:07:57.110305",
     "status": "completed"
    },
    "tags": []
   },
   "source": [
    "#### L2"
   ]
  },
  {
   "cell_type": "code",
   "execution_count": 28,
   "id": "e4487294",
   "metadata": {
    "execution": {
     "iopub.execute_input": "2022-03-27T18:07:57.414898Z",
     "iopub.status.busy": "2022-03-27T18:07:57.414066Z",
     "iopub.status.idle": "2022-03-27T18:08:00.000474Z",
     "shell.execute_reply": "2022-03-27T18:08:00.000936Z",
     "shell.execute_reply.started": "2022-03-27T17:12:53.382904Z"
    },
    "papermill": {
     "duration": 2.694474,
     "end_time": "2022-03-27T18:08:00.001139",
     "exception": false,
     "start_time": "2022-03-27T18:07:57.306665",
     "status": "completed"
    },
    "tags": []
   },
   "outputs": [
    {
     "data": {
      "image/png": "[encoded data removed]",
      "text/plain": [
       "<Figure size 648x324 with 1 Axes>"
      ]
     },
     "metadata": {
      "needs_background": "light"
     },
     "output_type": "display_data"
    }
   ],
   "source": [
    "rmse_train, rmse_valid = [], []\n",
    "for alpha in ALPHAS:    \n",
    "    results = cross_validate(make_model(degree=15, penalty='L2', alpha=alpha), \n",
    "                             X_hw, y_hw, cv=5,\n",
    "                             return_train_score=True,\n",
    "                             scoring='neg_root_mean_squared_error')\n",
    "    rmse_train.append(-np.mean(results['train_score']))\n",
    "    rmse_valid.append(-np.mean(results['test_score']))\n",
    "    \n",
    "plot_fitting_graph(ALPHAS, rmse_train, rmse_valid,\n",
    "                   xlabel='Regularization strength (alpha)', ylabel='Error (RMSE)',\n",
    "                   title='Ridge polynomial regression (L2): degree=15')"
   ]
  },
  {
   "cell_type": "markdown",
   "id": "529a4e29",
   "metadata": {
    "papermill": {
     "duration": 0.098635,
     "end_time": "2022-03-27T18:08:00.202035",
     "exception": false,
     "start_time": "2022-03-27T18:08:00.103400",
     "status": "completed"
    },
    "tags": []
   },
   "source": [
    "#### Summary\n",
    "Yes, scaling is extremely important. If allows us to build better machine learning models, when taking into consideration multiple features. Semantics and impact of different features is not known to the computer, and without scaling (or other data normalization methods) the way two numeric features will be compared is by using their numeric values. However, this does not always mean that large numeric values for one feature have a larger impact of the target feature. If scaling is not performed on the data then during regularization coefficients will not be penalized properly.\n",
    "Scaling also allows us to represent data in more unified way and makes it slightly easier to build plots.\n"
   ]
  }
 ],
 "metadata": {
  "kernelspec": {
   "display_name": "Python 3",
   "language": "python",
   "name": "python3"
  },
  "language_info": {
   "codemirror_mode": {
    "name": "ipython",
    "version": 3
   },
   "file_extension": ".py",
   "mimetype": "text/x-python",
   "name": "python",
   "nbconvert_exporter": "python",
   "pygments_lexer": "ipython3",
   "version": "3.7.12"
  },
  "papermill": {
   "default_parameters": {},
   "duration": 301.112847,
   "end_time": "2022-03-27T18:08:01.215661",
   "environment_variables": {},
   "exception": null,
   "input_path": "__notebook__.ipynb",
   "output_path": "__notebook__.ipynb",
   "parameters": {},
   "start_time": "2022-03-27T18:03:00.102814",
   "version": "2.3.3"
  }
 },
 "nbformat": 4,
 "nbformat_minor": 5
}
